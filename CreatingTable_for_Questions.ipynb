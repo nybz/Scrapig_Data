{
 "cells": [
  {
   "cell_type": "code",
   "execution_count": 1,
   "metadata": {},
   "outputs": [
    {
     "data": {
      "text/plain": [
       "'C:\\\\Users\\\\2918261\\\\Dropbox\\\\Corner Office Interviews\\\\ComparisonCorpusQuestions_Text'"
      ]
     },
     "execution_count": 1,
     "metadata": {},
     "output_type": "execute_result"
    }
   ],
   "source": [
    "import pandas as pd\n",
    "import os\n",
    "import numpy as np\n",
    "os.chdir('C:/Users/2918261/Dropbox/Corner Office Interviews/ComparisonCorpusQuestions_Text')\n",
    "         #Toshiba//Dropbox//Corner Office Interviews')\n",
    "### 'C://Users//2918261//Courses//Oslo Summer School//notebooks//Experiment'\n",
    "### C://Users//2918261//Dropbox//Corner Office Interviews\n",
    "os.getcwd()\n",
    "# C:\\Users\\Toshiba\\Dropbox\\Corner Office Interviews\\LIWC.xlsx"
   ]
  },
  {
   "cell_type": "code",
   "execution_count": 2,
   "metadata": {},
   "outputs": [],
   "source": [
    "table = pd.read_excel('C:/Users/2918261/Dropbox/Corner Office Interviews/ComparisonCorpusMetaData.xlsx')"
   ]
  },
  {
   "cell_type": "code",
   "execution_count": 3,
   "metadata": {},
   "outputs": [
    {
     "data": {
      "text/plain": [
       "['Name ',\n",
       " 'Gender',\n",
       " 'Organization',\n",
       " 'Fortune',\n",
       " 'Position ',\n",
       " 'Current Age',\n",
       " 'Higher Education Info',\n",
       " 'Birth Country',\n",
       " 'Stock Market Info',\n",
       " 'BachelorsMin',\n",
       " 'NativeSpeaker',\n",
       " 'Traded',\n",
       " 'MBA',\n",
       " 'TitleLength',\n",
       " 'Podcast',\n",
       " 'Podcast_Date',\n",
       " 'Podcast_Link',\n",
       " 'Podcast_Details',\n",
       " 'Interview_Date',\n",
       " 'Interview',\n",
       " 'Interview_Link',\n",
       " 'Interview_Details',\n",
       " 'Caption_Date',\n",
       " 'Caption',\n",
       " 'Caption_Link',\n",
       " 'Caption_Details',\n",
       " 'Essay_Date',\n",
       " 'Essay_Title',\n",
       " 'Essay',\n",
       " 'Essay_Link ',\n",
       " 'Other Sources_Date',\n",
       " 'Other Sources ',\n",
       " 'Other Sources_Link',\n",
       " 'Other Sources_Details',\n",
       " 'Sector_Grouped']"
      ]
     },
     "execution_count": 3,
     "metadata": {},
     "output_type": "execute_result"
    }
   ],
   "source": [
    "list(table.columns)"
   ]
  },
  {
   "cell_type": "code",
   "execution_count": 6,
   "metadata": {},
   "outputs": [],
   "source": [
    "table = table.drop(columns = ['Fortune',\n",
    " 'Position ',\n",
    " 'Higher Education Info',\n",
    " 'Birth Country',\n",
    " 'BachelorsMin',\n",
    " 'TitleLength',]).copy()"
   ]
  },
  {
   "cell_type": "markdown",
   "metadata": {},
   "source": [
    "## Create empty column for interviewer's gender"
   ]
  },
  {
   "cell_type": "code",
   "execution_count": 7,
   "metadata": {},
   "outputs": [
    {
     "data": {
      "text/html": [
       "<div>\n",
       "<style scoped>\n",
       "    .dataframe tbody tr th:only-of-type {\n",
       "        vertical-align: middle;\n",
       "    }\n",
       "\n",
       "    .dataframe tbody tr th {\n",
       "        vertical-align: top;\n",
       "    }\n",
       "\n",
       "    .dataframe thead th {\n",
       "        text-align: right;\n",
       "    }\n",
       "</style>\n",
       "<table border=\"1\" class=\"dataframe\">\n",
       "  <thead>\n",
       "    <tr style=\"text-align: right;\">\n",
       "      <th></th>\n",
       "      <th>Gender_Interviewer</th>\n",
       "    </tr>\n",
       "  </thead>\n",
       "  <tbody>\n",
       "  </tbody>\n",
       "</table>\n",
       "</div>"
      ],
      "text/plain": [
       "Empty DataFrame\n",
       "Columns: [Gender_Interviewer]\n",
       "Index: []"
      ]
     },
     "execution_count": 7,
     "metadata": {},
     "output_type": "execute_result"
    }
   ],
   "source": [
    "df = pd.DataFrame(columns=['Gender_Interviewer'])\n",
    "df"
   ]
  },
  {
   "cell_type": "code",
   "execution_count": 10,
   "metadata": {},
   "outputs": [],
   "source": [
    "table = pd.concat([table, df]).copy()"
   ]
  },
  {
   "cell_type": "markdown",
   "metadata": {},
   "source": [
    "### DATE"
   ]
  },
  {
   "cell_type": "code",
   "execution_count": null,
   "metadata": {},
   "outputs": [],
   "source": [
    "from datetime import datetime\n",
    "dateparse = lambda dates: [pd.datetime.strptime(d, '%m/%d/%Y') for d in dates]\n",
    "LIWC = pd.read_excel('LIWC.xlsx')\n",
    "# date_dt2 = datetime.strptime(date_str2, '%m/%d/%y')"
   ]
  },
  {
   "cell_type": "code",
   "execution_count": null,
   "metadata": {},
   "outputs": [],
   "source": [
    "LIWC['Date'] = pd.to_datetime(LIWC['Date'], infer_datetime_format=True)"
   ]
  },
  {
   "cell_type": "markdown",
   "metadata": {},
   "source": [
    "## save the new dataframe"
   ]
  },
  {
   "cell_type": "code",
   "execution_count": 12,
   "metadata": {},
   "outputs": [],
   "source": [
    "table.to_excel('ComparisonCorpusQuestionsMeta.xlsx', index = False)"
   ]
  },
  {
   "cell_type": "code",
   "execution_count": null,
   "metadata": {},
   "outputs": [],
   "source": []
  }
 ],
 "metadata": {
  "kernelspec": {
   "display_name": "Python 3",
   "language": "python",
   "name": "python3"
  },
  "language_info": {
   "codemirror_mode": {
    "name": "ipython",
    "version": 3
   },
   "file_extension": ".py",
   "mimetype": "text/x-python",
   "name": "python",
   "nbconvert_exporter": "python",
   "pygments_lexer": "ipython3",
   "version": "3.6.5"
  }
 },
 "nbformat": 4,
 "nbformat_minor": 2
}
