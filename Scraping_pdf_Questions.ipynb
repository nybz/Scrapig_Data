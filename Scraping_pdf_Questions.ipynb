{
 "cells": [
  {
   "cell_type": "markdown",
   "metadata": {},
   "source": [
    "# when there is a missing index\n",
    "missing = main.loc[[34]].copy()\n",
    "# when concatting the missing index\n",
    "whole = pd.concat([missing, new]).copy()"
   ]
  },
  {
   "cell_type": "code",
   "execution_count": 1,
   "metadata": {},
   "outputs": [],
   "source": [
    "import pandas as pd\n",
    "import re\n",
    "import requests\n",
    "pd.set_option('display.max_colwidth', 400)"
   ]
  },
  {
   "cell_type": "code",
   "execution_count": 3,
   "metadata": {},
   "outputs": [
    {
     "data": {
      "text/plain": [
       "'C:\\\\Users\\\\2918261\\\\Dropbox\\\\Corner Office Interviews\\\\ComparisonCorpusText'"
      ]
     },
     "execution_count": 3,
     "metadata": {},
     "output_type": "execute_result"
    }
   ],
   "source": [
    "import os\n",
    "from urllib.request import urlopen\n",
    "import http.cookiejar as cookielib\n",
    "import re\n",
    "import html.entities\n",
    "import codecs\n",
    "import time\n",
    "from bs4 import BeautifulSoup\n",
    "\n",
    "# C://Users//2918261//Courses//Oslo Summer School//notebooks//Interviews\n",
    "# C://Users//Toshiba//Dropbox//Corner Office Interviews//ComparisonCorpusText\n",
    "# C://Users//2918261//Courses//Oslo Summer School//notebooks//Interviews\n",
    "os.chdir('C://Users//2918261//Dropbox//Corner Office Interviews//ComparisonCorpusText')\n",
    "# 'C://Users//Toshiba//Dropbox//Corner Office Interviews//ComparisonCorpusText'\n",
    "# C:\\Users\\2918261\\Dropbox\\Corner Office Interviews\\ComparisonCorpusQuestions_Text\n",
    "# os.chdir('C://Users//Toshiba//Dropbox//Corner Office Interviews//ComparisonCorpusQuestions_Text')\n",
    "os.getcwd()"
   ]
  },
  {
   "cell_type": "code",
   "execution_count": null,
   "metadata": {},
   "outputs": [],
   "source": [
    "#import PyPDF2"
   ]
  },
  {
   "cell_type": "code",
   "execution_count": null,
   "metadata": {},
   "outputs": [],
   "source": [
    "#pdf = open('C:/Users/2918261/Dropbox/Corner Office Interviews/Interview_Sources/Vivek_Gupta.pdf', 'rb')"
   ]
  },
  {
   "cell_type": "code",
   "execution_count": null,
   "metadata": {},
   "outputs": [],
   "source": [
    "# pdf = open('C:/Users/Toshiba/Documents/36-alexis-ohanian.pdf', 'rb')"
   ]
  },
  {
   "cell_type": "code",
   "execution_count": null,
   "metadata": {},
   "outputs": [],
   "source": [
    "#pdfReader = PyPDF2.PdfFileReader(pdf, strict = False)"
   ]
  },
  {
   "cell_type": "code",
   "execution_count": null,
   "metadata": {},
   "outputs": [],
   "source": [
    "#pdfReader.numPages"
   ]
  },
  {
   "cell_type": "code",
   "execution_count": null,
   "metadata": {},
   "outputs": [],
   "source": [
    "#full_text = ''\n",
    "\n",
    "#for page_number in range(0, pdfReader.numPages):\n",
    "#    new_page_text = pdfReader.getPage(page_number).extractText()\n",
    "#    full_text = full_text +  '\\n' + new_page_text"
   ]
  },
  {
   "cell_type": "code",
   "execution_count": null,
   "metadata": {},
   "outputs": [],
   "source": [
    "#full_text"
   ]
  },
  {
   "cell_type": "code",
   "execution_count": null,
   "metadata": {},
   "outputs": [],
   "source": [
    "#page = pdfReader.getPage(0)"
   ]
  },
  {
   "cell_type": "code",
   "execution_count": null,
   "metadata": {},
   "outputs": [],
   "source": [
    "#page"
   ]
  },
  {
   "cell_type": "code",
   "execution_count": null,
   "metadata": {},
   "outputs": [],
   "source": [
    "# Bill Carter pdf in the file as well \n",
    "    ## https://www.malakye.com/news/8960/millennials-vs-gen-z-interview-with-bill-carter-fuse-marketing"
   ]
  },
  {
   "cell_type": "code",
   "execution_count": 5,
   "metadata": {},
   "outputs": [
    {
     "name": "stderr",
     "output_type": "stream",
     "text": [
      "2020-07-05 11:15:17,643 [MainThread  ] [WARNI]  Failed to see startup log message; retrying...\n"
     ]
    }
   ],
   "source": [
    "from tika import parser # pip install tika\n",
    "\n",
    "raw = parser.from_file (\"C:/Users/2918261/Dropbox/Corner Office Interviews/Interview_Sources/Vivek_Gupta.pdf\")"
   ]
  },
  {
   "cell_type": "code",
   "execution_count": 6,
   "metadata": {},
   "outputs": [
    {
     "name": "stdout",
     "output_type": "stream",
     "text": [
      "{'status': 200, 'content': '\\n\\n\\n\\n\\n\\n\\n\\n\\n\\n\\n\\n\\n\\n\\n\\n\\n\\n\\n\\n\\n\\n\\n\\n\\n\\n\\n\\n\\n\\n\\n\\n\\n\\n\\n\\n\\n\\n\\n\\n\\n\\nC-Suite Career Advice: Vivek Gupta, Zensar Technologies | IDG Connect\\n\\n\\n�������������\\t�\\n���\\r���� �\\r��������������������\\r���������\\n������������\\r������� ����!\\n\"�#����$�%�&�\\n��������\\n�\"������&�����#\\n�\\'����( )�*\\r���\\r����\\r+�\\n&�,�-.���,+�����\\'\\n������!/�������0\\n\\n�\\n1�2��3���4������\\r�&���,�\"\\n����\\n�\\t��5�&3�\\n1������6������,�\\'�,���\\t�����3&�3���%���\"�7�������1\\n&��8���\\'���3\"���%����&�3���������8�������������������8��������&���,9����1��&���%���\"�7�������\"��7�������\\t�7+����\\t���������,�3������������,���\\t��\\n���7���\\n&����1�����+����\\n���7���1����\\n�&�:����7���+���������2������+\\n�\"������\\n\\t+�3���1��;<=��\\t�����\\n�\\t��7��\\n����+�3����3,��\"����2���&�\\n��:�#��9����\\n��\\t���><<=��\\t�����\\n�\\t��7��\\n�����\\'�&�7���1�\\n,�\\',���\\'�&�3���\\'+�������\\n7��+�3��\\n,,��\\n���\\n,,�\\'������,���:�\\r�\\n��&���\\'���\\n?&3,��\\t�������\\t�&�\\n��\\n���,\\n2��7�����\"���3��������\\'3��+�3���������������������1��+�@\\nA�����&������1��+�@�A�\\'�\\t�����2\\n�\"���&\\n�\\n1���&�\\n��:�!3�\\n�����\\n�����������������&\\n��&�:����3,����,,�%\\n,,���\\n�,�����\\'����1���3��3�����2���\\n�2��������+����7�1��\\t��7�\\t3�&�\\n������\\t3�&�\\n������\"�\\n����3���������\\n�\"��\\t�+�3��\\'3�\\n�������������,�:������5�7�,���\\n\\t�+�3����2�\\n����&���,�\"+����+���3����������7��2��\\n�\"����,������,\\n1��+����������������&����\\t�����\\'3�\\n����:����\\n����\\n����,,B��3����3���������\\n�\"��\\t�+�3��&�7���+9��\\'3�\\n�����������\\n,,���������+�3�������3������&���������,�����:����,����2�7����\\n����,��������7+��������\\n���,��+����\\n���C�3���1�����\\'�,\\n�1��+�39�������+�\\t���������\\n�\\n��������������������&�\\n�\"�,\\n2��\\n�:���&��+�3���&\\n���+�39�������+�\\t�������&B,�1�,��,��2����+�3���,\\t�\\n�����7\\n�����������,,�+�3����D�&�\\n��������+�3������,����+��������&B,�1�,�������&���������+�\\t��7��������+������:�\\r����\\t���������,����\\n�����\\'�����7�����\\'�\\t�����&�\\n�\"�\\n���������,�:���������+�3����3,�����1�,3��\\n��+�3����\"��\\nE��\\n�������&����\\n\\'3���\\n��7���\\n�\"�����\\n\\t�+�3������,����+��������&B,�1�,����\\n�\\n��:\\r��������&������F3\\n&2,+��������\\n�\\n���&�7������+�3:�97��,��+���3���\\n�����������7��+�\\t��7����7�,�+�������&���3�����7������&�����������������������,,�7������������1\\n&������������\\n������7�������,�������������\\n��&�����:������\\t�������2�+��\\n�&����\\t��1\\n&��\\n�����F3���\\n�����������3��F3�:��\\t�+�3�2������\\n�\"������+�391���,��+��������+�39,,�&���\\n�3����\"��������+�3��,��+��\"��:�%+���1\\n&���\\'�3����2\\n�\"��&�\\n����\\n���3��\"���\\n�\"�&�3\"���3��\\n���1��+�����\\n,�\\n��,�����������\\n�����\\n�\":��91���������������\\n��������3&2��\\n�������,���1�������+����:\\nGHI�JKLLMNO\\n\\n\\n', 'metadata': {'Author': '2918261', 'Content-Type': 'application/pdf', 'Creation-Date': '2020-07-04T09:23:12Z', 'Last-Modified': '2020-07-04T09:23:12Z', 'Last-Save-Date': '2020-07-04T09:23:12Z', 'X-Parsed-By': ['org.apache.tika.parser.DefaultParser', 'org.apache.tika.parser.pdf.PDFParser'], 'X-TIKA:parse_time_millis': '684', 'access_permission:assemble_document': 'true', 'access_permission:can_modify': 'true', 'access_permission:can_print': 'true', 'access_permission:can_print_degraded': 'true', 'access_permission:extract_content': 'true', 'access_permission:extract_for_accessibility': 'true', 'access_permission:fill_in_form': 'true', 'access_permission:modify_annotations': 'true', 'created': '2020-07-04T09:23:12Z', 'creator': '2918261', 'date': '2020-07-04T09:23:12Z', 'dc:creator': '2918261', 'dc:format': 'application/pdf; version=1.6', 'dc:title': 'C-Suite Career Advice: Vivek Gupta, Zensar Technologies | IDG Connect', 'dcterms:created': '2020-07-04T09:23:12Z', 'dcterms:modified': '2020-07-04T09:23:12Z', 'meta:author': '2918261', 'meta:creation-date': '2020-07-04T09:23:12Z', 'meta:save-date': '2020-07-04T09:23:12Z', 'modified': '2020-07-04T09:23:12Z', 'pdf:PDFVersion': '1.6', 'pdf:docinfo:created': '2020-07-04T09:23:12Z', 'pdf:docinfo:creator': '2918261', 'pdf:docinfo:creator_tool': 'PScript5.dll Version 5.2.2', 'pdf:docinfo:modified': '2020-07-04T09:23:12Z', 'pdf:docinfo:producer': 'Acrobat Distiller 20.0 (Windows)', 'pdf:docinfo:title': 'C-Suite Career Advice: Vivek Gupta, Zensar Technologies | IDG Connect', 'pdf:encrypted': 'false', 'producer': 'Acrobat Distiller 20.0 (Windows)', 'resourceName': 'Vivek_Gupta.pdf', 'title': 'C-Suite Career Advice: Vivek Gupta, Zensar Technologies | IDG Connect', 'xmp:CreatorTool': 'PScript5.dll Version 5.2.2', 'xmpMM:DocumentID': 'uuid:cf6bd8b2-88e8-45d1-b42e-44197dab70c6', 'xmpTPg:NPages': '1'}}\n"
     ]
    }
   ],
   "source": [
    "print(raw)"
   ]
  },
  {
   "cell_type": "code",
   "execution_count": 7,
   "metadata": {},
   "outputs": [],
   "source": [
    "from pdfminer.converter import TextConverter"
   ]
  },
  {
   "cell_type": "code",
   "execution_count": 8,
   "metadata": {},
   "outputs": [
    {
     "name": "stdout",
     "output_type": "stream",
     "text": [
      "\u0000\u0001\u0002\u0003\u0004\u0002\u0005ÿ\u0007\u0001ÿ\u0004ÿ\b\u0002\t\n",
      "\u000b",
      "\u0005\f",
      "\r",
      "\u000e\u000f\u0010\u0011\f",
      "ÿ\u0012\u0004\u0002\n",
      "\n",
      "\u0002\u0013\u0014ÿ\u0012\u0004\u0002\n",
      "\n",
      "\u0002\u0013\u0014ÿ\u0011\f",
      "ÿ\u0015\n",
      "\u0004\u0005\n",
      "\u0002\u0013\u0016\t\u0017\u0018\u0019\u001a\u001b\u0011\u001c",
      "\u001d",
      "\u000fÿ\r",
      "\u0019\f",
      "\u0011\u0012\u0015\u001a\u001e",
      "ÿ\u001d",
      "\u001f\u0010ÿ\r",
      "ÿ \t!ÿ\"\u0004\u0007\u0004ÿ#ÿ$\u0004%\u0016\t\u000b",
      "\n",
      "ÿ\u0015\n",
      "\u0004\u0002\u000b",
      "\t\u000b",
      "!\r",
      "\u0017\u0017\u0002\u0001\u0004%\u0016ÿ\u0007\u0001ÿ\"\t\u0004&\n",
      "\u0007\n",
      "\u0013'(\u001a)\f",
      "ÿ\r",
      "\u0019\f",
      "\u0011\u0012\u0015\u001a\f",
      "*\u0017\t%\u0004+ÿ,-\u0010ÿ\u000e+*\u000b",
      "\u000b",
      "ÿ\u0019\u0001&\t\u000b",
      "\u0013\u0001\u000b",
      "\u0014ÿ .\u000f\u000fÿ\u0015\u0007\u0005ÿ/\u001b\t0\n",
      "1ÿ\u000e2\u0017\u0007\u00043\n",
      "\u000b",
      "\u0013\u0004\u0002ÿ\f",
      "\n",
      "%\u0016\u000b",
      "\u0001+\u0001!\t\n",
      "\u0013\u0012\u0016\t\n",
      "\bÿ\u001a4\n",
      "%2\u0007\t0\n",
      "ÿ\u0004\u000b",
      "\u0005ÿ5\n",
      "\u0004\u0005\u0014ÿ\u000e+\u0001&\u0004+ÿ\u0011\u000b",
      "\b\u0002\u0004\u0013\u0007\u00022%\u00072\u0002\n",
      "ÿ$\u0004\u000b",
      "\u0004!\n",
      "6\n",
      "\u000b",
      "\u0007ÿ\u000f\n",
      "\u00020\t%\n",
      "\u00137\n",
      "\u0013\u0007&\u0001\u0002\u00012!\u0016\u0014ÿ$\u0004\u0013\u0013\u0004%\u00162\u0013\n",
      "\u0007\u0007\u0013\u0014ÿ\u001d",
      "\u000f7\u0016\n",
      "\u000b",
      "ÿ\u0011ÿ\u0004\u0007\u0007\n",
      "\u000b",
      "\u0005\n",
      "\u0005ÿ\u0007\u0016\n",
      "ÿ7\u0016\u0004\u0002\u0007\u0001\u000b",
      "ÿ\u000f%\u0016\u0001\u0001+8\u0013ÿ\r",
      "\u00050\u0004\u000b",
      "%\n",
      "\u0005ÿ$\u0004\u000b",
      "\u0004!\n",
      "6\n",
      "\u000b",
      "\u0007ÿ\u0018\u0002\u0001!\u0002\u00046\u0014ÿ\u0001\u000b",
      "\n",
      "ÿ\u0001\bÿ6*ÿ\u0017\u0002\u0001\b\n",
      "\u0013\u0013\u0001\u0002\u0013ÿ\u0007\u0001+\u00052\u0013ÿ\u0007\u0016\n",
      "\u0013\n",
      "ÿ\u0017\n",
      "\u0004\u0002+\u0013ÿ\u0001\bÿ\u0003\t\u0013\u0005\u00016ÿ\u0003\u0016\t%\u0016ÿ\u0016\u00040\n",
      "ÿ\u0013\u0007\u0004*\n",
      "\u0005ÿ\u0003\t\u0007\u0016ÿ6\n",
      "ÿ\n",
      "0\n",
      "\u0002ÿ\u0013\t\u000b",
      "%\n",
      "9ÿ\u0000\u0002\u00016ÿ\u0005\u0004*ÿ\u0001\u000b",
      "\n",
      "\u0014ÿ\u0016\n",
      "ÿ1\n",
      "\u0017\u0007ÿ\u0013\u0004*\t\u000b",
      "!ÿ\u0007\u0016\u0004\u0007ÿ\t\b*\u00012ÿ\u0016\u00040\n",
      "ÿ:;<ÿ\u0001\bÿ\u0007\u0016\n",
      "ÿ\t\u000b",
      "\b\u0001\u00026\u0004\u0007\t\u0001\u000b",
      "\u0014ÿ*\u00012ÿ\u0013\u0016\u00012+\u0005ÿ!\u0001ÿ\u0007\u00041\n",
      "ÿ\u0004%\u0007\t\u0001\u000b",
      "9ÿ\"\u0001\u000b",
      "8\u0007ÿ\u0003\u0004\t\u0007ÿ\b\u0001\u0002ÿ=;;<ÿ\u0001\bÿ\u0007\u0016\n",
      "ÿ\t\u000b",
      "\b\u0001\u00026\u0004\u0007\t\u0001\u000b",
      "ÿ\u0007\u0001&\n",
      "%\u00016\n",
      "ÿ\u00040\u0004\t+\u0004&+\n",
      "\u0014ÿ&\n",
      "%\u00042\u0013\n",
      "ÿ&*ÿ\u0007\u0016\u0004\u0007ÿ\u0007\t6\n",
      "ÿ*\u00012ÿ\u0003\t++\u0014ÿ\t\u0007ÿ\u0003\t++ÿ&\n",
      "ÿ\u0007\u0001\u0001ÿ+\u0004\u0007\n",
      "9ÿ\f",
      "\u0016\t\u0013ÿ%\u0004\u000b",
      "ÿ&\n",
      "ÿ\u0005\t>%2+\u0007ÿ\b\u0001\u0002ÿ\u0004\u0017\n",
      "\u0002\b\n",
      "%\u0007\t\u0001\u000b",
      "\t\u0013\u0007ÿ+\t1\n",
      "ÿ6\n",
      "ÿ\u0007\u0001ÿ!\n",
      "\u0007ÿ2\u0013\n",
      "\u0005ÿ\u0007\u0001\u0014ÿ&2\u0007ÿ*\u00012ÿ\u0005\u0001ÿ\u000b",
      "\u0001\u0007ÿ\u000b",
      "\n",
      "\n",
      "\u0005ÿ\u0007\u0001ÿ\u0005\u0001\u0007ÿ\n",
      "0\n",
      "\u0002*ÿ?\t@ÿ\u0004\u000b",
      "\u0005ÿ%\u0002\u0001\u0013\u0013ÿ\n",
      "0\n",
      "\u0002*ÿ?\u0007@ÿ&\n",
      "\b\u0001\u0002\n",
      "\u0007\u00041\t\u000b",
      "!ÿ\u0005\n",
      "%\t\u0013\t0\n",
      "ÿ\u0004%\u0007\t\u0001\u000b",
      "9ÿ 2\u0013\t\u000b",
      "\n",
      "\u0013\u0013ÿ\t\u0013ÿ\u0004\u000b",
      "ÿ\u0004\u0002\u0007\u0014ÿ\u000b",
      "\u0001\u0007ÿ\u0004ÿ\u0013%\t\n",
      "\u000b",
      "%\n",
      "9\u0011ÿ\u0003\u00012+\u0005ÿ\u0007\n",
      "++ÿ$\t++\n",
      "\u000b",
      "\u000b",
      "\t\u0004+\u0013ÿ\u0007\u0001ÿ&\n",
      "ÿ\u0004\u00050\n",
      "\u000b",
      "\u00072\u0002\u00012\u0013\u0014ÿ\u0007\u00041\n",
      "ÿ\u0002\t\u00131\u0013ÿ\u0004\u000b",
      "\u0005ÿ\u0007\u0002*ÿ\u0007\u0001ÿ6\u00010\n",
      "ÿ\b\u0002\u00016ÿ\b2\u000b",
      "%\u0007\t\u0001\u000b",
      "ÿ\u0007\u0001ÿ\b2\u000b",
      "%\u0007\t\u0001\u000b",
      "ÿ\u0007\u0001ÿ!\u0004\t\u000b",
      "\u0004\u000b",
      "ÿ2\u000b",
      "\u0005\n",
      "\u0002\u0013\u0007\u0004\u000b",
      "\u0005\t\u000b",
      "!ÿ\u0001\bÿ*\u00012\u0002ÿ&2\u0013\t\u000b",
      "\n",
      "\u0013\u0013ÿ\u0004\u0013ÿ\u0004ÿ\u0003\u0016\u0001+\n",
      "9ÿ\u0000\u0001\u0002ÿ\n",
      "4\u00046\u0017+\n",
      "\u0014ÿ\t\bÿ*\u00012ÿ\u0003\u0001\u00021ÿ\t\u000b",
      "ÿ\u0007\n",
      "%\u0016\u000b",
      "\u0001+\u0001!*\u0014ÿ\u0007\u0002*ÿ\u0007\u00012\u000b",
      "\u0005\n",
      "\u0002\u0013\u0007\u0004\u000b",
      "\u0005ÿ6\u0004\u00021\n",
      "\u0007\t\u000b",
      "!\u0014ÿ\u0013\u0004+\n",
      "\u0013\u0014ÿ\u0005\n",
      "+\t0\n",
      "\u0002*\u0014ÿ\u0004\u000b",
      "\u0005ÿ\u0001\u0007\u0016\n",
      "\u0002ÿ\u0004\u0013\u0017\n",
      "%\u0007\u0013ÿ\u0001\bÿ\u0007\u0016\n",
      "ÿ&2\u0013\t\u000b",
      "\n",
      "\u0013\u00139ÿ\u0011\u0007ÿ\t\u0013ÿ\u0007\u0016\t\u0013ÿ\u0003\n",
      "++A\u0002\u00012\u000b",
      "\u0005\n",
      "\u00052\u000b",
      "\u0005\n",
      "\u0002\u0013\u0007\u0004\u000b",
      "\u0005\t\u000b",
      "!ÿ\u0001\bÿ*\u00012\u0002ÿ%\u00016\u0017\u0004\u000b",
      "*8\u0013ÿ&2\u0013\t\u000b",
      "\n",
      "\u0013\u0013ÿ\u0007\u0016\u0004\u0007ÿ\u0003\t++ÿ\u0013\u0016\u0001\u0002\u0007\n",
      "\u000b",
      "ÿ*\u00012\u0002ÿ\u0017\u0004\u0007\u0016ÿ2\u0017ÿ\u0007\u0016\n",
      "ÿ%\u0001\u0002\u0017\u0001\u0002\u0004\u0007\n",
      "ÿ+\u0004\u0005\u0005\n",
      "\u00029\u0018\n",
      "\u0001\u0017+\n",
      "ÿ\u0004\u00131ÿ6\n",
      "ÿ\u0007\u0016\t\u0013ÿ\u0004ÿ+\u0001\u0007\u0014ÿ\u0004\u000b",
      "\u0005ÿ6*ÿ\u0004\u000b",
      "\u0013\u0003\n",
      "\u0002ÿ\t\u0013ÿ\u0004+\u0003\u0004*\u0013ÿ\u0007\u0016\t\u0013\u0010ÿB\u00012ÿ\u0016\u00040\n",
      "ÿ\u0007\u0001ÿ&\n",
      "+\t\n",
      "0\n",
      "ÿ*\u000128\u0002\n",
      "ÿ\u0002\n",
      "\u0004\u0005*ÿ\b\u0001\u0002ÿ\u0007\u0016\n",
      "\u0017\u0001\u0013\t\u0007\t\u0001\u000b",
      "\u0014ÿ\u0004\u000b",
      "\u0005ÿ\u0007\u0016\n",
      "\u000b",
      "ÿ\u0013\u0007\u0004\u0002\u0007ÿ\u0004%\u0007\t\u000b",
      "!ÿ+\t1\n",
      "ÿ\t\u00079ÿ\u001c",
      "\u000b",
      "%\n",
      "ÿ*\u00012ÿ\u0005\n",
      "%\t\u0005\n",
      "ÿ*\u000128\u0002\n",
      "ÿ\u0002\n",
      "\u0004\u0005*ÿ\b\u0001\u0002ÿ\u0007\u0016\n",
      "ÿ%A+\n",
      "0\n",
      "+\u0014ÿ+\u0001\u00011ÿ\u0004\u0007ÿ*\u00012\u0002\u0013\n",
      "+\bÿ\t\u000b",
      "\u0007\u0016\n",
      "ÿ6\t\u0002\u0002\u0001\u0002ÿ\u0004\u000b",
      "\u0005ÿ\u0007\n",
      "++ÿ*\u00012\u0002ÿ\u0002\n",
      "C\n",
      "%\u0007\t\u0001\u000b",
      "ÿ\u0007\u0016\u0004\u0007ÿ*\u00012ÿ\u0004\u0002\n",
      "ÿ\u0004+\u0002\n",
      "\u0004\u0005*ÿ\u0004\u0007ÿ\u0007\u0016\n",
      "ÿ%A+\n",
      "0\n",
      "+\u0014ÿ\u0004\u000b",
      "\u0005ÿ\u0004%\u0007ÿ\u0007\u0016\u0004\u0007ÿ\u0003\u0004*ÿ\b\u0002\u00016ÿ\u0007\u0016\u0004\u0007ÿ\u0005\u0004*\u0001\u000b",
      "\u0003\u0004\u0002\u00059ÿ\f",
      "\u0001\u0001ÿ\u0001\b\u0007\n",
      "\u000b",
      "\u0014ÿ\u0017\n",
      "\u0001\u0017+\n",
      "ÿ\u0003\u0004\t\u0007ÿ\u0007\u0001ÿ&\n",
      "ÿ\u0017\u0002\u00016\u0001\u0007\n",
      "\u0005ÿ&\n",
      "\b\u0001\u0002\n",
      "ÿ\u0004%\u0007\t\u000b",
      "!ÿ\t\u000b",
      "ÿ\u0007\u0016\u0004\u0007ÿ\u0002\u0001+\n",
      "9ÿ\u0011\u000b",
      "\u0013\u0007\n",
      "\u0004\u0005ÿ*\u00012ÿ\u0013\u0016\u00012+\u0005ÿ\u0004\u0005\u00050\u0004+2\n",
      "ÿ\t\u000b",
      "ÿ*\u00012\u0002ÿ\u0001\u0002!\u0004\u000b",
      "\tD\u0004\u0007\t\u0001\u000b",
      "ÿ\u0004\u000b",
      "\u0005ÿ%\u0001\u000b",
      "\u0007\u0002\t&2\u0007\n",
      "ÿ\t\u000b",
      "ÿ6\n",
      "\n",
      "\u0007\t\u000b",
      "!\u0013ÿ\u0004\u0013ÿ\t\bÿ*\u00012ÿ\u0004\u0002\n",
      "ÿ\u0004+\u0002\n",
      "\u0004\u0005*ÿ\u0004\u0007ÿ\u0007\u0016\n",
      "ÿ%A+\n",
      "0\n",
      "+ÿ\u0017\u0001\u0013\t\u0007\t\u0001\u000b",
      "9\f",
      "\u0016\n",
      "\u000b",
      "\u0014ÿ\u0003\u0004\u0007%\u0016ÿ\u0016\u0001\u0003ÿE2\t%1+*ÿ\u0007\u0016\n",
      "ÿ\u0017\u0001\u0013\t\u0007\t\u0001\u000b",
      "ÿ%\u00016\n",
      "\u0013ÿ\u0007\u0001ÿ*\u000129\u001186ÿ\u0004+\u0003\u0004*\u0013ÿ\u00132\u0002\u0017\u0002\t\u0013\n",
      "\u0005ÿ\u0004\u0007ÿ\u0016\u0001\u0003ÿ6\u0004\u000b",
      "*ÿ\b\u0001\u00026\n",
      "\u0002ÿ\n",
      "6\u0017+\u0001*\n",
      "\n",
      "\u0013ÿ\u0002\n",
      "\u0004%\u0016ÿ\u00012\u0007ÿ\u0007\u0001ÿ6\n",
      "ÿ\u0004ÿ\u0005\n",
      "%\u0004\u0005\n",
      "ÿ\u0005\u0001\u0003\u000b",
      "ÿ\u0007\u0016\n",
      "ÿ\u0002\u0001\u0004\u0005ÿ\u0004\u000b",
      "\u0005\u0007\n",
      "++ÿ6\n",
      "ÿ\u0016\u0001\u0003ÿ\u0007\u0016\n",
      "ÿ\u0004\u00050\t%\n",
      "ÿ\u0011ÿ\u0013\u0016\u0004\u0002\n",
      "\u0005ÿ\u0003\t\u0007\u0016ÿ\u0007\u0016\n",
      "6ÿ\u0016\u0004\u0013ÿ\u0016\n",
      "+\u0017\n",
      "\u0005ÿ\u0013\u0016\u0004\u0017\n",
      "ÿ\u0007\u0016\n",
      "\t\u0002ÿ%\u0004\u0002\n",
      "\n",
      "\u00029ÿ\u001c",
      "\u000b",
      "\n",
      "ÿ\u0001\bÿ\u0007\u0016\n",
      "\u0013\n",
      "ÿ1\n",
      "*ÿ\u0017\t\n",
      "%\n",
      "\u0013ÿ\u0001\b\u0004\u00050\t%\n",
      "ÿ\t\u0013ÿ\u0007\u0001ÿE2\n",
      "\u0013\u0007\t\u0001\u000b",
      "ÿ\u0007\u0016\n",
      "ÿ\u0013\u0007\u0004\u00072\u0013ÿE2\u00019ÿ\u0011\bÿ*\u00012ÿ1\n",
      "\n",
      "\u0017ÿ\u0005\u0001\t\u000b",
      "!ÿ\u0003\u0016\u0004\u0007ÿ*\u0001280\n",
      "ÿ\u0004+\u0003\u0004*\u0013ÿ\u0005\u0001\u000b",
      "\n",
      "\u0014ÿ*\u000128++ÿ%\u0001\u000b",
      "\u0007\t\u000b",
      "2\n",
      "ÿ\u0007\u0001!\n",
      "\u0007ÿ\u0003\u0016\u0004\u0007ÿ*\u00012ÿ\u0004+\u0003\u0004*\u0013ÿ!\u0001\u00079ÿ$*ÿ\u0004\u00050\t%\n",
      "ÿ\u0004&\u00012\u0007ÿ\u0007\u00041\t\u000b",
      "!ÿ\u0004%\u0007\t\u0001\u000b",
      "ÿ\u0003\t\u0007\u0016\u00012\u0007ÿ!\n",
      "\u0007\u0007\t\u000b",
      "!ÿ%\u00042!\u0016\u0007ÿ2\u0017ÿ\t\u000b",
      "ÿ\n",
      "0\n",
      "\u0002*ÿ\u0005\n",
      "\u0007\u0004\t+ÿ\t\u0013\u0004+\u0013\u0001ÿ\u0003\u0001\u0002\u0007\u0016ÿ\u0002\n",
      "\t\u0007\n",
      "\u0002\u0004\u0007\t\u000b",
      "!9ÿ\u001180\n",
      "ÿ\u0016\n",
      "\u0004\u0002\u0005ÿ\u0007\u0016\u0004\u0007ÿ\u0007\u0016\t\u0013ÿ\u0016\u0004\u0013ÿ\u0013\u00072%1ÿ\u0003\t\u0007\u0016ÿ\u0017\n",
      "\u0001\u0017+\n",
      "ÿ\u00010\n",
      "\u0002ÿ\u0007\u0016\n",
      "ÿ*\n",
      "\u0004\u0002\u00139FGHÿJKLLMNO\f",
      "\n"
     ]
    }
   ],
   "source": [
    "import io\n",
    " \n",
    "from pdfminer.converter import TextConverter\n",
    "from pdfminer.pdfinterp import PDFPageInterpreter\n",
    "from pdfminer.pdfinterp import PDFResourceManager\n",
    "from pdfminer.pdfpage import PDFPage\n",
    " \n",
    "def extract_text_from_pdf(pdf_path):\n",
    "    resource_manager = PDFResourceManager()\n",
    "    fake_file_handle = io.StringIO()\n",
    "    converter = TextConverter(resource_manager, fake_file_handle)\n",
    "    page_interpreter = PDFPageInterpreter(resource_manager, converter)\n",
    " \n",
    "    with open(pdf_path, 'rb') as fh:\n",
    "        for page in PDFPage.get_pages(fh, \n",
    "                                      caching=True,\n",
    "                                      check_extractable=True):\n",
    "            page_interpreter.process_page(page)\n",
    " \n",
    "        text = fake_file_handle.getvalue()\n",
    " \n",
    "    # close open handles\n",
    "    converter.close()\n",
    "    fake_file_handle.close()\n",
    " \n",
    "    if text:\n",
    "        return text\n",
    " \n",
    "if __name__ == '__main__':\n",
    "    print(extract_text_from_pdf(\"C:/Users/2918261/Dropbox/Corner Office Interviews/Interview_Sources/Vivek_Gupta.pdf\"))"
   ]
  },
  {
   "cell_type": "code",
   "execution_count": null,
   "metadata": {},
   "outputs": [],
   "source": [
    "## C:\\Users\\2918261\\Dropbox\\Corner Office Interviews\\Interview_Sources\\Millennials vs. Gen Z - Interview with Bill Carter, Fuse Marketing.pdf"
   ]
  },
  {
   "cell_type": "code",
   "execution_count": 5,
   "metadata": {},
   "outputs": [],
   "source": [
    "Robert = (extract_text_from_pdf(\"C:/Users/2918261/Dropbox/Corner Office Interviews/Interview_Sources/95-Phil-Libin.pdf\"))"
   ]
  },
  {
   "cell_type": "code",
   "execution_count": 10,
   "metadata": {},
   "outputs": [],
   "source": [
    "paragraphs = re.findall('Tim Ferriss:([\\s\\S]*?)Phil Libin:', Robert)"
   ]
  },
  {
   "cell_type": "code",
   "execution_count": 11,
   "metadata": {},
   "outputs": [
    {
     "data": {
      "text/plain": [
       "[' Hello, boys and girls. This is Tim Ferriss. And welcome to another episode of the Tim Ferriss Show. I’ve rerecorded this intro like 17 times because I saw my brother last night after a long hiatus apart, and we drank, i.e., Tim drank way, way, way too much wine. So I’ve had some caffeine. I’ve had some coconut oil and pu-erh tea. And this one is going to make it happen, folks. Magic. Onward. This episode of the Tim Ferriss Show is like many others. It is my job to deconstruct world class performers, whether they are chess prodigies, hedge fund managers, athletes, actors like Arnold Schwarzenegger, or anybody and everyone in between.   And what I mean by that is teasing out the routines, the morning rituals, the favorite books, the behaviors and habits that you can borrow to improve your own life in a professional sense and a personal sense. This episode, we have Phil Libin. Phil Libin is a friend. He is also the co-founder and executive chairman of Evernote. I use Evernote, as you guys probably know, every day. I mean dozens of times a day. I used it to handle all of the brain dumps and organization of information and capture of information for my last few books. I also use it to create a paperless life or as close to it as possible.    And I was introduced to Evernote by you guys on Twitter, actually, in I want to say 2008 maybe, 2009 when I was revising the Four Hour Work Week. And I ended up recommending Evernote in that once I got hooked on the product. Then, I got to know Phil. And then, I became an advisor to the company, which is super, super cool. So I’ve been an advisor since I want to say 2008/2009.    And Evernote now has 150 or so million users. And it is your external brain. So you can use it to capture things online so you can read them offline. You can use it to capture voice notes, photographs, scan documents with your iPhone, for instance, so that you can take a picture of a receipt, of a menu, of a contract and then, have it OCR’d so that you can search the text that you just took a photo of later. Anyway, I could go on and on about it because I love the product. It’s like Uber for me. I can’t live \\x0c Copyright © 2007–2018 Tim Ferriss. All Rights Reserved.  without it. But, in this episode, we cover so much more than just Evernote.    But we do dig in, obviously, to the lessons learned. And speaking of lessons learned, Phil shares his favorite lessons learned directly from Jeff Bezos of Amazon, Reid Hoffman of Linked In, and Hiroshi Mikitani of Rakuten. And if you don’t know who he is, then, you should look him up. We talk about philosophical and performance systems like stoicism, electrical brain stimulation, which I know you guys are into.   And if you want a ton on that, you can also listen to my Adam Gazzali episode. But Phil is experimenting with brain stimulation for performance enhancement and just general well being. And we’ll talk about that. Creating tech for yourself and the Evernote genesis story, they’re very closely tied together. We have some frivolities like the best host in Singapore, the best hamburger in Tokyo, and why goat simulator is amazing. And then, we talk about long term thinking. Long term meaning 10,000 year thinking and real versus imagined threats. We talk about artificial intelligence and a bunch of others.    Now, most importantly, in general, across this episode, he digs into his a-ha moments and what he learned, in some cases, how they happened, and how you can make that happen for yourself. So Phil is an awesome guy, hilarious, and just an amazing, amazing executive. Now, when we recorded this, he was also CEO of Evernote but has been looking for his successor for some time now.   And in the meantime, between recording this and publishing it, he found that CEO. So you can just Google new Evernote CEO, and you can get all the goods on that. In any case, you can find the show notes, all the links, the book links, etc., at fourhourworkweek.com. And just click podcast. So fourhourworkweek.com, click podcast. And without further ado, please enjoy Phil Libin. And say hi to him on Twitter @plibin. Phil, welcome to the show.  ',\n",
       " ' It has been a while since we hung out. And I’ve noticed the most conspicuous change is that the trademark beard has vanished. And I wanted to know how you decided to make that change because, for as long as I’ve known you, I have sort of visualized in my head this beard that you have, which is, I guess, it’s not really a gotye.  \\x0c Copyright © 2007–2018 Tim Ferriss. All Rights Reserved.    It’s not really a full ears to chin beard. It’s more like a mouth frame. I don’t know if there’s a word for this.  ',\n",
       " ' You know, that’s probably due to my lack of caffeine, but why did you decide to shave it off?  ',\n",
       " ' Yeah, that makes sense. And for those people who are familiar with Evernote, one of the questions that I’ve heard come up quite a bit, and we’ll get to what Evernote is, of course, by why green for the logo. The elephant people eventually figure out. But why green?  ',\n",
       " ' Natural habitat.  ',\n",
       " ' And speaking of natural habitat, I’m not going to say iconic animal for either of us, but when did we first meet? I want to say it was in a coffee shop. But do you recall?  ',\n",
       " ' Oh, it was a Chinese tapioca pearls/coffee shop.  ',\n",
       " ' Right. I think you’re using the Egyptian calendar. It was probably I want to say 2007/2008. It was early.  ',\n",
       " ' So what I remember is that I asked a number of questions. I think I was updated the Four Hour Work Week. And I was looking to replace some of the tools. And so I would ask my followers on Twitter what is the best tool for X. What is the best tool for Y. What is the best tool for Z. And Evernote kept on coming up. And I was like that’s impossible.    What is this Swiss army knife of software? And I looked at it, and I was like I really need an intro to this. I’m having trouble figuring out where to start, which I think is a common stumbling block or hurdle for people to get over. And then, we met up, and I remember, you took a photograph of the menu, which was on the wall. And shortly thereafter, you were able to search all of the text. And I was like, okay, I get it. And then, I think I started with depaperfying or trying to remove the clutter of my house at that time. So it was all of the business cards, all of the legal paperwork, accounting paperwork. I just scanned it because I knew I didn’t have to really organize it per se if I could search by the text that was scanned.    And for people who don’t know, this was my first use case. But how would you describe Evernote if you could just maybe give a brief synopsis of Evernote for folks? And now, of course, I use it 10 to 20 plus times a day.    But for those people who are not familiar with Evernote, what is Evernote, and how did you become involved? Or what is your involvement with Evernote.  ',\n",
       " ' And what are the origins of Evernote, what’s the genesis story?  ',\n",
       " ' Sure.  ',\n",
       " ' Strategic unemployment.  ',\n",
       " ' And what was the first use case, the first application of Evernote that really kind of made your eyes pop out?    Do you have any memories of particular a-ha moments with either applications that you guys came up with internally or applications and uses that your fans and users came up with?  ',\n",
       " ' There were a few hundred people on Twitter.  ',\n",
       " ' Theologically integrated.  ',\n",
       " ' How do you personally use Evernote? And the reason I keep drilling into this is because I remember my challenge was figuring out where to start.   ',\n",
       " ' So I guess there are two questions. How do you, personally, use Evernote? I’d be curious to hear how you most frequently use Evernote. And secondly, how do you solve that problem because this is not unique to just Evernote. There are many different products, let’s say Sugru, for instance, which is this kind of Play-Doh that hardens into rubber that you can use for repairing things has a similar challenge. There are many different tools and products that face this conundrum.   So the first is how do you –  ',\n",
       " ' Oh, you do? Yeah, it’s great stuff.  ',\n",
       " ' Right. My iPhone case isn’t broken, so I have to break it to use the Sugru. Or what else could I do? So with Evernote, on a personal level, how do you use it?  ',\n",
       " ' Yeah. I’m looking at questions for you in Evernote right now, which is very meta.   ',\n",
       " ' So what did you think? What was the self talk when you saw that? Did that trigger any particular thought or feeling in you to see it in the wild for the first time?  ',\n",
       " ' A mindfulness time out?  ',\n",
       " ' Well, there is a somewhat related feature in I think it’s Siri.    If you shake the phone as if you’re trying to sort of rattle its brains, it might be Google Maps, I don’t know which it is, but it’s built into the iPhone, if you shake it, it will ask you in some way, I can’t recall offhand, what is wrong.  ',\n",
       " ' Yeah.   ',\n",
       " ' That’s amazing. His first book, and I’m blanking on the name, I want to say it was Mindfulness is Every Step or something like that, Peace is Every Step, perhaps, which was really intended almost like Marcus Aurelius’s meditations to be a notebook for himself and also his close confidants and new attendees or teachers at Plum Village, when then later became a book.   That was the first meditation book that really had a tangible, concrete impact on me because the storytelling, the narrative was so well done. Let’s return back to the early days of Evernote.  ',\n",
       " ' I think we’ll talk about both. But what I’d love to do, and maybe this is in between, maybe it’s a bridge between the two, is as the CEO, what CEO’s did you admire or hope to emulate in the early days of Evernote? Because you have roughly how many users at the moment?  ',\n",
       " ' So that’s a big number. That’s a number that a lot of companies would aspire to, of course. And we’ll talk about maybe growth separate. But as the CEO, what types of leaders or CEO’s did you admire and aspire to?   Well, there are so many that have been really generous with their time with me. That’s really kind of the amazing thing about Silicon Valley is just how open everyone has been. So I was able to spend quite a bit of time talking with people who were just heroes of mine forever. So Jeff Bezos was someone who has given me fantastic advice and guidance. Hiroshi Mikitani, the founder and \\x0c Copyright © 2007–2018 Tim Ferriss. All Rights Reserved.  CEO of Rakuten is one of the most amazing people ever. Have you ever talked to him?  Tim Ferriss: I haven’t. I would love to.  ',\n",
       " ' I do. That would be a blast.   ',\n",
       " ' I do agree. I was actually just chatting with someone about the differences between say New York and San Francisco, LA and San Francisco. And there are strengths and weaknesses to all of them. But the ability to wander into a coffee shop or otherwise just get in touch with what you would think would be the untouchables, the very, very well known, icon figures is something that I haven’t seen in many other places outside of Silicon Valley.   Just the openness and availability that those people express, even though they’re at the multibillion dollar in net worth mark. It’s very unique. I don’t know if you agree with that.  ',\n",
       " ' Why do you think these people are so open to share? What makes the environment of Silicon Valley different? Or what makes the people that gravitate to it different?  ',\n",
       " ' Right.  \\x0c Copyright © 2007–2018 Tim Ferriss. All Rights Reserved.   ',\n",
       " ' Yeah.  ',\n",
       " ' I want to ask you a little bit about the folks that you interacted with. So Bezos, for instance, he’s a fascinating character on so many levels. Very methodically chose books, pitched that with Indi Shaw, had it turned down.   And then, turned it into the everything store. And when they started, they had, as I understand it, basically doors from the equivalent of Home Depot across two file cabinets as desks. That’s how people started out.   ',\n",
       " ' Oh, the saw horses.  ',\n",
       " ' That’s really funny. I just built this, side note, pull up rig out of galvanized steel piping and plumbing supplies and whatnot. And at the end of the day, it cost, particularly if you factor in the labor, it’s like it was a fun project, but it probably would have been better use of capital just to buy a cheap rig but still fun in its own way.  ',\n",
       " ' I will absolutely help you do that. And maybe we can pull in Pavel Tsatsouline who, like yourself, is originally from the former Soviet Union. You were born in I want to say St. Petersburg, but am I getting that right?  ',\n",
       " ' And I’m not going to quiz you, but do you still speak Russian?  ',\n",
       " ' And with such a heavy, I’m not going to lose track of where we were with Bezos, I want to come back to that, but with such a heavy Russian component in Evernote from the early days, how did that affect the company culture or growth or anything? If it did, I don’t know if it did.  ',\n",
       " ' I would have loved to have heard your English in the early days.  ',\n",
       " ' A lot of praise Odin talk.  ',\n",
       " ' Hence forth.   ',\n",
       " ' Speaking of that process of building a great product, or maybe not, what advice did you go to Bezos for? Or what were some of the questions you asked him or pieces of advice that he gave you, if you remember? ',\n",
       " ' Was this like a mid day conversation, or was it a late night, after a few drinks conversation?  ',\n",
       " ' That’s a great answer.  ',\n",
       " ' All right. I’ll bite. What other advice?  ',\n",
       " ' What are some of the biggest challenges that you’ve had in scaling Evernote?  ',\n",
       " ' So this is very interesting. The law of three and ten, the tripling I get.   Where does the 10 come in?  ',\n",
       " ' Oh.  \\x0c Copyright © 2007–2018 Tim Ferriss. All Rights Reserved.  ',\n",
       " ' Right, nine and twenty-seven and so on. Okay.   ',\n",
       " ' I know you, like myself, have a fondness for Japan. Have you ever seen someone previously trained on an abacus as a kid do mental mathematics?  ',\n",
       " ' It’s so fascinating. They put their finger up in the air like they’re moving beads. And I remember there was this kid on my judo kid when I was in Japan as an exchange student for a year who could multiply three digit numbers. He could do pretty much whatever basic arithmetic you would ask him to do by using this imaginary abacus. So fascinating.   ',\n",
       " ' With Mikitani-son’s law of three and ten, in pragmatic planning terms, does that mean that you as Phil at Evernote would try to look ahead to anticipate when you would hit that tripling point and then seek out the new tools and processes that you would need before hand?  ',\n",
       " ' Wow.  ',\n",
       " ' Yeah, it really is.  ',\n",
       " ' How different is the current Chinese version of Evernote compared to say the US version?  ',\n",
       " ' I appreciate the separate data centers.  ',\n",
       " ' Let’s talk for a second about Reid Hoffman. And then, I want to come back to some of your personal productivity habits. But Reid is a very interesting, that’s my laziest adjective I can use here, he’s a compelling character.   I’ve had the opportunity to spend a little bit of time with him. And we’re both involved in a nonprofit called Quest Bridge. And he is such a cool as a cucumber sort of philosopher king in the minds of so many people in Silicon Valley. What makes Reid unique? What \\x0c Copyright © 2007–2018 Tim Ferriss. All Rights Reserved.  are the things that draw you to him or that you find fascinating about him?  ',\n",
       " ' What else? Are there any particular examples that jump out at you or any advice that he’s given you or questions you’ve asked of him?  ',\n",
       " ' What – I’m sorry. Go ahead.  ',\n",
       " ' Yeah. He is. He has a very different energy from almost all of the other folks in the Pay Pal mafia. And that’s not to, in any way, \\x0c Copyright © 2007–2018 Tim Ferriss. All Rights Reserved.  denigrate them. But he doesn’t seem to have the same sharp edge that a lot of those other guys do. Obviously, he’s very intelligent and has an extremely incisive intellect. But when you sit down what him, he has a much more relaxed energy, if that makes sense.  ',\n",
       " ' To what would you attribute that? I mean, he does have –  ',\n",
       " ' Good point.  ',\n",
       " ' Now, you mentioned philosophy a bit earlier. And you mentioned stoicism. Maybe I sort of recursively incepted myself. Reid has quite a philosophy background, as I understand it. I think he studied philosophy at Oxford after his Stanford experience. Are you religious or philosophical? Are there any particular schools of philosophy or trains of thought in religion that you use as a framework in your life?  ',\n",
       " ' How do you go about looking for it, and have you found any pieces of it?  ',\n",
       " ' That’s the most Japanese title ever. I love it.  ',\n",
       " ' That’s what Beetle Juice did to my brother.  ',\n",
       " ' Thanks, dad.   ',\n",
       " ' Wait. Did you say macaroons? What was the second one?   ',\n",
       " ' Oh, macarons. That’s taking it to a whole new level.  ',\n",
       " ' I agree. I agree. I’ve been trying to do my part with the proselytizing of stoicism, which, in and of itself, is kind of ironic. But the artisanal toast, if you ever go to [Japanese] Park in Tokyo, they have an artisanal toast coffee shop set up in the park where they have panda faces burnt into the sides of the toast that you can buy. It’s fantastic.  ',\n",
       " ' Hold on a second. So what image would it have to be, if not pandas? Or is it imageless? Does it have to have some type of brand on it? How do you envision artisanal toast?  ',\n",
       " ' Oh. It’s like the 15 minute pour over of toast?  ',\n",
       " ' Over 6 feet?    Is it like a Game of Thrones pour from across the room like Chinese style?  ',\n",
       " ' I’m just imagining this Willie Wonka like chocolate colored coffee waterfall that you stick your mug into. I’m not sure that’s the proper image. But it does give me some ideas. So let’s step outside of Evernote for a second. What are the most used apps on your phone besides Evernote?  ',\n",
       " ' Is it a utility? Or how do you compartmentalize app? What does that feel like when you do use an app?  ',\n",
       " ' What are your favorite games?  ',\n",
       " ' Repelling like repelling down the side of a rock face?  ',\n",
       " ' And do you use these games to decompress? Have you always been a gamer?  ',\n",
       " ' Elite Dangerous?  ',\n",
       " ' Like elite force but then dangerous the adjective.  ',\n",
       " ' How far away are we, do you think, from mining asteroids? Because I know there is, for instance, planetary resources, which Peter Diamandis is involved with, Brian Johnson is an investor, a couple of other folks, a lot of the Zero Gravity guys are involved with Planetary Resources, which is focused specifically on mining precious materials off of asteroids. When do you think we’ll actually be in full swing? \\x0c Copyright © 2007–2018 Tim Ferriss. All Rights Reserved.   ',\n",
       " ' So let’s continue talking about things at least above my pay grade but still might be within yours, I think. If you were looking at the end of the world, the things that could eradicate the human race from the face of earth, aside from us leaving in some Elysium type fashion, what would you put in the top sort of three positions as probably causes of human extinction?   And would AI be anywhere in that list?  ',\n",
       " ' And if not AI, what would you put at the top of the list? Does anything come to mind as – if the human race were to extinguish itself or be extinguished in the next say 20 years, what are the most likely causes in your mind?  ',\n",
       " ' Well, I think among other people, Steven Hawking has said pretty clearly, as I understand it, for us to survive, we have to become multi planetary or extra planetary maybe at the very least.   ',\n",
       " ' There’s a very cool science fiction, animated short, which is actually also very funny, I think it’s about 16 minutes, called The World of Tomorrow, which is worth checking out. It digs into a lot of this. So as a side note, that’s a fun watch. You mentioned Netflix. Do you have any favorite documentaries?  ',\n",
       " ' Yeah. This is James Randi the magician? Or which James Randi?  ',\n",
       " ' Sort of in the same vein as Penn and Teller, would you say?  ',\n",
       " ' Quackery. I’m looking online here. It says he has a Ted Talk called Randi. And the title of his talk is Homeopathy, Quackery, and Fraud.  ',\n",
       " ' Do you have any favorite non documentary movies?  ',\n",
       " ' I noticed your mug. So is that your favorite of the Star Wars series? \\x0c Copyright © 2007–2018 Tim Ferriss. All Rights Reserved.   ',\n",
       " ' Was it the ton-tons that pushed it over?  ',\n",
       " ' I just binge watched it this last week. It’s good. I won’t give you any spoilers. It very much has a hirky, jerky, upper and downer effect, which I think is very intentional.   ',\n",
       " ' Before I give the notebook question, not about the movie with that very beautiful woman, I’m blanking on her name, not that one but actual physical notebooks. Are you attracted to Ryan Gosling? That’s my really question.  ',\n",
       " ' He is dreamy. What book have you gifted most to other people or books?  \\x0c Copyright © 2007–2018 Tim Ferriss. All Rights Reserved.  ',\n",
       " ' That’s about the clock and Danny Hillis?  ',\n",
       " ' Incredible guy, yeah.I think he was co-creator of The Whole Earth Catalog way back in the day for those people who remember.  ',\n",
       " ' That, and I’d also highly recommend people check out The Long Now Foundation. It’s an incredible group of people. Kevin Kelly is very involved as well. And as a way to telescope out and even do thought experiments solo related to 10,000 year thinking, for instance. It’s a really fascinating website to check out. They also have a bar in San Francisco that I contributed to for their kick starter campaign.  ',\n",
       " ' Oh, you did? I haven’t been there yet.   ',\n",
       " ' Exactly, The Interval.  ',\n",
       " ' I’ve heard it’s just gorgeous. Now, when I go to whether it’s a coffee shop or a bar, I almost always have a small Moleskin or [inaudible], I don’t know how to say it properly, notebook with me. I have a lot of trouble separating myself from physical note taking.   Do you use, personally, physical notebooks?  ',\n",
       " ' That was weird intonation on the question, sorry. It sounded more like do you use physical notebooks as a statement but sorry to interrupt.   ',\n",
       " ' What do you use them for? And why don’t you do everything digitally?  ',\n",
       " ' What types of things do you personally put into your physical notebook before scanning them into Evernote?  ',\n",
       " ' Definitely.  ',\n",
       " ' Cool.  ',\n",
       " ' Distracted.  ',\n",
       " ' Big Lebowski style?  ',\n",
       " ' You’re writing down the queues. \\x0c Copyright © 2007–2018 Tim Ferriss. All Rights Reserved.   ',\n",
       " ' Which you are.  ',\n",
       " ' And the process after that, I’d love to ask you about. How often do you think scan those into your Evernote? Do you use your phone to take the photograph? Do you tear them out and put them through a machine, i.e., normal people call scanner? You always use your phone?  ',\n",
       " ' Right. I’m embarrassed to say I never even thought about that because you’re not only losing the context, you’re creating false signals because you could be throwing it off. And if you look into your calendar to see why that was associated with a given time, then, you’re actually creating conflict.   ',\n",
       " ' You mentioned a couple of names earlier, obviously, Bezos, Mikitani, Benioff, Hoffman. When you think of the word successful, who is the first person who comes to mind?  ',\n",
       " ' What do you mean?  ',\n",
       " ' That’s a new answer. I like this. So let’s explore that. Why the iPhone?  ',\n",
       " ' Right. Agreed.  ',\n",
       " ' Let’s make it more general, and maybe this will be an equally difficult or misdirected question. But which historical figure do you most identify with, if any?  ',\n",
       " ' Are you going to give me Winnie the Pooh, or what?  ',\n",
       " ' I’m actually reinvigorating my game playing as of a few weeks ago.  ',\n",
       " ' I played a lot of Dungeons and Dragons as a kid.  ',\n",
       " ' Right.  ',\n",
       " ' Do you meditate or have a meditative practice?  ',\n",
       " ' The secular baptism.  ',\n",
       " ' Into TM or what type of meditation?  ',\n",
       " ' Now, you’re on to Goat Simulate.  ',\n",
       " ' Why did you stop? What was the reason for stopping?  ',\n",
       " ' No, what is that?  ',\n",
       " ' Okay. I see what they’re doing there.  ',\n",
       " ' I’m looking at it now, and the placement, it looks like there’s one sensor or stimulator right where I would think it to be, which is kind of over the right eyebrow.   So the dorsal lateral prefrontal cortex. Is there another at the back, or is that the only placement point?  ',\n",
       " ' Always helps, right?  ',\n",
       " ' They look very elven. They look like Legolas’s cousin, very elven.   ',\n",
       " ' Yeah, that would be great. I’d love to play with it. It looks like trans cranial direct current stimulation.  ',\n",
       " ' A friend of mine, if you don’t know him, I should introduce you guys, named Adam Gazali who runs the Gazali Neuroscience Lab at UCSF. And they do a lot of work with this type of technology. So I’ve actually been a subject and an experimenter in some of their research studies for TDCS.  ',\n",
       " ' I think there’s a lot of promise. You just have to make sure you don’t fry your brain into scrambled eggs accidentally.  ',\n",
       " ' I think the TDCS, this type of brain stimulation, could be very interesting also not just for the direct impact on say performance or subjective state of mind or emotion but also for showing people what might be possible through meditative practice in the same way that there’s a neuroscience PhD and a friend of mine named Sam Harris who was also on this podcast who no longer uses psychedelics.   But his early, formative psychedelic experiences showed him what could be possible with dedicated meditative practice. And that’s the tool that he now uses. So the interplay of all of these different tools for expanding or honing consciousness is very interesting to me. Do you use Thync mostly for calming or stimulating or both?  ',\n",
       " ' As the CEO –  ',\n",
       " ' Oh, good word, sanguine. I always get out GRE’d by my guests on this podcast. It’s an issue. I really need to get some flashcards. So speaking of purchases, in the last say six to twelve months, it could be whatever comes to mind, what $100.00 or less purchase has most positively impacted your life?  ',\n",
       " ' It’s a starting point. If any purchase comes to mind that isn’t completely out of reach of most people, then that’s fine.   ',\n",
       " ' That’s fine.   ',\n",
       " ' It does sound like it positively impacted your life. Was there anything special about the hamburger that comes to mind?  ',\n",
       " ' I’m cackling because this is so Japanese. I love it.  ',\n",
       " ' Oh, wow.  ',\n",
       " ' Is it called the Libin?  ',\n",
       " ' Kind of bummed.  ',\n",
       " ' The man with no name. That’s probably how you’re listed on the reservation. They don’t want to summon you to put them into more uncomfortable culinary situations. What was the name of the place? Do you recall?  ',\n",
       " ' Ginza Engai, very cool.  ',\n",
       " ' Wow. Well, next time I’m there, I’ll have to check out Ginza Engai. It’s a very run down, cheap part of Tokyo, for those people wondering.   ',\n",
       " ' I think Ginza literally means the golden throne or the golden seat. But it’s a fancy neighborhood, easy to get to. And I think that is also, correct me if I’m wrong, I might be getting this totally wrong, but the Jiro Dreams of Sushi –  ',\n",
       " ' Yeah. It’s in the same subway station building.  ',\n",
       " ' If anyone listening hasn’t seen Jiro Dreams of Sushi, very well worth watching. It’s actually a good segue. So that movie is chock full of routines. It’s very methodical in that restaurant. What are your morning rituals? What do the first 60 minutes of your day look like on a day that is one that you’re free to design? Sort of your ideal first 60 minutes?  ',\n",
       " ' What time do you wake up?  ',\n",
       " ' And that’s the digest like your primer for the day to come?  ',\n",
       " ' Yeah, I know the feeling. And do you have any particular evening rituals or ways that you prep for the next day that help you get off to a good start?  ',\n",
       " ' Got it.   For people interested in exploring the paths that you’ve explored for thinking about meaning, why we’re here, purpose, etc., we touched on stoicism briefly, but if you had to recommend one to three books that you have found very thought provoking, what would you recommend?  ',\n",
       " ' Yeah. That is a good synopsis.  ',\n",
       " ' But why is that important to you? What does it allow you to do or help you do?  ',\n",
       " ' So coherent philosophy, would it be comparable in some ways to the 10 commandments where it’s like if you’re like should I covet my neighbor’s wife or not? I’m not sure. It’s like well, no. It says do not covet they neighbor’s wife. Therefore, decision made and that’s the reason? Do you view it as a set of guidelines and a framework for decision making in life for simplifying things? Or is it more than that?  ',\n",
       " ' They don’t have the because.  ',\n",
       " ' So is your intention then to communicate this to employees or partners? Or is really something for your own internal use?  ',\n",
       " ' You don’t want to be Phil of the Branch Dividians? That’s not your call? The book that you mentioned I looked up, the stoic \\x0c Copyright © 2007–2018 Tim Ferriss. All Rights Reserved.  overview is by William Irvine. And it’s A Guide to the Good Life. And the subtitle is The Ancient Art of Stoic Joy, which is a good overview.   ',\n",
       " ' Yeah, it’s helpful because it disabuses people of the notion that stoics are I remember the description I heard at one point was being a stoic is like being a cow standing in the rain. And it’s like no, it’s not quite that serious or devoid of positive emotion. I know we have just a few minutes left. If you could have a billboard anywhere, what would it say, and where would you put it?  ',\n",
       " ' Oh, no. I don’t think we have.   ',\n",
       " ' We should make this happen, yeah. Let me know if I can help.  ',\n",
       " ' What is it going to say?  ',\n",
       " ' That is fantastic.  ',\n",
       " ' Yeah. Or I just thought of another one. You could say, “Evernote is forever. Suntory is for tonight.”  \\x0c Copyright © 2007–2018 Tim Ferriss. All Rights Reserved.   ',\n",
       " ' You could. That’s amazing. It makes me think of the commercial shoot from Lost in Translation when the director talks for like three minutes, and the guy is like more energy or whatever.   And he’s like, “I think he said more than that.”   ',\n",
       " ' It was so good. One of my favorite parts is actually an improvised part in that movie when he’s waiting in the hospital waiting room, and those ladies are all cracking up. Just such a good movie. Advice to your 30-year-old self, if you had to give advice to your 30-year-old self, what would it be?  ',\n",
       " ' Yeah. If you had a time machine and could deliver advice to your 30-year-old self.  ',\n",
       " ' That is a good answer.   ',\n",
       " ' Is there any other parting advice, or do you have an ask or suggestion for everybody listening?  ',\n",
       " ' That’s right. The Excel spreadsheet, the weight tracking. \\x0c Copyright © 2007–2018 Tim Ferriss. All Rights Reserved.  ',\n",
       " ' And in the updated edition that will be published in a year or two, we’ll talk about your pull up quest.  ',\n",
       " ' Wow. That’s a sturdy, robust toddler right there.  ',\n",
       " ' That’s great.  ',\n",
       " ' It’s like Benjamin Button but in real life.   ',\n",
       " ' The curious case of Phil Libin. That could be your memoir. Where can people find you online? Where can people connect with you on the social media? And where can they, of course, find out more about Evernote and give it a spin?  ',\n",
       " ' Your lunches may just become very exciting from this point forward. Well, Phil, you’re always very generous with your time. You’re always fun to hang out with. And there are many more topics we could discuss. So perhaps, sometime, we’ll do a Round 2. People can let us know what other questions they might have for us to explore. And I’m looking at these questions in Evernote. I’m thankful for the product. I’ve used it for all of my books since we met. I’ve used it for planning the TV show. I’ve used it for all of the planning around the podcast. It is my go to sort to central repository for everything. So I want to thank you for that.   ',\n",
       " ' Of course. And I think we should have some whiskey soon and plan that billboard.  ']"
      ]
     },
     "execution_count": 11,
     "metadata": {},
     "output_type": "execute_result"
    }
   ],
   "source": [
    "paragraphs"
   ]
  },
  {
   "cell_type": "code",
   "execution_count": null,
   "metadata": {},
   "outputs": [],
   "source": [
    "paragraphs = re.findall('[A-Z][^\\.!?]*[\\.!?]', Robert)"
   ]
  },
  {
   "cell_type": "code",
   "execution_count": 12,
   "metadata": {},
   "outputs": [],
   "source": [
    "table = pd.DataFrame(paragraphs, columns = ['C'])"
   ]
  },
  {
   "cell_type": "code",
   "execution_count": 13,
   "metadata": {},
   "outputs": [
    {
     "data": {
      "text/html": [
       "<div>\n",
       "<style scoped>\n",
       "    .dataframe tbody tr th:only-of-type {\n",
       "        vertical-align: middle;\n",
       "    }\n",
       "\n",
       "    .dataframe tbody tr th {\n",
       "        vertical-align: top;\n",
       "    }\n",
       "\n",
       "    .dataframe thead th {\n",
       "        text-align: right;\n",
       "    }\n",
       "</style>\n",
       "<table border=\"1\" class=\"dataframe\">\n",
       "  <thead>\n",
       "    <tr style=\"text-align: right;\">\n",
       "      <th></th>\n",
       "      <th>C</th>\n",
       "    </tr>\n",
       "  </thead>\n",
       "  <tbody>\n",
       "    <tr>\n",
       "      <th>0</th>\n",
       "      <td>Hello, boys and girls. This is Tim Ferriss. And welcome to another episode of the Tim Ferriss Show. I’ve rerecorded this intro like 17 times because I saw my brother last night after a long hiatus apart, and we drank, i.e., Tim drank way, way, way too much wine. So I’ve had some caffeine. I’ve had some coconut oil and pu-erh tea. And this one is going to make it happen, folks. Magic. Onward. ...</td>\n",
       "    </tr>\n",
       "    <tr>\n",
       "      <th>1</th>\n",
       "      <td>It has been a while since we hung out. And I’ve noticed the most conspicuous change is that the trademark beard has vanished. And I wanted to know how you decided to make that change because, for as long as I’ve known you, I have sort of visualized in my head this beard that you have, which is, I guess, it’s not really a gotye.  \f",
       " Copyright © 2007–2018 Tim Ferriss. All Rights Reserved.    It’...</td>\n",
       "    </tr>\n",
       "    <tr>\n",
       "      <th>2</th>\n",
       "      <td>You know, that’s probably due to my lack of caffeine, but why did you decide to shave it off?</td>\n",
       "    </tr>\n",
       "    <tr>\n",
       "      <th>3</th>\n",
       "      <td>Yeah, that makes sense. And for those people who are familiar with Evernote, one of the questions that I’ve heard come up quite a bit, and we’ll get to what Evernote is, of course, by why green for the logo. The elephant people eventually figure out. But why green?</td>\n",
       "    </tr>\n",
       "    <tr>\n",
       "      <th>4</th>\n",
       "      <td>Natural habitat.</td>\n",
       "    </tr>\n",
       "    <tr>\n",
       "      <th>...</th>\n",
       "      <td>...</td>\n",
       "    </tr>\n",
       "    <tr>\n",
       "      <th>173</th>\n",
       "      <td>That’s great.</td>\n",
       "    </tr>\n",
       "    <tr>\n",
       "      <th>174</th>\n",
       "      <td>It’s like Benjamin Button but in real life.</td>\n",
       "    </tr>\n",
       "    <tr>\n",
       "      <th>175</th>\n",
       "      <td>The curious case of Phil Libin. That could be your memoir. Where can people find you online? Where can people connect with you on the social media? And where can they, of course, find out more about Evernote and give it a spin?</td>\n",
       "    </tr>\n",
       "    <tr>\n",
       "      <th>176</th>\n",
       "      <td>Your lunches may just become very exciting from this point forward. Well, Phil, you’re always very generous with your time. You’re always fun to hang out with. And there are many more topics we could discuss. So perhaps, sometime, we’ll do a Round 2. People can let us know what other questions they might have for us to explore. And I’m looking at these questions in Evernote. I’m thankful for ...</td>\n",
       "    </tr>\n",
       "    <tr>\n",
       "      <th>177</th>\n",
       "      <td>Of course. And I think we should have some whiskey soon and plan that billboard.</td>\n",
       "    </tr>\n",
       "  </tbody>\n",
       "</table>\n",
       "<p>178 rows × 1 columns</p>\n",
       "</div>"
      ],
      "text/plain": [
       "                                                                                                                                                                                                                                                                                                                                                                                                                   C\n",
       "0     Hello, boys and girls. This is Tim Ferriss. And welcome to another episode of the Tim Ferriss Show. I’ve rerecorded this intro like 17 times because I saw my brother last night after a long hiatus apart, and we drank, i.e., Tim drank way, way, way too much wine. So I’ve had some caffeine. I’ve had some coconut oil and pu-erh tea. And this one is going to make it happen, folks. Magic. Onward. ...\n",
       "1     It has been a while since we hung out. And I’ve noticed the most conspicuous change is that the trademark beard has vanished. And I wanted to know how you decided to make that change because, for as long as I’ve known you, I have sort of visualized in my head this beard that you have, which is, I guess, it’s not really a gotye.  \n",
       " Copyright © 2007–2018 Tim Ferriss. All Rights Reserved.    It’...\n",
       "2                                                                                                                                                                                                                                                                                                                    You know, that’s probably due to my lack of caffeine, but why did you decide to shave it off?  \n",
       "3                                                                                                                                        Yeah, that makes sense. And for those people who are familiar with Evernote, one of the questions that I’ve heard come up quite a bit, and we’ll get to what Evernote is, of course, by why green for the logo. The elephant people eventually figure out. But why green?  \n",
       "4                                                                                                                                                                                                                                                                                                                                                                                                 Natural habitat.  \n",
       "..                                                                                                                                                                                                                                                                                                                                                                                                               ...\n",
       "173                                                                                                                                                                                                                                                                                                                                                                                                  That’s great.  \n",
       "174                                                                                                                                                                                                                                                                                                                                                                   It’s like Benjamin Button but in real life.   \n",
       "175                                                                                                                                                                            The curious case of Phil Libin. That could be your memoir. Where can people find you online? Where can people connect with you on the social media? And where can they, of course, find out more about Evernote and give it a spin?  \n",
       "176   Your lunches may just become very exciting from this point forward. Well, Phil, you’re always very generous with your time. You’re always fun to hang out with. And there are many more topics we could discuss. So perhaps, sometime, we’ll do a Round 2. People can let us know what other questions they might have for us to explore. And I’m looking at these questions in Evernote. I’m thankful for ...\n",
       "177                                                                                                                                                                                                                                                                                                                               Of course. And I think we should have some whiskey soon and plan that billboard.  \n",
       "\n",
       "[178 rows x 1 columns]"
      ]
     },
     "execution_count": 13,
     "metadata": {},
     "output_type": "execute_result"
    }
   ],
   "source": [
    "table"
   ]
  },
  {
   "cell_type": "code",
   "execution_count": null,
   "metadata": {},
   "outputs": [],
   "source": [
    "table = table[:-3].copy()"
   ]
  },
  {
   "cell_type": "code",
   "execution_count": null,
   "metadata": {},
   "outputs": [],
   "source": [
    "table = table.drop([640,641,642,643]).copy()"
   ]
  },
  {
   "cell_type": "code",
   "execution_count": null,
   "metadata": {},
   "outputs": [],
   "source": [
    "table"
   ]
  },
  {
   "cell_type": "code",
   "execution_count": null,
   "metadata": {},
   "outputs": [],
   "source": [
    "# JamesJSchiro.to_csv('JamesJSchiro.txt')"
   ]
  },
  {
   "cell_type": "code",
   "execution_count": null,
   "metadata": {},
   "outputs": [],
   "source": [
    "secondtable = secondtable.drop(secondtable.index[4:63]).copy()"
   ]
  },
  {
   "cell_type": "code",
   "execution_count": null,
   "metadata": {},
   "outputs": [],
   "source": [
    "table = table[:-1].copy()"
   ]
  },
  {
   "cell_type": "code",
   "execution_count": null,
   "metadata": {},
   "outputs": [],
   "source": [
    "secondtable = secondtable.drop(secondtable.index[5:16]).copy()"
   ]
  },
  {
   "cell_type": "code",
   "execution_count": null,
   "metadata": {},
   "outputs": [],
   "source": [
    "table = table[table.C.str.contains(r'John:') == False].copy()\n",
    "## <strong>.*?<\\/strong><br>"
   ]
  },
  {
   "cell_type": "code",
   "execution_count": null,
   "metadata": {},
   "outputs": [],
   "source": [
    "table = table[table.C.str.contains(r'Tzuo') == False].copy()"
   ]
  },
  {
   "cell_type": "code",
   "execution_count": null,
   "metadata": {},
   "outputs": [],
   "source": [
    "table = table.drop(table.index[4]).copy()"
   ]
  },
  {
   "cell_type": "code",
   "execution_count": null,
   "metadata": {},
   "outputs": [],
   "source": [
    "table = table.drop([9]).copy()"
   ]
  },
  {
   "cell_type": "code",
   "execution_count": null,
   "metadata": {},
   "outputs": [],
   "source": [
    "table = table[1:].copy()"
   ]
  },
  {
   "cell_type": "code",
   "execution_count": null,
   "metadata": {},
   "outputs": [],
   "source": [
    "table['C'] = table['C'].str.replace(r'<p name=\".*?\" id=\".*?\" class=\".*?\">', '')\n",
    "# <strong></strong><br>\n",
    "# r'<b>(.*?)<br><\\/b>'\n",
    "# <strong>Judith Jamison:</strong>\n",
    "# <p name=\".*?\" id=\".*?\" class=\".*?\">"
   ]
  },
  {
   "cell_type": "code",
   "execution_count": null,
   "metadata": {},
   "outputs": [],
   "source": [
    "sectable = pd.concat([firstpara, secondtable])"
   ]
  },
  {
   "cell_type": "code",
   "execution_count": null,
   "metadata": {},
   "outputs": [],
   "source": [
    "table = pd.concat([sectable, table]).copy()"
   ]
  },
  {
   "cell_type": "code",
   "execution_count": null,
   "metadata": {},
   "outputs": [],
   "source": []
  },
  {
   "cell_type": "code",
   "execution_count": null,
   "metadata": {},
   "outputs": [],
   "source": [
    "paragraphs = re.findall('<p>(.*?)<\\/p>', page_html)"
   ]
  },
  {
   "cell_type": "code",
   "execution_count": null,
   "metadata": {},
   "outputs": [],
   "source": [
    "table = pd.DataFrame(paragraphs, columns = ['C'])"
   ]
  },
  {
   "cell_type": "code",
   "execution_count": null,
   "metadata": {},
   "outputs": [],
   "source": [
    "table = table.dropna(how='all')"
   ]
  },
  {
   "cell_type": "code",
   "execution_count": null,
   "metadata": {},
   "outputs": [],
   "source": [
    "table = table.drop([16]).copy()"
   ]
  },
  {
   "cell_type": "code",
   "execution_count": null,
   "metadata": {},
   "outputs": [],
   "source": []
  },
  {
   "cell_type": "code",
   "execution_count": null,
   "metadata": {},
   "outputs": [],
   "source": [
    "table['C'] = table['C'].str.replace(r'<b>Freeman Hrabowski:</b><span style=\"font-weight: 400;\"> ', '')"
   ]
  },
  {
   "cell_type": "code",
   "execution_count": null,
   "metadata": {},
   "outputs": [],
   "source": [
    "table = table[table.C.str.contains(r'<strong>') == False].copy()"
   ]
  },
  {
   "cell_type": "code",
   "execution_count": null,
   "metadata": {},
   "outputs": [],
   "source": [
    "table['C'] = table['C'].str.replace(r'<strong>.*?<br /><\\/strong>', '')"
   ]
  },
  {
   "cell_type": "code",
   "execution_count": null,
   "metadata": {},
   "outputs": [],
   "source": [
    "table['C'] = table['C'].str.replace(r'<em>BARTZ:', '')"
   ]
  },
  {
   "cell_type": "code",
   "execution_count": null,
   "metadata": {},
   "outputs": [],
   "source": [
    "table['C'] = table[table.C.str.contains(\"<strong>Reid Hoffman\") == False].copy()"
   ]
  },
  {
   "cell_type": "code",
   "execution_count": null,
   "metadata": {},
   "outputs": [],
   "source": [
    "table = table[8:].copy()"
   ]
  },
  {
   "cell_type": "code",
   "execution_count": null,
   "metadata": {},
   "outputs": [],
   "source": [
    "table = table[:-8].copy()"
   ]
  },
  {
   "cell_type": "code",
   "execution_count": null,
   "metadata": {},
   "outputs": [],
   "source": []
  },
  {
   "cell_type": "code",
   "execution_count": null,
   "metadata": {},
   "outputs": [],
   "source": [
    "table = table[table.C.str.contains(\"Q:\") == False].copy()"
   ]
  },
  {
   "cell_type": "code",
   "execution_count": null,
   "metadata": {},
   "outputs": [],
   "source": [
    "table = table[:-30].copy()"
   ]
  },
  {
   "cell_type": "code",
   "execution_count": null,
   "metadata": {},
   "outputs": [],
   "source": [
    "table['C'] = table['C'].str.replace(r'<span style=\"font-weight:bold;\">BF:</span>:', '')\n",
    "# <strong>(.*?)<br><\\/strong>"
   ]
  },
  {
   "cell_type": "code",
   "execution_count": null,
   "metadata": {},
   "outputs": [],
   "source": []
  },
  {
   "cell_type": "code",
   "execution_count": null,
   "metadata": {},
   "outputs": [],
   "source": [
    "# table = table.drop(table.index[3]).copy()"
   ]
  },
  {
   "cell_type": "code",
   "execution_count": null,
   "metadata": {},
   "outputs": [],
   "source": [
    "# table = table.drop(table.index[[4, 8, 10, 12, 14, 16]]).copy()"
   ]
  },
  {
   "cell_type": "code",
   "execution_count": null,
   "metadata": {},
   "outputs": [],
   "source": [
    "# table = table.drop(table.index[[11, 14, 16, 18, 20, 22, 24, 26, 29, 31, 33, 35]]).copy()"
   ]
  },
  {
   "cell_type": "code",
   "execution_count": null,
   "metadata": {},
   "outputs": [],
   "source": []
  },
  {
   "cell_type": "code",
   "execution_count": null,
   "metadata": {},
   "outputs": [],
   "source": [
    "table = table[4:].copy()"
   ]
  },
  {
   "cell_type": "code",
   "execution_count": null,
   "metadata": {},
   "outputs": [],
   "source": [
    "table = table[:-1].copy()"
   ]
  },
  {
   "cell_type": "code",
   "execution_count": 21,
   "metadata": {},
   "outputs": [],
   "source": [
    "table['C'] = table['C'].str.replace(r'Copyright © 2007–2018 Tim Ferriss. All Rights Reserved.', '')"
   ]
  },
  {
   "cell_type": "code",
   "execution_count": null,
   "metadata": {},
   "outputs": [],
   "source": [
    "table = table[table.C.str.contains(\"<strong>Tim\") == False].copy()"
   ]
  },
  {
   "cell_type": "code",
   "execution_count": null,
   "metadata": {},
   "outputs": [],
   "source": []
  },
  {
   "cell_type": "code",
   "execution_count": null,
   "metadata": {},
   "outputs": [],
   "source": [
    "table = table[9:].copy()"
   ]
  },
  {
   "cell_type": "code",
   "execution_count": null,
   "metadata": {},
   "outputs": [],
   "source": [
    "table = table[:-9].copy()"
   ]
  },
  {
   "cell_type": "code",
   "execution_count": null,
   "metadata": {},
   "outputs": [],
   "source": [
    "table = table[table.C.str.contains(\"<strong>Gene\") == False].copy()"
   ]
  },
  {
   "cell_type": "code",
   "execution_count": null,
   "metadata": {},
   "outputs": [],
   "source": [
    "table.index[11]"
   ]
  },
  {
   "cell_type": "code",
   "execution_count": null,
   "metadata": {},
   "outputs": [],
   "source": []
  },
  {
   "cell_type": "code",
   "execution_count": 22,
   "metadata": {},
   "outputs": [],
   "source": [
    "def remove_html_tags(data):\n",
    "    p = re.compile(r'<.*?>')\n",
    "    return p.sub('', data)"
   ]
  },
  {
   "cell_type": "code",
   "execution_count": 23,
   "metadata": {},
   "outputs": [],
   "source": [
    "clean = table['C'].apply(remove_html_tags).copy()\n",
    "# full = clean.to_frame()"
   ]
  },
  {
   "cell_type": "code",
   "execution_count": null,
   "metadata": {},
   "outputs": [],
   "source": []
  },
  {
   "cell_type": "code",
   "execution_count": 24,
   "metadata": {},
   "outputs": [],
   "source": [
    "def unescape(text):\n",
    "    \"\"\"\n",
    "    Converts HTML character codes to Unicode code points.\n",
    "\n",
    "    @param text the HTML (or XML) source text in any encoding.\n",
    "    @return The plain text, as a Unicode string, if necessary.\n",
    "    \"\"\"\n",
    "    def fixup(m):\n",
    "        text = m.group(0)\n",
    "        if text[:2] == \"&#\":\n",
    "            try:\n",
    "                if text[:3] == \"&#x\":\n",
    "                    return chr(int(text[3:-1], 16))\n",
    "                else:\n",
    "                    return chr(int(text[2:-1]))\n",
    "            except ValueError:\n",
    "                pass\n",
    "        else:\n",
    "            try:\n",
    "                text = chr(html.entities.name2codepoint[text[1:-1]])\n",
    "            except KeyError:\n",
    "                pass\n",
    "        return text\n",
    "    return re.sub(\"&#?\\w+;\", fixup, text)\n",
    "\n",
    "    return re.sub(\"&#?\\w+;\", fixup, text)"
   ]
  },
  {
   "cell_type": "code",
   "execution_count": 25,
   "metadata": {},
   "outputs": [],
   "source": [
    "final = clean.apply(unescape).copy() "
   ]
  },
  {
   "cell_type": "code",
   "execution_count": 26,
   "metadata": {},
   "outputs": [
    {
     "data": {
      "text/plain": [
       "0       Hello, boys and girls. This is Tim Ferriss. And welcome to another episode of the Tim Ferriss Show. I’ve rerecorded this intro like 17 times because I saw my brother last night after a long hiatus apart, and we drank, i.e., Tim drank way, way, way too much wine. So I’ve had some caffeine. I’ve had some coconut oil and pu-erh tea. And this one is going to make it happen, folks. Magic. Onward. ...\n",
       "1       It has been a while since we hung out. And I’ve noticed the most conspicuous change is that the trademark beard has vanished. And I wanted to know how you decided to make that change because, for as long as I’ve known you, I have sort of visualized in my head this beard that you have, which is, I guess, it’s not really a gotye.  \n",
       "     It’s not really a full ears to chin beard. It’s more like ...\n",
       "2                                                                                                                                                                                                                                                                                                                      You know, that’s probably due to my lack of caffeine, but why did you decide to shave it off?  \n",
       "3                                                                                                                                          Yeah, that makes sense. And for those people who are familiar with Evernote, one of the questions that I’ve heard come up quite a bit, and we’ll get to what Evernote is, of course, by why green for the logo. The elephant people eventually figure out. But why green?  \n",
       "4                                                                                                                                                                                                                                                                                                                                                                                                   Natural habitat.  \n",
       "                                                                                                                                                                                                            ...                                                                                                                                                                                                       \n",
       "173                                                                                                                                                                                                                                                                                                                                                                                                    That’s great.  \n",
       "174                                                                                                                                                                                                                                                                                                                                                                     It’s like Benjamin Button but in real life.   \n",
       "175                                                                                                                                                                              The curious case of Phil Libin. That could be your memoir. Where can people find you online? Where can people connect with you on the social media? And where can they, of course, find out more about Evernote and give it a spin?  \n",
       "176     Your lunches may just become very exciting from this point forward. Well, Phil, you’re always very generous with your time. You’re always fun to hang out with. And there are many more topics we could discuss. So perhaps, sometime, we’ll do a Round 2. People can let us know what other questions they might have for us to explore. And I’m looking at these questions in Evernote. I’m thankful for ...\n",
       "177                                                                                                                                                                                                                                                                                                                                 Of course. And I think we should have some whiskey soon and plan that billboard.  \n",
       "Name: C, Length: 178, dtype: object"
      ]
     },
     "execution_count": 26,
     "metadata": {},
     "output_type": "execute_result"
    }
   ],
   "source": [
    "final"
   ]
  },
  {
   "cell_type": "code",
   "execution_count": 27,
   "metadata": {},
   "outputs": [],
   "source": [
    "final.to_csv('PhilLibin.txt', sep = ' ', header = False, index = False)"
   ]
  },
  {
   "cell_type": "code",
   "execution_count": null,
   "metadata": {},
   "outputs": [],
   "source": []
  }
 ],
 "metadata": {
  "kernelspec": {
   "display_name": "Python 3",
   "language": "python",
   "name": "python3"
  },
  "language_info": {
   "codemirror_mode": {
    "name": "ipython",
    "version": 3
   },
   "file_extension": ".py",
   "mimetype": "text/x-python",
   "name": "python",
   "nbconvert_exporter": "python",
   "pygments_lexer": "ipython3",
   "version": "3.6.5"
  }
 },
 "nbformat": 4,
 "nbformat_minor": 2
}
