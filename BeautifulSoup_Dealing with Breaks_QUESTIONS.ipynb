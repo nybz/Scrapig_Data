{
 "cells": [
  {
   "cell_type": "markdown",
   "metadata": {},
   "source": [
    "# when there is a missing index\n",
    "missing = main.loc[[34]].copy()\n",
    "# when concatting the missing index\n",
    "whole = pd.concat([missing, new]).copy()"
   ]
  },
  {
   "cell_type": "code",
   "execution_count": 1,
   "metadata": {},
   "outputs": [],
   "source": [
    "import pandas as pd\n",
    "import re\n",
    "import requests\n",
    "pd.set_option('display.max_colwidth', 120)"
   ]
  },
  {
   "cell_type": "code",
   "execution_count": 1,
   "metadata": {},
   "outputs": [
    {
     "data": {
      "text/plain": [
       "'C:\\\\Users\\\\Toshiba\\\\Dropbox\\\\Corner Office Interviews\\\\ComparisonCorpusText'"
      ]
     },
     "execution_count": 1,
     "metadata": {},
     "output_type": "execute_result"
    }
   ],
   "source": [
    "import os\n",
    "from urllib.request import urlopen\n",
    "import http.cookiejar as cookielib\n",
    "import re\n",
    "import html.entities\n",
    "import codecs\n",
    "import time\n",
    "from bs4 import BeautifulSoup\n",
    "\n",
    "# C://Users//2918261//Courses//Oslo Summer School//notebooks//Interviews\n",
    "# C://Users//Toshiba//Dropbox//Corner Office Interviews//ComparisonCorpusText\n",
    "# C://Users//2918261//Courses//Oslo Summer School//notebooks//Interviews\n",
    "os.chdir('C://Users//Toshiba//Dropbox//Corner Office Interviews//ComparisonCorpusText')\n",
    "# 'C://Users//Toshiba//Dropbox//Corner Office Interviews//ComparisonCorpusText'\n",
    "# os.chdir('C://Users//2918261//Dropbox//Corner Office Interviews//ComparisonCorpusQuestions_Text')\n",
    "os.getcwd()"
   ]
  },
  {
   "cell_type": "code",
   "execution_count": 3,
   "metadata": {},
   "outputs": [],
   "source": [
    "url = 'https://mixergy.com/interviews/paula-long-equallogic/'"
   ]
  },
  {
   "cell_type": "code",
   "execution_count": 4,
   "metadata": {},
   "outputs": [],
   "source": [
    "page = requests.get(url)\n",
    "page_html = page.text"
   ]
  },
  {
   "cell_type": "code",
   "execution_count": 5,
   "metadata": {},
   "outputs": [
    {
     "data": {
      "text/plain": [
       "200"
      ]
     },
     "execution_count": 5,
     "metadata": {},
     "output_type": "execute_result"
    }
   ],
   "source": [
    "page.status_code"
   ]
  },
  {
   "cell_type": "code",
   "execution_count": 6,
   "metadata": {},
   "outputs": [],
   "source": [
    "soup = BeautifulSoup(page_html, \"lxml\")"
   ]
  },
  {
   "cell_type": "code",
   "execution_count": null,
   "metadata": {},
   "outputs": [],
   "source": [
    "soup"
   ]
  },
  {
   "cell_type": "code",
   "execution_count": null,
   "metadata": {},
   "outputs": [],
   "source": [
    "<span.*?><p>Will Wright:<\\/p>.*?<\\/span><span.*?><p>.*?<\\/p>"
   ]
  },
  {
   "cell_type": "code",
   "execution_count": 9,
   "metadata": {},
   "outputs": [],
   "source": [
    "paragraphs = soup.findAll('div', attrs={'class':'transcript'})"
   ]
  },
  {
   "cell_type": "code",
   "execution_count": null,
   "metadata": {},
   "outputs": [],
   "source": [
    "paragraphs = soup.findAll('div', attrs={'article':'p'})"
   ]
  },
  {
   "cell_type": "code",
   "execution_count": 71,
   "metadata": {},
   "outputs": [],
   "source": [
    "paragraphs = soup.findAll('div', attrs={'id':'mk-boxed-layout'})"
   ]
  },
  {
   "cell_type": "code",
   "execution_count": null,
   "metadata": {},
   "outputs": [],
   "source": [
    "paragraphs = soup.findAll('div', attrs={'class':'article-body fs-article fs-responsive-text current-article'})"
   ]
  },
  {
   "cell_type": "code",
   "execution_count": 10,
   "metadata": {},
   "outputs": [
    {
     "data": {
      "text/plain": [
       "[<div class=\"transcript\" id=\"transcript\">\n",
       " <img alt=\"roll-angle\" class=\"roll-angle\" src=\"https://mixergy.com/wp-content/themes/mixergy-2015-v2/assets/img/roll-angle.png\"/>\n",
       " <header>\n",
       " <h3 class=\"pull-left\">Full Interview Transcript</h3>\n",
       " <div class=\"pull-right\">\n",
       " <a class=\"expand-script\" href=\"#\"><i class=\"fa fa-expand\"></i> Expand to view full transcript</a>\n",
       " <a class=\"compress-script\" href=\"#\"><i class=\"fa fa-compress\"></i> Collapse to smaller transcript view</a>\n",
       " </div>\n",
       " <div class=\"clearfix\"></div>\n",
       " </header>\n",
       " <article class=\"transcript-view\">\n",
       " <p><span class=\"speaker-andrew\">Andrew</span>: Hey there, freedom fighters. My name is Andrew Warner. I’m the founder of Mixergy.com, home of the ambitious upstart and the oldest, longest-running tech interview show where I interview entrepreneurs about how they built their businesses.</p>\n",
       " <p>Today’s guest is the founder of EqualLogic, a company that she sold for $1.375 billion in cash! When the deal was announced, it was the largest ever cash purchase of a private venture-backed tech company, and you and I never heard about it in the tech press but we’re going to learn about how she did it here today.</p>\n",
       " <p>Paula Long is the founder of EqualLogic, a supplier of data storage for large companies. She sold the business to Dell. We’ll find out how she did it and we’ll also find out why the following year she launched a company that she’s running today called DataGravity which turns storage from a container to an asset to give you insight into your data.</p>\n",
       " <p>And this whole thing is sponsored by- Well, actually if you’re out there, I’d like to give you a free spot here, a free ad. You might have seen me talk about how I created a landing page that collects email addresses and explains what Mixergy is and now I’m making it available to you. Well, you know what? Anyone can take their best landing page idea or their existing landing page and turn it into a template and sell in on a marketplace called LeadPages. If you do it, and you send me a link to it, I will give you a free ad and I will help sell your landing page template.</p>\n",
       " <p>You’re going to allow other people to use this page you create to help grow their leads and get more email addresses and get more engagements. If you’re interested in that go to mixergy.com/leadpages. When you do that, you’ll get all the information you need and if you create a page, I will give you free sponsorship ads and help you sell that page right here on Mixergy for free.</p>\n",
       " <p>Paula, welcome!</p>\n",
       " <p><span class=\"speaker-guest\">Paula</span>: Thank you.</p>\n",
       " <p><span class=\"speaker-andrew\">Andrew</span>: I like that as I was doing that sponsorship spot you were nodding and really going along. I have to tell you when I found out that you sold your business for over a billion dollars I really expected a monocle and aloofness.</p>\n",
       " <p><span class=\"speaker-guest\">Paula</span>: No, not really.</p>\n",
       " <p><span class=\"speaker-andrew\">Andrew</span>: No, did you get to do anything crazy with that money? Did you get to buy… I don’t know what. What do you even do with that?</p>\n",
       " <p><span class=\"speaker-guest\">Paula</span>: Well, remember we were venture funded so I only got a third of it. I was one of three co-founders: myself, Peter Hayden, and Paul Koning. What we did with it was a lot of really great things. We were able to do things for our family. We were able to get that lake house we always wanted. We were able to start a charitable trust. So for us it kind of changed our life.</p>\n",
       " <p><span class=\"speaker-andrew\">Andrew</span>: What’s the greatest thing you got to buy for a family member? One that makes you feel really good.</p>\n",
       " <p><span class=\"speaker-guest\">Paula</span>: I probably shouldn’t say this, but we got to help a lot of my nieces and nephews with college.</p>\n",
       " <p><span class=\"speaker-andrew\">Andrew</span>: Why shouldn’t you say that? Because then every other relative is going to ask you for college also?</p>\n",
       " <p><span class=\"speaker-guest\">Paula</span>: Could be. Could be.</p>\n",
       " <p><span class=\"speaker-andrew\">Andrew</span>: I see. Okay. All right. This whole thing- The interesting part to me is it started when you were working at a company in the dotcom bubble. And then what happened to that business in the end?</p>\n",
       " <p><span class=\"speaker-guest\">Paula</span>: So, I have the world’s worst timing. I joined a start-up that was really well funded by some brilliant guys who’d made megabucks during the dotcom boom called Ironstream. It was angel funded, and it was going to do tech infrastructure. Well, tech infrastructure in early 2000 was cool, late 2000 not such a great idea. So we never could get it funded. So picture it: I go on the first vacation I’ve been on in probably five years. I’m in Cancun and they call me and tell me the company’s closing.</p>\n",
       " <p>I found out in March 2001 the company’s closing and my other two compatriots at the company, Peter and Paul, [???]. I said, “You know what? This is the perfect time to try and start something cause no one’s hiring in tech. So let’s go see if we can do something cool.” So, no lie, on April 1st, 2001, on Purgatory Road, Peter Haydon at the time stayed on Purgatory Road, we started EqualLogic. We had a ton of ideas on the board of what we could do. We were not remotely competent at doing any of them, but this one idea kept coming back about storage being static and needed to be automated and we went on that journey. So we had [???] and we were off and running.</p>\n",
       " <p><span class=\"speaker-andrew\">Andrew</span>: I want to ask you about this idea, and I actually am typing out a note to myself to make sure that I follow up on one of the phrases that you used. But first I’ve got to ask you about the mindset. I do remember when the dotcom bubble burst. People who thought that they were invincible suddenly thought of the world as being an unfair place, that’s it’s just not worth ever trying. And I have several entrepreneur friends who said ‘I’m not going to go back into an Internet startup. It’s not real. I need bricks and real storage. Why didn’t you feel any of that?</p>\n",
       " <p><span class=\"speaker-guest\">Paula</span>: I was a paper millionaire, like everybody else during the dot com bubble. I think if you were attacking and you weren’t a paper millionaire, it was sort of unique, right–at least if you got to a startup? But that didn’t pan out because everybody’s stock was underwater at that point. So what I thought was: why are you starting a company? Well, you’re not starting it to get rich because if you’re starting it to get rich, there’s easier ways to make money. There’s much easier ways to make money, and it’s more guaranteed. I started it because I had a passion for technology and I wanted to create a culture, I had a passion for customers, and I thought I could make a difference. I thought I would also build jobs, and so did Peter and Paul.</p>\n",
       " <p><span class=\"speaker-andrew\">Andrew</span>: But why didn’t you lose your confidence in that idea? I understand that that does seem like a really worthy goal, but why wasn’t your confidence shaken, or was it?</p>\n",
       " <p><span class=\"speaker-guest\">Paula</span>: At the time, if you look at what EqualLogic did, we were more brick and mortar. We were not an Internet company, so we said, you know what? Printers are doing really well selling ink. Why don’t we create storage and sell disc because people save everything. So we’re not going to do anything trendy, we’re not going to do anything that, if one sector goes up, we’re going to be dead. Let’s do something that, instead of being very vertically focused, is horizontally focused.</p>\n",
       " <p>So then we did something really stupid: let’s go and do something in a market where everybody’s super conservative and there’s two gigantic guys out there. So it’s not like we were [??], because going to storage in 2001–who’s there? [??] They’re not exactly small companies and they had great products, and they had a great customer base. We’re like, you know what? Game on.</p>\n",
       " <p><span class=\"speaker-andrew\">Andrew</span>: And the vision that you had was–you started talking about it earlier–storage is static. What does that mean: storage is static?</p>\n",
       " <p><span class=\"speaker-guest\">Paula</span>: Basically, we were managing storage back in 2001. You had to be a storage expert to manage and grow it. So you need to understand disc and how to stitch disc together, and you needed to create these things called runs, and then you went to do all this fiber channel stuff to give it a worldwide address. So you just have to be able to speak a totally different language. The guys and gals in the Fortune 1000s had the time to do that. In the mid-tier, it would be like saying: I’m going to build my own car and then I’m going to drive it and I’m only going to do it on the weekends. So you’re not going to be driving any time soon.</p>\n",
       " <p>Windows and Linux and everything else is sort of automated memory management and automated network, and storage you had to go and map memory to applications. So it was, like, we could automate this. We can make it grow without you having to tear it down and build it back up again, and then what we did, which really drove people nuts, is, when we tried to buy other storage products, it was like buying an American car in the 80s where you’d buy the radio separate from the tires. So we said, you know what? Let’s make it all-inclusive. We don’t have a business model that we get extra revenue from software anyway, so we’re not depending on that model. So let’s tell everybody that all of our software features just come with the array, and let’s change how people buy storage. Let’s change how they manage it, and let’s go after the mid-tier. Let’s not go after the Fortune 1000s, which all the VCs wanted you to go after. Let’s go after the enterprise 8 million.</p>\n",
       " <p><span class=\"speaker-andrew\">Andrew</span>: Who are the typical enterprise eight million who you envision would be your customer?</p>\n",
       " <p><span class=\"speaker-guest\">Paula</span>: Small offices, architectural offices, hospitals, colleges. We actually ended up in departments in big companies. When we sold to Dell we had a little bit over 3,000 customers. We had a trailing revenue of about 140-ish million. Yeah, we were real. We were profitable. We had filed RS1. We were about to IPO.</p>\n",
       " <p><span class=\"speaker-andrew\">Andrew</span>: Did you discover this issue because you were working at [??]. Oh, wait, something just happened to your lights.</p>\n",
       " <p><span class=\"speaker-guest\">Paula</span>: I think my lights are movement based.</p>\n",
       " <p><span class=\"speaker-andrew\">Andrew</span>: Oh, yes, they are.</p>\n",
       " <p><span class=\"speaker-guest\">Paula</span>: I’m sorry. Can we cut that?</p>\n",
       " <p><span class=\"speaker-andrew\">Andrew</span>: All right. I’ve timed it. Every 10 minutes we’re going to have to move, I mean you.</p>\n",
       " <p><span class=\"speaker-guest\">Paula</span>: I don’t know how to turn that off or I would.</p>\n",
       " <p><span class=\"speaker-andrew\">Andrew</span>: That’s all right. They actually turn my air conditioning off here at about 4:00, so in 10 minutes they’re going to turn the AC off and I’m going to be really hot. Energy saving is good for the environment, it’s bad for interviews. Did you learn about this issue when you are working at [??], or was this before?</p>\n",
       " <p><span class=\"speaker-guest\">Paula</span>: We knew about this issue back even in my [??] days when we started to look at how people managed storage and set it up. We read some research papers of people thinking about how to do storage automation, and we said the problem is real. Their solution will never work in the real world. Peter Hayman actually been at Adabtech, so he had been at a storage vendor so he had a little bit more experience on the storage side. I was more on the storage side. I was more on the distributed system, UI file system side of things.</p>\n",
       " <p><span class=\"speaker-andrew\">Andrew</span>: You know, we asked you in the pre-interview, what class on entrepreneurship would you teach and you said it would be a “Why are you here and why do you want to be an entrepreneur?” Wondering how did you get into, why are you in hardware? Why are you in storage? It doesn’t seem like the kind of thing that kids growing up will read in “Business Week” and say or “Fortune” magazine and say “I’ve got to build that.” Why did you get into it?</p>\n",
       " <p><span class=\"speaker-guest\">Paula</span>: That’s a really good question because if I was doing, let’s say, put data on disk, take data off disk, I’d rather stick a needle in my eye.</p>\n",
       " <p><span class=\"speaker-andrew\">Andrew</span>: Okay.</p>\n",
       " <p><span class=\"speaker-guest\">Paula</span>: But then there’s a whole bunch of distributed systems, automation, load balancing, a lot of interesting problems to solve on the layers above that. And then it’s a whole user experience, user presentation level that you need to think about because people are really busy so you have to think about “How do you automate things in a way they quickly understand” but then they also feel like you’re safe because you know you always look at a toaster to make sure that it’s off. Right? ‘Cause you know it’s automated but you don’t really trust it, so you want to be able to look at it sort of.</p>\n",
       " <p><span class=\"speaker-andrew\">Andrew</span>: I see. You know, the reason I’m asking is because I do feel like I am in an idea bubble and we all are in tech. We read “TechCrunch” and they basically don’t know how to explain what data gravity is. Right? We read Techmeme and they love doing those multi-collections of posts on the latest iPhone operating update.</p>\n",
       " <p>So we don’t, we get exposed to that which isn’t very helpful. We don’t get exposed to ideas like the one that got you started and I’m wondering what can we do to get exposed to those bigger ideas that not as many people are paying attention to.</p>\n",
       " <p><span class=\"speaker-guest\">Paula</span>: So I think you just you know you talk to users and you say, “So tell me about what you do all day.” Right? And then, when the person talks about you know the 50 manual steps they did you know you say well you know “Is there money in automating that?” ‘Cause you know as a startup, and especially in a [price], you want to have the customers but you also want to have a revenue stream. You don’t have both, you’re probably not going to survive and your customers won’t be happy if you go away.</p>\n",
       " <p>So you start to look at how people operate, and then I’m really good at pattern match. I look at you know I hear ten different things and I put them together into solutions. So when I’m looking at data gravity you know I heard about [??] and I heard about this thing call snapshots or backups. Then I heard the problems people where having about trying to figure out what data had actually changed. And then there were data privacy things coming out and so I start thinking about these things and somehow they all roll into a single solution for me. I don’t know why but I’m like picking things out of the air and putting them together into a solution.</p>\n",
       " <p><span class=\"speaker-andrew\">Andrew</span>: I see, all right. And you are paying attention to different things than others might be paying attention to and you’re looking for a connection. And the other thing that you said I want to make sure that I pay attention to which is you ask customers or you look at customers lives and you see what are they doing over and over that could be automated for a price. You’re not just going to do it for free or work for people who don’t have money because you need to be able to charge.</p>\n",
       " <p><span class=\"speaker-guest\">Paula</span>: Well, of course. And we need to be, so our customers want us to be profitable because they want us to be there. But they also want to know that they’re getting great value for what we do. Right? So it’s they want us to be sustainable so we can support them and add new features. We want them to be successful so they can buy more product. So everyone can be successful because we want them to love what we did.</p>\n",
       " <p>I’m like I get really excited when people like show me something they did that made you know they got a weekend off because they used EqualLogic. They didn’t have to go and move all the storage. We did it for them automatically. They checked it twice and they were hanging out with their kids. I love those stories. I love those stories.</p>\n",
       " <p><span class=\"speaker-andrew\">Andrew</span>: When you had the idea, you took it out to banks. What did banks say?</p>\n",
       " <p><span class=\"speaker-guest\">Paula</span>: They said “No way!”</p>\n",
       " <p><span class=\"speaker-andrew\">Andrew</span>: Why not?</p>\n",
       " <p><span class=\"speaker-guest\">Paula</span>: “We would never [??] you.” ‘Cause they said they said you know “We don’t trust these guys that have been around 20 years.” But then they said “We have this other problem at the you know at the department level and we would look at automation and we would look at an emerging company for that.”</p>\n",
       " <p>And so they were you know there’s a huge feature set to get into a Fortune 100 or 1000 company that most startups going to do if they want to be in the enterprise space. And then they just you know the cost of any hiccup could be measured in millions of dollars and then [??]. Right? And so in the mid-tier, they don’t the feature set doesn’t have to be you know at the at the level of something that’s on [P]12. Right? Because you’re start up you [??] be wrong and it doesn’t have to they’re willing to take a little bit more of a risk reward.</p>\n",
       " <p><span class=\"speaker-andrew\">Andrew</span>: Okay. And so they were willing to do that. Did they also help you understand what the product should be in order to win their business?</p>\n",
       " <p><span class=\"speaker-guest\">Paula</span>: Yeah, so the interesting everybody just thought defines things in terms of solutions. So you really have to listen to the problem statement. Because often if implement the solution, you won’t really give them what they want. So you have to keep asking the question over and over again, so you can figure out the problem because if you just take the solution you’ll probably limit what you’re about to build.</p>\n",
       " <p><span class=\"speaker-andrew\">Andrew</span>: Emmett Shear of Twitch TV told me that. He said people want higher resolution, better videos when they’re on. They asked him for it when they were on Twitch TV so they could watch better streaming of the video games that they do on Twitch TV. He asked them why. Why do you want that solution instead of just going and building it? He discovered that a lot of people had really poor Internet connections. Because he was serving already high quality video, they’re slow Internet connections couldn’t keep up and so the video looked bad. So the answer to their problem, actually, wasn’t to give them what they wanted, which is better quality video, but to reduce the quality of the videos so it streams faster, no buffering, and it works better. Do you have an example like that from your business?</p>\n",
       " <p><span class=\"speaker-guest\">Paula</span>: Sure. People wanted to be able to scale performance in disc, and the way they described doing it was–this is going to be a little nerdy for some of the audience–using a more traditional form of it. They wouldn’t have gotten the performance, they just would’ve gotten the disc and wasted a lot of the computes. So what we ended up doing was building a partition system, as opposed to a clustered system, because they all [??] cluster in technology–not quite as clear. They also wanted to be able to load balance. When they talked about load balancing they really didn’t, in all cases, understand what they were [??]. So we sort of had those discussions: why did you want to do this? Why do you need performance?</p>\n",
       " <p>The real funny one is everybody, every storage on the planet, had knobs. They needed knobs to say what cash, they needed knobs to say priority, they needed knobs for everything. We had no knobs. So they’d say: we need knobs. And we’d say: why? The array does that. “But we need knobs.” We’d say, “No knobs.” It ended up being like an SNL skit. “No soup for you. No knobs.”</p>\n",
       " <p><span class=\"speaker-andrew\">Andrew</span>: You stuck with that? I thought you were going to say, “Then we ended up adding knobs just to give them what they were asking for.” No. So what you’re doing is, when they tell you what they want, you ask why, and that helps you understand the problem that they’re looking to solve or the worldview that they have that they need you to accept.</p>\n",
       " <p><span class=\"speaker-guest\">Paula</span>: Yup.</p>\n",
       " <p><span class=\"speaker-andrew\">Andrew</span>: Okay. Paula: We put in pages so they could see what we were doing. So what they’re really asking is: we want visibility into what you’re doing. “Okay. We’ll show you some of the automation, those decisions we’re making.” So we added some views into what we’re doing, but we didn’t let you change it.</p>\n",
       " <p><span class=\"speaker-andrew\">Andrew</span>: I see. That’s how you put together your requirement list for the product you were going to create?</p>\n",
       " <p><span class=\"speaker-guest\">Paula</span>: Yeah, that’s how we put together the requirement list. We basically scanned everybody’s spec sheet because we wanted to know what [??] were, but you can’t build what everybody else builds or they should just buy it from somebody else.</p>\n",
       " <p><span class=\"speaker-andrew\">Andrew</span>: Okay. Paula: So now you have to get: what’s your secret sauce and what makes you special? In the case of EqualLogic, it was the automation, it was to scale out, and it was the all-inclusive features. So you have to make sure that you always have enough differentiation that you’re just not going to get into a pricing war and build what somebody else built cheaper because they can sell it. They’re always going to have leverage in terms of having better cogs than you do or cost of goods. You can’t get into a price war with one of the big guys; you’ll lose.</p>\n",
       " <p><span class=\"speaker-andrew\">Andrew</span>: You said you wrote the architecture and then you got architecture reviews.</p>\n",
       " <p><span class=\"speaker-guest\">Paula</span>: So what I found is, and this is sort of odd, but people are nice to each other. So when you’re doing technology reviews or products reviews, the people in the company won’t tell you that you’re an idiot as much as a stranger would. Andrew: Okay.</p>\n",
       " <p><span class=\"speaker-guest\">Paula</span>: So we actually hired people to come in who weren’t going to have to live with us after they told us we were stupid. They didn’t have to be careful about what they said or didn’t worry about the whole: is there a [??] topic here or is this more up for grabs? We hired people to come in and review us and review the architecture in a way that the team could be all bonding together to fix the problems and nobody ended up being the bad guy.</p>\n",
       " <p><span class=\"speaker-andrew\">Andrew</span>: How was raising money at the time to do all this?</p>\n",
       " <p><span class=\"speaker-guest\">Paula</span>: Our [??] actually went pretty quickly. Peter Haden had known somebody at Charles River Ventures. They connected. We showed them the idea. He loved it. So between April 1st of 2001, when we had the original idea, we closed around in July. It was a $9 million round, which in 2001 was amazing, and we were off and running. So the B round was miserable.</p>\n",
       " <p><span class=\"speaker-andrew\">Andrew</span>: Why?</p>\n",
       " <p><span class=\"speaker-guest\">Paula</span>: Well, it was funny. The market was very soft, but it was more about we were doing something that was very different, and we didn’t have the customer traction because we weren’t shipping yet that we could say, “See, people are going to love this.” So, the protocol we were going to use was new, the disc technology we were going to use was new, the idea of automation and scale-out was new. We couldn’t show the incremental revenue for the software value-added products that other people still showed, so everybody wanted us to change. So, we had what was called a down round in our B round, but we made up for it in the end. Right? So…</p>\n",
       " <p><span class=\"speaker-andrew\">Andrew</span>: Yeah. All right. When you finally lost…</p>\n",
       " <p><span class=\"speaker-guest\">Paula</span>: [??] We didn’t change just because they told us we needed to change. We didn’t change.</p>\n",
       " <p><span class=\"speaker-andrew\">Andrew</span>: No nods, no changes that the venture capitalists wanted.</p>\n",
       " <p><span class=\"speaker-guest\">Paula</span>: Yeah. They didn’t want nods, but they said, well, why aren’t you FibreChannel or why aren’t you doing this or, you know, I don’t think they need automaton. So we found some great venture people that did believe in us and we kept going.</p>\n",
       " <p><span class=\"speaker-andrew\">Andrew</span>: How long did it take from launch of the business April 1 to the launch of the first product?</p>\n",
       " <p><span class=\"speaker-guest\">Paula</span>: So, we launched the first product in May of 2003…</p>\n",
       " <p><span class=\"speaker-andrew\">Andrew</span>: Okay.</p>\n",
       " <p><span class=\"speaker-guest\">Paula</span>: …and we had customers in June of 2003, so we were rolling. When we rolled it in and we showed people, it traditionally would take you a couple of weeks to set up what was called a storage-area network. We could do it in a one-hour sales call. So, we would go in and we would set it up. We were like the [??] guys. The sales guys would go in with their SEs and they’d put an array on the table and they’d be setting up the array as part of the sales call.</p>\n",
       " <p><span class=\"speaker-andrew\">Andrew</span>: And this was before you actually had a product to sell or is it only after…</p>\n",
       " <p><span class=\"speaker-guest\">Paula</span>: This is when we were selling.</p>\n",
       " <p><span class=\"speaker-andrew\">Andrew</span>: When you were selling. Okay. Did you have any customers before you created the first product or were you just expecting that you will based on the feedback you were getting?</p>\n",
       " <p><span class=\"speaker-guest\">Paula</span>: We had beta customers, which was an impact, and so we had people trying the product and giving us feedback on it and making it better, and they were some of the early buyers.</p>\n",
       " <p><span class=\"speaker-andrew\">Andrew</span>: Getting at beta customers in enterprise seems hard. Was it?</p>\n",
       " <p><span class=\"speaker-guest\">Paula</span>: Yeah. It’s very hard. So…</p>\n",
       " <p><span class=\"speaker-andrew\">Andrew</span>: Mm-hmm.</p>\n",
       " <p><span class=\"speaker-guest\">Paula</span>: …you basically went to friends, right? So you went to, you know, people you know at different companies. In the case of Data Gravity, we actually are using bars to help us find our beta customers. So we’re out of beta now and we’re shipping, but we found our beta customers from value-added re-sellers and through people we knew.</p>\n",
       " <p><span class=\"speaker-andrew\">Andrew</span>: I see. One of the low points was when, in 2004, your venture capitalists, your investors said to you, we need a new CEO. Why did they say that?</p>\n",
       " <p><span class=\"speaker-guest\">Paula</span>: So, they don’t share the playbook with us, but back in the early 2000s, there’s a playbook that says the technical CEO, which in our case was Peter Hayden [SP], gets replaced by the sales marketing rock star CEO for great companies. Right, it could be a sitcom, right? So that’s the next play in the playbook, and so they decided that’s what they needed to do. We were doing great, but they thought that, you know, by bringing in a sales marketing CEO we would do better, and someone who had been a rock star in the dot-com phase. I joke around, just because you’re a rock star doesn’t mean you’re always a rock star. Not all aging rock stars are great.</p>\n",
       " <p><span class=\"speaker-andrew\">Andrew</span>: I guess I get what they were thinking back then. They said, you know, that you want the CEO to be better known and also you want someone who has more experience to run these companies. Right? How do you get enough experience to run a company without actually having run a company?</p>\n",
       " <p><span class=\"speaker-guest\">Paula</span>: So, that’s a really good question, but no one’s going to have the passion as much as the founder…</p>\n",
       " <p><span class=\"speaker-andrew\">Andrew</span>: Mm-hmm.</p>\n",
       " <p><span class=\"speaker-guest\">Paula</span>: …and you can hire people around you to help you, right? So, you need help in the financial place, get a great CFO. You have a VP of sales already, and so it’s really about the passion and the vision. Now, dial forward to 2012, 2014, and there’s more technical founders and technical CEOs…</p>\n",
       " <p><span class=\"speaker-andrew\">Andrew</span>: Mm-hmm.</p>\n",
       " <p><span class=\"speaker-guest\">Paula</span>: …and they have COO or someone they’re partnered with that helps them with some of the business side of things, but they’re passionate about the vision and they’re passionate about the company and they’re passionate about the customer. Then, you just [??] around.</p>\n",
       " <p><span class=\"speaker-andrew\">Andrew</span>: Who was a key hire for you that way?</p>\n",
       " <p><span class=\"speaker-guest\">Paula</span>: So, my co-founder is John Joseph [SP] at Data Gravity, and we partner up really well. I’ve got product strategy and vision and customer passion, and while I understand sales and marketing, I haven’t lived and breathed it, but John has. So together, we’re a great team. We can tell each other everything without being [??]. We might as well be brother and sister.</p>\n",
       " <p><span class=\"speaker-andrew\">Andrew</span>: EqualLogic, did you quit when they said that they needed a new CEO?</p>\n",
       " <p><span class=\"speaker-guest\">Paula</span>: Well, they brought in the new CEO, and I worked with him for a little while, and he and I had a discussion that was an interesting discussion. The next day, I said, you deserve a better VP of engineering than me. Let’s go find someone. So, yeah, I quit.</p>\n",
       " <p><span class=\"speaker-andrew\">Andrew</span>: Is it because of that or is it because you just saw your baby in someone else’s arms and you didn’t want to be there every day for it.</p>\n",
       " <p><span class=\"speaker-guest\">Paula</span>: No. I saw what we were doing and I didn’t think we could succeed. I really firmly believed we couldn’t succeed on the path we were on, and I firmly didn’t think that he and I could work together. So</p>\n",
       " <p>I thought it was best for the company. The board made its decision, so I made mine. It’s kind of like: you play your cards, I play mine. For whatever reason, he didn’t really get the company, in my opinion. So we found a great VP of engineering to take my place and I was about to leave. I never did leave, but I was about to leave.</p>\n",
       " <p><span class=\"speaker-andrew\">Andrew</span>: I see the article here. Actually, the Business Wire press release that EqualLogic sent out back in 2003 with the new president and CEO. What happened to him? You quit?</p>\n",
       " <p><span class=\"speaker-guest\">Paula</span>: I quit. He signed the new VP of engineering and then the board had decided, mutually, with him that they were going to go in a different direction. I became acting CEO for a while, and then he went</p>\n",
       " <p>over to be CEO of another company.</p>\n",
       " <p><span class=\"speaker-andrew\">Andrew</span>: Why you back? They’re basically back where they were before. Why did they reverse themselves?</p>\n",
       " <p><span class=\"speaker-guest\">Paula</span>: The previous CEO had been Peter Haden, who had done a great job. They put me in the role because they knew I didn’t want the job, and so I was going to go try to find somebody who’d be great for the company.</p>\n",
       " <p><span class=\"speaker-andrew\">Andrew</span>: I see. Then Jack was brought in. Am I right about that?</p>\n",
       " <p><span class=\"speaker-guest\">Paula</span>: Jack was who left, and Don was brought in.</p>\n",
       " <p><span class=\"speaker-andrew\">Andrew</span>: I see.</p>\n",
       " <p><span class=\"speaker-guest\">Paula</span>: Jack was brought in in 2003. For whatever reason, the chemistry in the company just wasn’t right for both sides. I actually bought the URL for DataGravity just before I decided to stay, because DataGravity might have been founded sooner. For a variety of reasons, the passion and the vision they were trying to maintain, and I sort of [??] part of it, and I didn’t want the job. So I was going to help them find a great CEO for the company.</p>\n",
       " <p><span class=\"speaker-andrew\">Andrew</span>: I see. Okay.</p>\n",
       " <p>Then they kept you on and they said this passion, this vision, the continuity–this is what we need–and they kept you going.</p>\n",
       " <p><span class=\"speaker-guest\">Paula</span>: Yup.</p>\n",
       " <p><span class=\"speaker-andrew\">Andrew</span>: Do you keep any resentment afterwards? Did you say: I’m going to show these guys?</p>\n",
       " <p><span class=\"speaker-guest\">Paula</span>: Nope.</p>\n",
       " <p><span class=\"speaker-andrew\">Andrew</span>: None of that?</p>\n",
       " <p><span class=\"speaker-guest\">Paula</span>: None of that. I said if I’m going to have resentment, I got to leave.</p>\n",
       " <p><span class=\"speaker-andrew\">Andrew</span>: Really? Okay.</p>\n",
       " <p><span class=\"speaker-guest\">Paula</span>: It leaks into the culture, right? It leaks into the culture. What I did say is, because they brought in some candidates they wanted to hire, and before I thought I don’t have a lot of choices here, and then I thought, you know what? Yeah, I do have a choice. So some of the candidates they wanted to hire, I said, yeah, you can bring them in, but I’m leaving. One of the guys they brought in, I said, “Do you want to demo the product.” He said, “No.” I said, “Do you want to meet the team?” He said, “I’ll meet the team after the board hires me.” I said, “Really?”</p>\n",
       " <p><span class=\"speaker-andrew\">Andrew</span>: Wow.</p>\n",
       " <p><span class=\"speaker-guest\">Paula</span>: Right. So there was an arrogance there–a different style. I probably shouldn’t use arrogance. It was a different style there that made me uncomfortable. I wanted someone who wanted to love the product and meet the people and help build the culture. That’s what we found with Don Bulens.</p>\n",
       " <p><span class=\"speaker-andrew\">Andrew</span>: Sorry, what was that last part? The connection cut off a bit.</p>\n",
       " <p><span class=\"speaker-guest\">Paula</span>: That’s what we found with Don Bulens. When Don Bulens first came in to visit us he knew nothing about storage, had never been in our space. I’m, like, well, nice guy, but why am I talking to him? But he was excited about the product, he had great people skills. Then the second time he came in, he mapped out our whole market, our strategy, where we needed to go, how we [??]. He had just done a huge amount of work and was clearly going to be a strong leader and was clearly going to learn [??] and was clearly going to help us with the channel, so he was a great choice.</p>\n",
       " <p><span class=\"speaker-andrew\">Andrew</span>: You said that one of the things that you got out of this experience was you had confidence in your intuition after this experience. When was your confidence and your intuition most shaky?</p>\n",
       " <p><span class=\"speaker-guest\">Paula</span>: It was most shaky at two places really. One was during that transition when they brought in the new CEO. How do I make this work? Is this me? Am I being obstinate? Am I wrong? “We’re going to go up market.” Well, we didn’t build the features to go up market. Then the other time is: I’m CEO and I was running engineering and product and strategy, so I find myself in financial discussions. I find myself in: we’re going to Europe and what currency we’re going to use. I find myself in discussions about growing the sales team or some marketing campaign, and I had to learn really quickly. What I learned is a lot of this is listening and asking questions.</p>\n",
       " <p><span class=\"speaker-guest\">Paula</span>: I learned is a lot of this is listening and asking questions. A lot of it’s just about being willing to make a decision because not making a decision is the worst decision, and then just asking questions and figuring out who really does know, and then realizing you can course-correct.</p>\n",
       " <p><span class=\"speaker-andrew\">Andrew</span>: Do you ever feel like, “If I ask this question, I’m just going to look like a person who doesn’t fit in the conversation”?</p>\n",
       " <p><span class=\"speaker-guest\">Paula</span>: Oh, absolutely, and then I decided, “Okay, I used my ‘I’m confused,'” and then eventually people sort of realize when I say, “I’m confused,” it means, “Really? Is that really what you want to do?”</p>\n",
       " <p><span class=\"speaker-andrew\">Andrew</span>: That became your phrase: I’m confused here.</p>\n",
       " <p><span class=\"speaker-guest\">Paula</span>: Yeah.</p>\n",
       " <p><span class=\"speaker-andrew\">Andrew</span>: Why do we want to go and use this currency? Then they have to step up and explain.</p>\n",
       " <p><span class=\"speaker-guest\">Paula</span>: Yup</p>\n",
       " <p><span class=\"speaker-andrew\">Andrew</span>: Okay. Frankly, I’ve told you this from the start. I’m a little intimidated here in this conversation because of the topic that we’re talking about and because of what you were able to build, and also</p>\n",
       " <p>because there isn’t that much publicly available easily. Your LinkedIn profile, for example, doesn’t get started until after you sold to Dell. Your job title, though, changed a few times while you were there even though you were the founder, obviously, throughout. What were the different job titles that you had?</p>\n",
       " <p><span class=\"speaker-guest\">Paula</span>: I started off as director of engineering [??] because I didn’t think I was skilled enough to be the</p>\n",
       " <p>VP, and so I started interviewing VPs and I didn’t meet anybody who I thought was going to do more than watch me work. So, eventually, the CEO said, “Either be that person or hire that person,” so I ended up being that person. So I was the VP of engineering. Then I took on the role of CEO for two quarters, and then, in theory, I was going to go and do some of Angela’s thing because we already had a VP of engineering, but then she quit. She really didn’t want to be in the startup and so I took on the role of VP of products and strategy at that point and continued that role until we sold to Dell when I become responsible for EqualLogic products within Dell.</p>\n",
       " <p><span class=\"speaker-andrew\">Andrew</span>: How did the Dell sale come about?</p>\n",
       " <p><span class=\"speaker-guest\">Paula</span>: We had been talking to Dell on and off since like 2002. They’d actually been a beta customer for EqualLogic. They were a great beta customer. I think Dell had decided that it wanted to get into the mid-tier storage with automation. They asked for an evaluation away. We gave it to them. They were testing, they were asking us questions, then they went quiet. We’re continuing to build our business. Then we briefly talked about different ways to have a relationship. It didn’t really seem like we could partner in a way that wouldn’t mess up our channel. So that didn’t look like it worked. We got an offer for them and it wasn’t really a match–kind of what we thought. We were both not really aligned. So we really thought we were going to go public. I totally believed we were going to go public. We didn’t even sign the agreement till two days before the roadshow to go public.</p>\n",
       " <p><span class=\"speaker-andrew\">Andrew</span>: Oh, wow.</p>\n",
       " <p><span class=\"speaker-guest\">Paula</span>: Our SR1 is out there and approved.</p>\n",
       " <p>The guys brought their suits. They were ready to go on the roadshow. We were about two to three weeks from being a public company. Then Dell makes an offer that was really too good to refuse.</p>\n",
       " <p><span class=\"speaker-andrew\">Andrew</span>: Venture Beat did a great post on the sale, and I like this quote here from a guy named Greg Gretch, managing director at Sigma and an early investor in EqualLogic. He said, “I’m sure EMC’s chief executive Joe Tucci woke up with a headache.”</p>\n",
       " <p><span class=\"speaker-guest\">Paula</span>: I think at that point Dell, because we were mostly at [??] in the lower part of the mid-tier, I think there wasn’t as much overlap at that point. Then our product grew so there became more overlap.</p>\n",
       " <p><span class=\"speaker-andrew\">Andrew</span>: Do you remember the day that the sale went through and your life was essentially changed forever?</p>\n",
       " <p><span class=\"speaker-guest\">Paula</span>: My life didn’t change at all.</p>\n",
       " <p><span class=\"speaker-andrew\">Andrew</span>: Really?</p>\n",
       " <p><span class=\"speaker-guest\">Paula</span>: Yeah. The deal went through. I got up the next morning, I went to work, still worked just as hard, and so I wouldn’t really say fundamentally my life changed very much at all. I mean, I was able to do some things I wouldn’t have done in the past and was able to help some people we wouldn’t have been able to help and maybe I have a nicer car and a nicer house, but they don’t really mean that much to me. So my life didn’t really change in any fundamental way.</p>\n",
       " <p><span class=\"speaker-andrew\">Andrew</span>: What was your obligation to Dell after the sale?</p>\n",
       " <p><span class=\"speaker-guest\">Paula</span>: My obligation was to make sure that the product integrated and they had a great success with the product. I promised two years, but I what I really promised was we were going to integrate this product into the Dell process and Dell was going to get a great return of investment for buying us and that our customers were going to have a great experience [??] more products. So for me, I had the moral and even on the two-year commit to stay, I wasn’t bounced. I just gave my word and I kept it.</p>\n",
       " <p><span class=\"speaker-andrew\">Andrew</span>: I see it, actually. Two years, two months with Dell.</p>\n",
       " <p><span class=\"speaker-guest\">Paula</span>: Two years, four days.</p>\n",
       " <p><span class=\"speaker-andrew\">Andrew</span>: Two years, four days! Why does your Linked-In profile start with that?</p>\n",
       " <p><span class=\"speaker-guest\">Paula</span>: Because I’m not really, so I’m like the least tech person, so I’m not on Facebook, I don’t Tweet, and the only reason I have a LinkedIn profile is because I’m working [??]</p>\n",
       " <p><span class=\"speaker-andrew\">Andrew</span>: [Laughs] This is a Data Gravity.</p>\n",
       " <p><span class=\"speaker-guest\">Paula</span>: Isn’t Data Gravity the marketing people [??] they don’t have a profile, ok.</p>\n",
       " <p><span class=\"speaker-andrew\">Andrew</span>: Because your profile on Data Gravity’s website is fantastic. I don’t know who wrote that but they did a great job with that. That’s maybe the best thing I was able to find online about you. It’s just like a nice summary.</p>\n",
       " <p><span class=\"speaker-guest\">Paula</span>: Yeah, so you know, for whatever reason, people will get to know you but, I’m not, I should be more into the social media stuff. I’m working on it, but…</p>\n",
       " <p><span class=\"speaker-andrew\">Andrew</span>: What would you like to do in social media?</p>\n",
       " <p><span class=\"speaker-guest\">Paula</span>: Nothing Actually!</p>\n",
       " <p><span class=\"speaker-andrew\">Andrew</span>: Nothing, yeah.</p>\n",
       " <p><span class=\"speaker-guest\">Paula</span>: Nothing actually. No, I think it’s a great way for people to communicate, and I’m an observer and reader. And since I write terribly, I think Tweets would probably be really good for me, because I could write everything, you know, in shorthand in 144 characters. So probably, I’d be good at it, but, it just never, I don’t know what I have to say that anyone wants to hear.</p>\n",
       " <p><span class=\"speaker-andrew\">Andrew</span>: I’m sure they do, that’s why we’re doing this conversation right now.</p>\n",
       " <p><span class=\"speaker-guest\">Paula</span>: I hope so.</p>\n",
       " <p><span class=\"speaker-andrew\">Andrew</span>: So I’m looking again at this LinkedIn profile, and it goes from Dell, January 2008 to 2010. Then Heartland Robotics comes in afterwards, VP in Engineering. What happened there?</p>\n",
       " <p><span class=\"speaker-guest\">Paula</span>: So, I leave Dell in January of 2010, and so I sort of take the winter and summer off. I run into a venture friend in the airport in August and he said “So what are you doing?”. And I said, “Well, I don’t know, September’s coming up, so it’s high time to go back to school.” That’s right because everyone has to go back to work. I had never actually not worked since I was 14. This was the first time I had taken that bulk of time off. He said “Would you be interested in a robotics company?” And I said “Yeah, maybe”. But I don’t know anything about robotics, so it intrigued me.</p>\n",
       " <p>So that led me on a journey to meet the CEO and founder of Heartland Robotics, I got really excited to do the software piece of that. I’m sort of proud of myself of never doing any of my calculus after I graduated with a CS degree. And the first day I walk in there, on the screen is reverse kinematics, which is basically integrals. Right? So I’m like crap. Sorry! So I’m now in a deep math, deep mechanical engineering environment. What I learned what I got there was, they really needed someone who had robotics experience along with software experience-that I didn’t have the breadth of experience. I didn’t really want to talk about gear teeth, and stress calculations and reverse kinematics and degrees of freedom and debating about how cables go through arms of robots. I learned I could manage from managing through other people that work for you, but I wasn’t happy. So I helped them find a great person to take my job and then I took another summer off.</p>\n",
       " <p><span class=\"speaker-andrew\">Andrew</span>: And that’s when you dusted off this domain that you’ve owned for a long time, you owned Data Gravity for about ten years before you launched it, and what was the vision for this business?</p>\n",
       " <p><span class=\"speaker-guest\">Paula</span>: Now I’m trying to think about what to do next. As a person who’s kind of well-known in the storage space, I was doing a lot of diligence calls for various venture capitalists as they start to look at investing in storage. What I was listening to was a lot of the same. So I heard a lot of [??], I heard a lot about data intelligence, I heard a lot about data security. As I heard about it I was like “Well this is very interesting”. I didn’t really know when big data became a big deal. Because I always tell people a story, remember when you used to have…big data’s been around for about, before we were both born. It became [??] somehow when the press and the analysts, but it’s been around a long time.</p>\n",
       " <p>So I looked at how all of that pieced together and said, “That probably never works in the mid-tier, because it’s a little complicated, it’s a kind of expensive, and they don’t necessarily have the resources and time to do it.” Then I looked at some of the data privacy stuff and said, “That’s a little complicated, a little expensive, and they don’t really have the resources to do it.” And I said, “Maybe you could do that in the primary storage?”. And I started working on an architecture that let you do it in the primary storage. So I started to go through and say, at the same time a vendor was saying a snapshot as a back-up, which folks in storage know that’s not true. I thought, “Well, maybe a snapshot could be a back-up, if you actually [??].</p>\n",
       " <p><span class=\"speaker-guest\">Paula</span>: Snapchat could be a backup if you actually wanted to do that. So, I took pieces again, like we did with EqualLogic and sort of put them together to come up with what is now data-aware storage. So, I was looking at different pieces of what’s going on and merging them back to solve a problem for Citi users.</p>\n",
       " <p><span class=\"speaker-andrew\">Andrew</span>: Am I seeing similarities here in reducing complexity, reducing price?</p>\n",
       " <p><span class=\"speaker-guest\">Paula</span>: Yeah. [??].</p>\n",
       " <p><span class=\"speaker-andrew\">Andrew</span>: Let me see how we found, sorry?</p>\n",
       " <p><span class=\"speaker-guest\">Paula</span>: Exactly right.</p>\n",
       " <p><span class=\"speaker-andrew\">Andrew</span>: By the way, so TechCrunch’s introduction to you, this was from their post on January 2013. It starts off with, “Data Gravity, a stealthy data storage analytics company, has raised $30 million in Series B, led by Andreessen Horowitz, etc. NCRV is back. Were you intentionally stealthy?</p>\n",
       " <p><span class=\"speaker-guest\">Paula</span>: We were intentionally stealthy.</p>\n",
       " <p><span class=\"speaker-andrew\">Andrew</span>: Why?</p>\n",
       " <p><span class=\"speaker-guest\">Paula</span>: So, we had been [??]. Because, we didn’t want anybody to either market what you were doing, or found what you were doing, and startups, there’s like a cult of us that say, “We can’t tell what we’re doing until we’re ready to show you.” And so, we were talking a lot about nothing for a long time. I used the muffin top example from Seinfeld. We were talking about muffin tops for a long time before we actually started telling everybody exactly what we were doing.</p>\n",
       " <p><span class=\"speaker-andrew\">Andrew</span>: What about what Eric Reese was talking about, with the lean start up methodology of starting lean, of talking to customers, of getting feedback throughout? Did you find another way of getting that feedback, or was it just wait until the product? I won’t tell you until I can show you?</p>\n",
       " <p><span class=\"speaker-guest\">Paula</span>: It was a lot of customers and bars we were talking to, we just weren’t talking to the [??].</p>\n",
       " <p><span class=\"speaker-andrew\">Andrew</span>: I see. That’s what he told me to pay attention to years ago. He said, “Stealth doesn’t always mean stealth. If stealth means don’t talk to the media, then terrific. Focus on your customers. But if stealth means don’t talk to customers, then that’s a problem, and so in your case, you were talking to customers, you just weren’t talking to TechCrunch. The way that we found you was this article on Business Insider about the most successful people in tech you’ve probably never heard of. Were you on that list? Let me see.</p>\n",
       " <p><span class=\"speaker-guest\">Paula</span>: I think so.</p>\n",
       " <p><span class=\"speaker-andrew\">Andrew</span>: Yeah, there you are. Right there on that list. Is that intentional?</p>\n",
       " <p><span class=\"speaker-guest\">Paula</span>: It wasn’t intentional or unintentional. It just sort of happened.</p>\n",
       " <p><span class=\"speaker-andrew\">Andrew</span>: But you just became stealthy. You’re not the kind of person who’s out there?</p>\n",
       " <p><span class=\"speaker-guest\">Paula</span>: I’m not the kind of person, I’m out there now because, well I took the CEO role at Data Gravity. I didn’t really understand that I took the role of also being a spokesperson for the company, but I probably should have realized that, and so, as the CEO of a company, you really can’t stay stealthy. So, it wasn’t intentional or unintentional. It was just, I didn’t seek it, it didn’t happen, right? Now, I’m out there a little bit more, for a few reasons. One is people to know that you can start a company, or whatever your background is, and I also want to make sure that people understand the vision of Data Gravity, as a representative of the company as their CEO.</p>\n",
       " <p><span class=\"speaker-andrew\">Andrew</span>: When I asked you, “What’s in it for you here in this interview?” Actually, I said, “What’s a win for you?” and you didn’t say, “You know, Andrew, we need to do this for biz dev reasons.” You don’t need that. “Andrew, we’re doing this interview because I need to get another customer.” That’s not how it works for you. So, you said instead, “I want your audience to understand that they could do it at any age. They could take those risks. They don’t have to be a Stanford graduate.” I’m looking here at the list. Any age, any gender, why is that an important message for you to leave the audience with?</p>\n",
       " <p><span class=\"speaker-guest\">Paula</span>: Because I think that great jobs get created by great entrepreneurs, and if we’re going to get people doing things that are fun, that are built in a career, we need to start building more and more companies within the US. So, I’m not a bleeding heart or anything, but I just think that people think that because they don’t fit the pigeon hole of whatever book they read or what they see for the people who are promoted as being the great entrepreneurs, I quit, whatever. Ivy League College to do this at 12. You don’t have to do that. You can do it at 30. You can do it at 40. You can do it at 50. 60? You could probably do it at 60. I’m not sure I’ll be able to do it at 60, but you could probably do it at 60, right? And it doesn’t matter where you went to college. It doesn’t matter. What matters is your life experiences, your passion for customers, your vision, and your commitment to completing things.</p>\n",
       " <p><span class=\"speaker-andrew\">Andrew</span>: Did you have, when you started out, when you started EqualLogic, did you have a sense of because you’re a woman or because of your age it was an issue? Was any of it an issue?</p>\n",
       " <p><span class=\"speaker-guest\">Paula</span>: So, I think that I probably was, I started EqualLogic. I was in my 30s. I don’t think it was an issue for anybody else, but I felt it could be an issue, and so I was a little insecure. I don’t know if IronStream had not failed if I would have jumped into being a founder if I would have had that confidence. Being unemployed, you have something not to lose, because you’re not leaving something great, you’re not going to something great, because you’re starting it. You’re starting something great instead. So, I think that gave me the push. I don’t know if IMG/sp would have been wildly successful if I would of started it.</p>\n",
       " <p><span class=\"speaker-andrew\">Andrew</span>: It wasn’t about entrepreneurship for you. It was just that you had this idea and you had the time and the flexibility to do it.</p>\n",
       " <p><span class=\"speaker-guest\">Paula</span>: Well it was about wanting to build a culture and entrepreneurship, so I wanted to do it. But would I have done it.</p>\n",
       " <p><span class=\"speaker-andrew\">Andrew</span>: Oh I see. Okay.</p>\n",
       " <p><span class=\"speaker-guest\">Paula</span>: Right. See a lot of people who think and want, but would you, right, that’s the, what’s the push, what’s the catalyst. Right?</p>\n",
       " <p><span class=\"speaker-andrew\">Andrew</span>: You know one of my challenges as an interviewer is to find more female entrepreneurs to come and do interviews. And I know that my imbalance on Mixergy is not because there aren’t enough female entrepreneurs. Frankly, even if the world has 10% female entrepreneurs and 90%, that more than fills a year of interviews. More than fills up a lifetime of interviews.</p>\n",
       " <p><span class=\"speaker-guest\">Paula</span>: Mm-hmm.</p>\n",
       " <p><span class=\"speaker-andrew\">Andrew</span>: So it’s a challenge of discovery, not a challenge of based on the existence or lack of. How do I, do you have any advice for me on how to find female entrepreneurs to feature here on Mixergy? I think it’s important.</p>\n",
       " <p><span class=\"speaker-guest\">Paula</span>: I think it is important. So I think you can go to some of the venture sites and see who the founders are. But there’s no, like, we don’t all hang out together so there’s no like . . .</p>\n",
       " <p><span class=\"speaker-andrew\">Andrew</span>: No.</p>\n",
       " <p><span class=\"speaker-guest\">Paula</span>: . . . there’s no secret club. Most of the, most entrepreneurs whether female or male are self-promoting, so you won’t find them that way. You’re more apt to find them if you start to look at, for example I did the Women’s 2-Hour Event, I met, you know, a lot of people found out about me from there. So go look at the Women’s 2-Hour Events and who’s presenting there. You’ll find out a lot about . . .</p>\n",
       " <p><span class=\"speaker-andrew\">Andrew</span>: Are you presenting there?</p>\n",
       " <p><span class=\"speaker-guest\">Paula</span>: I presented there a few years ago.</p>\n",
       " <p><span class=\"speaker-andrew\">Andrew</span>: Okay.</p>\n",
       " <p><span class=\"speaker-guest\">Paula</span>: And so a lot of people, you know, they’re very good at seeking out women entrepreneurs and they’re very good at doing that. And then they guilt you into it because they say, you know, you came up the ranks, why don’t you tell people how you did it. Right, so . . .</p>\n",
       " <p><span class=\"speaker-andrew\">Andrew</span>: Did you get any benefit, like, from a program like this when you came up the ranks?</p>\n",
       " <p><span class=\"speaker-guest\">Paula</span>: No.</p>\n",
       " <p><span class=\"speaker-andrew\">Andrew</span>: No.</p>\n",
       " <p><span class=\"speaker-guest\">Paula</span>: But remember I, well remember I was coming up the ranks in the 80s so there wasn’t a lot of women in tech in the 80s.</p>\n",
       " <p><span class=\"speaker-andrew\">Andrew</span>: For me it was Forbes Magazine. In the 80s and 90s they were fantastic. They would feature entrepreneurs like Ted Turner in heroic stories that were easy to read. And, even for a guy who was just getting started and didn’t know much about business, less intimidating . . . I was going to say less intimidating than the Wall Street Journal, but the Wall Street Journal wasn’t as intimidating as you’d think. It would, every time they talked about short-selling, they would always have that comma, explain what short-selling is comma, continue with the story. But, anyway, it was those kinds of stories that inspired me as I built my first business. I did Mixergy. For you what was that inspiration?</p>\n",
       " <p><span class=\"speaker-guest\">Paula</span>: I think that inspiration was, so, I was at Digital, we had a lot of great ideas, they took forever to implement and then there was never the sales and marketing engine behind it. And my friends had started to float startups, and you didn’t spend six weeks deciding what you could do, you spent six hours and you were doing it. And so I loved that pace and passion and culture and that’s what made me want to go join things.</p>\n",
       " <p><span class=\"speaker-andrew\">Andrew</span>: I see. That makes sense. All right, let me close off by asking you one of the questions that in the pre-interview we said what questions didn’t we ask you, what didn’t we think about.</p>\n",
       " <p>But first I should say, anyone who wants to follow up on this you should know that in addition to interviews, and yeah, we have an archive here on Mixergy of over a thousand interviews. I say we because, yes, I’m the face and yes, I’m the person who does these interviews, but as you can see a lot of people go into researching, pre-interview, and putting it together. Well, so we’ve all worked together to put over a thousand interviews with entrepreneurs here on Mixergy and they’re available to you if you want to understand how they’ve all built their businesses. We get really in depth in them.</p>\n",
       " <p>But in addition to them, we have courses, led by people you will recognize, people like Keith Ferrazzi, the author of “Never Eat Alone”. People like Ryan Holiday, the guy who is helping so many authors promote their books. People who I think are especially interesting, especially good at doing one thing, one aspect of business, like connecting with people. They come on and they teach that one thing, step by step, on Mixergy. And if you haven’t checked out the courses I encourage you to look at them. They’re on, there’s a link on the top of every one of the Mixergy pages of courses. Click over and check them out.</p>\n",
       " <p>So here’s what you said we should keep doing, that you would teach other entrepreneurs; how to execute and keep testing. That’s something that we didn’t get to talk about. How would you do that?</p>\n",
       " <p><span class=\"speaker-guest\">Paula</span>: So I think you need to, so what happens in a product that’s going to take a long time to build . . .</p>\n",
       " <p><span class=\"speaker-andrew\">Andrew</span>: Mm-hmm.</p>\n",
       " <p><span class=\"speaker-guest\">Paula</span>: . . . is the market can move on you, right. Because in an Enterprise product it can take two and a half to three years to build.</p>\n",
       " <p><span class=\"speaker-andrew\">Andrew</span>: Yep.</p>\n",
       " <p><span class=\"speaker-guest\">Paula</span>: So you have a vision on day one, if you’re not continuously testing . . .</p>\n",
       " <p><span class=\"speaker-andrew\">Andrew</span>: Oh there’s a light, there you go.</p>\n",
       " <p><span class=\"speaker-guest\">Paula</span>: . . . if you’re not continuously testing, and you could miss your market.</p>\n",
       " <p><span class=\"speaker-andrew\">Andrew</span>: So how do you test, when it takes so long and you’re in the hardware business.</p>\n",
       " <p><span class=\"speaker-guest\">Paula</span>: Well we didn’t build hardware. We’re basically using commodity hardware. But we’re running on Enterprise [??] commodity hardware. But, you know, our software’s fairly complex, so we created an early access program for a set of customers. We made some relationships with some storage industry experts. We were calming everything everybody was doing and saying in the space, and we made slight course corrections to say okay, well this is being covered here, this is [??] , this is a trend here, we should play this out, we should play this down.</p>\n",
       " <p>We’re continually minor tweaks, because you can’t go guardrail to guardrail, “Oh, this is cool today, this is cool tomorrow,” because you’ll never finish anything. But when you get to the finish line, it’s kind of like a relay. The last person across the finish line has to have the baton or you don’t win. So, you have to make sure you’re making sure through the stats, you’re checking to make sure you’re building the right thing, and you’re listening to the feedback.</p>\n",
       " <p><span class=\"speaker-andrew\">Andrew</span>: Here’s something that you said we should have asked you and we didn’t include — why companies should not be planning their exit. Why not?</p>\n",
       " <p><span class=\"speaker-guest\">Paula</span>: You need to be playing lots of happy customers. You want to have lots of options. Because if you plan yourself to be bought, what do you do if you don’t get bought? Are you going to close? Because you’ll make shortcuts if you plan to be bought. If you plan to IPO, what are you going to do if the markets close? You want to build a profitable company with happy customers, and then you get to decide as time goes on are there liquidity events or things that move the company forward in different ways. But if you start to try to hash that out seven years before that happens, you may make some tradeoffs that don’t make any sense.</p>\n",
       " <p><span class=\"speaker-andrew\">Andrew</span>: What about the idea that it will help shape the way you manage your company if you’re planning to have someone else own it in the future? You don’t buy that.</p>\n",
       " <p><span class=\"speaker-guest\">Paula</span>: I think that if your team doesn’t believe you’re all in, and that you’re going to make this successful with them and you’re thinking of a short term flip, you won’t get the passion. You won’t get the commitment, you won’t get the pride, and the customers won’t understand the fact that you’re not in for the long haul. We’re in this for the long haul. We’re going to succeed. We’re going to make sure they succeed. [??] How do think they’re going to succeed? It’s like planning your divorce before you get married. And you’re hoping that they have enough money so when the 50% [??]. I’m not sure that’s the relationship I want to get into.</p>\n",
       " <p><span class=\"speaker-andrew\">Andrew</span>: I see. That makes sense. One last thing, and that I want to thank you not just for doing this interview, but- I have a new baby, he’s about five months old. I didn’t know what to do when the nanny couldn’t be there the other day. We scheduled an interview for the day when, for the first time, the nanny couldn’t make it. I said oh, what do I do now? I just asked you if you wouldn’t mind changing and frankly, I was actually chickening out of it. Someone on the team sent you an email to see can we do it, and I also asked Andrea to do it so she can keep following up with you and be there even if I had to go. But I really appreciate your understanding of it. The response was fantastic, thank you.</p>\n",
       " <p><span class=\"speaker-guest\">Paula</span>: By the way, that’s always your priority. You need to be there the first day at kindergarten because they want to come home and tell you the story. You need to be there for every recital and every event because they won’t remember if you were there, but they’ll remember if you weren’t. I didn’t do that as well as I could have, but I’m telling everybody else so they don’t make the same mistake I did.</p>\n",
       " <p><span class=\"speaker-andrew\">Andrew</span>: Part of the reason I was hesitating as I said it is, I don’t know if you felt this way, but I’m kind of uncomfortable saying to the world I have a kid in the tech world. I kind of feel like some people are going to write me off because of it, or if it becomes a problem they will anticipate the problem too much. I’ve found myself hesitating.</p>\n",
       " <p><span class=\"speaker-guest\">Paula</span>: You shouldn’t, because I don’t even want to hang out with the people who think that way. You’re going to get what you need to get done, and we all have to have a little flexibility, right?</p>\n",
       " <p>Andrew. Yeah, because I didn’t recognize that I was thinking that way, and I’m glad that you want to hang out with me now that I’ve accepted. Thank you so much.</p>\n",
       " <p><span class=\"speaker-guest\">Paula</span>: Great! Okay.</p>\n",
       " <p><span class=\"speaker-andrew\">Andrew</span>: This has been fantastic from beginning to end, thank you so much for doing this interview. Everyone out there who’s watching, thank you all for being a part of it. Bye guys.</p>\n",
       " </article>\n",
       " <footer class=\"row\">\n",
       " <p class=\"pull-left\">Mixergy's <a href=\"http://www.speechpad.com/page/audio-transcription/\">audio transcription</a> is done by <a href=\"http://www.speechpad.com/\">Speechpad</a></p>\n",
       " <div class=\"clearfix\"></div>\n",
       " </footer>\n",
       " </div>]"
      ]
     },
     "execution_count": 10,
     "metadata": {},
     "output_type": "execute_result"
    }
   ],
   "source": [
    "paragraphs"
   ]
  },
  {
   "cell_type": "raw",
   "metadata": {},
   "source": [
    "for paragraph in paragraphs:\n",
    "    print(paragraph.contents[0])"
   ]
  },
  {
   "cell_type": "raw",
   "metadata": {},
   "source": [
    "paragraph.contents[8]"
   ]
  },
  {
   "cell_type": "code",
   "execution_count": 11,
   "metadata": {},
   "outputs": [],
   "source": [
    "para = [x.text.strip() for x in soup.findAll('div', attrs={'class':'transcript'})]"
   ]
  },
  {
   "cell_type": "code",
   "execution_count": 73,
   "metadata": {},
   "outputs": [],
   "source": [
    "para = [x.text.strip() for x in soup.findAll('div', attrs={'id':'mk-boxed-layout'})]"
   ]
  },
  {
   "cell_type": "code",
   "execution_count": 12,
   "metadata": {},
   "outputs": [
    {
     "data": {
      "text/plain": [
       "[\"Full Interview Transcript\\n\\n Expand to view full transcript\\n Collapse to smaller transcript view\\n\\n\\n\\n\\nAndrew: Hey there, freedom fighters. My name is Andrew Warner. I’m the founder of Mixergy.com, home of the ambitious upstart and the oldest, longest-running tech interview show where I interview entrepreneurs about how they built their businesses.\\nToday’s guest is the founder of EqualLogic, a company that she sold for $1.375 billion in cash! When the deal was announced, it was the largest ever cash purchase of a private venture-backed tech company, and you and I never heard about it in the tech press but we’re going to learn about how she did it here today.\\nPaula Long is the founder of EqualLogic, a supplier of data storage for large companies. She sold the business to Dell. We’ll find out how she did it and we’ll also find out why the following year she launched a company that she’s running today called DataGravity which turns storage from a container to an asset to give you insight into your data.\\nAnd this whole thing is sponsored by- Well, actually if you’re out there, I’d like to give you a free spot here, a free ad. You might have seen me talk about how I created a landing page that collects email addresses and explains what Mixergy is and now I’m making it available to you. Well, you know what? Anyone can take their best landing page idea or their existing landing page and turn it into a template and sell in on a marketplace called LeadPages. If you do it, and you send me a link to it, I will give you a free ad and I will help sell your landing page template.\\nYou’re going to allow other people to use this page you create to help grow their leads and get more email addresses and get more engagements. If you’re interested in that go to mixergy.com/leadpages. When you do that, you’ll get all the information you need and if you create a page, I will give you free sponsorship ads and help you sell that page right here on Mixergy for free.\\nPaula, welcome!\\nPaula: Thank you.\\nAndrew: I like that as I was doing that sponsorship spot you were nodding and really going along. I have to tell you when I found out that you sold your business for over a billion dollars I really expected a monocle and aloofness.\\nPaula: No, not really.\\nAndrew: No, did you get to do anything crazy with that money? Did you get to buy… I don’t know what. What do you even do with that?\\nPaula: Well, remember we were venture funded so I only got a third of it. I was one of three co-founders: myself, Peter Hayden, and Paul Koning. What we did with it was a lot of really great things. We were able to do things for our family. We were able to get that lake house we always wanted. We were able to start a charitable trust. So for us it kind of changed our life.\\nAndrew: What’s the greatest thing you got to buy for a family member? One that makes you feel really good.\\nPaula: I probably shouldn’t say this, but we got to help a lot of my nieces and nephews with college.\\nAndrew: Why shouldn’t you say that? Because then every other relative is going to ask you for college also?\\nPaula: Could be. Could be.\\nAndrew: I see. Okay. All right. This whole thing- The interesting part to me is it started when you were working at a company in the dotcom bubble. And then what happened to that business in the end?\\nPaula: So, I have the world’s worst timing. I joined a start-up that was really well funded by some brilliant guys who’d made megabucks during the dotcom boom called Ironstream. It was angel funded, and it was going to do tech infrastructure. Well, tech infrastructure in early 2000 was cool, late 2000 not such a great idea. So we never could get it funded. So picture it: I go on the first vacation I’ve been on in probably five years. I’m in Cancun and they call me and tell me the company’s closing.\\nI found out in March 2001 the company’s closing and my other two compatriots at the company, Peter and Paul, [???]. I said, “You know what? This is the perfect time to try and start something cause no one’s hiring in tech. So let’s go see if we can do something cool.” So, no lie, on April 1st, 2001, on Purgatory Road, Peter Haydon at the time stayed on Purgatory Road, we started EqualLogic. We had a ton of ideas on the board of what we could do. We were not remotely competent at doing any of them, but this one idea kept coming back about storage being static and needed to be automated and we went on that journey. So we had [???] and we were off and running.\\nAndrew: I want to ask you about this idea, and I actually am typing out a note to myself to make sure that I follow up on one of the phrases that you used. But first I’ve got to ask you about the mindset. I do remember when the dotcom bubble burst. People who thought that they were invincible suddenly thought of the world as being an unfair place, that’s it’s just not worth ever trying. And I have several entrepreneur friends who said ‘I’m not going to go back into an Internet startup. It’s not real. I need bricks and real storage. Why didn’t you feel any of that?\\nPaula: I was a paper millionaire, like everybody else during the dot com bubble. I think if you were attacking and you weren’t a paper millionaire, it was sort of unique, right–at least if you got to a startup? But that didn’t pan out because everybody’s stock was underwater at that point. So what I thought was: why are you starting a company? Well, you’re not starting it to get rich because if you’re starting it to get rich, there’s easier ways to make money. There’s much easier ways to make money, and it’s more guaranteed. I started it because I had a passion for technology and I wanted to create a culture, I had a passion for customers, and I thought I could make a difference. I thought I would also build jobs, and so did Peter and Paul.\\nAndrew: But why didn’t you lose your confidence in that idea? I understand that that does seem like a really worthy goal, but why wasn’t your confidence shaken, or was it?\\nPaula: At the time, if you look at what EqualLogic did, we were more brick and mortar. We were not an Internet company, so we said, you know what? Printers are doing really well selling ink. Why don’t we create storage and sell disc because people save everything. So we’re not going to do anything trendy, we’re not going to do anything that, if one sector goes up, we’re going to be dead. Let’s do something that, instead of being very vertically focused, is horizontally focused.\\nSo then we did something really stupid: let’s go and do something in a market where everybody’s super conservative and there’s two gigantic guys out there. So it’s not like we were [??], because going to storage in 2001–who’s there? [??] They’re not exactly small companies and they had great products, and they had a great customer base. We’re like, you know what? Game on.\\nAndrew: And the vision that you had was–you started talking about it earlier–storage is static. What does that mean: storage is static?\\nPaula: Basically, we were managing storage back in 2001. You had to be a storage expert to manage and grow it. So you need to understand disc and how to stitch disc together, and you needed to create these things called runs, and then you went to do all this fiber channel stuff to give it a worldwide address. So you just have to be able to speak a totally different language. The guys and gals in the Fortune 1000s had the time to do that. In the mid-tier, it would be like saying: I’m going to build my own car and then I’m going to drive it and I’m only going to do it on the weekends. So you’re not going to be driving any time soon.\\nWindows and Linux and everything else is sort of automated memory management and automated network, and storage you had to go and map memory to applications. So it was, like, we could automate this. We can make it grow without you having to tear it down and build it back up again, and then what we did, which really drove people nuts, is, when we tried to buy other storage products, it was like buying an American car in the 80s where you’d buy the radio separate from the tires. So we said, you know what? Let’s make it all-inclusive. We don’t have a business model that we get extra revenue from software anyway, so we’re not depending on that model. So let’s tell everybody that all of our software features just come with the array, and let’s change how people buy storage. Let’s change how they manage it, and let’s go after the mid-tier. Let’s not go after the Fortune 1000s, which all the VCs wanted you to go after. Let’s go after the enterprise 8 million.\\nAndrew: Who are the typical enterprise eight million who you envision would be your customer?\\nPaula: Small offices, architectural offices, hospitals, colleges. We actually ended up in departments in big companies. When we sold to Dell we had a little bit over 3,000 customers. We had a trailing revenue of about 140-ish million. Yeah, we were real. We were profitable. We had filed RS1. We were about to IPO.\\nAndrew: Did you discover this issue because you were working at [??]. Oh, wait, something just happened to your lights.\\nPaula: I think my lights are movement based.\\nAndrew: Oh, yes, they are.\\nPaula: I’m sorry. Can we cut that?\\nAndrew: All right. I’ve timed it. Every 10 minutes we’re going to have to move, I mean you.\\nPaula: I don’t know how to turn that off or I would.\\nAndrew: That’s all right. They actually turn my air conditioning off here at about 4:00, so in 10 minutes they’re going to turn the AC off and I’m going to be really hot. Energy saving is good for the environment, it’s bad for interviews. Did you learn about this issue when you are working at [??], or was this before?\\nPaula: We knew about this issue back even in my [??] days when we started to look at how people managed storage and set it up. We read some research papers of people thinking about how to do storage automation, and we said the problem is real. Their solution will never work in the real world. Peter Hayman actually been at Adabtech, so he had been at a storage vendor so he had a little bit more experience on the storage side. I was more on the storage side. I was more on the distributed system, UI file system side of things.\\nAndrew: You know, we asked you in the pre-interview, what class on entrepreneurship would you teach and you said it would be a “Why are you here and why do you want to be an entrepreneur?” Wondering how did you get into, why are you in hardware? Why are you in storage? It doesn’t seem like the kind of thing that kids growing up will read in “Business Week” and say or “Fortune” magazine and say “I’ve got to build that.” Why did you get into it?\\nPaula: That’s a really good question because if I was doing, let’s say, put data on disk, take data off disk, I’d rather stick a needle in my eye.\\nAndrew: Okay.\\nPaula: But then there’s a whole bunch of distributed systems, automation, load balancing, a lot of interesting problems to solve on the layers above that. And then it’s a whole user experience, user presentation level that you need to think about because people are really busy so you have to think about “How do you automate things in a way they quickly understand” but then they also feel like you’re safe because you know you always look at a toaster to make sure that it’s off. Right? ‘Cause you know it’s automated but you don’t really trust it, so you want to be able to look at it sort of.\\nAndrew: I see. You know, the reason I’m asking is because I do feel like I am in an idea bubble and we all are in tech. We read “TechCrunch” and they basically don’t know how to explain what data gravity is. Right? We read Techmeme and they love doing those multi-collections of posts on the latest iPhone operating update.\\nSo we don’t, we get exposed to that which isn’t very helpful. We don’t get exposed to ideas like the one that got you started and I’m wondering what can we do to get exposed to those bigger ideas that not as many people are paying attention to.\\nPaula: So I think you just you know you talk to users and you say, “So tell me about what you do all day.” Right? And then, when the person talks about you know the 50 manual steps they did you know you say well you know “Is there money in automating that?” ‘Cause you know as a startup, and especially in a [price], you want to have the customers but you also want to have a revenue stream. You don’t have both, you’re probably not going to survive and your customers won’t be happy if you go away.\\nSo you start to look at how people operate, and then I’m really good at pattern match. I look at you know I hear ten different things and I put them together into solutions. So when I’m looking at data gravity you know I heard about [??] and I heard about this thing call snapshots or backups. Then I heard the problems people where having about trying to figure out what data had actually changed. And then there were data privacy things coming out and so I start thinking about these things and somehow they all roll into a single solution for me. I don’t know why but I’m like picking things out of the air and putting them together into a solution.\\nAndrew: I see, all right. And you are paying attention to different things than others might be paying attention to and you’re looking for a connection. And the other thing that you said I want to make sure that I pay attention to which is you ask customers or you look at customers lives and you see what are they doing over and over that could be automated for a price. You’re not just going to do it for free or work for people who don’t have money because you need to be able to charge.\\nPaula: Well, of course. And we need to be, so our customers want us to be profitable because they want us to be there. But they also want to know that they’re getting great value for what we do. Right? So it’s they want us to be sustainable so we can support them and add new features. We want them to be successful so they can buy more product. So everyone can be successful because we want them to love what we did.\\nI’m like I get really excited when people like show me something they did that made you know they got a weekend off because they used EqualLogic. They didn’t have to go and move all the storage. We did it for them automatically. They checked it twice and they were hanging out with their kids. I love those stories. I love those stories.\\nAndrew: When you had the idea, you took it out to banks. What did banks say?\\nPaula: They said “No way!”\\nAndrew: Why not?\\nPaula: “We would never [??] you.” ‘Cause they said they said you know “We don’t trust these guys that have been around 20 years.” But then they said “We have this other problem at the you know at the department level and we would look at automation and we would look at an emerging company for that.”\\nAnd so they were you know there’s a huge feature set to get into a Fortune 100 or 1000 company that most startups going to do if they want to be in the enterprise space. And then they just you know the cost of any hiccup could be measured in millions of dollars and then [??]. Right? And so in the mid-tier, they don’t the feature set doesn’t have to be you know at the at the level of something that’s on [P]12. Right? Because you’re start up you [??] be wrong and it doesn’t have to they’re willing to take a little bit more of a risk reward.\\nAndrew: Okay. And so they were willing to do that. Did they also help you understand what the product should be in order to win their business?\\nPaula: Yeah, so the interesting everybody just thought defines things in terms of solutions. So you really have to listen to the problem statement. Because often if implement the solution, you won’t really give them what they want. So you have to keep asking the question over and over again, so you can figure out the problem because if you just take the solution you’ll probably limit what you’re about to build.\\nAndrew: Emmett Shear of Twitch TV told me that. He said people want higher resolution, better videos when they’re on. They asked him for it when they were on Twitch TV so they could watch better streaming of the video games that they do on Twitch TV. He asked them why. Why do you want that solution instead of just going and building it? He discovered that a lot of people had really poor Internet connections. Because he was serving already high quality video, they’re slow Internet connections couldn’t keep up and so the video looked bad. So the answer to their problem, actually, wasn’t to give them what they wanted, which is better quality video, but to reduce the quality of the videos so it streams faster, no buffering, and it works better. Do you have an example like that from your business?\\nPaula: Sure. People wanted to be able to scale performance in disc, and the way they described doing it was–this is going to be a little nerdy for some of the audience–using a more traditional form of it. They wouldn’t have gotten the performance, they just would’ve gotten the disc and wasted a lot of the computes. So what we ended up doing was building a partition system, as opposed to a clustered system, because they all [??] cluster in technology–not quite as clear. They also wanted to be able to load balance. When they talked about load balancing they really didn’t, in all cases, understand what they were [??]. So we sort of had those discussions: why did you want to do this? Why do you need performance?\\nThe real funny one is everybody, every storage on the planet, had knobs. They needed knobs to say what cash, they needed knobs to say priority, they needed knobs for everything. We had no knobs. So they’d say: we need knobs. And we’d say: why? The array does that. “But we need knobs.” We’d say, “No knobs.” It ended up being like an SNL skit. “No soup for you. No knobs.”\\nAndrew: You stuck with that? I thought you were going to say, “Then we ended up adding knobs just to give them what they were asking for.” No. So what you’re doing is, when they tell you what they want, you ask why, and that helps you understand the problem that they’re looking to solve or the worldview that they have that they need you to accept.\\nPaula: Yup.\\nAndrew: Okay. Paula: We put in pages so they could see what we were doing. So what they’re really asking is: we want visibility into what you’re doing. “Okay. We’ll show you some of the automation, those decisions we’re making.” So we added some views into what we’re doing, but we didn’t let you change it.\\nAndrew: I see. That’s how you put together your requirement list for the product you were going to create?\\nPaula: Yeah, that’s how we put together the requirement list. We basically scanned everybody’s spec sheet because we wanted to know what [??] were, but you can’t build what everybody else builds or they should just buy it from somebody else.\\nAndrew: Okay. Paula: So now you have to get: what’s your secret sauce and what makes you special? In the case of EqualLogic, it was the automation, it was to scale out, and it was the all-inclusive features. So you have to make sure that you always have enough differentiation that you’re just not going to get into a pricing war and build what somebody else built cheaper because they can sell it. They’re always going to have leverage in terms of having better cogs than you do or cost of goods. You can’t get into a price war with one of the big guys; you’ll lose.\\nAndrew: You said you wrote the architecture and then you got architecture reviews.\\nPaula: So what I found is, and this is sort of odd, but people are nice to each other. So when you’re doing technology reviews or products reviews, the people in the company won’t tell you that you’re an idiot as much as a stranger would. Andrew: Okay.\\nPaula: So we actually hired people to come in who weren’t going to have to live with us after they told us we were stupid. They didn’t have to be careful about what they said or didn’t worry about the whole: is there a [??] topic here or is this more up for grabs? We hired people to come in and review us and review the architecture in a way that the team could be all bonding together to fix the problems and nobody ended up being the bad guy.\\nAndrew: How was raising money at the time to do all this?\\nPaula: Our [??] actually went pretty quickly. Peter Haden had known somebody at Charles River Ventures. They connected. We showed them the idea. He loved it. So between April 1st of 2001, when we had the original idea, we closed around in July. It was a $9 million round, which in 2001 was amazing, and we were off and running. So the B round was miserable.\\nAndrew: Why?\\nPaula: Well, it was funny. The market was very soft, but it was more about we were doing something that was very different, and we didn’t have the customer traction because we weren’t shipping yet that we could say, “See, people are going to love this.” So, the protocol we were going to use was new, the disc technology we were going to use was new, the idea of automation and scale-out was new. We couldn’t show the incremental revenue for the software value-added products that other people still showed, so everybody wanted us to change. So, we had what was called a down round in our B round, but we made up for it in the end. Right? So…\\nAndrew: Yeah. All right. When you finally lost…\\nPaula: [??] We didn’t change just because they told us we needed to change. We didn’t change.\\nAndrew: No nods, no changes that the venture capitalists wanted.\\nPaula: Yeah. They didn’t want nods, but they said, well, why aren’t you FibreChannel or why aren’t you doing this or, you know, I don’t think they need automaton. So we found some great venture people that did believe in us and we kept going.\\nAndrew: How long did it take from launch of the business April 1 to the launch of the first product?\\nPaula: So, we launched the first product in May of 2003…\\nAndrew: Okay.\\nPaula: …and we had customers in June of 2003, so we were rolling. When we rolled it in and we showed people, it traditionally would take you a couple of weeks to set up what was called a storage-area network. We could do it in a one-hour sales call. So, we would go in and we would set it up. We were like the [??] guys. The sales guys would go in with their SEs and they’d put an array on the table and they’d be setting up the array as part of the sales call.\\nAndrew: And this was before you actually had a product to sell or is it only after…\\nPaula: This is when we were selling.\\nAndrew: When you were selling. Okay. Did you have any customers before you created the first product or were you just expecting that you will based on the feedback you were getting?\\nPaula: We had beta customers, which was an impact, and so we had people trying the product and giving us feedback on it and making it better, and they were some of the early buyers.\\nAndrew: Getting at beta customers in enterprise seems hard. Was it?\\nPaula: Yeah. It’s very hard. So…\\nAndrew: Mm-hmm.\\nPaula: …you basically went to friends, right? So you went to, you know, people you know at different companies. In the case of Data Gravity, we actually are using bars to help us find our beta customers. So we’re out of beta now and we’re shipping, but we found our beta customers from value-added re-sellers and through people we knew.\\nAndrew: I see. One of the low points was when, in 2004, your venture capitalists, your investors said to you, we need a new CEO. Why did they say that?\\nPaula: So, they don’t share the playbook with us, but back in the early 2000s, there’s a playbook that says the technical CEO, which in our case was Peter Hayden [SP], gets replaced by the sales marketing rock star CEO for great companies. Right, it could be a sitcom, right? So that’s the next play in the playbook, and so they decided that’s what they needed to do. We were doing great, but they thought that, you know, by bringing in a sales marketing CEO we would do better, and someone who had been a rock star in the dot-com phase. I joke around, just because you’re a rock star doesn’t mean you’re always a rock star. Not all aging rock stars are great.\\nAndrew: I guess I get what they were thinking back then. They said, you know, that you want the CEO to be better known and also you want someone who has more experience to run these companies. Right? How do you get enough experience to run a company without actually having run a company?\\nPaula: So, that’s a really good question, but no one’s going to have the passion as much as the founder…\\nAndrew: Mm-hmm.\\nPaula: …and you can hire people around you to help you, right? So, you need help in the financial place, get a great CFO. You have a VP of sales already, and so it’s really about the passion and the vision. Now, dial forward to 2012, 2014, and there’s more technical founders and technical CEOs…\\nAndrew: Mm-hmm.\\nPaula: …and they have COO or someone they’re partnered with that helps them with some of the business side of things, but they’re passionate about the vision and they’re passionate about the company and they’re passionate about the customer. Then, you just [??] around.\\nAndrew: Who was a key hire for you that way?\\nPaula: So, my co-founder is John Joseph [SP] at Data Gravity, and we partner up really well. I’ve got product strategy and vision and customer passion, and while I understand sales and marketing, I haven’t lived and breathed it, but John has. So together, we’re a great team. We can tell each other everything without being [??]. We might as well be brother and sister.\\nAndrew: EqualLogic, did you quit when they said that they needed a new CEO?\\nPaula: Well, they brought in the new CEO, and I worked with him for a little while, and he and I had a discussion that was an interesting discussion. The next day, I said, you deserve a better VP of engineering than me. Let’s go find someone. So, yeah, I quit.\\nAndrew: Is it because of that or is it because you just saw your baby in someone else’s arms and you didn’t want to be there every day for it.\\nPaula: No. I saw what we were doing and I didn’t think we could succeed. I really firmly believed we couldn’t succeed on the path we were on, and I firmly didn’t think that he and I could work together. So\\nI thought it was best for the company. The board made its decision, so I made mine. It’s kind of like: you play your cards, I play mine. For whatever reason, he didn’t really get the company, in my opinion. So we found a great VP of engineering to take my place and I was about to leave. I never did leave, but I was about to leave.\\nAndrew: I see the article here. Actually, the Business Wire press release that EqualLogic sent out back in 2003 with the new president and CEO. What happened to him? You quit?\\nPaula: I quit. He signed the new VP of engineering and then the board had decided, mutually, with him that they were going to go in a different direction. I became acting CEO for a while, and then he went\\nover to be CEO of another company.\\nAndrew: Why you back? They’re basically back where they were before. Why did they reverse themselves?\\nPaula: The previous CEO had been Peter Haden, who had done a great job. They put me in the role because they knew I didn’t want the job, and so I was going to go try to find somebody who’d be great for the company.\\nAndrew: I see. Then Jack was brought in. Am I right about that?\\nPaula: Jack was who left, and Don was brought in.\\nAndrew: I see.\\nPaula: Jack was brought in in 2003. For whatever reason, the chemistry in the company just wasn’t right for both sides. I actually bought the URL for DataGravity just before I decided to stay, because DataGravity might have been founded sooner. For a variety of reasons, the passion and the vision they were trying to maintain, and I sort of [??] part of it, and I didn’t want the job. So I was going to help them find a great CEO for the company.\\nAndrew: I see. Okay.\\nThen they kept you on and they said this passion, this vision, the continuity–this is what we need–and they kept you going.\\nPaula: Yup.\\nAndrew: Do you keep any resentment afterwards? Did you say: I’m going to show these guys?\\nPaula: Nope.\\nAndrew: None of that?\\nPaula: None of that. I said if I’m going to have resentment, I got to leave.\\nAndrew: Really? Okay.\\nPaula: It leaks into the culture, right? It leaks into the culture. What I did say is, because they brought in some candidates they wanted to hire, and before I thought I don’t have a lot of choices here, and then I thought, you know what? Yeah, I do have a choice. So some of the candidates they wanted to hire, I said, yeah, you can bring them in, but I’m leaving. One of the guys they brought in, I said, “Do you want to demo the product.” He said, “No.” I said, “Do you want to meet the team?” He said, “I’ll meet the team after the board hires me.” I said, “Really?”\\nAndrew: Wow.\\nPaula: Right. So there was an arrogance there–a different style. I probably shouldn’t use arrogance. It was a different style there that made me uncomfortable. I wanted someone who wanted to love the product and meet the people and help build the culture. That’s what we found with Don Bulens.\\nAndrew: Sorry, what was that last part? The connection cut off a bit.\\nPaula: That’s what we found with Don Bulens. When Don Bulens first came in to visit us he knew nothing about storage, had never been in our space. I’m, like, well, nice guy, but why am I talking to him? But he was excited about the product, he had great people skills. Then the second time he came in, he mapped out our whole market, our strategy, where we needed to go, how we [??]. He had just done a huge amount of work and was clearly going to be a strong leader and was clearly going to learn [??] and was clearly going to help us with the channel, so he was a great choice.\\nAndrew: You said that one of the things that you got out of this experience was you had confidence in your intuition after this experience. When was your confidence and your intuition most shaky?\\nPaula: It was most shaky at two places really. One was during that transition when they brought in the new CEO. How do I make this work? Is this me? Am I being obstinate? Am I wrong? “We’re going to go up market.” Well, we didn’t build the features to go up market. Then the other time is: I’m CEO and I was running engineering and product and strategy, so I find myself in financial discussions. I find myself in: we’re going to Europe and what currency we’re going to use. I find myself in discussions about growing the sales team or some marketing campaign, and I had to learn really quickly. What I learned is a lot of this is listening and asking questions.\\nPaula: I learned is a lot of this is listening and asking questions. A lot of it’s just about being willing to make a decision because not making a decision is the worst decision, and then just asking questions and figuring out who really does know, and then realizing you can course-correct.\\nAndrew: Do you ever feel like, “If I ask this question, I’m just going to look like a person who doesn’t fit in the conversation”?\\nPaula: Oh, absolutely, and then I decided, “Okay, I used my ‘I’m confused,'” and then eventually people sort of realize when I say, “I’m confused,” it means, “Really? Is that really what you want to do?”\\nAndrew: That became your phrase: I’m confused here.\\nPaula: Yeah.\\nAndrew: Why do we want to go and use this currency? Then they have to step up and explain.\\nPaula: Yup\\nAndrew: Okay. Frankly, I’ve told you this from the start. I’m a little intimidated here in this conversation because of the topic that we’re talking about and because of what you were able to build, and also\\nbecause there isn’t that much publicly available easily. Your LinkedIn profile, for example, doesn’t get started until after you sold to Dell. Your job title, though, changed a few times while you were there even though you were the founder, obviously, throughout. What were the different job titles that you had?\\nPaula: I started off as director of engineering [??] because I didn’t think I was skilled enough to be the\\nVP, and so I started interviewing VPs and I didn’t meet anybody who I thought was going to do more than watch me work. So, eventually, the CEO said, “Either be that person or hire that person,” so I ended up being that person. So I was the VP of engineering. Then I took on the role of CEO for two quarters, and then, in theory, I was going to go and do some of Angela’s thing because we already had a VP of engineering, but then she quit. She really didn’t want to be in the startup and so I took on the role of VP of products and strategy at that point and continued that role until we sold to Dell when I become responsible for EqualLogic products within Dell.\\nAndrew: How did the Dell sale come about?\\nPaula: We had been talking to Dell on and off since like 2002. They’d actually been a beta customer for EqualLogic. They were a great beta customer. I think Dell had decided that it wanted to get into the mid-tier storage with automation. They asked for an evaluation away. We gave it to them. They were testing, they were asking us questions, then they went quiet. We’re continuing to build our business. Then we briefly talked about different ways to have a relationship. It didn’t really seem like we could partner in a way that wouldn’t mess up our channel. So that didn’t look like it worked. We got an offer for them and it wasn’t really a match–kind of what we thought. We were both not really aligned. So we really thought we were going to go public. I totally believed we were going to go public. We didn’t even sign the agreement till two days before the roadshow to go public.\\nAndrew: Oh, wow.\\nPaula: Our SR1 is out there and approved.\\nThe guys brought their suits. They were ready to go on the roadshow. We were about two to three weeks from being a public company. Then Dell makes an offer that was really too good to refuse.\\nAndrew: Venture Beat did a great post on the sale, and I like this quote here from a guy named Greg Gretch, managing director at Sigma and an early investor in EqualLogic. He said, “I’m sure EMC’s chief executive Joe Tucci woke up with a headache.”\\nPaula: I think at that point Dell, because we were mostly at [??] in the lower part of the mid-tier, I think there wasn’t as much overlap at that point. Then our product grew so there became more overlap.\\nAndrew: Do you remember the day that the sale went through and your life was essentially changed forever?\\nPaula: My life didn’t change at all.\\nAndrew: Really?\\nPaula: Yeah. The deal went through. I got up the next morning, I went to work, still worked just as hard, and so I wouldn’t really say fundamentally my life changed very much at all. I mean, I was able to do some things I wouldn’t have done in the past and was able to help some people we wouldn’t have been able to help and maybe I have a nicer car and a nicer house, but they don’t really mean that much to me. So my life didn’t really change in any fundamental way.\\nAndrew: What was your obligation to Dell after the sale?\\nPaula: My obligation was to make sure that the product integrated and they had a great success with the product. I promised two years, but I what I really promised was we were going to integrate this product into the Dell process and Dell was going to get a great return of investment for buying us and that our customers were going to have a great experience [??] more products. So for me, I had the moral and even on the two-year commit to stay, I wasn’t bounced. I just gave my word and I kept it.\\nAndrew: I see it, actually. Two years, two months with Dell.\\nPaula: Two years, four days.\\nAndrew: Two years, four days! Why does your Linked-In profile start with that?\\nPaula: Because I’m not really, so I’m like the least tech person, so I’m not on Facebook, I don’t Tweet, and the only reason I have a LinkedIn profile is because I’m working [??]\\nAndrew: [Laughs] This is a Data Gravity.\\nPaula: Isn’t Data Gravity the marketing people [??] they don’t have a profile, ok.\\nAndrew: Because your profile on Data Gravity’s website is fantastic. I don’t know who wrote that but they did a great job with that. That’s maybe the best thing I was able to find online about you. It’s just like a nice summary.\\nPaula: Yeah, so you know, for whatever reason, people will get to know you but, I’m not, I should be more into the social media stuff. I’m working on it, but…\\nAndrew: What would you like to do in social media?\\nPaula: Nothing Actually!\\nAndrew: Nothing, yeah.\\nPaula: Nothing actually. No, I think it’s a great way for people to communicate, and I’m an observer and reader. And since I write terribly, I think Tweets would probably be really good for me, because I could write everything, you know, in shorthand in 144 characters. So probably, I’d be good at it, but, it just never, I don’t know what I have to say that anyone wants to hear.\\nAndrew: I’m sure they do, that’s why we’re doing this conversation right now.\\nPaula: I hope so.\\nAndrew: So I’m looking again at this LinkedIn profile, and it goes from Dell, January 2008 to 2010. Then Heartland Robotics comes in afterwards, VP in Engineering. What happened there?\\nPaula: So, I leave Dell in January of 2010, and so I sort of take the winter and summer off. I run into a venture friend in the airport in August and he said “So what are you doing?”. And I said, “Well, I don’t know, September’s coming up, so it’s high time to go back to school.” That’s right because everyone has to go back to work. I had never actually not worked since I was 14. This was the first time I had taken that bulk of time off. He said “Would you be interested in a robotics company?” And I said “Yeah, maybe”. But I don’t know anything about robotics, so it intrigued me.\\nSo that led me on a journey to meet the CEO and founder of Heartland Robotics, I got really excited to do the software piece of that. I’m sort of proud of myself of never doing any of my calculus after I graduated with a CS degree. And the first day I walk in there, on the screen is reverse kinematics, which is basically integrals. Right? So I’m like crap. Sorry! So I’m now in a deep math, deep mechanical engineering environment. What I learned what I got there was, they really needed someone who had robotics experience along with software experience-that I didn’t have the breadth of experience. I didn’t really want to talk about gear teeth, and stress calculations and reverse kinematics and degrees of freedom and debating about how cables go through arms of robots. I learned I could manage from managing through other people that work for you, but I wasn’t happy. So I helped them find a great person to take my job and then I took another summer off.\\nAndrew: And that’s when you dusted off this domain that you’ve owned for a long time, you owned Data Gravity for about ten years before you launched it, and what was the vision for this business?\\nPaula: Now I’m trying to think about what to do next. As a person who’s kind of well-known in the storage space, I was doing a lot of diligence calls for various venture capitalists as they start to look at investing in storage. What I was listening to was a lot of the same. So I heard a lot of [??], I heard a lot about data intelligence, I heard a lot about data security. As I heard about it I was like “Well this is very interesting”. I didn’t really know when big data became a big deal. Because I always tell people a story, remember when you used to have…big data’s been around for about, before we were both born. It became [??] somehow when the press and the analysts, but it’s been around a long time.\\nSo I looked at how all of that pieced together and said, “That probably never works in the mid-tier, because it’s a little complicated, it’s a kind of expensive, and they don’t necessarily have the resources and time to do it.” Then I looked at some of the data privacy stuff and said, “That’s a little complicated, a little expensive, and they don’t really have the resources to do it.” And I said, “Maybe you could do that in the primary storage?”. And I started working on an architecture that let you do it in the primary storage. So I started to go through and say, at the same time a vendor was saying a snapshot as a back-up, which folks in storage know that’s not true. I thought, “Well, maybe a snapshot could be a back-up, if you actually [??].\\nPaula: Snapchat could be a backup if you actually wanted to do that. So, I took pieces again, like we did with EqualLogic and sort of put them together to come up with what is now data-aware storage. So, I was looking at different pieces of what’s going on and merging them back to solve a problem for Citi users.\\nAndrew: Am I seeing similarities here in reducing complexity, reducing price?\\nPaula: Yeah. [??].\\nAndrew: Let me see how we found, sorry?\\nPaula: Exactly right.\\nAndrew: By the way, so TechCrunch’s introduction to you, this was from their post on January 2013. It starts off with, “Data Gravity, a stealthy data storage analytics company, has raised $30 million in Series B, led by Andreessen Horowitz, etc. NCRV is back. Were you intentionally stealthy?\\nPaula: We were intentionally stealthy.\\nAndrew: Why?\\nPaula: So, we had been [??]. Because, we didn’t want anybody to either market what you were doing, or found what you were doing, and startups, there’s like a cult of us that say, “We can’t tell what we’re doing until we’re ready to show you.” And so, we were talking a lot about nothing for a long time. I used the muffin top example from Seinfeld. We were talking about muffin tops for a long time before we actually started telling everybody exactly what we were doing.\\nAndrew: What about what Eric Reese was talking about, with the lean start up methodology of starting lean, of talking to customers, of getting feedback throughout? Did you find another way of getting that feedback, or was it just wait until the product? I won’t tell you until I can show you?\\nPaula: It was a lot of customers and bars we were talking to, we just weren’t talking to the [??].\\nAndrew: I see. That’s what he told me to pay attention to years ago. He said, “Stealth doesn’t always mean stealth. If stealth means don’t talk to the media, then terrific. Focus on your customers. But if stealth means don’t talk to customers, then that’s a problem, and so in your case, you were talking to customers, you just weren’t talking to TechCrunch. The way that we found you was this article on Business Insider about the most successful people in tech you’ve probably never heard of. Were you on that list? Let me see.\\nPaula: I think so.\\nAndrew: Yeah, there you are. Right there on that list. Is that intentional?\\nPaula: It wasn’t intentional or unintentional. It just sort of happened.\\nAndrew: But you just became stealthy. You’re not the kind of person who’s out there?\\nPaula: I’m not the kind of person, I’m out there now because, well I took the CEO role at Data Gravity. I didn’t really understand that I took the role of also being a spokesperson for the company, but I probably should have realized that, and so, as the CEO of a company, you really can’t stay stealthy. So, it wasn’t intentional or unintentional. It was just, I didn’t seek it, it didn’t happen, right? Now, I’m out there a little bit more, for a few reasons. One is people to know that you can start a company, or whatever your background is, and I also want to make sure that people understand the vision of Data Gravity, as a representative of the company as their CEO.\\nAndrew: When I asked you, “What’s in it for you here in this interview?” Actually, I said, “What’s a win for you?” and you didn’t say, “You know, Andrew, we need to do this for biz dev reasons.” You don’t need that. “Andrew, we’re doing this interview because I need to get another customer.” That’s not how it works for you. So, you said instead, “I want your audience to understand that they could do it at any age. They could take those risks. They don’t have to be a Stanford graduate.” I’m looking here at the list. Any age, any gender, why is that an important message for you to leave the audience with?\\nPaula: Because I think that great jobs get created by great entrepreneurs, and if we’re going to get people doing things that are fun, that are built in a career, we need to start building more and more companies within the US. So, I’m not a bleeding heart or anything, but I just think that people think that because they don’t fit the pigeon hole of whatever book they read or what they see for the people who are promoted as being the great entrepreneurs, I quit, whatever. Ivy League College to do this at 12. You don’t have to do that. You can do it at 30. You can do it at 40. You can do it at 50. 60? You could probably do it at 60. I’m not sure I’ll be able to do it at 60, but you could probably do it at 60, right? And it doesn’t matter where you went to college. It doesn’t matter. What matters is your life experiences, your passion for customers, your vision, and your commitment to completing things.\\nAndrew: Did you have, when you started out, when you started EqualLogic, did you have a sense of because you’re a woman or because of your age it was an issue? Was any of it an issue?\\nPaula: So, I think that I probably was, I started EqualLogic. I was in my 30s. I don’t think it was an issue for anybody else, but I felt it could be an issue, and so I was a little insecure. I don’t know if IronStream had not failed if I would have jumped into being a founder if I would have had that confidence. Being unemployed, you have something not to lose, because you’re not leaving something great, you’re not going to something great, because you’re starting it. You’re starting something great instead. So, I think that gave me the push. I don’t know if IMG/sp would have been wildly successful if I would of started it.\\nAndrew: It wasn’t about entrepreneurship for you. It was just that you had this idea and you had the time and the flexibility to do it.\\nPaula: Well it was about wanting to build a culture and entrepreneurship, so I wanted to do it. But would I have done it.\\nAndrew: Oh I see. Okay.\\nPaula: Right. See a lot of people who think and want, but would you, right, that’s the, what’s the push, what’s the catalyst. Right?\\nAndrew: You know one of my challenges as an interviewer is to find more female entrepreneurs to come and do interviews. And I know that my imbalance on Mixergy is not because there aren’t enough female entrepreneurs. Frankly, even if the world has 10% female entrepreneurs and 90%, that more than fills a year of interviews. More than fills up a lifetime of interviews.\\nPaula: Mm-hmm.\\nAndrew: So it’s a challenge of discovery, not a challenge of based on the existence or lack of. How do I, do you have any advice for me on how to find female entrepreneurs to feature here on Mixergy? I think it’s important.\\nPaula: I think it is important. So I think you can go to some of the venture sites and see who the founders are. But there’s no, like, we don’t all hang out together so there’s no like . . .\\nAndrew: No.\\nPaula: . . . there’s no secret club. Most of the, most entrepreneurs whether female or male are self-promoting, so you won’t find them that way. You’re more apt to find them if you start to look at, for example I did the Women’s 2-Hour Event, I met, you know, a lot of people found out about me from there. So go look at the Women’s 2-Hour Events and who’s presenting there. You’ll find out a lot about . . .\\nAndrew: Are you presenting there?\\nPaula: I presented there a few years ago.\\nAndrew: Okay.\\nPaula: And so a lot of people, you know, they’re very good at seeking out women entrepreneurs and they’re very good at doing that. And then they guilt you into it because they say, you know, you came up the ranks, why don’t you tell people how you did it. Right, so . . .\\nAndrew: Did you get any benefit, like, from a program like this when you came up the ranks?\\nPaula: No.\\nAndrew: No.\\nPaula: But remember I, well remember I was coming up the ranks in the 80s so there wasn’t a lot of women in tech in the 80s.\\nAndrew: For me it was Forbes Magazine. In the 80s and 90s they were fantastic. They would feature entrepreneurs like Ted Turner in heroic stories that were easy to read. And, even for a guy who was just getting started and didn’t know much about business, less intimidating . . . I was going to say less intimidating than the Wall Street Journal, but the Wall Street Journal wasn’t as intimidating as you’d think. It would, every time they talked about short-selling, they would always have that comma, explain what short-selling is comma, continue with the story. But, anyway, it was those kinds of stories that inspired me as I built my first business. I did Mixergy. For you what was that inspiration?\\nPaula: I think that inspiration was, so, I was at Digital, we had a lot of great ideas, they took forever to implement and then there was never the sales and marketing engine behind it. And my friends had started to float startups, and you didn’t spend six weeks deciding what you could do, you spent six hours and you were doing it. And so I loved that pace and passion and culture and that’s what made me want to go join things.\\nAndrew: I see. That makes sense. All right, let me close off by asking you one of the questions that in the pre-interview we said what questions didn’t we ask you, what didn’t we think about.\\nBut first I should say, anyone who wants to follow up on this you should know that in addition to interviews, and yeah, we have an archive here on Mixergy of over a thousand interviews. I say we because, yes, I’m the face and yes, I’m the person who does these interviews, but as you can see a lot of people go into researching, pre-interview, and putting it together. Well, so we’ve all worked together to put over a thousand interviews with entrepreneurs here on Mixergy and they’re available to you if you want to understand how they’ve all built their businesses. We get really in depth in them.\\nBut in addition to them, we have courses, led by people you will recognize, people like Keith Ferrazzi, the author of “Never Eat Alone”. People like Ryan Holiday, the guy who is helping so many authors promote their books. People who I think are especially interesting, especially good at doing one thing, one aspect of business, like connecting with people. They come on and they teach that one thing, step by step, on Mixergy. And if you haven’t checked out the courses I encourage you to look at them. They’re on, there’s a link on the top of every one of the Mixergy pages of courses. Click over and check them out.\\nSo here’s what you said we should keep doing, that you would teach other entrepreneurs; how to execute and keep testing. That’s something that we didn’t get to talk about. How would you do that?\\nPaula: So I think you need to, so what happens in a product that’s going to take a long time to build . . .\\nAndrew: Mm-hmm.\\nPaula: . . . is the market can move on you, right. Because in an Enterprise product it can take two and a half to three years to build.\\nAndrew: Yep.\\nPaula: So you have a vision on day one, if you’re not continuously testing . . .\\nAndrew: Oh there’s a light, there you go.\\nPaula: . . . if you’re not continuously testing, and you could miss your market.\\nAndrew: So how do you test, when it takes so long and you’re in the hardware business.\\nPaula: Well we didn’t build hardware. We’re basically using commodity hardware. But we’re running on Enterprise [??] commodity hardware. But, you know, our software’s fairly complex, so we created an early access program for a set of customers. We made some relationships with some storage industry experts. We were calming everything everybody was doing and saying in the space, and we made slight course corrections to say okay, well this is being covered here, this is [??] , this is a trend here, we should play this out, we should play this down.\\nWe’re continually minor tweaks, because you can’t go guardrail to guardrail, “Oh, this is cool today, this is cool tomorrow,” because you’ll never finish anything. But when you get to the finish line, it’s kind of like a relay. The last person across the finish line has to have the baton or you don’t win. So, you have to make sure you’re making sure through the stats, you’re checking to make sure you’re building the right thing, and you’re listening to the feedback.\\nAndrew: Here’s something that you said we should have asked you and we didn’t include — why companies should not be planning their exit. Why not?\\nPaula: You need to be playing lots of happy customers. You want to have lots of options. Because if you plan yourself to be bought, what do you do if you don’t get bought? Are you going to close? Because you’ll make shortcuts if you plan to be bought. If you plan to IPO, what are you going to do if the markets close? You want to build a profitable company with happy customers, and then you get to decide as time goes on are there liquidity events or things that move the company forward in different ways. But if you start to try to hash that out seven years before that happens, you may make some tradeoffs that don’t make any sense.\\nAndrew: What about the idea that it will help shape the way you manage your company if you’re planning to have someone else own it in the future? You don’t buy that.\\nPaula: I think that if your team doesn’t believe you’re all in, and that you’re going to make this successful with them and you’re thinking of a short term flip, you won’t get the passion. You won’t get the commitment, you won’t get the pride, and the customers won’t understand the fact that you’re not in for the long haul. We’re in this for the long haul. We’re going to succeed. We’re going to make sure they succeed. [??] How do think they’re going to succeed? It’s like planning your divorce before you get married. And you’re hoping that they have enough money so when the 50% [??]. I’m not sure that’s the relationship I want to get into.\\nAndrew: I see. That makes sense. One last thing, and that I want to thank you not just for doing this interview, but- I have a new baby, he’s about five months old. I didn’t know what to do when the nanny couldn’t be there the other day. We scheduled an interview for the day when, for the first time, the nanny couldn’t make it. I said oh, what do I do now? I just asked you if you wouldn’t mind changing and frankly, I was actually chickening out of it. Someone on the team sent you an email to see can we do it, and I also asked Andrea to do it so she can keep following up with you and be there even if I had to go. But I really appreciate your understanding of it. The response was fantastic, thank you.\\nPaula: By the way, that’s always your priority. You need to be there the first day at kindergarten because they want to come home and tell you the story. You need to be there for every recital and every event because they won’t remember if you were there, but they’ll remember if you weren’t. I didn’t do that as well as I could have, but I’m telling everybody else so they don’t make the same mistake I did.\\nAndrew: Part of the reason I was hesitating as I said it is, I don’t know if you felt this way, but I’m kind of uncomfortable saying to the world I have a kid in the tech world. I kind of feel like some people are going to write me off because of it, or if it becomes a problem they will anticipate the problem too much. I’ve found myself hesitating.\\nPaula: You shouldn’t, because I don’t even want to hang out with the people who think that way. You’re going to get what you need to get done, and we all have to have a little flexibility, right?\\nAndrew. Yeah, because I didn’t recognize that I was thinking that way, and I’m glad that you want to hang out with me now that I’ve accepted. Thank you so much.\\nPaula: Great! Okay.\\nAndrew: This has been fantastic from beginning to end, thank you so much for doing this interview. Everyone out there who’s watching, thank you all for being a part of it. Bye guys.\\n\\n\\nMixergy's audio transcription is done by Speechpad\"]"
      ]
     },
     "execution_count": 12,
     "metadata": {},
     "output_type": "execute_result"
    }
   ],
   "source": [
    "para"
   ]
  },
  {
   "cell_type": "code",
   "execution_count": null,
   "metadata": {},
   "outputs": [],
   "source": [
    "\\nTim Ferriss.*?\\nJason Fried"
   ]
  },
  {
   "cell_type": "code",
   "execution_count": null,
   "metadata": {
    "scrolled": false
   },
   "outputs": [],
   "source": [
    "paragraphs = re.findall(r'[^\\.!?]*[\\.!?]*?', str(para))"
   ]
  },
  {
   "cell_type": "code",
   "execution_count": null,
   "metadata": {
    "scrolled": false
   },
   "outputs": [],
   "source": [
    "paragraphs = re.findall(r'([^\\.!?]*[\\.!?]*?)', str(para))"
   ]
  },
  {
   "cell_type": "code",
   "execution_count": null,
   "metadata": {
    "scrolled": false
   },
   "outputs": [],
   "source": [
    "paragraphs = re.findall(r'Tim Ferriss([\\s\\S]*?)Jason Fried:', str(para))"
   ]
  },
  {
   "cell_type": "code",
   "execution_count": 87,
   "metadata": {
    "scrolled": false
   },
   "outputs": [],
   "source": [
    "paragraphs = re.findall(r'HOFFMAN:([\\s\\S]*?)PINCUS:', str(para))"
   ]
  },
  {
   "cell_type": "code",
   "execution_count": 13,
   "metadata": {
    "scrolled": false
   },
   "outputs": [],
   "source": [
    "paragraphs = re.findall(r'Andrew:([\\s\\S]*?)Paula:', str(para))"
   ]
  },
  {
   "cell_type": "code",
   "execution_count": 79,
   "metadata": {
    "scrolled": false
   },
   "outputs": [],
   "source": [
    "paragraphs = re.findall(r'HOFFMAN.*? ([^:(]*)MARK', str(para))"
   ]
  },
  {
   "cell_type": "code",
   "execution_count": 14,
   "metadata": {},
   "outputs": [
    {
     "data": {
      "text/plain": [
       "[' Hey there, freedom fighters. My name is Andrew Warner. I’m the founder of Mixergy.com, home of the ambitious upstart and the oldest, longest-running tech interview show where I interview entrepreneurs about how they built their businesses.\\\\nToday’s guest is the founder of EqualLogic, a company that she sold for $1.375 billion in cash! When the deal was announced, it was the largest ever cash purchase of a private venture-backed tech company, and you and I never heard about it in the tech press but we’re going to learn about how she did it here today.\\\\nPaula Long is the founder of EqualLogic, a supplier of data storage for large companies. She sold the business to Dell. We’ll find out how she did it and we’ll also find out why the following year she launched a company that she’s running today called DataGravity which turns storage from a container to an asset to give you insight into your data.\\\\nAnd this whole thing is sponsored by- Well, actually if you’re out there, I’d like to give you a free spot here, a free ad. You might have seen me talk about how I created a landing page that collects email addresses and explains what Mixergy is and now I’m making it available to you. Well, you know what? Anyone can take their best landing page idea or their existing landing page and turn it into a template and sell in on a marketplace called LeadPages. If you do it, and you send me a link to it, I will give you a free ad and I will help sell your landing page template.\\\\nYou’re going to allow other people to use this page you create to help grow their leads and get more email addresses and get more engagements. If you’re interested in that go to mixergy.com/leadpages. When you do that, you’ll get all the information you need and if you create a page, I will give you free sponsorship ads and help you sell that page right here on Mixergy for free.\\\\nPaula, welcome!\\\\n',\n",
       " ' I like that as I was doing that sponsorship spot you were nodding and really going along. I have to tell you when I found out that you sold your business for over a billion dollars I really expected a monocle and aloofness.\\\\n',\n",
       " ' No, did you get to do anything crazy with that money? Did you get to buy… I don’t know what. What do you even do with that?\\\\n',\n",
       " ' What’s the greatest thing you got to buy for a family member? One that makes you feel really good.\\\\n',\n",
       " ' Why shouldn’t you say that? Because then every other relative is going to ask you for college also?\\\\n',\n",
       " ' I see. Okay. All right. This whole thing- The interesting part to me is it started when you were working at a company in the dotcom bubble. And then what happened to that business in the end?\\\\n',\n",
       " ' I want to ask you about this idea, and I actually am typing out a note to myself to make sure that I follow up on one of the phrases that you used. But first I’ve got to ask you about the mindset. I do remember when the dotcom bubble burst. People who thought that they were invincible suddenly thought of the world as being an unfair place, that’s it’s just not worth ever trying. And I have several entrepreneur friends who said ‘I’m not going to go back into an Internet startup. It’s not real. I need bricks and real storage. Why didn’t you feel any of that?\\\\n',\n",
       " ' But why didn’t you lose your confidence in that idea? I understand that that does seem like a really worthy goal, but why wasn’t your confidence shaken, or was it?\\\\n',\n",
       " ' And the vision that you had was–you started talking about it earlier–storage is static. What does that mean: storage is static?\\\\n',\n",
       " ' Who are the typical enterprise eight million who you envision would be your customer?\\\\n',\n",
       " ' Did you discover this issue because you were working at [??]. Oh, wait, something just happened to your lights.\\\\n',\n",
       " ' Oh, yes, they are.\\\\n',\n",
       " ' All right. I’ve timed it. Every 10 minutes we’re going to have to move, I mean you.\\\\n',\n",
       " ' That’s all right. They actually turn my air conditioning off here at about 4:00, so in 10 minutes they’re going to turn the AC off and I’m going to be really hot. Energy saving is good for the environment, it’s bad for interviews. Did you learn about this issue when you are working at [??], or was this before?\\\\n',\n",
       " ' You know, we asked you in the pre-interview, what class on entrepreneurship would you teach and you said it would be a “Why are you here and why do you want to be an entrepreneur?” Wondering how did you get into, why are you in hardware? Why are you in storage? It doesn’t seem like the kind of thing that kids growing up will read in “Business Week” and say or “Fortune” magazine and say “I’ve got to build that.” Why did you get into it?\\\\n',\n",
       " ' Okay.\\\\n',\n",
       " ' I see. You know, the reason I’m asking is because I do feel like I am in an idea bubble and we all are in tech. We read “TechCrunch” and they basically don’t know how to explain what data gravity is. Right? We read Techmeme and they love doing those multi-collections of posts on the latest iPhone operating update.\\\\nSo we don’t, we get exposed to that which isn’t very helpful. We don’t get exposed to ideas like the one that got you started and I’m wondering what can we do to get exposed to those bigger ideas that not as many people are paying attention to.\\\\n',\n",
       " ' I see, all right. And you are paying attention to different things than others might be paying attention to and you’re looking for a connection. And the other thing that you said I want to make sure that I pay attention to which is you ask customers or you look at customers lives and you see what are they doing over and over that could be automated for a price. You’re not just going to do it for free or work for people who don’t have money because you need to be able to charge.\\\\n',\n",
       " ' When you had the idea, you took it out to banks. What did banks say?\\\\n',\n",
       " ' Why not?\\\\n',\n",
       " ' Okay. And so they were willing to do that. Did they also help you understand what the product should be in order to win their business?\\\\n',\n",
       " ' Emmett Shear of Twitch TV told me that. He said people want higher resolution, better videos when they’re on. They asked him for it when they were on Twitch TV so they could watch better streaming of the video games that they do on Twitch TV. He asked them why. Why do you want that solution instead of just going and building it? He discovered that a lot of people had really poor Internet connections. Because he was serving already high quality video, they’re slow Internet connections couldn’t keep up and so the video looked bad. So the answer to their problem, actually, wasn’t to give them what they wanted, which is better quality video, but to reduce the quality of the videos so it streams faster, no buffering, and it works better. Do you have an example like that from your business?\\\\n',\n",
       " ' You stuck with that? I thought you were going to say, “Then we ended up adding knobs just to give them what they were asking for.” No. So what you’re doing is, when they tell you what they want, you ask why, and that helps you understand the problem that they’re looking to solve or the worldview that they have that they need you to accept.\\\\n',\n",
       " ' Okay. ',\n",
       " ' I see. That’s how you put together your requirement list for the product you were going to create?\\\\n',\n",
       " ' Okay. ',\n",
       " ' You said you wrote the architecture and then you got architecture reviews.\\\\n',\n",
       " ' Okay.\\\\n',\n",
       " ' How was raising money at the time to do all this?\\\\n',\n",
       " ' Why?\\\\n',\n",
       " ' Yeah. All right. When you finally lost…\\\\n',\n",
       " ' No nods, no changes that the venture capitalists wanted.\\\\n',\n",
       " ' How long did it take from launch of the business April 1 to the launch of the first product?\\\\n',\n",
       " ' Okay.\\\\n',\n",
       " ' And this was before you actually had a product to sell or is it only after…\\\\n',\n",
       " ' When you were selling. Okay. Did you have any customers before you created the first product or were you just expecting that you will based on the feedback you were getting?\\\\n',\n",
       " ' Getting at beta customers in enterprise seems hard. Was it?\\\\n',\n",
       " ' Mm-hmm.\\\\n',\n",
       " ' I see. One of the low points was when, in 2004, your venture capitalists, your investors said to you, we need a new CEO. Why did they say that?\\\\n',\n",
       " ' I guess I get what they were thinking back then. They said, you know, that you want the CEO to be better known and also you want someone who has more experience to run these companies. Right? How do you get enough experience to run a company without actually having run a company?\\\\n',\n",
       " ' Mm-hmm.\\\\n',\n",
       " ' Mm-hmm.\\\\n',\n",
       " ' Who was a key hire for you that way?\\\\n',\n",
       " ' EqualLogic, did you quit when they said that they needed a new CEO?\\\\n',\n",
       " ' Is it because of that or is it because you just saw your baby in someone else’s arms and you didn’t want to be there every day for it.\\\\n',\n",
       " ' I see the article here. Actually, the Business Wire press release that EqualLogic sent out back in 2003 with the new president and CEO. What happened to him? You quit?\\\\n',\n",
       " ' Why you back? They’re basically back where they were before. Why did they reverse themselves?\\\\n',\n",
       " ' I see. Then Jack was brought in. Am I right about that?\\\\n',\n",
       " ' I see.\\\\n',\n",
       " ' I see. Okay.\\\\nThen they kept you on and they said this passion, this vision, the continuity–this is what we need–and they kept you going.\\\\n',\n",
       " ' Do you keep any resentment afterwards? Did you say: I’m going to show these guys?\\\\n',\n",
       " ' None of that?\\\\n',\n",
       " ' Really? Okay.\\\\n',\n",
       " ' Wow.\\\\n',\n",
       " ' Sorry, what was that last part? The connection cut off a bit.\\\\n',\n",
       " ' You said that one of the things that you got out of this experience was you had confidence in your intuition after this experience. When was your confidence and your intuition most shaky?\\\\n',\n",
       " ' Do you ever feel like, “If I ask this question, I’m just going to look like a person who doesn’t fit in the conversation”?\\\\n',\n",
       " ' That became your phrase: I’m confused here.\\\\n',\n",
       " ' Why do we want to go and use this currency? Then they have to step up and explain.\\\\n',\n",
       " ' Okay. Frankly, I’ve told you this from the start. I’m a little intimidated here in this conversation because of the topic that we’re talking about and because of what you were able to build, and also\\\\nbecause there isn’t that much publicly available easily. Your LinkedIn profile, for example, doesn’t get started until after you sold to Dell. Your job title, though, changed a few times while you were there even though you were the founder, obviously, throughout. What were the different job titles that you had?\\\\n',\n",
       " ' How did the Dell sale come about?\\\\n',\n",
       " ' Oh, wow.\\\\n',\n",
       " ' Venture Beat did a great post on the sale, and I like this quote here from a guy named Greg Gretch, managing director at Sigma and an early investor in EqualLogic. He said, “I’m sure EMC’s chief executive Joe Tucci woke up with a headache.”\\\\n',\n",
       " ' Do you remember the day that the sale went through and your life was essentially changed forever?\\\\n',\n",
       " ' Really?\\\\n',\n",
       " ' What was your obligation to Dell after the sale?\\\\n',\n",
       " ' I see it, actually. Two years, two months with Dell.\\\\n',\n",
       " ' Two years, four days! Why does your Linked-In profile start with that?\\\\n',\n",
       " ' [Laughs] This is a Data Gravity.\\\\n',\n",
       " ' Because your profile on Data Gravity’s website is fantastic. I don’t know who wrote that but they did a great job with that. That’s maybe the best thing I was able to find online about you. It’s just like a nice summary.\\\\n',\n",
       " ' What would you like to do in social media?\\\\n',\n",
       " ' Nothing, yeah.\\\\n',\n",
       " ' I’m sure they do, that’s why we’re doing this conversation right now.\\\\n',\n",
       " ' So I’m looking again at this LinkedIn profile, and it goes from Dell, January 2008 to 2010. Then Heartland Robotics comes in afterwards, VP in Engineering. What happened there?\\\\n',\n",
       " ' And that’s when you dusted off this domain that you’ve owned for a long time, you owned Data Gravity for about ten years before you launched it, and what was the vision for this business?\\\\n',\n",
       " ' Am I seeing similarities here in reducing complexity, reducing price?\\\\n',\n",
       " ' Let me see how we found, sorry?\\\\n',\n",
       " ' By the way, so TechCrunch’s introduction to you, this was from their post on January 2013. It starts off with, “Data Gravity, a stealthy data storage analytics company, has raised $30 million in Series B, led by Andreessen Horowitz, etc. NCRV is back. Were you intentionally stealthy?\\\\n',\n",
       " ' Why?\\\\n',\n",
       " ' What about what Eric Reese was talking about, with the lean start up methodology of starting lean, of talking to customers, of getting feedback throughout? Did you find another way of getting that feedback, or was it just wait until the product? I won’t tell you until I can show you?\\\\n',\n",
       " ' I see. That’s what he told me to pay attention to years ago. He said, “Stealth doesn’t always mean stealth. If stealth means don’t talk to the media, then terrific. Focus on your customers. But if stealth means don’t talk to customers, then that’s a problem, and so in your case, you were talking to customers, you just weren’t talking to TechCrunch. The way that we found you was this article on Business Insider about the most successful people in tech you’ve probably never heard of. Were you on that list? Let me see.\\\\n',\n",
       " ' Yeah, there you are. Right there on that list. Is that intentional?\\\\n',\n",
       " ' But you just became stealthy. You’re not the kind of person who’s out there?\\\\n',\n",
       " ' When I asked you, “What’s in it for you here in this interview?” Actually, I said, “What’s a win for you?” and you didn’t say, “You know, Andrew, we need to do this for biz dev reasons.” You don’t need that. “Andrew, we’re doing this interview because I need to get another customer.” That’s not how it works for you. So, you said instead, “I want your audience to understand that they could do it at any age. They could take those risks. They don’t have to be a Stanford graduate.” I’m looking here at the list. Any age, any gender, why is that an important message for you to leave the audience with?\\\\n',\n",
       " ' Did you have, when you started out, when you started EqualLogic, did you have a sense of because you’re a woman or because of your age it was an issue? Was any of it an issue?\\\\n',\n",
       " ' It wasn’t about entrepreneurship for you. It was just that you had this idea and you had the time and the flexibility to do it.\\\\n',\n",
       " ' Oh I see. Okay.\\\\n',\n",
       " ' You know one of my challenges as an interviewer is to find more female entrepreneurs to come and do interviews. And I know that my imbalance on Mixergy is not because there aren’t enough female entrepreneurs. Frankly, even if the world has 10% female entrepreneurs and 90%, that more than fills a year of interviews. More than fills up a lifetime of interviews.\\\\n',\n",
       " ' So it’s a challenge of discovery, not a challenge of based on the existence or lack of. How do I, do you have any advice for me on how to find female entrepreneurs to feature here on Mixergy? I think it’s important.\\\\n',\n",
       " ' No.\\\\n',\n",
       " ' Are you presenting there?\\\\n',\n",
       " ' Okay.\\\\n',\n",
       " ' Did you get any benefit, like, from a program like this when you came up the ranks?\\\\n',\n",
       " ' No.\\\\n',\n",
       " ' For me it was Forbes Magazine. In the 80s and 90s they were fantastic. They would feature entrepreneurs like Ted Turner in heroic stories that were easy to read. And, even for a guy who was just getting started and didn’t know much about business, less intimidating . . . I was going to say less intimidating than the Wall Street Journal, but the Wall Street Journal wasn’t as intimidating as you’d think. It would, every time they talked about short-selling, they would always have that comma, explain what short-selling is comma, continue with the story. But, anyway, it was those kinds of stories that inspired me as I built my first business. I did Mixergy. For you what was that inspiration?\\\\n',\n",
       " ' I see. That makes sense. All right, let me close off by asking you one of the questions that in the pre-interview we said what questions didn’t we ask you, what didn’t we think about.\\\\nBut first I should say, anyone who wants to follow up on this you should know that in addition to interviews, and yeah, we have an archive here on Mixergy of over a thousand interviews. I say we because, yes, I’m the face and yes, I’m the person who does these interviews, but as you can see a lot of people go into researching, pre-interview, and putting it together. Well, so we’ve all worked together to put over a thousand interviews with entrepreneurs here on Mixergy and they’re available to you if you want to understand how they’ve all built their businesses. We get really in depth in them.\\\\nBut in addition to them, we have courses, led by people you will recognize, people like Keith Ferrazzi, the author of “Never Eat Alone”. People like Ryan Holiday, the guy who is helping so many authors promote their books. People who I think are especially interesting, especially good at doing one thing, one aspect of business, like connecting with people. They come on and they teach that one thing, step by step, on Mixergy. And if you haven’t checked out the courses I encourage you to look at them. They’re on, there’s a link on the top of every one of the Mixergy pages of courses. Click over and check them out.\\\\nSo here’s what you said we should keep doing, that you would teach other entrepreneurs; how to execute and keep testing. That’s something that we didn’t get to talk about. How would you do that?\\\\n',\n",
       " ' Mm-hmm.\\\\n',\n",
       " ' Yep.\\\\n',\n",
       " ' Oh there’s a light, there you go.\\\\n',\n",
       " ' So how do you test, when it takes so long and you’re in the hardware business.\\\\n',\n",
       " ' Here’s something that you said we should have asked you and we didn’t include — why companies should not be planning their exit. Why not?\\\\n',\n",
       " ' What about the idea that it will help shape the way you manage your company if you’re planning to have someone else own it in the future? You don’t buy that.\\\\n',\n",
       " ' I see. That makes sense. One last thing, and that I want to thank you not just for doing this interview, but- I have a new baby, he’s about five months old. I didn’t know what to do when the nanny couldn’t be there the other day. We scheduled an interview for the day when, for the first time, the nanny couldn’t make it. I said oh, what do I do now? I just asked you if you wouldn’t mind changing and frankly, I was actually chickening out of it. Someone on the team sent you an email to see can we do it, and I also asked Andrea to do it so she can keep following up with you and be there even if I had to go. But I really appreciate your understanding of it. The response was fantastic, thank you.\\\\n',\n",
       " ' Part of the reason I was hesitating as I said it is, I don’t know if you felt this way, but I’m kind of uncomfortable saying to the world I have a kid in the tech world. I kind of feel like some people are going to write me off because of it, or if it becomes a problem they will anticipate the problem too much. I’ve found myself hesitating.\\\\n']"
      ]
     },
     "execution_count": 14,
     "metadata": {},
     "output_type": "execute_result"
    }
   ],
   "source": [
    "paragraphs"
   ]
  },
  {
   "cell_type": "code",
   "execution_count": null,
   "metadata": {
    "scrolled": false
   },
   "outputs": [],
   "source": [
    "paragraphs = re.findall(r'([A-Z][^\\.!?]*[\\.!?])', str(para))"
   ]
  },
  {
   "cell_type": "code",
   "execution_count": null,
   "metadata": {
    "scrolled": false
   },
   "outputs": [],
   "source": [
    "paragraphs = re.findall(r'Feloni:.*?\\s+[^.!?]*[.!?]', str(para))"
   ]
  },
  {
   "cell_type": "code",
   "execution_count": null,
   "metadata": {},
   "outputs": [],
   "source": [
    "paragraphs = re.findall('\\s+[^.!?]*[.!?]', str(para))"
   ]
  },
  {
   "cell_type": "code",
   "execution_count": 15,
   "metadata": {},
   "outputs": [],
   "source": [
    "table = pd.DataFrame(paragraphs, columns = ['C'])"
   ]
  },
  {
   "cell_type": "code",
   "execution_count": 16,
   "metadata": {},
   "outputs": [
    {
     "data": {
      "text/html": [
       "<div>\n",
       "<style scoped>\n",
       "    .dataframe tbody tr th:only-of-type {\n",
       "        vertical-align: middle;\n",
       "    }\n",
       "\n",
       "    .dataframe tbody tr th {\n",
       "        vertical-align: top;\n",
       "    }\n",
       "\n",
       "    .dataframe thead th {\n",
       "        text-align: right;\n",
       "    }\n",
       "</style>\n",
       "<table border=\"1\" class=\"dataframe\">\n",
       "  <thead>\n",
       "    <tr style=\"text-align: right;\">\n",
       "      <th></th>\n",
       "      <th>C</th>\n",
       "    </tr>\n",
       "  </thead>\n",
       "  <tbody>\n",
       "    <tr>\n",
       "      <th>0</th>\n",
       "      <td>Hey there, freedom fighters. My name is Andrew Warner. I’m the founder of Mixergy.com, home of the ambitious upstar...</td>\n",
       "    </tr>\n",
       "    <tr>\n",
       "      <th>1</th>\n",
       "      <td>I like that as I was doing that sponsorship spot you were nodding and really going along. I have to tell you when I...</td>\n",
       "    </tr>\n",
       "    <tr>\n",
       "      <th>2</th>\n",
       "      <td>No, did you get to do anything crazy with that money? Did you get to buy… I don’t know what. What do you even do wi...</td>\n",
       "    </tr>\n",
       "    <tr>\n",
       "      <th>3</th>\n",
       "      <td>What’s the greatest thing you got to buy for a family member? One that makes you feel really good.\\n</td>\n",
       "    </tr>\n",
       "    <tr>\n",
       "      <th>4</th>\n",
       "      <td>Why shouldn’t you say that? Because then every other relative is going to ask you for college also?\\n</td>\n",
       "    </tr>\n",
       "    <tr>\n",
       "      <th>...</th>\n",
       "      <td>...</td>\n",
       "    </tr>\n",
       "    <tr>\n",
       "      <th>99</th>\n",
       "      <td>So how do you test, when it takes so long and you’re in the hardware business.\\n</td>\n",
       "    </tr>\n",
       "    <tr>\n",
       "      <th>100</th>\n",
       "      <td>Here’s something that you said we should have asked you and we didn’t include — why companies should not be plannin...</td>\n",
       "    </tr>\n",
       "    <tr>\n",
       "      <th>101</th>\n",
       "      <td>What about the idea that it will help shape the way you manage your company if you’re planning to have someone else...</td>\n",
       "    </tr>\n",
       "    <tr>\n",
       "      <th>102</th>\n",
       "      <td>I see. That makes sense. One last thing, and that I want to thank you not just for doing this interview, but- I hav...</td>\n",
       "    </tr>\n",
       "    <tr>\n",
       "      <th>103</th>\n",
       "      <td>Part of the reason I was hesitating as I said it is, I don’t know if you felt this way, but I’m kind of uncomfortab...</td>\n",
       "    </tr>\n",
       "  </tbody>\n",
       "</table>\n",
       "<p>104 rows × 1 columns</p>\n",
       "</div>"
      ],
      "text/plain": [
       "                                                                                                                           C\n",
       "0     Hey there, freedom fighters. My name is Andrew Warner. I’m the founder of Mixergy.com, home of the ambitious upstar...\n",
       "1     I like that as I was doing that sponsorship spot you were nodding and really going along. I have to tell you when I...\n",
       "2     No, did you get to do anything crazy with that money? Did you get to buy… I don’t know what. What do you even do wi...\n",
       "3                       What’s the greatest thing you got to buy for a family member? One that makes you feel really good.\\n\n",
       "4                      Why shouldn’t you say that? Because then every other relative is going to ask you for college also?\\n\n",
       "..                                                                                                                       ...\n",
       "99                                          So how do you test, when it takes so long and you’re in the hardware business.\\n\n",
       "100   Here’s something that you said we should have asked you and we didn’t include — why companies should not be plannin...\n",
       "101   What about the idea that it will help shape the way you manage your company if you’re planning to have someone else...\n",
       "102   I see. That makes sense. One last thing, and that I want to thank you not just for doing this interview, but- I hav...\n",
       "103   Part of the reason I was hesitating as I said it is, I don’t know if you felt this way, but I’m kind of uncomfortab...\n",
       "\n",
       "[104 rows x 1 columns]"
      ]
     },
     "execution_count": 16,
     "metadata": {},
     "output_type": "execute_result"
    }
   ],
   "source": [
    "table"
   ]
  },
  {
   "cell_type": "code",
   "execution_count": null,
   "metadata": {},
   "outputs": [],
   "source": [
    "table = table[table.C.str.contains(r'Cindy Whitehead:') == False].copy()"
   ]
  },
  {
   "cell_type": "code",
   "execution_count": null,
   "metadata": {},
   "outputs": [],
   "source": [
    "table = table.iloc[[]].copy()"
   ]
  },
  {
   "cell_type": "code",
   "execution_count": null,
   "metadata": {},
   "outputs": [],
   "source": [
    "table = table.drop([57]).copy()"
   ]
  },
  {
   "cell_type": "code",
   "execution_count": null,
   "metadata": {},
   "outputs": [],
   "source": [
    "table = table[1:].copy()"
   ]
  },
  {
   "cell_type": "code",
   "execution_count": null,
   "metadata": {},
   "outputs": [],
   "source": [
    "table = table[:-3].copy()"
   ]
  },
  {
   "cell_type": "code",
   "execution_count": null,
   "metadata": {},
   "outputs": [],
   "source": [
    "table[15:]"
   ]
  },
  {
   "cell_type": "code",
   "execution_count": null,
   "metadata": {},
   "outputs": [],
   "source": [
    "table = table.iloc[[19]].copy()"
   ]
  },
  {
   "cell_type": "code",
   "execution_count": null,
   "metadata": {},
   "outputs": [],
   "source": [
    "table"
   ]
  },
  {
   "cell_type": "code",
   "execution_count": null,
   "metadata": {},
   "outputs": [],
   "source": []
  },
  {
   "cell_type": "code",
   "execution_count": null,
   "metadata": {},
   "outputs": [],
   "source": []
  },
  {
   "cell_type": "code",
   "execution_count": null,
   "metadata": {},
   "outputs": [],
   "source": [
    "table = table.iloc[[1, 5, 7, 10, 13]].copy()"
   ]
  },
  {
   "cell_type": "code",
   "execution_count": null,
   "metadata": {},
   "outputs": [],
   "source": [
    "table = table[23:].copy()"
   ]
  },
  {
   "cell_type": "code",
   "execution_count": null,
   "metadata": {},
   "outputs": [],
   "source": [
    "table = table[:-3].copy()"
   ]
  },
  {
   "cell_type": "code",
   "execution_count": null,
   "metadata": {},
   "outputs": [],
   "source": [
    "table = table.drop([49,50]).copy()"
   ]
  },
  {
   "cell_type": "code",
   "execution_count": null,
   "metadata": {},
   "outputs": [],
   "source": [
    "table = table.dropna(how='all')"
   ]
  },
  {
   "cell_type": "code",
   "execution_count": null,
   "metadata": {},
   "outputs": [],
   "source": [
    "table['C'] = table['C'].str.replace(r'â', ' ')"
   ]
  },
  {
   "cell_type": "code",
   "execution_count": null,
   "metadata": {},
   "outputs": [],
   "source": [
    "table['C'] = table['C'].str.replace(r'Tobi Lütke:.*?Tim Ferriss:', '  ')"
   ]
  },
  {
   "cell_type": "code",
   "execution_count": 17,
   "metadata": {},
   "outputs": [],
   "source": [
    "table['C'] = table['C'].str.replace(r'\\\\n', ' ')"
   ]
  },
  {
   "cell_type": "code",
   "execution_count": 18,
   "metadata": {},
   "outputs": [],
   "source": [
    "table['C'] = table['C'].str.replace(r'\\\\xa0', ' ')"
   ]
  },
  {
   "cell_type": "code",
   "execution_count": null,
   "metadata": {},
   "outputs": [],
   "source": [
    "table['C'] = table['C'].str.replace(r'Excerpts:', ' ')"
   ]
  },
  {
   "cell_type": "code",
   "execution_count": 19,
   "metadata": {},
   "outputs": [
    {
     "data": {
      "text/html": [
       "<div>\n",
       "<style scoped>\n",
       "    .dataframe tbody tr th:only-of-type {\n",
       "        vertical-align: middle;\n",
       "    }\n",
       "\n",
       "    .dataframe tbody tr th {\n",
       "        vertical-align: top;\n",
       "    }\n",
       "\n",
       "    .dataframe thead th {\n",
       "        text-align: right;\n",
       "    }\n",
       "</style>\n",
       "<table border=\"1\" class=\"dataframe\">\n",
       "  <thead>\n",
       "    <tr style=\"text-align: right;\">\n",
       "      <th></th>\n",
       "      <th>C</th>\n",
       "    </tr>\n",
       "  </thead>\n",
       "  <tbody>\n",
       "    <tr>\n",
       "      <th>0</th>\n",
       "      <td>Hey there, freedom fighters. My name is Andrew Warner. I’m the founder of Mixergy.com, home of the ambitious upstar...</td>\n",
       "    </tr>\n",
       "    <tr>\n",
       "      <th>1</th>\n",
       "      <td>I like that as I was doing that sponsorship spot you were nodding and really going along. I have to tell you when I...</td>\n",
       "    </tr>\n",
       "    <tr>\n",
       "      <th>2</th>\n",
       "      <td>No, did you get to do anything crazy with that money? Did you get to buy… I don’t know what. What do you even do wi...</td>\n",
       "    </tr>\n",
       "    <tr>\n",
       "      <th>3</th>\n",
       "      <td>What’s the greatest thing you got to buy for a family member? One that makes you feel really good.</td>\n",
       "    </tr>\n",
       "    <tr>\n",
       "      <th>4</th>\n",
       "      <td>Why shouldn’t you say that? Because then every other relative is going to ask you for college also?</td>\n",
       "    </tr>\n",
       "    <tr>\n",
       "      <th>...</th>\n",
       "      <td>...</td>\n",
       "    </tr>\n",
       "    <tr>\n",
       "      <th>99</th>\n",
       "      <td>So how do you test, when it takes so long and you’re in the hardware business.</td>\n",
       "    </tr>\n",
       "    <tr>\n",
       "      <th>100</th>\n",
       "      <td>Here’s something that you said we should have asked you and we didn’t include — why companies should not be plannin...</td>\n",
       "    </tr>\n",
       "    <tr>\n",
       "      <th>101</th>\n",
       "      <td>What about the idea that it will help shape the way you manage your company if you’re planning to have someone else...</td>\n",
       "    </tr>\n",
       "    <tr>\n",
       "      <th>102</th>\n",
       "      <td>I see. That makes sense. One last thing, and that I want to thank you not just for doing this interview, but- I hav...</td>\n",
       "    </tr>\n",
       "    <tr>\n",
       "      <th>103</th>\n",
       "      <td>Part of the reason I was hesitating as I said it is, I don’t know if you felt this way, but I’m kind of uncomfortab...</td>\n",
       "    </tr>\n",
       "  </tbody>\n",
       "</table>\n",
       "<p>104 rows × 1 columns</p>\n",
       "</div>"
      ],
      "text/plain": [
       "                                                                                                                           C\n",
       "0     Hey there, freedom fighters. My name is Andrew Warner. I’m the founder of Mixergy.com, home of the ambitious upstar...\n",
       "1     I like that as I was doing that sponsorship spot you were nodding and really going along. I have to tell you when I...\n",
       "2     No, did you get to do anything crazy with that money? Did you get to buy… I don’t know what. What do you even do wi...\n",
       "3                        What’s the greatest thing you got to buy for a family member? One that makes you feel really good. \n",
       "4                       Why shouldn’t you say that? Because then every other relative is going to ask you for college also? \n",
       "..                                                                                                                       ...\n",
       "99                                           So how do you test, when it takes so long and you’re in the hardware business. \n",
       "100   Here’s something that you said we should have asked you and we didn’t include — why companies should not be plannin...\n",
       "101   What about the idea that it will help shape the way you manage your company if you’re planning to have someone else...\n",
       "102   I see. That makes sense. One last thing, and that I want to thank you not just for doing this interview, but- I hav...\n",
       "103   Part of the reason I was hesitating as I said it is, I don’t know if you felt this way, but I’m kind of uncomfortab...\n",
       "\n",
       "[104 rows x 1 columns]"
      ]
     },
     "execution_count": 19,
     "metadata": {},
     "output_type": "execute_result"
    }
   ],
   "source": [
    "table"
   ]
  },
  {
   "cell_type": "code",
   "execution_count": null,
   "metadata": {},
   "outputs": [],
   "source": []
  },
  {
   "cell_type": "code",
   "execution_count": null,
   "metadata": {},
   "outputs": [],
   "source": []
  },
  {
   "cell_type": "code",
   "execution_count": null,
   "metadata": {},
   "outputs": [],
   "source": []
  },
  {
   "cell_type": "code",
   "execution_count": null,
   "metadata": {},
   "outputs": [],
   "source": []
  },
  {
   "cell_type": "code",
   "execution_count": 20,
   "metadata": {},
   "outputs": [],
   "source": [
    "def remove_html_tags(data):\n",
    "    p = re.compile(r'<.*?>')\n",
    "    return p.sub('', data)"
   ]
  },
  {
   "cell_type": "code",
   "execution_count": 21,
   "metadata": {},
   "outputs": [],
   "source": [
    "clean = table['C'].apply(remove_html_tags).copy()\n",
    "# full = clean.to_frame()"
   ]
  },
  {
   "cell_type": "code",
   "execution_count": 22,
   "metadata": {},
   "outputs": [],
   "source": [
    "def unescape(text):\n",
    "    \"\"\"\n",
    "    Converts HTML character codes to Unicode code points.\n",
    "\n",
    "    @param text the HTML (or XML) source text in any encoding.\n",
    "    @return The plain text, as a Unicode string, if necessary.\n",
    "    \"\"\"\n",
    "    def fixup(m):\n",
    "        text = m.group(0)\n",
    "        if text[:2] == \"&#\":\n",
    "            try:\n",
    "                if text[:3] == \"&#x\":\n",
    "                    return chr(int(text[3:-1], 16))\n",
    "                else:\n",
    "                    return chr(int(text[2:-1]))\n",
    "            except ValueError:\n",
    "                pass\n",
    "        else:\n",
    "            try:\n",
    "                text = chr(html.entities.name2codepoint[text[1:-1]])\n",
    "            except KeyError:\n",
    "                pass\n",
    "        return text\n",
    "    return re.sub(\"&#?\\w+;\", fixup, text)\n",
    "\n",
    "    return re.sub(\"&#?\\w+;\", fixup, text)"
   ]
  },
  {
   "cell_type": "code",
   "execution_count": 23,
   "metadata": {},
   "outputs": [],
   "source": [
    "final = clean.apply(unescape).copy() "
   ]
  },
  {
   "cell_type": "code",
   "execution_count": 24,
   "metadata": {
    "scrolled": true
   },
   "outputs": [
    {
     "data": {
      "text/plain": [
       "0       Hey there, freedom fighters. My name is Andrew Warner. I’m the founder of Mixergy.com, home of the ambitious upstar...\n",
       "1       I like that as I was doing that sponsorship spot you were nodding and really going along. I have to tell you when I...\n",
       "2       No, did you get to do anything crazy with that money? Did you get to buy… I don’t know what. What do you even do wi...\n",
       "3                          What’s the greatest thing you got to buy for a family member? One that makes you feel really good. \n",
       "4                         Why shouldn’t you say that? Because then every other relative is going to ask you for college also? \n",
       "                                                                ...                                                           \n",
       "99                                             So how do you test, when it takes so long and you’re in the hardware business. \n",
       "100     Here’s something that you said we should have asked you and we didn’t include — why companies should not be plannin...\n",
       "101     What about the idea that it will help shape the way you manage your company if you’re planning to have someone else...\n",
       "102     I see. That makes sense. One last thing, and that I want to thank you not just for doing this interview, but- I hav...\n",
       "103     Part of the reason I was hesitating as I said it is, I don’t know if you felt this way, but I’m kind of uncomfortab...\n",
       "Name: C, Length: 104, dtype: object"
      ]
     },
     "execution_count": 24,
     "metadata": {},
     "output_type": "execute_result"
    }
   ],
   "source": [
    "final"
   ]
  },
  {
   "cell_type": "code",
   "execution_count": 25,
   "metadata": {},
   "outputs": [],
   "source": [
    "final.to_csv('PaulaLong.txt', sep = ' ', header = False, index = False)"
   ]
  },
  {
   "cell_type": "code",
   "execution_count": null,
   "metadata": {},
   "outputs": [],
   "source": []
  }
 ],
 "metadata": {
  "kernelspec": {
   "display_name": "Python 3",
   "language": "python",
   "name": "python3"
  },
  "language_info": {
   "codemirror_mode": {
    "name": "ipython",
    "version": 3
   },
   "file_extension": ".py",
   "mimetype": "text/x-python",
   "name": "python",
   "nbconvert_exporter": "python",
   "pygments_lexer": "ipython3",
   "version": "3.6.5"
  }
 },
 "nbformat": 4,
 "nbformat_minor": 2
}
