{
 "cells": [
  {
   "cell_type": "markdown",
   "metadata": {},
   "source": [
    "# when there is a missing index\n",
    "missing = main.loc[[34]].copy()\n",
    "# when concatting the missing index\n",
    "whole = pd.concat([missing, new]).copy()"
   ]
  },
  {
   "cell_type": "code",
   "execution_count": 1,
   "metadata": {},
   "outputs": [],
   "source": [
    "import pandas as pd\n",
    "import re\n",
    "import requests\n",
    "pd.set_option('display.max_colwidth', 400)"
   ]
  },
  {
   "cell_type": "code",
   "execution_count": 2,
   "metadata": {},
   "outputs": [
    {
     "data": {
      "text/plain": [
       "'C:\\\\Users\\\\2918261\\\\Dropbox\\\\Corner Office Interviews\\\\ComparisonCorpusText'"
      ]
     },
     "execution_count": 2,
     "metadata": {},
     "output_type": "execute_result"
    }
   ],
   "source": [
    "import os\n",
    "from urllib.request import urlopen\n",
    "import http.cookiejar as cookielib\n",
    "import re\n",
    "import html.entities\n",
    "import codecs\n",
    "import time\n",
    "from bs4 import BeautifulSoup\n",
    "\n",
    "# C://Users//2918261//Courses//Oslo Summer School//notebooks//Interviews\n",
    "# C://Users//Toshiba//Dropbox//Corner Office Interviews//ComparisonCorpusText\n",
    "# C://Users//2918261//Courses//Oslo Summer School//notebooks//Interviews\n",
    "# os.chdir('C://Users//2918261//Dropbox//Corner Office Interviews//ComparisonCorpusText')\n",
    "# 'C://Users//Toshiba//Dropbox//Corner Office Interviews//ComparisonCorpusText'\n",
    "os.chdir('C://Users//2918261//Dropbox//Corner Office Interviews//ComparisonCorpusText')\n",
    "os.getcwd()"
   ]
  },
  {
   "cell_type": "code",
   "execution_count": 3,
   "metadata": {},
   "outputs": [],
   "source": [
    "# import PyPDF2"
   ]
  },
  {
   "cell_type": "code",
   "execution_count": 4,
   "metadata": {},
   "outputs": [],
   "source": [
    "# pdf = open('C:/Users/2918261/Dropbox/Corner Office Interviews/Interview_Sources/DesigningInteractions_5.pdf', 'rb')"
   ]
  },
  {
   "cell_type": "code",
   "execution_count": 5,
   "metadata": {},
   "outputs": [],
   "source": [
    "# pdf = open('C:/Users/Toshiba/Documents/36-alexis-ohanian.pdf', 'rb')"
   ]
  },
  {
   "cell_type": "code",
   "execution_count": 6,
   "metadata": {},
   "outputs": [],
   "source": [
    "# pdfReader = PyPDF2.PdfFileReader(pdf, strict = False)"
   ]
  },
  {
   "cell_type": "code",
   "execution_count": 7,
   "metadata": {},
   "outputs": [],
   "source": [
    "# pdfReader.numPages"
   ]
  },
  {
   "cell_type": "markdown",
   "metadata": {},
   "source": [
    "full_text = ''\n",
    "\n",
    "for page_number in range(0, pdfReader.numPages):\n",
    "    new_page_text = pdfReader.getPage(page_number).extractText()\n",
    "    full_text = full_text +  '\\n' + new_page_text"
   ]
  },
  {
   "cell_type": "code",
   "execution_count": 34,
   "metadata": {},
   "outputs": [],
   "source": [
    "# page = pdfread.getPage(1)"
   ]
  },
  {
   "cell_type": "code",
   "execution_count": null,
   "metadata": {},
   "outputs": [],
   "source": [
    "# Bill Carter pdf in the file as well \n",
    "    ## https://www.malakye.com/news/8960/millennials-vs-gen-z-interview-with-bill-carter-fuse-marketing"
   ]
  },
  {
   "cell_type": "code",
   "execution_count": 3,
   "metadata": {},
   "outputs": [],
   "source": [
    "from pdfminer.converter import TextConverter"
   ]
  },
  {
   "cell_type": "code",
   "execution_count": 4,
   "metadata": {},
   "outputs": [
    {
     "name": "stdout",
     "output_type": "stream",
     "text": [
      "EDITORS’ NOTE Prior to assuming hispresent post in April 1997, Selanderserved as president of the corporation’sEurope, Middle East/Africa, and Canadaregional operations. Before joining Mas-terCard in 1994, he enjoyed a 20-yeartenure with Citicorp/Citibank, eventuallyascending to director of global retailstrategy. Selander holds a bachelor’sdegree from Cornell University and amaster’s degree from Harvard University.COMPANY BRIEF A global paymentscompany with more than 25,000-memberfinancial institutions worldwide, Master-Card International manages a full rangeof payment programs and services,including MasterCard credit and debitcards, Maestro on-line debit cards, CirrusATM cash access, and other related pro-grams. MasterCard cards are accepted bymore than 29 million merchants aroundthe world. Based in Purchase, New York,it is the principal operating subsidiary ofMasterCard Incorporated, a private SEC-registered share company employingapproximately 4,000 people in more than45 offices worldwide. MasterCard’s “Priceless” advertisingcampaign has made a huge impres-sion on the public’s awareness of thebrand. How was the campaign con-ceived and developed? The campaign got its roots in 1997,at a time when MasterCard had several dif-ferent tag lines in various parts of theworld. We wanted to come up with some-thing for the United States, because wejust weren’t getting the bang for ouradvertising buck. So we conducted someresearch to develop a new positioning forthe U.S. market and other major pay-ments markets around the world. We soon found that we had anopportunity to occupy a niche that waspreviously vacant in the payments indus-try. As we came out of the ’80s and ’90s,there was an emerging sense among con-sumers that they wanted to improve theirquality of life with purchases, instead ofjust keeping up with the Joneses. So, bybuying a 50-inch TV, you’d be able toenjoy a quality evening at home with yourfamily – you could all do somethingtogether. The tag line grew out of thatidea, which is that MasterCard is the bestway to pay for the things that matter. Today, the “Priceless” campaign isseen in 90 markets around the world andin 45 languages, so the campaign has reallyhit a sweet spot worldwide. It resonateswith consumers because it presents funand meaningful ways to go out and spendmoney. It’s hitting on all cylinders, and it’sunique in being a truly global campaign –common to all our markets around theworld. Of course, we change the text andvoiceovers to reflect the language of eachspecific market, and it has been a successacross the board. Furthermore, accordingto our research, the advertising continuesto improve. We’re now airing 15-secondspots in the United States, versus our origi-nal 30-second spots. Interestingly, ourawareness and likeability quotients for theshorter ads are as high as for the longerads, which clearly shows that they’vebecome part of the public consciousness.People immediately jump to look at thenew ad MasterCard’s popping on them.Has your business prospered de-spite the economic downturn? We’ve enjoyed double-digit, year-over-year, gross-dollar-volume growthrates for the past 14 quarters or so, andwe’ve consistently grown faster than theeconomies we operate in. One of the ben-efits we have is that our primary competi-tion is cash and checks, and not many peo-ple actively market those products. On topof that, we’re picking up market share. Which geographical markets pre-sent the best growth opportunitiesgoing forward?There are opportunities for the pay-ments industry everywhere around theworld. Varying by country, only 20 to 40percent of total consumer payments aredone electronically or with cards; thatleaves 60 to 80 percent up for grabs if weare successful in providing a compellingreason to pay with MasterCard. Our U.S.growth rates have been just slightly betterthan they’ve been globally. So we’ve beenup on volume, both in the number of cardsissued and in purchases on those cards,but I think we still have significant growthopportunities in the United States. Glob-ally, it’s a concentrated market becauseonly about 15 countries represent about 85to 90 percent of consumer payments. Do you work directly with card-holders?Our customers are financial institu-tions, the people who issue our cards tothe cardholder. They design the cards andmake the decisions regarding fees, rates,rewards, and so forth. We also work withthe financial institutions, who deal withretailers acquiring the transactions in thefirst place. We work with all these institu-tions to help them to differentiate theirproducts, and in a broad-based way, try toensure a better experience for the mer-chant and the cardholder by investing intechnology that makes transactions easier.For instance, if you have a MasterCardcard issued by a New York bank, we makesure that card will work when you make apurchase in Paris. We’ve made majorinvestments in our infrastructure andtechnology to ensure that that transactionis processed quickly and effectively, thatthe appropriate transfer of funds occursto reimburse the merchant, and obviouslythat the issuing bank and account hereare appropriately charged. Additionally,the positioning and marketing of ourproduct also helps our issuers and acquir-VOLUME 26, NUMBER 1LEADERS  23POSTED WITH PERMISSION. COPYRIGHT © LEADERS MAGAZINE, INC.An Interview with Robert W. Selander, President and Chief Executive Officer, MasterCard International, Purchase, New YorkPricelessRobert W. Selanderinterview\f",
      "ers build their business. If our productawareness is more prominent, everyone’sbusiness performs better, and thatenhances how MasterCard performs. Wesupport that idea with our sponsorshipand promotional programs in various mar-kets around the world.You recently merged with Euro-pay, a long-time strategic partner.What prompted the merger, and haveyou been happy with the results? We worked with Europay’s predeces-sor organization, EuroCard, for the betterpart of 30 years. They were our represen-tative, doing business on our behalf inEurope and Eastern Europe. Both compa-nies recognized the trends toward global-ization and consolidation in the paymentsindustry. Our customers were getting big-ger in size, but fewer in number, as themerger waves swept the financial institu-tions. And as banks or financial institu-tions secured their domestic marketplacethrough mergers, they began to look over-seas for additional expansion and growthopportunities. So we responded to theglobalization and the consolidation bymerging, realizing we’d be much morecapable of addressing those market needstogether, given our long relationship andcross-shareholding. We finalized the transaction on June28, 2002, and thus far, I’d say we’re doingwell, and we’ve delivered on some signifi-cant synergies that we’d committed to forour board. We have a new managementstructure and a series of centers of excel-lence dedicated to capitalizing on both orga-nizations’ various strengths and leveragingthose strengths globally. Finally, and mostimportantly, we’ve expanded on ourresources for dealing with our customers, sotoday we have a customer-focused and cus-tomer-segmented organizational structure.MasterCard recently transformeditself from a membership associationto a private-share company. Whatbenefits do you expect to see fromthat conversion? Will you ever be-come a publicly traded firm?Well, there were two immediatemotivations to convert from a private cor-poration to a private-stock corporation.First, we’re owned by those we do busi-ness with, the financial institutions. By giv-ing them tangible shares, we have oppor-tunity to create a cycle whereby the morebusiness they do with MasterCard, themore valuable their investment becomes.It’s a lot more compelling to do businesswith us because of that equity interest.Furthermore, because Europay was a pri-vate-stock corporation already, thoseshares facilitated this transaction. Second, the shares will give us moreflexibility in the future to make acquisitionsor give financial institutions with whom wewant to work an equity incentive to do so.We also have the ability to sell shares toraise capital, but we have no current plansto go public. We’re very comfortable from acapital standpoint, so we don’t have anyplans at present for a public offering.Can you explain the rationale be-hind the implementation of yournew three-point strategy? In 1997, when we were still a geo-graphically structured and focused com-pany, we approached the board with anidea to restructure the company so wewould operate differently. Up until thattime, we hadn’t been customer centric,and with the globalization and consolida-tion that was taking place, different needswere emerging for different customers.We realized it was important to cater tothose individual needs and help our cus-tomers deliver on their specific paymentstrategies, which vary from one customerto another. That realization was the basisfor our three-point strategy of focus,strengthen, and then differentiate. First, we decided to focus on key cus-tomers and key markets, because that’swhere the action is. In order to be a globalpayments player, you have to be reason-ably successful in the key markets as wellas with the key players, the 50 customerswho represent more than 70 percent of thebusiness. It’s an increasingly concentratedindustry. The “strengthen” part of the strat-egy refers to the minimum attributes youneed in order to be a credible global pay-ments player. Outstanding acceptance iscrucial, and no card is more universallyaccepted than MasterCard. Also necessaryis the implementation of technology thatensures transactions are authorized, set-tled, and cleared efficiently and in a timelymanner. You also need a recognizable andcredible brand. People see our logo, andthey know their cards will work at the storeor ATM. Finally, differentiation comes intoplay, and we’ve worked on furthering ourdifferentiation in the way we deal with ourcustomers on an individual basis. How have you motivated youremployees to come on board withthis strategy?First of all, we communicated withthe staff and made sure the strategy’s ben-efits were transparent. We reorganized thecompany around customer relations, sowe now have a business unit called Cus-tomer Group, which was a real wake-upcall for our staff. We carved out a series ofvery large customers and put dedicatedteams in place to manage them whereverthey were operating. Second, the staff rec-ognized that we were doing these thingsbecause we believed it would work, thesuccess of this plan motivated them, andwe believe this enthusiasm will continue. Will the public’s confidence incorporate integrity ever reboundfrom the effects of events such as theEnron debacle?There has been a bit of a feedingfrenzy on a few companies and a few exec-utives. It’s disappointing to many of us inbusiness, and certainly to me, to see ahyper-focus on a few bad apples. The factis, 99.99 percent of the business commu-nity continues to do a good job servingcustomers, shareholders, and employeesday after day. But let’s face it, many of theCEOs who have publicly fallen had beenin the limelight, so what goes aroundseems to come around. Over time, thisfeeding frenzy will ease up, and going for-ward there will be less press coveragebecause most companies are extremelytransparent. Current business initiativeswill restore public confidence in compa-nies and the people who run them. Ofcourse, down the road a few years, we’llstill remember this time in corporate his-tory, but I think this too shall pass. What would your top executivessay of your leadership style? I think they’d probably mention myfour key words: teamwork, people, pro-cess, and profit. At the end of the day, it’simportant that we manage this companyto increase productivity and profits, bothfor ourselves and for our customers.Clearly, the thing that’s going to differenti-ate this company over time is having theright people in the right jobs. There’s nodoubt in my mind that people can do amuch better job working as a team thanthey can as individual contributors. I try toget everyone moving in the same direc-tion so that they can recognize themoments when they may need to give uptheir individual priorities to supportwhat’s more important for the team. In such a fast-paced industry,can you ever escape your job?Absolutely. I use a couple of tech-niques: I turn off my cell phone when Itravel, unless I’m waiting for a specific call,and I get away on the weekends, whichcleanses my soul.Are you optimistic for the futureof the payments industry?There’s an incredible amount of gen-eral optimism for the future of our indus-try. The industry as a whole is growing,and in an economy where many industriesare struggling for growth, we’re delightedto be in a market segment that has thatopportunity. And, obviously, MasterCardlooks forward to taking more than our fairshare of that.•24LEADERSVOLUME 26, NUMBER 1POSTED WITH PERMISSION. COPYRIGHT © LEADERS MAGAZINE, INC.We reorganized the company around customer relations.\f",
      "\n"
     ]
    }
   ],
   "source": [
    "import io\n",
    " \n",
    "from pdfminer.converter import TextConverter\n",
    "from pdfminer.pdfinterp import PDFPageInterpreter\n",
    "from pdfminer.pdfinterp import PDFResourceManager\n",
    "from pdfminer.pdfpage import PDFPage\n",
    " \n",
    "def extract_text_from_pdf(pdf_path):\n",
    "    resource_manager = PDFResourceManager()\n",
    "    fake_file_handle = io.StringIO()\n",
    "    converter = TextConverter(resource_manager, fake_file_handle)\n",
    "    page_interpreter = PDFPageInterpreter(resource_manager, converter)\n",
    " \n",
    "    with open(pdf_path, 'rb') as fh:\n",
    "        for page in PDFPage.get_pages(fh, \n",
    "                                      caching=True,\n",
    "                                      check_extractable=True):\n",
    "            page_interpreter.process_page(page)\n",
    " \n",
    "        text = fake_file_handle.getvalue()\n",
    " \n",
    "    # close open handles\n",
    "    converter.close()\n",
    "    fake_file_handle.close()\n",
    " \n",
    "    if text:\n",
    "        return text\n",
    " \n",
    "if __name__ == '__main__':\n",
    "    print(extract_text_from_pdf(\"C:/Users/2918261/Dropbox/Corner Office Interviews/Interview_Sources/RobertWSelander.pdf\"))"
   ]
  },
  {
   "cell_type": "code",
   "execution_count": null,
   "metadata": {},
   "outputs": [],
   "source": [
    "## C:\\Users\\2918261\\Dropbox\\Corner Office Interviews\\Interview_Sources\\Millennials vs. Gen Z - Interview with Bill Carter, Fuse Marketing.pdf"
   ]
  },
  {
   "cell_type": "code",
   "execution_count": 17,
   "metadata": {},
   "outputs": [],
   "source": [
    "Robert = (extract_text_from_pdf(\"C:/Users/2918261/Dropbox/Corner Office Interviews/Interview_Sources/Sandra Kurtzig Hire the Person, Not Just the Experience - The Accelerators - WS.pdf\"))"
   ]
  },
  {
   "cell_type": "code",
   "execution_count": 18,
   "metadata": {},
   "outputs": [],
   "source": [
    "paragraphs = re.findall('\\s+[^.!?]*[.!?]', Robert)"
   ]
  },
  {
   "cell_type": "code",
   "execution_count": 19,
   "metadata": {},
   "outputs": [],
   "source": [
    "table = pd.DataFrame(paragraphs, columns = ['C'])"
   ]
  },
  {
   "cell_type": "code",
   "execution_count": 15,
   "metadata": {},
   "outputs": [],
   "source": [
    "table = table[2:].copy()"
   ]
  },
  {
   "cell_type": "code",
   "execution_count": 18,
   "metadata": {},
   "outputs": [],
   "source": [
    "table = table.drop([37,41,43,46,50,53,56,59,60,61]).copy()"
   ]
  },
  {
   "cell_type": "code",
   "execution_count": 20,
   "metadata": {},
   "outputs": [
    {
     "data": {
      "text/html": [
       "<div>\n",
       "<style scoped>\n",
       "    .dataframe tbody tr th:only-of-type {\n",
       "        vertical-align: middle;\n",
       "    }\n",
       "\n",
       "    .dataframe tbody tr th {\n",
       "        vertical-align: top;\n",
       "    }\n",
       "\n",
       "    .dataframe thead th {\n",
       "        text-align: right;\n",
       "    }\n",
       "</style>\n",
       "<table border=\"1\" class=\"dataframe\">\n",
       "  <thead>\n",
       "    <tr style=\"text-align: right;\">\n",
       "      <th></th>\n",
       "      <th>C</th>\n",
       "    </tr>\n",
       "  </thead>\n",
       "  <tbody>\n",
       "    <tr>\n",
       "      <th>0</th>\n",
       "      <td>Kurtzig: Hire the Person, Not Just the Experience - The Accelerators - WSJhttps://blogs.</td>\n",
       "    </tr>\n",
       "    <tr>\n",
       "      <th>1</th>\n",
       "      <td>16.</td>\n",
       "    </tr>\n",
       "    <tr>\n",
       "      <th>2</th>\n",
       "      <td>KURTZIGSince I started The ASK Group in the 1970s, I’vedeveloped my own style of hiring.</td>\n",
       "    </tr>\n",
       "    <tr>\n",
       "      <th>3</th>\n",
       "      <td>Hiring is oneof the most important things I do, and I don’t relyon a checklist.</td>\n",
       "    </tr>\n",
       "    <tr>\n",
       "      <th>4</th>\n",
       "      <td>I look for people who can work inan entrepreneurial company.</td>\n",
       "    </tr>\n",
       "    <tr>\n",
       "      <th>5</th>\n",
       "      <td>I look for smart,energetic, creative people who can “think outsidethe box.</td>\n",
       "    </tr>\n",
       "    <tr>\n",
       "      <th>6</th>\n",
       "      <td>I look for people who can complementmy skills and the skills of the team.</td>\n",
       "    </tr>\n",
       "    <tr>\n",
       "      <th>7</th>\n",
       "      <td>And I oftenhire people who “don’t know what they don’tknow.</td>\n",
       "    </tr>\n",
       "    <tr>\n",
       "      <th>8</th>\n",
       "      <td>that, I mean that I want someone who can jump in and start grappling with thechallenges at hand, and see them from a fresh perspective.</td>\n",
       "    </tr>\n",
       "    <tr>\n",
       "      <th>9</th>\n",
       "      <td>I don’t want someone whothinks they already know everything that’s possible.</td>\n",
       "    </tr>\n",
       "    <tr>\n",
       "      <th>10</th>\n",
       "      <td>People who don’t know everythingabout a job are the ones who can create a truly innovative, disruptive approach.</td>\n",
       "    </tr>\n",
       "    <tr>\n",
       "      <th>11</th>\n",
       "      <td>Theywon’t be deterred if they don’t know every step in the path nor will they be held back byfear of the unknown.</td>\n",
       "    </tr>\n",
       "    <tr>\n",
       "      <th>12</th>\n",
       "      <td>approach has worked well for me.</td>\n",
       "    </tr>\n",
       "    <tr>\n",
       "      <th>13</th>\n",
       "      <td>If I’d tried to hire only by experience at The ASKGroup, I’m not sure how many employees I would have brought onboard!</td>\n",
       "    </tr>\n",
       "    <tr>\n",
       "      <th>14</th>\n",
       "      <td>Computerscience was so new at the time that not everyone knew where it was heading, so the team To Sort Anbang’s Assets, ChineseAuthorities Create Dajia Internet Providers Look to Cash  Your Web HabitsTHE ACCELERATORSSandra Kurtzig: Hire the Person,Not Just the ExperienceJan 1, 2015 12:05 pm ET0 RESPONSESDJIA▲26599.</td>\n",
       "    </tr>\n",
       "    <tr>\n",
       "      <th>15</th>\n",
       "      <td>0.</td>\n",
       "    </tr>\n",
       "    <tr>\n",
       "      <th>16</th>\n",
       "      <td>10 Yr▲0/32 Yield 2.</td>\n",
       "    </tr>\n",
       "    <tr>\n",
       "      <th>17</th>\n",
       "      <td>0.</td>\n",
       "    </tr>\n",
       "    <tr>\n",
       "      <th>18</th>\n",
       "      <td>Sandra Kurtzig: Hire the Person, Not Just the Experience - The Accelerators - WSJhttps://blogs.</td>\n",
       "    </tr>\n",
       "    <tr>\n",
       "      <th>19</th>\n",
       "      <td>16.</td>\n",
       "    </tr>\n",
       "    <tr>\n",
       "      <th>20</th>\n",
       "      <td>whatother startupmentors haveto say abouttraining newrecruits.</td>\n",
       "    </tr>\n",
       "    <tr>\n",
       "      <th>21</th>\n",
       "      <td>and moved forward together.</td>\n",
       "    </tr>\n",
       "    <tr>\n",
       "      <th>22</th>\n",
       "      <td>Many outsiders thought that “software” waswomen’s lingerie!</td>\n",
       "    </tr>\n",
       "    <tr>\n",
       "      <th>23</th>\n",
       "      <td>So many incredible professionals I hired at ASK were green to theindustry, but contributed significantly to the company’s success.</td>\n",
       "    </tr>\n",
       "    <tr>\n",
       "      <th>24</th>\n",
       "      <td>days, of course, there are more people with experience in enterprise software.</td>\n",
       "    </tr>\n",
       "    <tr>\n",
       "      <th>25</th>\n",
       "      <td>I canfind someone whose resume looks like a match with the position I’m trying to fill.</td>\n",
       "    </tr>\n",
       "    <tr>\n",
       "      <th>26</th>\n",
       "      <td>Thatoften makes me feel uncomfortable, so I will pry for what they don’t know because thatwill motivate them to ask questions, to learn, to take a fresh approach.</td>\n",
       "    </tr>\n",
       "    <tr>\n",
       "      <th>27</th>\n",
       "      <td>I also want to workwith people that I genuinely like.</td>\n",
       "    </tr>\n",
       "    <tr>\n",
       "      <th>28</th>\n",
       "      <td>That goes far deeper than hiring people I’m compatiblewith.</td>\n",
       "    </tr>\n",
       "    <tr>\n",
       "      <th>29</th>\n",
       "      <td>I’m interviewing, I always ask first why they’re here, and what theycan bring to the business.</td>\n",
       "    </tr>\n",
       "    <tr>\n",
       "      <th>...</th>\n",
       "      <td>...</td>\n",
       "    </tr>\n",
       "    <tr>\n",
       "      <th>34</th>\n",
       "      <td>I believe people who can make things happencan also create their own positive environment.</td>\n",
       "    </tr>\n",
       "    <tr>\n",
       "      <th>35</th>\n",
       "      <td>I put the checklist to one side, I’m open to hiring people fromunconventional backgrounds if the energy’s right.</td>\n",
       "    </tr>\n",
       "    <tr>\n",
       "      <th>36</th>\n",
       "      <td>For example, at Kenandy, we hiredsomeone to be our social media manager even though his primary experience had beenworking for a skateboard magazine.</td>\n",
       "    </tr>\n",
       "    <tr>\n",
       "      <th>37</th>\n",
       "      <td>I could see his value and enthusiasm, and withmentoring he’s grown and moved into larger roles within the marketing team.</td>\n",
       "    </tr>\n",
       "    <tr>\n",
       "      <th>38</th>\n",
       "      <td>always up for having conversations with employees about how we can expand andshift roles to make the most of the skills they’re developing.</td>\n",
       "    </tr>\n",
       "    <tr>\n",
       "      <th>39</th>\n",
       "      <td>Two-way conversations aboutcareer goals don’t just help build employee loyalty -- they build the company in excitingways.</td>\n",
       "    </tr>\n",
       "    <tr>\n",
       "      <th>40</th>\n",
       "      <td>I always try to promote from within, even if the person doesn’t have all therequirements for the new job.</td>\n",
       "    </tr>\n",
       "    <tr>\n",
       "      <th>41</th>\n",
       "      <td>If they’re bright and motivated, they will do well.</td>\n",
       "    </tr>\n",
       "    <tr>\n",
       "      <th>42</th>\n",
       "      <td>It’s thepeople I’ve hired who make me look good!</td>\n",
       "    </tr>\n",
       "    <tr>\n",
       "      <th>43</th>\n",
       "      <td>L.</td>\n",
       "    </tr>\n",
       "    <tr>\n",
       "      <th>44</th>\n",
       "      <td>Kurtzig is chairman and CEO of Kenandy, a cloud ERP software firm based inRedwood City, Calif.</td>\n",
       "    </tr>\n",
       "    <tr>\n",
       "      <th>45</th>\n",
       "      <td>@SandyKurtzigFollow @WSJstartup\f",
       "Sandra Kurtzig: Hire the Person, Not Just the Experience - The Accelerators - WSJhttps://blogs.</td>\n",
       "    </tr>\n",
       "    <tr>\n",
       "      <th>46</th>\n",
       "      <td>16.</td>\n",
       "    </tr>\n",
       "    <tr>\n",
       "      <th>47</th>\n",
       "      <td>this: ENTREPRENEUR SANDRA KURTZIG TRAINING TIPSMost Popular VideosMost Popular ArticlesnmvwySHOW CONVERSATION POPULAR ON WSJPREVIOUSBen Baldwin: Some Skillsand Traits Can't BeTrainedNEXTJay Samit: Tune into a$170 Billion MarketOpportunity in 2015Trump and Xi: What’sat Stake at Their G-20Meeting1.</td>\n",
       "    </tr>\n",
       "    <tr>\n",
       "      <th>48</th>\n",
       "      <td>StewartDescribes Early Tech'sInfluence in ShapingHer Empire2.</td>\n",
       "    </tr>\n",
       "    <tr>\n",
       "      <th>49</th>\n",
       "      <td>John Carreyrou:Reporting on Theranosand Elizabeth Holmes3.</td>\n",
       "    </tr>\n",
       "    <tr>\n",
       "      <th>50</th>\n",
       "      <td>Moon Look toRevive Talks WithNorth Korea4.</td>\n",
       "    </tr>\n",
       "    <tr>\n",
       "      <th>51</th>\n",
       "      <td>Harris CallsOut Joe Biden OverRacial Issues5.</td>\n",
       "    </tr>\n",
       "    <tr>\n",
       "      <th>52</th>\n",
       "      <td>Shifts Mac ProProduction to China 1.</td>\n",
       "    </tr>\n",
       "    <tr>\n",
       "      <th>53</th>\n",
       "      <td>Buyers Say SoLong to South Beach2.</td>\n",
       "    </tr>\n",
       "    <tr>\n",
       "      <th>54</th>\n",
       "      <td>Allows U.</td>\n",
       "    </tr>\n",
       "    <tr>\n",
       "      <th>55</th>\n",
       "      <td>to Huawei asTrade Talks Resume3.</td>\n",
       "    </tr>\n",
       "    <tr>\n",
       "      <th>56</th>\n",
       "      <td>Cuter Than aBaby Cheetah?</td>\n",
       "    </tr>\n",
       "    <tr>\n",
       "      <th>57</th>\n",
       "      <td>A BabyCheetah With ItsPuppy Pal4.</td>\n",
       "    </tr>\n",
       "    <tr>\n",
       "      <th>58</th>\n",
       "      <td>Holmes toFace Trial Next Yearon Fraud Charges5.</td>\n",
       "    </tr>\n",
       "    <tr>\n",
       "      <th>59</th>\n",
       "      <td>Membership BenefitsDownload WSJ AppsCustomer CenterLegal PoliciesSubscribe Sign InEdition: U.</td>\n",
       "    </tr>\n",
       "    <tr>\n",
       "      <th>60</th>\n",
       "      <td>NowSign InTOP«\f",
       "Sandra Kurtzig: Hire the Person, Not Just the Experience - The Accelerators - WSJhttps://blogs.</td>\n",
       "    </tr>\n",
       "    <tr>\n",
       "      <th>61</th>\n",
       "      <td>16.</td>\n",
       "    </tr>\n",
       "    <tr>\n",
       "      <th>62</th>\n",
       "      <td>PolicyCookie PolicyCopyright PolicyData PolicySubscriber Agreement &amp; Terms of UseYour Ad ChoicesCopyright ©2019 Dow Jones &amp; Company, Inc.</td>\n",
       "    </tr>\n",
       "    <tr>\n",
       "      <th>63</th>\n",
       "      <td>All Rights Reserved.</td>\n",
       "    </tr>\n",
       "  </tbody>\n",
       "</table>\n",
       "<p>64 rows × 1 columns</p>\n",
       "</div>"
      ],
      "text/plain": [
       "                                                                                                                                                                                                                                                                                                                                 C\n",
       "0                                                                                                                                                                                                                                         Kurtzig: Hire the Person, Not Just the Experience - The Accelerators - WSJhttps://blogs.\n",
       "1                                                                                                                                                                                                                                                                                                                              16.\n",
       "2                                                                                                                                                                                                                                         KURTZIGSince I started The ASK Group in the 1970s, I’vedeveloped my own style of hiring.\n",
       "3                                                                                                                                                                                                                                                  Hiring is oneof the most important things I do, and I don’t relyon a checklist.\n",
       "4                                                                                                                                                                                                                                                                     I look for people who can work inan entrepreneurial company.\n",
       "5                                                                                                                                                                                                                                                       I look for smart,energetic, creative people who can “think outsidethe box.\n",
       "6                                                                                                                                                                                                                                                        I look for people who can complementmy skills and the skills of the team.\n",
       "7                                                                                                                                                                                                                                                                      And I oftenhire people who “don’t know what they don’tknow.\n",
       "8                                                                                                                                                                                          that, I mean that I want someone who can jump in and start grappling with thechallenges at hand, and see them from a fresh perspective.\n",
       "9                                                                                                                                                                                                                                                     I don’t want someone whothinks they already know everything that’s possible.\n",
       "10                                                                                                                                                                                                                People who don’t know everythingabout a job are the ones who can create a truly innovative, disruptive approach.\n",
       "11                                                                                                                                                                                                               Theywon’t be deterred if they don’t know every step in the path nor will they be held back byfear of the unknown.\n",
       "12                                                                                                                                                                                                                                                                                                approach has worked well for me.\n",
       "13                                                                                                                                                                                                          If I’d tried to hire only by experience at The ASKGroup, I’m not sure how many employees I would have brought onboard!\n",
       "14   Computerscience was so new at the time that not everyone knew where it was heading, so the team To Sort Anbang’s Assets, ChineseAuthorities Create Dajia Internet Providers Look to Cash  Your Web HabitsTHE ACCELERATORSSandra Kurtzig: Hire the Person,Not Just the ExperienceJan 1, 2015 12:05 pm ET0 RESPONSESDJIA▲26599.\n",
       "15                                                                                                                                                                                                                                                                                                                              0.\n",
       "16                                                                                                                                                                                                                                                                                                             10 Yr▲0/32 Yield 2.\n",
       "17                                                                                                                                                                                                                                                                                                                              0.\n",
       "18                                                                                                                                                                                                                                \n",
       "Sandra Kurtzig: Hire the Person, Not Just the Experience - The Accelerators - WSJhttps://blogs.\n",
       "19                                                                                                                                                                                                                                                                                                                             16.\n",
       "20                                                                                                                                                                                                                                                                  whatother startupmentors haveto say abouttraining newrecruits.\n",
       "21                                                                                                                                                                                                                                                                                                     and moved forward together.\n",
       "22                                                                                                                                                                                                                                                                     Many outsiders thought that “software” waswomen’s lingerie!\n",
       "23                                                                                                                                                                                              So many incredible professionals I hired at ASK were green to theindustry, but contributed significantly to the company’s success.\n",
       "24                                                                                                                                                                                                                                                  days, of course, there are more people with experience in enterprise software.\n",
       "25                                                                                                                                                                                                                                         I canfind someone whose resume looks like a match with the position I’m trying to fill.\n",
       "26                                                                                                                                                              Thatoften makes me feel uncomfortable, so I will pry for what they don’t know because thatwill motivate them to ask questions, to learn, to take a fresh approach.\n",
       "27                                                                                                                                                                                                                                                                           I also want to workwith people that I genuinely like.\n",
       "28                                                                                                                                                                                                                                                                     That goes far deeper than hiring people I’m compatiblewith.\n",
       "29                                                                                                                                                                                                                                  I’m interviewing, I always ask first why they’re here, and what theycan bring to the business.\n",
       "..                                                                                                                                                                                                                                                                                                                             ...\n",
       "34                                                                                                                                                                                                                                      I believe people who can make things happencan also create their own positive environment.\n",
       "35                                                                                                                                                                                                                I put the checklist to one side, I’m open to hiring people fromunconventional backgrounds if the energy’s right.\n",
       "36                                                                                                                                                                           For example, at Kenandy, we hiredsomeone to be our social media manager even though his primary experience had beenworking for a skateboard magazine.\n",
       "37                                                                                                                                                                                                       I could see his value and enthusiasm, and withmentoring he’s grown and moved into larger roles within the marketing team.\n",
       "38                                                                                                                                                                                     always up for having conversations with employees about how we can expand andshift roles to make the most of the skills they’re developing.\n",
       "39                                                                                                                                                                                                       Two-way conversations aboutcareer goals don’t just help build employee loyalty -- they build the company in excitingways.\n",
       "40                                                                                                                                                                                                                       I always try to promote from within, even if the person doesn’t have all therequirements for the new job.\n",
       "41                                                                                                                                                                                                                                                                             If they’re bright and motivated, they will do well.\n",
       "42                                                                                                                                                                                                                                                                                It’s thepeople I’ve hired who make me look good!\n",
       "43                                                                                                                                                                                                                                                                                                                              L.\n",
       "44                                                                                                                                                                                                                                  Kurtzig is chairman and CEO of Kenandy, a cloud ERP software firm based inRedwood City, Calif.\n",
       "45                                                                                                                                                                                                 @SandyKurtzigFollow @WSJstartup\n",
       "Sandra Kurtzig: Hire the Person, Not Just the Experience - The Accelerators - WSJhttps://blogs.\n",
       "46                                                                                                                                                                                                                                                                                                                             16.\n",
       "47                       this: ENTREPRENEUR SANDRA KURTZIG TRAINING TIPSMost Popular VideosMost Popular ArticlesnmvwySHOW CONVERSATION POPULAR ON WSJPREVIOUSBen Baldwin: Some Skillsand Traits Can't BeTrainedNEXTJay Samit: Tune into a$170 Billion MarketOpportunity in 2015Trump and Xi: What’sat Stake at Their G-20Meeting1.\n",
       "48                                                                                                                                                                                                                                                                   StewartDescribes Early Tech'sInfluence in ShapingHer Empire2.\n",
       "49                                                                                                                                                                                                                                                                      John Carreyrou:Reporting on Theranosand Elizabeth Holmes3.\n",
       "50                                                                                                                                                                                                                                                                                      Moon Look toRevive Talks WithNorth Korea4.\n",
       "51                                                                                                                                                                                                                                                                                   Harris CallsOut Joe Biden OverRacial Issues5.\n",
       "52                                                                                                                                                                                                                                                                                            Shifts Mac ProProduction to China 1.\n",
       "53                                                                                                                                                                                                                                                                                              Buyers Say SoLong to South Beach2.\n",
       "54                                                                                                                                                                                                                                                                                                                       Allows U.\n",
       "55                                                                                                                                                                                                                                                                                                to Huawei asTrade Talks Resume3.\n",
       "56                                                                                                                                                                                                                                                                                                       Cuter Than aBaby Cheetah?\n",
       "57                                                                                                                                                                                                                                                                                               A BabyCheetah With ItsPuppy Pal4.\n",
       "58                                                                                                                                                                                                                                                                                 Holmes toFace Trial Next Yearon Fraud Charges5.\n",
       "59                                                                                                                                                                                                                                   Membership BenefitsDownload WSJ AppsCustomer CenterLegal PoliciesSubscribe Sign InEdition: U.\n",
       "60                                                                                                                                                                                                                  NowSign InTOP«\n",
       "Sandra Kurtzig: Hire the Person, Not Just the Experience - The Accelerators - WSJhttps://blogs.\n",
       "61                                                                                                                                                                                                                                                                                                                             16.\n",
       "62                                                                                                                                                                                       PolicyCookie PolicyCopyright PolicyData PolicySubscriber Agreement & Terms of UseYour Ad ChoicesCopyright ©2019 Dow Jones & Company, Inc.\n",
       "63                                                                                                                                                                                                                                                                                                            All Rights Reserved.\n",
       "\n",
       "[64 rows x 1 columns]"
      ]
     },
     "execution_count": 20,
     "metadata": {},
     "output_type": "execute_result"
    }
   ],
   "source": [
    "table"
   ]
  },
  {
   "cell_type": "code",
   "execution_count": 24,
   "metadata": {},
   "outputs": [],
   "source": [
    "# JamesJSchiro.to_csv('JamesJSchiro.txt')"
   ]
  },
  {
   "cell_type": "code",
   "execution_count": 220,
   "metadata": {},
   "outputs": [],
   "source": [
    "secondtable = secondtable.drop(secondtable.index[4:63]).copy()"
   ]
  },
  {
   "cell_type": "code",
   "execution_count": 27,
   "metadata": {},
   "outputs": [],
   "source": [
    "table = table[:-1].copy()"
   ]
  },
  {
   "cell_type": "code",
   "execution_count": 232,
   "metadata": {},
   "outputs": [],
   "source": [
    "secondtable = secondtable.drop(secondtable.index[5:16]).copy()"
   ]
  },
  {
   "cell_type": "code",
   "execution_count": 112,
   "metadata": {},
   "outputs": [],
   "source": [
    "table = table[table.C.str.contains(r'RS:') == False].copy()\n",
    "## <strong>.*?<\\/strong><br>"
   ]
  },
  {
   "cell_type": "code",
   "execution_count": 407,
   "metadata": {},
   "outputs": [],
   "source": [
    "table = table[table.C.str.contains(r'Tzuo') == False].copy()"
   ]
  },
  {
   "cell_type": "code",
   "execution_count": 120,
   "metadata": {},
   "outputs": [],
   "source": [
    "table = table.drop(table.index[4]).copy()"
   ]
  },
  {
   "cell_type": "code",
   "execution_count": 58,
   "metadata": {},
   "outputs": [],
   "source": [
    "table = table.drop([9]).copy()"
   ]
  },
  {
   "cell_type": "code",
   "execution_count": 41,
   "metadata": {},
   "outputs": [],
   "source": [
    "table = table[1:].copy()"
   ]
  },
  {
   "cell_type": "code",
   "execution_count": 85,
   "metadata": {},
   "outputs": [],
   "source": [
    "table['C'] = table['C'].str.replace(r'<p name=\".*?\" id=\".*?\" class=\".*?\">', '')\n",
    "# <strong></strong><br>\n",
    "# r'<b>(.*?)<br><\\/b>'\n",
    "# <strong>Judith Jamison:</strong>\n",
    "# <p name=\".*?\" id=\".*?\" class=\".*?\">"
   ]
  },
  {
   "cell_type": "code",
   "execution_count": 238,
   "metadata": {},
   "outputs": [],
   "source": [
    "sectable = pd.concat([firstpara, secondtable])"
   ]
  },
  {
   "cell_type": "code",
   "execution_count": 240,
   "metadata": {},
   "outputs": [],
   "source": [
    "table = pd.concat([sectable, table]).copy()"
   ]
  },
  {
   "cell_type": "code",
   "execution_count": null,
   "metadata": {},
   "outputs": [],
   "source": []
  },
  {
   "cell_type": "code",
   "execution_count": 183,
   "metadata": {},
   "outputs": [],
   "source": [
    "paragraphs = re.findall('<p>(.*?)<\\/p>', page_html)"
   ]
  },
  {
   "cell_type": "code",
   "execution_count": 191,
   "metadata": {},
   "outputs": [],
   "source": [
    "table = pd.DataFrame(paragraphs, columns = ['C'])"
   ]
  },
  {
   "cell_type": "code",
   "execution_count": 45,
   "metadata": {},
   "outputs": [],
   "source": [
    "table = table.dropna(how='all')"
   ]
  },
  {
   "cell_type": "code",
   "execution_count": 30,
   "metadata": {},
   "outputs": [],
   "source": [
    "table = table.drop([16]).copy()"
   ]
  },
  {
   "cell_type": "code",
   "execution_count": null,
   "metadata": {},
   "outputs": [],
   "source": []
  },
  {
   "cell_type": "code",
   "execution_count": 38,
   "metadata": {},
   "outputs": [],
   "source": [
    "table['C'] = table['C'].str.replace(r'<b>Freeman Hrabowski:</b><span style=\"font-weight: 400;\"> ', '')"
   ]
  },
  {
   "cell_type": "code",
   "execution_count": 174,
   "metadata": {},
   "outputs": [],
   "source": [
    "table = table[table.C.str.contains(r'<strong>') == False].copy()"
   ]
  },
  {
   "cell_type": "code",
   "execution_count": 69,
   "metadata": {},
   "outputs": [],
   "source": [
    "table['C'] = table['C'].str.replace(r'<strong>.*?<br /><\\/strong>', '')"
   ]
  },
  {
   "cell_type": "code",
   "execution_count": 90,
   "metadata": {},
   "outputs": [],
   "source": [
    "table['C'] = table['C'].str.replace(r'<em>BARTZ:', '')"
   ]
  },
  {
   "cell_type": "code",
   "execution_count": 22,
   "metadata": {},
   "outputs": [],
   "source": [
    "table['C'] = table[table.C.str.contains(\"<strong>Reid Hoffman\") == False].copy()"
   ]
  },
  {
   "cell_type": "code",
   "execution_count": 121,
   "metadata": {},
   "outputs": [],
   "source": [
    "table = table[8:].copy()"
   ]
  },
  {
   "cell_type": "code",
   "execution_count": 124,
   "metadata": {},
   "outputs": [],
   "source": [
    "table = table[:-8].copy()"
   ]
  },
  {
   "cell_type": "code",
   "execution_count": null,
   "metadata": {},
   "outputs": [],
   "source": []
  },
  {
   "cell_type": "code",
   "execution_count": 75,
   "metadata": {},
   "outputs": [],
   "source": [
    "table = table[table.C.str.contains(\"Q:\") == False].copy()"
   ]
  },
  {
   "cell_type": "code",
   "execution_count": 26,
   "metadata": {},
   "outputs": [],
   "source": [
    "table = table[:-30].copy()"
   ]
  },
  {
   "cell_type": "code",
   "execution_count": 155,
   "metadata": {},
   "outputs": [],
   "source": [
    "table['C'] = table['C'].str.replace(r'<span style=\"font-weight:bold;\">BF:</span>:', '')\n",
    "# <strong>(.*?)<br><\\/strong>"
   ]
  },
  {
   "cell_type": "code",
   "execution_count": null,
   "metadata": {},
   "outputs": [],
   "source": []
  },
  {
   "cell_type": "code",
   "execution_count": 19,
   "metadata": {},
   "outputs": [],
   "source": [
    "# table = table.drop(table.index[3]).copy()"
   ]
  },
  {
   "cell_type": "code",
   "execution_count": 42,
   "metadata": {},
   "outputs": [],
   "source": [
    "# table = table.drop(table.index[[4, 8, 10, 12, 14, 16]]).copy()"
   ]
  },
  {
   "cell_type": "code",
   "execution_count": 57,
   "metadata": {},
   "outputs": [],
   "source": [
    "# table = table.drop(table.index[[11, 14, 16, 18, 20, 22, 24, 26, 29, 31, 33, 35]]).copy()"
   ]
  },
  {
   "cell_type": "code",
   "execution_count": null,
   "metadata": {},
   "outputs": [],
   "source": []
  },
  {
   "cell_type": "code",
   "execution_count": 139,
   "metadata": {},
   "outputs": [],
   "source": [
    "table = table[4:].copy()"
   ]
  },
  {
   "cell_type": "code",
   "execution_count": 140,
   "metadata": {},
   "outputs": [],
   "source": [
    "table = table[:-1].copy()"
   ]
  },
  {
   "cell_type": "code",
   "execution_count": 228,
   "metadata": {},
   "outputs": [],
   "source": [
    "table['C'] = table['C'].str.replace(r'<strong>A</strong> ', '')"
   ]
  },
  {
   "cell_type": "code",
   "execution_count": 102,
   "metadata": {},
   "outputs": [],
   "source": [
    "table = table[table.C.str.contains(\"<strong>Tim\") == False].copy()"
   ]
  },
  {
   "cell_type": "code",
   "execution_count": null,
   "metadata": {},
   "outputs": [],
   "source": []
  },
  {
   "cell_type": "code",
   "execution_count": 196,
   "metadata": {},
   "outputs": [],
   "source": [
    "table = table[9:].copy()"
   ]
  },
  {
   "cell_type": "code",
   "execution_count": 198,
   "metadata": {},
   "outputs": [],
   "source": [
    "table = table[:-9].copy()"
   ]
  },
  {
   "cell_type": "code",
   "execution_count": 199,
   "metadata": {},
   "outputs": [],
   "source": [
    "table = table[table.C.str.contains(\"<strong>Gene\") == False].copy()"
   ]
  },
  {
   "cell_type": "code",
   "execution_count": 220,
   "metadata": {},
   "outputs": [
    {
     "data": {
      "text/plain": [
       "28"
      ]
     },
     "execution_count": 220,
     "metadata": {},
     "output_type": "execute_result"
    }
   ],
   "source": [
    "table.index[11]"
   ]
  },
  {
   "cell_type": "code",
   "execution_count": null,
   "metadata": {},
   "outputs": [],
   "source": []
  },
  {
   "cell_type": "code",
   "execution_count": 13,
   "metadata": {},
   "outputs": [],
   "source": [
    "def remove_html_tags(data):\n",
    "    p = re.compile(r'<.*?>')\n",
    "    return p.sub('', data)"
   ]
  },
  {
   "cell_type": "code",
   "execution_count": 21,
   "metadata": {},
   "outputs": [],
   "source": [
    "clean = table['C'].apply(remove_html_tags).copy()\n",
    "# full = clean.to_frame()"
   ]
  },
  {
   "cell_type": "code",
   "execution_count": null,
   "metadata": {},
   "outputs": [],
   "source": []
  },
  {
   "cell_type": "code",
   "execution_count": 10,
   "metadata": {},
   "outputs": [],
   "source": [
    "def unescape(text):\n",
    "    \"\"\"\n",
    "    Converts HTML character codes to Unicode code points.\n",
    "\n",
    "    @param text the HTML (or XML) source text in any encoding.\n",
    "    @return The plain text, as a Unicode string, if necessary.\n",
    "    \"\"\"\n",
    "    def fixup(m):\n",
    "        text = m.group(0)\n",
    "        if text[:2] == \"&#\":\n",
    "            try:\n",
    "                if text[:3] == \"&#x\":\n",
    "                    return chr(int(text[3:-1], 16))\n",
    "                else:\n",
    "                    return chr(int(text[2:-1]))\n",
    "            except ValueError:\n",
    "                pass\n",
    "        else:\n",
    "            try:\n",
    "                text = chr(html.entities.name2codepoint[text[1:-1]])\n",
    "            except KeyError:\n",
    "                pass\n",
    "        return text\n",
    "    return re.sub(\"&#?\\w+;\", fixup, text)\n",
    "\n",
    "    return re.sub(\"&#?\\w+;\", fixup, text)"
   ]
  },
  {
   "cell_type": "code",
   "execution_count": 22,
   "metadata": {},
   "outputs": [],
   "source": [
    "final = clean.apply(unescape).copy() "
   ]
  },
  {
   "cell_type": "code",
   "execution_count": 23,
   "metadata": {},
   "outputs": [],
   "source": [
    "final.to_csv('.txt', sep = ' ', index = False)"
   ]
  },
  {
   "cell_type": "code",
   "execution_count": null,
   "metadata": {},
   "outputs": [],
   "source": []
  }
 ],
 "metadata": {
  "kernelspec": {
   "display_name": "Python 3",
   "language": "python",
   "name": "python3"
  },
  "language_info": {
   "codemirror_mode": {
    "name": "ipython",
    "version": 3
   },
   "file_extension": ".py",
   "mimetype": "text/x-python",
   "name": "python",
   "nbconvert_exporter": "python",
   "pygments_lexer": "ipython3",
   "version": "3.6.5"
  }
 },
 "nbformat": 4,
 "nbformat_minor": 2
}
