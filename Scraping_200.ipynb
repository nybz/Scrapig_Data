{
 "cells": [
  {
   "cell_type": "markdown",
   "metadata": {},
   "source": [
    "# when there is a missing index\n",
    "missing = main.loc[[34]].copy()\n",
    "# when concatting the missing index\n",
    "whole = pd.concat([missing, new]).copy()"
   ]
  },
  {
   "cell_type": "code",
   "execution_count": 1,
   "metadata": {},
   "outputs": [],
   "source": [
    "import pandas as pd\n",
    "import re\n",
    "import requests\n",
    "pd.set_option('display.max_colwidth', 120)"
   ]
  },
  {
   "cell_type": "code",
   "execution_count": 2,
   "metadata": {},
   "outputs": [
    {
     "data": {
      "text/plain": [
       "'C:\\\\Users\\\\2918261\\\\Dropbox\\\\Corner Office Interviews\\\\ComparisonCorpusText'"
      ]
     },
     "execution_count": 2,
     "metadata": {},
     "output_type": "execute_result"
    }
   ],
   "source": [
    "import os\n",
    "from urllib.request import urlopen\n",
    "import http.cookiejar as cookielib\n",
    "import re\n",
    "import html.entities\n",
    "import codecs\n",
    "import time\n",
    "from bs4 import BeautifulSoup\n",
    "\n",
    "# C://Users//2918261//Courses//Oslo Summer School//notebooks//Interviews\n",
    "# C://Users//Toshiba//Dropbox//Corner Office Interviews//ComparisonCorpusText\n",
    "# C://Users//2918261//Courses//Oslo Summer School//notebooks//Interviews\n",
    "# os.chdir('C://Users//2918261//Dropbox//Corner Office Interviews//ComparisonCorpusText')\n",
    "# 'C://Users//Toshiba//Dropbox//Corner Office Interviews//ComparisonCorpusText'\n",
    "os.chdir('C://Users//2918261//Dropbox//Corner Office Interviews//ComparisonCorpusText')\n",
    "os.getcwd()"
   ]
  },
  {
   "cell_type": "code",
   "execution_count": 29,
   "metadata": {},
   "outputs": [],
   "source": [
    "url = 'https://knowyourteam.com/blog/podcast/episode-19-interview-with-david-cancel-ceo-of-drift/'"
   ]
  },
  {
   "cell_type": "code",
   "execution_count": 30,
   "metadata": {},
   "outputs": [],
   "source": [
    "page = requests.get(url)\n",
    "page_html = page.text"
   ]
  },
  {
   "cell_type": "code",
   "execution_count": 31,
   "metadata": {},
   "outputs": [
    {
     "data": {
      "text/plain": [
       "200"
      ]
     },
     "execution_count": 31,
     "metadata": {},
     "output_type": "execute_result"
    }
   ],
   "source": [
    "page.status_code"
   ]
  },
  {
   "cell_type": "code",
   "execution_count": 54,
   "metadata": {},
   "outputs": [],
   "source": [
    "paragraphs = re.findall('<p class=\"interview-answer\">.*?<\\/p>', page_html)"
   ]
  },
  {
   "cell_type": "code",
   "execution_count": 9,
   "metadata": {},
   "outputs": [],
   "source": [
    "paragraphs = re.findall('p style\".*?\">\".*?\"<\\/p>', page_html)"
   ]
  },
  {
   "cell_type": "code",
   "execution_count": 93,
   "metadata": {},
   "outputs": [
    {
     "data": {
      "text/plain": [
       "[]"
      ]
     },
     "execution_count": 93,
     "metadata": {},
     "output_type": "execute_result"
    }
   ],
   "source": [
    "#paragraphs = \n",
    "re.findall('.*::after', page_html)"
   ]
  },
  {
   "cell_type": "code",
   "execution_count": 39,
   "metadata": {},
   "outputs": [],
   "source": [
    "paragraphs = re.findall('<p>(.*?)<\\/p>', page_html)"
   ]
  },
  {
   "cell_type": "code",
   "execution_count": null,
   "metadata": {},
   "outputs": [],
   "source": [
    "# when spoken paragraph is embedded in <p> with <b>\n",
    "## re.findall('<b>.*?<.*?>.*?<.*?>', page_html)\n",
    "## re.findall('<b>Löscher:<.*?>.*?<.*?>', page_html)"
   ]
  },
  {
   "cell_type": "code",
   "execution_count": 150,
   "metadata": {},
   "outputs": [],
   "source": [
    "paragraphs = re.findall('<p dir=\"ltr\">(.*?)<\\/p>', page_html)"
   ]
  },
  {
   "cell_type": "code",
   "execution_count": 13,
   "metadata": {},
   "outputs": [],
   "source": [
    "paragraphs = re.findall('<b>Löscher:<.*?>.*?<.*?>', page_html)"
   ]
  },
  {
   "cell_type": "code",
   "execution_count": 28,
   "metadata": {},
   "outputs": [],
   "source": [
    "paragraphs = re.findall('<b>.*?<.*?>.*?<.*?>', page_html)"
   ]
  },
  {
   "cell_type": "code",
   "execution_count": 12,
   "metadata": {},
   "outputs": [],
   "source": [
    "paragraphs = re.findall('.*?</p>', page_html)"
   ]
  },
  {
   "cell_type": "code",
   "execution_count": 85,
   "metadata": {},
   "outputs": [],
   "source": [
    "paragraphs = re.findall('.*?</div>', page_html)"
   ]
  },
  {
   "cell_type": "code",
   "execution_count": 143,
   "metadata": {},
   "outputs": [],
   "source": [
    "paragraphs = re.findall('<p style=\".*?\" class=\".*?\">(.*?)<\\/p>', page_html)"
   ]
  },
  {
   "cell_type": "code",
   "execution_count": 142,
   "metadata": {},
   "outputs": [],
   "source": [
    "paragraphs = re.findall('<p class=\".*?\">(.*?)<\\/p>', page_html)"
   ]
  },
  {
   "cell_type": "code",
   "execution_count": 116,
   "metadata": {},
   "outputs": [
    {
     "data": {
      "text/plain": [
       "[]"
      ]
     },
     "execution_count": 116,
     "metadata": {},
     "output_type": "execute_result"
    }
   ],
   "source": [
    "#paragraphs = \n",
    "re.findall('<div class=\"post\">.*?<', page_html)"
   ]
  },
  {
   "cell_type": "code",
   "execution_count": 169,
   "metadata": {},
   "outputs": [],
   "source": [
    "paragraphs = re.findall('<div element=\"p\">(.*?)<\\/div>', page_html)"
   ]
  },
  {
   "cell_type": "code",
   "execution_count": 30,
   "metadata": {},
   "outputs": [],
   "source": [
    "paragraphs = re.findall('<p name=\".*?\" id=\".*?\" class=\".*?\">.*?', page_html)"
   ]
  },
  {
   "cell_type": "code",
   "execution_count": 73,
   "metadata": {},
   "outputs": [],
   "source": [
    "paragraphs = re.findall('<p class=\"paragraph\" data-pnum=\".*?\">(.*?)<\\/p>', page_html)"
   ]
  },
  {
   "cell_type": "code",
   "execution_count": 127,
   "metadata": {},
   "outputs": [],
   "source": [
    "paragraphs = re.findall('<div class=\"content\">.*?', page_html)"
   ]
  },
  {
   "cell_type": "code",
   "execution_count": 112,
   "metadata": {},
   "outputs": [],
   "source": [
    "paragraphs = re.findall('<div class=.*?>.*?<.*?', page_html)"
   ]
  },
  {
   "cell_type": "code",
   "execution_count": 65,
   "metadata": {},
   "outputs": [],
   "source": [
    "#table_two = pd.DataFrame(paragraphs_two, columns = ['C'])"
   ]
  },
  {
   "cell_type": "code",
   "execution_count": 51,
   "metadata": {},
   "outputs": [],
   "source": [
    "# table = pd.concat([table, table_two])"
   ]
  },
  {
   "cell_type": "code",
   "execution_count": 40,
   "metadata": {},
   "outputs": [],
   "source": [
    "table = pd.DataFrame(paragraphs, columns = ['C'])"
   ]
  },
  {
   "cell_type": "code",
   "execution_count": 45,
   "metadata": {},
   "outputs": [
    {
     "data": {
      "text/html": [
       "<div>\n",
       "<style scoped>\n",
       "    .dataframe tbody tr th:only-of-type {\n",
       "        vertical-align: middle;\n",
       "    }\n",
       "\n",
       "    .dataframe tbody tr th {\n",
       "        vertical-align: top;\n",
       "    }\n",
       "\n",
       "    .dataframe thead th {\n",
       "        text-align: right;\n",
       "    }\n",
       "</style>\n",
       "<table border=\"1\" class=\"dataframe\">\n",
       "  <thead>\n",
       "    <tr style=\"text-align: right;\">\n",
       "      <th></th>\n",
       "      <th>C</th>\n",
       "    </tr>\n",
       "  </thead>\n",
       "  <tbody>\n",
       "    <tr>\n",
       "      <th>4</th>\n",
       "      <td>&lt;strong&gt;David&lt;/strong&gt;: Thanks for having me, Claire. I’m a big fan of the&amp;nbsp;&lt;a href=\"http://theheartbeat.news/\" ...</td>\n",
       "    </tr>\n",
       "    <tr>\n",
       "      <th>6</th>\n",
       "      <td>&lt;strong&gt;David&lt;/strong&gt;: It’s amazing. Thank you.</td>\n",
       "    </tr>\n",
       "    <tr>\n",
       "      <th>8</th>\n",
       "      <td>&lt;strong&gt;David&lt;/strong&gt;: I’m also a subscriber to your app as well. I check&amp;nbsp;&lt;a href=\"http://thewatercooler.io/\" ...</td>\n",
       "    </tr>\n",
       "    <tr>\n",
       "      <th>10</th>\n",
       "      <td>&lt;strong&gt;David&lt;/strong&gt;: So many things. I think the thing I think about the most&amp;nbsp;… There’s so many. The list is...</td>\n",
       "    </tr>\n",
       "    <tr>\n",
       "      <th>11</th>\n",
       "      <td>What I mean by that is having spent my first half of my career focused on everything else, which is like building th...</td>\n",
       "    </tr>\n",
       "    <tr>\n",
       "      <th>12</th>\n",
       "      <td>Once you look at it from that lens then you think, “Well, those problems are pretty well-known” and it leads you to ...</td>\n",
       "    </tr>\n",
       "    <tr>\n",
       "      <th>14</th>\n",
       "      <td>&lt;strong&gt;David&lt;/strong&gt;: Yeah. I think it was gradual in that it took a long time.</td>\n",
       "    </tr>\n",
       "    <tr>\n",
       "      <th>15</th>\n",
       "      <td>I think what happened was you fail or you feel the pain, I should say, you feel pain enough times that you finally w...</td>\n",
       "    </tr>\n",
       "    <tr>\n",
       "      <th>16</th>\n",
       "      <td>Where I would hit this is at a certain scaling point there’s always these magical scaling moments in companies that ...</td>\n",
       "    </tr>\n",
       "    <tr>\n",
       "      <th>17</th>\n",
       "      <td>They weren’t the technical things. They weren’t go-to-market. They weren’t the technology. They weren’t the stack. T...</td>\n",
       "    </tr>\n",
       "    <tr>\n",
       "      <th>19</th>\n",
       "      <td>&lt;strong&gt;David&lt;/strong&gt;: Yeah. I think basically it’s the communication. It’s the aspect of communication is we don’t...</td>\n",
       "    </tr>\n",
       "    <tr>\n",
       "      <th>20</th>\n",
       "      <td>I think we all know that on the surface. Everyone would say, “Yeah. Yeah. That’s obvious. Yeah, I know that. I know ...</td>\n",
       "    </tr>\n",
       "    <tr>\n",
       "      <th>21</th>\n",
       "      <td>Someone on the team, our VP of marketing at the time, wanted everyone to take a Myers-Briggs test. I was the CTO, I ...</td>\n",
       "    </tr>\n",
       "    <tr>\n",
       "      <th>22</th>\n",
       "      <td>I took it and now it’s all I talk about is personalities and this and that. It was a discovery for me because not re...</td>\n",
       "    </tr>\n",
       "    <tr>\n",
       "      <th>24</th>\n",
       "      <td>&lt;strong&gt;David&lt;/strong&gt;: I am INTJ.</td>\n",
       "    </tr>\n",
       "    <tr>\n",
       "      <th>26</th>\n",
       "      <td>&lt;strong&gt;David&lt;/strong&gt;: Yeah. I am INTJ.</td>\n",
       "    </tr>\n",
       "    <tr>\n",
       "      <th>28</th>\n",
       "      <td>&lt;strong&gt;David&lt;/strong&gt;: Oh, really?</td>\n",
       "    </tr>\n",
       "    <tr>\n",
       "      <th>30</th>\n",
       "      <td>Right now I guess with your team how do you, as you lead Drift&amp;nbsp;… Remind me how many employees that you are at t...</td>\n",
       "    </tr>\n",
       "    <tr>\n",
       "      <th>31</th>\n",
       "      <td>&lt;strong&gt;David&lt;/strong&gt;: We’re 130 some odd. 130-ish. Yeah.</td>\n",
       "    </tr>\n",
       "    <tr>\n",
       "      <th>33</th>\n",
       "      <td>&lt;strong&gt;David&lt;/strong&gt;: I think one thing that I discovered over the time was that the most scalable thing in terms ...</td>\n",
       "    </tr>\n",
       "    <tr>\n",
       "      <th>34</th>\n",
       "      <td>In that context, the one on ones, we use a different set of personality tests but we talk a lot about Myers-Briggs a...</td>\n",
       "    </tr>\n",
       "    <tr>\n",
       "      <th>35</th>\n",
       "      <td>People are using this all the time internally even in their one on ones, kind of ongoing, and reminding themselves a...</td>\n",
       "    </tr>\n",
       "    <tr>\n",
       "      <th>36</th>\n",
       "      <td>I kind of think about most of this stuff as English gardening. If you want an English garden most of the work is act...</td>\n",
       "    </tr>\n",
       "    <tr>\n",
       "      <th>38</th>\n",
       "      <td>Your take and what I’m inferring here is it’s actually the pruning. It’s the small day to day actions. It’s things y...</td>\n",
       "    </tr>\n",
       "    <tr>\n",
       "      <th>39</th>\n",
       "      <td>&lt;strong&gt;David&lt;/strong&gt;: I think just to pull on that thread there I think that I take it to the extreme. I think it’...</td>\n",
       "    </tr>\n",
       "    <tr>\n",
       "      <th>40</th>\n",
       "      <td>It’s not like that. It’s really a game of inches. It’s just like these micro little things and if you do them over t...</td>\n",
       "    </tr>\n",
       "    <tr>\n",
       "      <th>41</th>\n",
       "      <td>If you look at anything else in life it’s never worked that way. There is no this big bang thing and then I’m an Oly...</td>\n",
       "    </tr>\n",
       "    <tr>\n",
       "      <th>43</th>\n",
       "      <td>What would you say, David, are some of the other micro actions? Aside from communication and one on ones but other s...</td>\n",
       "    </tr>\n",
       "    <tr>\n",
       "      <th>44</th>\n",
       "      <td>&lt;strong&gt;David&lt;/strong&gt;: Yeah. To me, it all comes back to the people stuff. It’s those one on ones. It’s the spendin...</td>\n",
       "    </tr>\n",
       "    <tr>\n",
       "      <th>46</th>\n",
       "      <td>&lt;strong&gt;David&lt;/strong&gt;: Yeah. I’m at the end of the chain so it’s been very well-filtered by then so I’m not taking ...</td>\n",
       "    </tr>\n",
       "    <tr>\n",
       "      <th>...</th>\n",
       "      <td>...</td>\n",
       "    </tr>\n",
       "    <tr>\n",
       "      <th>53</th>\n",
       "      <td>&lt;strong&gt;David&lt;/strong&gt;: Then they kind of think about the people a little bit. It’s kind of the opposite. It’s like ...</td>\n",
       "    </tr>\n",
       "    <tr>\n",
       "      <th>54</th>\n",
       "      <td>Then the product, we’ve all seen many examples. Not to say that we should aim for a mediocre product but great marke...</td>\n",
       "    </tr>\n",
       "    <tr>\n",
       "      <th>55</th>\n",
       "      <td>For us, engineers or geeks or what have you, we like to think about all the product, really the people, and that mar...</td>\n",
       "    </tr>\n",
       "    <tr>\n",
       "      <th>57</th>\n",
       "      <td>&lt;strong&gt;David&lt;/strong&gt;: I think you nailed it.</td>\n",
       "    </tr>\n",
       "    <tr>\n",
       "      <th>59</th>\n",
       "      <td>&lt;strong&gt;David&lt;/strong&gt;: Can’t control.</td>\n",
       "    </tr>\n",
       "    <tr>\n",
       "      <th>61</th>\n",
       "      <td>One other thing that actually just came to mind. I was reading something on The Drift blog post recently. You had wr...</td>\n",
       "    </tr>\n",
       "    <tr>\n",
       "      <th>62</th>\n",
       "      <td>&lt;strong&gt;David&lt;/strong&gt;: Yes.</td>\n",
       "    </tr>\n",
       "    <tr>\n",
       "      <th>64</th>\n",
       "      <td>&lt;strong&gt;David&lt;/strong&gt;: One, I love Peter Drucker and we read a lot of Peter Drucker here. I’m about going back to t...</td>\n",
       "    </tr>\n",
       "    <tr>\n",
       "      <th>66</th>\n",
       "      <td>&lt;strong&gt;David&lt;/strong&gt;: That you read out there today. That’s where I would start. For us, no consensus, that idea r...</td>\n",
       "    </tr>\n",
       "    <tr>\n",
       "      <th>67</th>\n",
       "      <td>You’ve got to pick an edge. You can’t be in the middle. Then what I learned on my own after having that in my mind w...</td>\n",
       "    </tr>\n",
       "    <tr>\n",
       "      <th>68</th>\n",
       "      <td>It’s okay to have people love your product. That’s awesome. It’s also okay for people to hate your product because y...</td>\n",
       "    </tr>\n",
       "    <tr>\n",
       "      <th>69</th>\n",
       "      <td>Anyway, I had been thinking about that for a long time. One of our values here, we have eight, is no consensus. Cons...</td>\n",
       "    </tr>\n",
       "    <tr>\n",
       "      <th>70</th>\n",
       "      <td>For us, it’s about picking an edge, going out there, getting a reaction from that even if it’s sometimes not the rea...</td>\n",
       "    </tr>\n",
       "    <tr>\n",
       "      <th>72</th>\n",
       "      <td>In so many teams and CEOs that we’ve worked with there’s always this fascinating dynamic and conflict between how do...</td>\n",
       "    </tr>\n",
       "    <tr>\n",
       "      <th>73</th>\n",
       "      <td>&lt;strong&gt;David&lt;/strong&gt;: You know how I do that?</td>\n",
       "    </tr>\n",
       "    <tr>\n",
       "      <th>75</th>\n",
       "      <td>&lt;strong&gt;David&lt;/strong&gt;: I stumbled on the answer back at Performable, which is like two companies ago, by accident. ...</td>\n",
       "    </tr>\n",
       "    <tr>\n",
       "      <th>76</th>\n",
       "      <td>The only thing we know for sure is that whatever idea we have is wrong. What we need to figure out now is we need to...</td>\n",
       "    </tr>\n",
       "    <tr>\n",
       "      <th>77</th>\n",
       "      <td>Or it could be 100% off. It’s usually somewhere in between those two extremes. Why not get out there? Work with our ...</td>\n",
       "    </tr>\n",
       "    <tr>\n",
       "      <th>78</th>\n",
       "      <td>Back to what Peter Drucker would say, the only goal of business is to serve a customer, right? We’re only here to se...</td>\n",
       "    </tr>\n",
       "    <tr>\n",
       "      <th>80</th>\n",
       "      <td>&lt;strong&gt;David&lt;/strong&gt;: The only one who can tell us that is that customer. Not us.</td>\n",
       "    </tr>\n",
       "    <tr>\n",
       "      <th>82</th>\n",
       "      <td>David: We’re never the customer.</td>\n",
       "    </tr>\n",
       "    <tr>\n",
       "      <th>84</th>\n",
       "      <td>&lt;strong&gt;David&lt;/strong&gt;: It’s hard.</td>\n",
       "    </tr>\n",
       "    <tr>\n",
       "      <th>86</th>\n",
       "      <td>I might move forward because I feel like I want to give this idea a shot and another person might move forward becau...</td>\n",
       "    </tr>\n",
       "    <tr>\n",
       "      <th>87</th>\n",
       "      <td>Just accepting that there’s some plurality in that decision making process when you’re trying to find that edge. I c...</td>\n",
       "    </tr>\n",
       "    <tr>\n",
       "      <th>88</th>\n",
       "      <td>&lt;strong&gt;David&lt;/strong&gt;: This is why it’s all about people. Back to the beginning. It’s 99% people. It’s this. It’s l...</td>\n",
       "    </tr>\n",
       "    <tr>\n",
       "      <th>89</th>\n",
       "      <td>I’d say at the beginning of this year I sent out a letter to the team that I wrote up, like a shareholder’s style of...</td>\n",
       "    </tr>\n",
       "    <tr>\n",
       "      <th>90</th>\n",
       "      <td>I traced back and I said, “I think every single one of these mistakes” and I highlighted how, “Were due to ego.” Eve...</td>\n",
       "    </tr>\n",
       "    <tr>\n",
       "      <th>91</th>\n",
       "      <td>I traced back and I said, “I think every single one of these mistakes” and I highlighted how, “Were due to ego.” Eve...</td>\n",
       "    </tr>\n",
       "    <tr>\n",
       "      <th>92</th>\n",
       "      <td>What I’m trying to point out there is we made these mistakes. We don’t need to make these mistakes and we didn’t nee...</td>\n",
       "    </tr>\n",
       "    <tr>\n",
       "      <th>94</th>\n",
       "      <td>&lt;strong&gt;David&lt;/strong&gt;: Thank you so much for having me, Claire. I’m a big fan. Everyone sign up for&amp;nbsp;&lt;a href=\"h...</td>\n",
       "    </tr>\n",
       "  </tbody>\n",
       "</table>\n",
       "<p>64 rows × 1 columns</p>\n",
       "</div>"
      ],
      "text/plain": [
       "                                                                                                                          C\n",
       "4   <strong>David</strong>: Thanks for having me, Claire. I’m a big fan of the&nbsp;<a href=\"http://theheartbeat.news/\" ...\n",
       "6                                                                          <strong>David</strong>: It’s amazing. Thank you.\n",
       "8   <strong>David</strong>: I’m also a subscriber to your app as well. I check&nbsp;<a href=\"http://thewatercooler.io/\" ...\n",
       "10  <strong>David</strong>: So many things. I think the thing I think about the most&nbsp;… There’s so many. The list is...\n",
       "11  What I mean by that is having spent my first half of my career focused on everything else, which is like building th...\n",
       "12  Once you look at it from that lens then you think, “Well, those problems are pretty well-known” and it leads you to ...\n",
       "14                                        <strong>David</strong>: Yeah. I think it was gradual in that it took a long time.\n",
       "15  I think what happened was you fail or you feel the pain, I should say, you feel pain enough times that you finally w...\n",
       "16  Where I would hit this is at a certain scaling point there’s always these magical scaling moments in companies that ...\n",
       "17  They weren’t the technical things. They weren’t go-to-market. They weren’t the technology. They weren’t the stack. T...\n",
       "19  <strong>David</strong>: Yeah. I think basically it’s the communication. It’s the aspect of communication is we don’t...\n",
       "20  I think we all know that on the surface. Everyone would say, “Yeah. Yeah. That’s obvious. Yeah, I know that. I know ...\n",
       "21  Someone on the team, our VP of marketing at the time, wanted everyone to take a Myers-Briggs test. I was the CTO, I ...\n",
       "22  I took it and now it’s all I talk about is personalities and this and that. It was a discovery for me because not re...\n",
       "24                                                                                       <strong>David</strong>: I am INTJ.\n",
       "26                                                                                 <strong>David</strong>: Yeah. I am INTJ.\n",
       "28                                                                                      <strong>David</strong>: Oh, really?\n",
       "30  Right now I guess with your team how do you, as you lead Drift&nbsp;… Remind me how many employees that you are at t...\n",
       "31                                                               <strong>David</strong>: We’re 130 some odd. 130-ish. Yeah.\n",
       "33  <strong>David</strong>: I think one thing that I discovered over the time was that the most scalable thing in terms ...\n",
       "34  In that context, the one on ones, we use a different set of personality tests but we talk a lot about Myers-Briggs a...\n",
       "35  People are using this all the time internally even in their one on ones, kind of ongoing, and reminding themselves a...\n",
       "36  I kind of think about most of this stuff as English gardening. If you want an English garden most of the work is act...\n",
       "38  Your take and what I’m inferring here is it’s actually the pruning. It’s the small day to day actions. It’s things y...\n",
       "39  <strong>David</strong>: I think just to pull on that thread there I think that I take it to the extreme. I think it’...\n",
       "40  It’s not like that. It’s really a game of inches. It’s just like these micro little things and if you do them over t...\n",
       "41  If you look at anything else in life it’s never worked that way. There is no this big bang thing and then I’m an Oly...\n",
       "43  What would you say, David, are some of the other micro actions? Aside from communication and one on ones but other s...\n",
       "44  <strong>David</strong>: Yeah. To me, it all comes back to the people stuff. It’s those one on ones. It’s the spendin...\n",
       "46  <strong>David</strong>: Yeah. I’m at the end of the chain so it’s been very well-filtered by then so I’m not taking ...\n",
       "..                                                                                                                      ...\n",
       "53  <strong>David</strong>: Then they kind of think about the people a little bit. It’s kind of the opposite. It’s like ...\n",
       "54  Then the product, we’ve all seen many examples. Not to say that we should aim for a mediocre product but great marke...\n",
       "55  For us, engineers or geeks or what have you, we like to think about all the product, really the people, and that mar...\n",
       "57                                                                           <strong>David</strong>: I think you nailed it.\n",
       "59                                                                                   <strong>David</strong>: Can’t control.\n",
       "61  One other thing that actually just came to mind. I was reading something on The Drift blog post recently. You had wr...\n",
       "62                                                                                             <strong>David</strong>: Yes.\n",
       "64  <strong>David</strong>: One, I love Peter Drucker and we read a lot of Peter Drucker here. I’m about going back to t...\n",
       "66  <strong>David</strong>: That you read out there today. That’s where I would start. For us, no consensus, that idea r...\n",
       "67  You’ve got to pick an edge. You can’t be in the middle. Then what I learned on my own after having that in my mind w...\n",
       "68  It’s okay to have people love your product. That’s awesome. It’s also okay for people to hate your product because y...\n",
       "69  Anyway, I had been thinking about that for a long time. One of our values here, we have eight, is no consensus. Cons...\n",
       "70  For us, it’s about picking an edge, going out there, getting a reaction from that even if it’s sometimes not the rea...\n",
       "72  In so many teams and CEOs that we’ve worked with there’s always this fascinating dynamic and conflict between how do...\n",
       "73                                                                          <strong>David</strong>: You know how I do that?\n",
       "75  <strong>David</strong>: I stumbled on the answer back at Performable, which is like two companies ago, by accident. ...\n",
       "76  The only thing we know for sure is that whatever idea we have is wrong. What we need to figure out now is we need to...\n",
       "77  Or it could be 100% off. It’s usually somewhere in between those two extremes. Why not get out there? Work with our ...\n",
       "78  Back to what Peter Drucker would say, the only goal of business is to serve a customer, right? We’re only here to se...\n",
       "80                                      <strong>David</strong>: The only one who can tell us that is that customer. Not us.\n",
       "82                                                                                         David: We’re never the customer.\n",
       "84                                                                                       <strong>David</strong>: It’s hard.\n",
       "86  I might move forward because I feel like I want to give this idea a shot and another person might move forward becau...\n",
       "87  Just accepting that there’s some plurality in that decision making process when you’re trying to find that edge. I c...\n",
       "88  <strong>David</strong>: This is why it’s all about people. Back to the beginning. It’s 99% people. It’s this. It’s l...\n",
       "89  I’d say at the beginning of this year I sent out a letter to the team that I wrote up, like a shareholder’s style of...\n",
       "90  I traced back and I said, “I think every single one of these mistakes” and I highlighted how, “Were due to ego.” Eve...\n",
       "91  I traced back and I said, “I think every single one of these mistakes” and I highlighted how, “Were due to ego.” Eve...\n",
       "92  What I’m trying to point out there is we made these mistakes. We don’t need to make these mistakes and we didn’t nee...\n",
       "94  <strong>David</strong>: Thank you so much for having me, Claire. I’m a big fan. Everyone sign up for&nbsp;<a href=\"h...\n",
       "\n",
       "[64 rows x 1 columns]"
      ]
     },
     "execution_count": 45,
     "metadata": {},
     "output_type": "execute_result"
    }
   ],
   "source": [
    "table"
   ]
  },
  {
   "cell_type": "code",
   "execution_count": 129,
   "metadata": {},
   "outputs": [],
   "source": [
    "table = table.drop([14]).copy()"
   ]
  },
  {
   "cell_type": "code",
   "execution_count": 57,
   "metadata": {},
   "outputs": [],
   "source": [
    "table['C'] = table['C'].str.replace(r'<p class=\"interview-answer\">', ' ')\n",
    "# <strong></strong><br>\n",
    "# r'<b>(.*?)<br><\\/b>'\n",
    "# <strong>Judith Jamison:</strong>\n",
    "# <p name=\".*?\" id=\".*?\" class=\".*?\">\n",
    "# p class=\"ki kj ea aq kl b km kn ko kp kq kr ks kt ku kv jv\">\n",
    "# p class=\"\"><strong class=\"\">.*?</strong>"
   ]
  },
  {
   "cell_type": "code",
   "execution_count": 18,
   "metadata": {},
   "outputs": [],
   "source": [
    "table = table.drop(table.index[1:10]).copy()"
   ]
  },
  {
   "cell_type": "code",
   "execution_count": 23,
   "metadata": {},
   "outputs": [],
   "source": [
    "table = table.drop(table.index[1:4]).copy()"
   ]
  },
  {
   "cell_type": "code",
   "execution_count": 42,
   "metadata": {},
   "outputs": [],
   "source": [
    "table = table[4:].copy()"
   ]
  },
  {
   "cell_type": "code",
   "execution_count": 43,
   "metadata": {},
   "outputs": [],
   "source": [
    "table = table[:-1].copy()"
   ]
  },
  {
   "cell_type": "code",
   "execution_count": 98,
   "metadata": {},
   "outputs": [],
   "source": [
    "table = table[table.C.str.contains(r'<strong>Q:') == False].copy()"
   ]
  },
  {
   "cell_type": "code",
   "execution_count": 44,
   "metadata": {},
   "outputs": [],
   "source": [
    "table = table[table.C.str.contains(r'<strong>Claire</strong>:') == False].copy()"
   ]
  },
  {
   "cell_type": "code",
   "execution_count": null,
   "metadata": {},
   "outputs": [],
   "source": [
    "# <span class=\"speaker-guest\">Paula</span>: "
   ]
  },
  {
   "cell_type": "code",
   "execution_count": 46,
   "metadata": {},
   "outputs": [],
   "source": [
    "table['C'] = table['C'].str.replace(r'<strong>.*?</strong>:', '')\n",
    "# <strong>(.*?)<br><\\/strong>"
   ]
  },
  {
   "cell_type": "code",
   "execution_count": 131,
   "metadata": {},
   "outputs": [],
   "source": [
    "table['C'] = table['C'].str.replace(r'<b>.*?</b>', '')\n",
    "# <strong>(.*?)<br><\\/strong>"
   ]
  },
  {
   "cell_type": "code",
   "execution_count": 71,
   "metadata": {},
   "outputs": [],
   "source": [
    "## <p id=\"cCgfmy\"><strong>Aaron Levie:</strong> Oh boy.</p>"
   ]
  },
  {
   "cell_type": "code",
   "execution_count": 238,
   "metadata": {},
   "outputs": [],
   "source": [
    "paragraphs = re.findall('<span style=\".*?\">(.*?)<span\\/>', page_html)  "
   ]
  },
  {
   "cell_type": "code",
   "execution_count": 38,
   "metadata": {},
   "outputs": [],
   "source": [
    "paragraphs = re.findall('<span style=\".*?\" style=\".*?\">', page_html)    "
   ]
  },
  {
   "cell_type": "code",
   "execution_count": 109,
   "metadata": {},
   "outputs": [],
   "source": [
    "#paragraphs = re.findall('<h3>.*?<\\/h3>', page_html)"
   ]
  },
  {
   "cell_type": "code",
   "execution_count": 15,
   "metadata": {},
   "outputs": [],
   "source": [
    "paragraphs = re.findall('<p id=\".*?\" class=\".*?\" name=\".*?\">(.*?)<\\/p>', page_html)"
   ]
  },
  {
   "cell_type": "code",
   "execution_count": 109,
   "metadata": {},
   "outputs": [],
   "source": [
    "# paragraphs = re.findall('<p id=\".*?\">(.*?)<\\/p>', page_html)\n",
    "## paragraphs = re.findall('<p>(.*?)<\\/p>', page_html)\n",
    "paragraphs = re.findall('<div class=\"article-body-content standard-body-content\">(.*?)<\\/div>', page_html)\n",
    "## paragraphs = re.findall('<p.*?>(.*?)<\\/p>', page_html)"
   ]
  },
  {
   "cell_type": "code",
   "execution_count": 30,
   "metadata": {},
   "outputs": [],
   "source": [
    "paragraphs = re.findall('<div style=\".*?\">(.*?)<\\/div>', page_html)"
   ]
  },
  {
   "cell_type": "code",
   "execution_count": 17,
   "metadata": {},
   "outputs": [],
   "source": [
    "paragraphs = re.findall('<p data-elm-loc=.*?>.*?<\\/p>', page_html)"
   ]
  },
  {
   "cell_type": "code",
   "execution_count": 205,
   "metadata": {},
   "outputs": [],
   "source": [
    "## paragraphs = re.findall('<p>.*?<.*?>', page_html)"
   ]
  },
  {
   "cell_type": "code",
   "execution_count": 21,
   "metadata": {},
   "outputs": [],
   "source": [
    "paragraphs = re.findall('<p name=\".*?\" id=\".*?\" class=\".*?\">.*?<\\/p>', page_html)"
   ]
  },
  {
   "cell_type": "code",
   "execution_count": 110,
   "metadata": {},
   "outputs": [],
   "source": [
    "# paragraphs = re.findall('<p name=\".*?\" id=\".*?\" class=\".*?\">.*?', page_html)"
   ]
  },
  {
   "cell_type": "code",
   "execution_count": 126,
   "metadata": {},
   "outputs": [],
   "source": [
    "secondpara = re.findall('<span class=\".*?\">(.*?)<', page_html)"
   ]
  },
  {
   "cell_type": "code",
   "execution_count": 186,
   "metadata": {},
   "outputs": [],
   "source": [
    "paragraphs = re.findall('<p class=\"p2\">(.*?)<\\/p>', page_html)"
   ]
  },
  {
   "cell_type": "code",
   "execution_count": 106,
   "metadata": {},
   "outputs": [],
   "source": [
    "paragraphs = re.findall('<p class=\"body-text\">(.*?)<\\/p>', page_html)"
   ]
  },
  {
   "cell_type": "code",
   "execution_count": 84,
   "metadata": {},
   "outputs": [],
   "source": [
    "## paragraphs = re.findall('<span class=\"answer\">(.*?)<\\/span>', page_html)\n",
    "## paragraphs = re.findall('<p id=\".*?\"><strong>MP:<\\/strong>(.*?)<\\/p>', page_html)"
   ]
  },
  {
   "cell_type": "code",
   "execution_count": 299,
   "metadata": {},
   "outputs": [],
   "source": [
    "# paragraphs = re.findall('<p class>(.*?)<\\/p>', page_html)"
   ]
  },
  {
   "cell_type": "code",
   "execution_count": 191,
   "metadata": {},
   "outputs": [],
   "source": [
    "paragraphs = re.findall('<p class=\"answer\">(.*?)<\\/p>', page_html)"
   ]
  },
  {
   "cell_type": "code",
   "execution_count": 45,
   "metadata": {},
   "outputs": [],
   "source": [
    "paragraphs = re.findall('<p class=\"basic-style\">(.*?)<', page_html)"
   ]
  },
  {
   "cell_type": "code",
   "execution_count": 397,
   "metadata": {},
   "outputs": [],
   "source": [
    "paragraphs = re.findall('<blockquote>(.*?)<\\/blockquote>', page_html)"
   ]
  },
  {
   "cell_type": "code",
   "execution_count": 11,
   "metadata": {},
   "outputs": [],
   "source": [
    "paragraphs = re.findall('<p>(.*?)<\\/p>', page_html)"
   ]
  },
  {
   "cell_type": "code",
   "execution_count": 348,
   "metadata": {},
   "outputs": [],
   "source": [
    "paragraphs = re.findall('<div element=\"p\">(.*?)<\\/div>', page_html)"
   ]
  },
  {
   "cell_type": "code",
   "execution_count": 309,
   "metadata": {},
   "outputs": [],
   "source": [
    "# secondtable = pd.DataFrame(secondtable, columns = ['C'])"
   ]
  },
  {
   "cell_type": "code",
   "execution_count": 304,
   "metadata": {},
   "outputs": [],
   "source": [
    "# paragraphs = re.findall('<p><span><strong>(.*?)<\\/span><\\/p>', page_html)"
   ]
  },
  {
   "cell_type": "code",
   "execution_count": 311,
   "metadata": {},
   "outputs": [],
   "source": [
    "# table = pd.concat([table, secondtable])"
   ]
  },
  {
   "cell_type": "code",
   "execution_count": 559,
   "metadata": {},
   "outputs": [],
   "source": [
    "# paragraphs = re.findall('<p><.*?>.*?<\\/p>', page_html)"
   ]
  },
  {
   "cell_type": "code",
   "execution_count": 75,
   "metadata": {},
   "outputs": [],
   "source": [
    "paragraphs = re.findall('<p class=\"p1\"><span class=\"s1\">(.*?)<\\/span><\\/p>', page_html)"
   ]
  },
  {
   "cell_type": "code",
   "execution_count": 112,
   "metadata": {},
   "outputs": [],
   "source": [
    "# paragraphs = re.findall('<p class=\".*?\" data-editable=\".*?\" data-uri=\".*?\" data-word-count=\".*?\">(.*?)<\\/p>', page_html)"
   ]
  },
  {
   "cell_type": "code",
   "execution_count": 92,
   "metadata": {},
   "outputs": [],
   "source": [
    "paragraphs = re.findall('<p name=\".*?\" id=\".*?\" class=\".*?\">(.*?)<\\/p>', page_html)"
   ]
  },
  {
   "cell_type": "code",
   "execution_count": 111,
   "metadata": {},
   "outputs": [],
   "source": [
    "# paragraphs = re.findall('<p><strong>(.*?)<\\/strong><br>.*?<', page_html)"
   ]
  },
  {
   "cell_type": "code",
   "execution_count": 34,
   "metadata": {},
   "outputs": [],
   "source": [
    "tabletwo = pd.DataFrame(secondpara, columns = ['C'])"
   ]
  },
  {
   "cell_type": "code",
   "execution_count": 35,
   "metadata": {},
   "outputs": [],
   "source": [
    "table = pd.concat([table, tabletwo])"
   ]
  },
  {
   "cell_type": "code",
   "execution_count": 113,
   "metadata": {},
   "outputs": [],
   "source": [
    "# re.findall('<p class=\".*?\" style=\".*?\"><span style=\".*?\">', page_html)"
   ]
  },
  {
   "cell_type": "code",
   "execution_count": 133,
   "metadata": {},
   "outputs": [],
   "source": [
    "paragraphs = re.findall('<p class=\".*?\">.*?<\\/p>', page_html)"
   ]
  },
  {
   "cell_type": "code",
   "execution_count": 8,
   "metadata": {},
   "outputs": [],
   "source": [
    "## paragraphs = re.findall('<p style = \".*?\">(.*?)<\\/p>', page_html)"
   ]
  },
  {
   "cell_type": "code",
   "execution_count": 87,
   "metadata": {},
   "outputs": [],
   "source": [
    "paragraphs = re.findall('<p class=\"body-text\">(.*?)<\\/p>', page_html)"
   ]
  },
  {
   "cell_type": "code",
   "execution_count": 49,
   "metadata": {},
   "outputs": [],
   "source": [
    "# paragraphs = re.findall('<p class=\".*?\" data-pnum=\"^[0-9]*$\" is>(.*?)<\\/p>', page_html)"
   ]
  },
  {
   "cell_type": "code",
   "execution_count": null,
   "metadata": {},
   "outputs": [],
   "source": [
    "# <p class=\".*?\" data-pnum=\".*?\" is=\"\">(.*?)<\\/p>"
   ]
  },
  {
   "cell_type": "code",
   "execution_count": 190,
   "metadata": {},
   "outputs": [],
   "source": [
    "## paragraphs = re.findall('<p class=\"body-text\"><b>DVF:</b>(.*?)<\\/p>', page_html)"
   ]
  },
  {
   "cell_type": "code",
   "execution_count": 194,
   "metadata": {},
   "outputs": [],
   "source": [
    "## firstpara = re.findall('<p class=\"body-text\"><b>Diane von Furstenberg:</b>(.*?)<\\/p>', page_html)"
   ]
  },
  {
   "cell_type": "code",
   "execution_count": 68,
   "metadata": {},
   "outputs": [],
   "source": [
    "paragraphs = re.findall('<p style=\".*?\">.*?<\\/p>', page_html)"
   ]
  },
  {
   "cell_type": "code",
   "execution_count": 72,
   "metadata": {},
   "outputs": [],
   "source": [
    "table = table[table.C.str.contains(r'<strong class=\"markup--strong markup--p-strong\">— D.K.: </strong>') == True].copy()\n",
    "# <strong></strong>\n",
    "# <strong>MR: \n",
    "# <em><strong>.*?</strong></em>\n",
    "# <strong>Claire</strong>: "
   ]
  },
  {
   "cell_type": "code",
   "execution_count": 28,
   "metadata": {},
   "outputs": [],
   "source": [
    "table = table[table.C.str.contains(r'Feloni:</strong>') == False].copy()\n",
    "# <b><i>(.*?)<\\/i><\\/b>\n",
    "# <b>On a day in the life of a well-known designer:<br></b>\n",
    "# <strong>ET:    \n",
    "# <b></b>\n",
    "# <span class=\"answer\"> </span>\n",
    "# <strong>.*?</strong> <em>"
   ]
  },
  {
   "cell_type": "code",
   "execution_count": null,
   "metadata": {},
   "outputs": [],
   "source": []
  },
  {
   "cell_type": "code",
   "execution_count": 150,
   "metadata": {},
   "outputs": [],
   "source": [
    "table = table[table.C.str.contains(r'<span style=\"font-style:italic\"><span style=\"font-size:14px\">') == False].copy()"
   ]
  },
  {
   "cell_type": "code",
   "execution_count": 148,
   "metadata": {},
   "outputs": [],
   "source": [
    "table = table[table.C.str.contains(r'<span style=\"font-weight:bold\"><span style=\"font-size:14px\">') == False].copy()"
   ]
  },
  {
   "cell_type": "code",
   "execution_count": 336,
   "metadata": {},
   "outputs": [],
   "source": [
    "table = table[table.C.str.contains(r'<strong>Caprino') == False].copy()"
   ]
  },
  {
   "cell_type": "code",
   "execution_count": 131,
   "metadata": {},
   "outputs": [],
   "source": [
    "table = table[table.C.str.contains(r'<strong>Caprino') == False].copy()"
   ]
  },
  {
   "cell_type": "code",
   "execution_count": 236,
   "metadata": {},
   "outputs": [],
   "source": [
    "firstpara = pd.DataFrame(firstpara, columns = ['C'])"
   ]
  },
  {
   "cell_type": "code",
   "execution_count": 199,
   "metadata": {},
   "outputs": [],
   "source": [
    "secondpara = re.findall('<p class=\"body-text\">(.*?)<', page_html)"
   ]
  },
  {
   "cell_type": "code",
   "execution_count": 200,
   "metadata": {},
   "outputs": [],
   "source": [
    "secondtable = pd.DataFrame(secondpara, columns = ['C'])"
   ]
  },
  {
   "cell_type": "code",
   "execution_count": 146,
   "metadata": {},
   "outputs": [],
   "source": [
    "table = table[16:].copy()"
   ]
  },
  {
   "cell_type": "code",
   "execution_count": 8,
   "metadata": {},
   "outputs": [],
   "source": [
    "# secondtable = secondtable.drop(secondtable.index[4:63]).copy()"
   ]
  },
  {
   "cell_type": "code",
   "execution_count": 10,
   "metadata": {},
   "outputs": [],
   "source": [
    "table = table[:-2].copy()"
   ]
  },
  {
   "cell_type": "code",
   "execution_count": 232,
   "metadata": {},
   "outputs": [],
   "source": [
    "secondtable = secondtable.drop(secondtable.index[5:16]).copy()"
   ]
  },
  {
   "cell_type": "code",
   "execution_count": 79,
   "metadata": {},
   "outputs": [],
   "source": [
    "table = table[table.C.str.contains(r'<b>.*?<\\/b>') == False].copy()\n",
    "## <strong>.*?<\\/strong><br>\n",
    "# <b>.*?<\\/b>"
   ]
  },
  {
   "cell_type": "code",
   "execution_count": 502,
   "metadata": {},
   "outputs": [],
   "source": [
    "table = table[table.C.str.contains(r'color:#0000CD') == False].copy()"
   ]
  },
  {
   "cell_type": "code",
   "execution_count": 120,
   "metadata": {},
   "outputs": [],
   "source": [
    "table = table.drop(table.index[4]).copy()"
   ]
  },
  {
   "cell_type": "code",
   "execution_count": 58,
   "metadata": {},
   "outputs": [],
   "source": [
    "table = table.drop([9]).copy()"
   ]
  },
  {
   "cell_type": "code",
   "execution_count": 107,
   "metadata": {},
   "outputs": [],
   "source": [
    "table = table[1:].copy()"
   ]
  },
  {
   "cell_type": "code",
   "execution_count": 18,
   "metadata": {},
   "outputs": [],
   "source": [
    "table['C'] = table['C'].str.replace(r'<p name=\".*?\" id=\".*?\" class=\".*?\">', '')\n",
    "# <strong></strong><br>\n",
    "# r'<b>(.*?)<br><\\/b>'\n",
    "# <strong>Judith Jamison:</strong>\n",
    "# <p name=\".*?\" id=\".*?\" class=\".*?\">"
   ]
  },
  {
   "cell_type": "code",
   "execution_count": 183,
   "metadata": {},
   "outputs": [],
   "source": [
    "paragraphs = re.findall('<p>(.*?)<\\/p>', page_html)"
   ]
  },
  {
   "cell_type": "code",
   "execution_count": 133,
   "metadata": {},
   "outputs": [],
   "source": [
    "table = table.dropna(how='all')"
   ]
  },
  {
   "cell_type": "code",
   "execution_count": 168,
   "metadata": {},
   "outputs": [],
   "source": [
    "table['C'] = table['C'].str.replace(r'â', ' ')"
   ]
  },
  {
   "cell_type": "code",
   "execution_count": 35,
   "metadata": {},
   "outputs": [],
   "source": [
    "table['C'] = table['C'].str.replace(r':', ' ')"
   ]
  },
  {
   "cell_type": "code",
   "execution_count": 178,
   "metadata": {},
   "outputs": [],
   "source": [
    "# table.loc[52:59]\n",
    "table = table.drop(table.index[-8:])"
   ]
  },
  {
   "cell_type": "code",
   "execution_count": 88,
   "metadata": {},
   "outputs": [],
   "source": [
    "table = table.drop(table.index[0])"
   ]
  },
  {
   "cell_type": "code",
   "execution_count": null,
   "metadata": {},
   "outputs": [],
   "source": []
  },
  {
   "cell_type": "code",
   "execution_count": 23,
   "metadata": {},
   "outputs": [],
   "source": [
    "def remove_html_tags(data):\n",
    "    p = re.compile(r'<.*?>')\n",
    "    return p.sub('', data)"
   ]
  },
  {
   "cell_type": "code",
   "execution_count": 47,
   "metadata": {},
   "outputs": [],
   "source": [
    "clean = table['C'].apply(remove_html_tags).copy()\n",
    "# full = clean.to_frame()"
   ]
  },
  {
   "cell_type": "code",
   "execution_count": 26,
   "metadata": {},
   "outputs": [],
   "source": [
    "def unescape(text):\n",
    "    \"\"\"\n",
    "    Converts HTML character codes to Unicode code points.\n",
    "\n",
    "    @param text the HTML (or XML) source text in any encoding.\n",
    "    @return The plain text, as a Unicode string, if necessary.\n",
    "    \"\"\"\n",
    "    def fixup(m):\n",
    "        text = m.group(0)\n",
    "        if text[:2] == \"&#\":\n",
    "            try:\n",
    "                if text[:3] == \"&#x\":\n",
    "                    return chr(int(text[3:-1], 16))\n",
    "                else:\n",
    "                    return chr(int(text[2:-1]))\n",
    "            except ValueError:\n",
    "                pass\n",
    "        else:\n",
    "            try:\n",
    "                text = chr(html.entities.name2codepoint[text[1:-1]])\n",
    "            except KeyError:\n",
    "                pass\n",
    "        return text\n",
    "    return re.sub(\"&#?\\w+;\", fixup, text)\n",
    "\n",
    "    return re.sub(\"&#?\\w+;\", fixup, text)"
   ]
  },
  {
   "cell_type": "code",
   "execution_count": 48,
   "metadata": {},
   "outputs": [],
   "source": [
    "final = clean.apply(unescape).copy() "
   ]
  },
  {
   "cell_type": "code",
   "execution_count": 49,
   "metadata": {},
   "outputs": [],
   "source": [
    "final.to_csv('DavidCancel.txt', sep = ' ', index = False)"
   ]
  },
  {
   "cell_type": "code",
   "execution_count": null,
   "metadata": {},
   "outputs": [],
   "source": []
  }
 ],
 "metadata": {
  "kernelspec": {
   "display_name": "Python 3",
   "language": "python",
   "name": "python3"
  },
  "language_info": {
   "codemirror_mode": {
    "name": "ipython",
    "version": 3
   },
   "file_extension": ".py",
   "mimetype": "text/x-python",
   "name": "python",
   "nbconvert_exporter": "python",
   "pygments_lexer": "ipython3",
   "version": "3.6.5"
  }
 },
 "nbformat": 4,
 "nbformat_minor": 2
}
