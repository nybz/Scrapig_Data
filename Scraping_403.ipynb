{
 "cells": [
  {
   "cell_type": "markdown",
   "metadata": {},
   "source": [
    "# when there is a missing index\n",
    "missing = main.loc[[34]].copy()\n",
    "# when concatting the missing index\n",
    "whole = pd.concat([missing, new]).copy()"
   ]
  },
  {
   "cell_type": "markdown",
   "metadata": {},
   "source": [
    "body = main.drop([8, 22], axis = 0).copy()"
   ]
  },
  {
   "cell_type": "code",
   "execution_count": 7,
   "metadata": {},
   "outputs": [],
   "source": [
    "import pandas as pd\n",
    "import re\n",
    "import requests\n",
    "pd.set_option('display.max_colwidth', 400)"
   ]
  },
  {
   "cell_type": "code",
   "execution_count": 8,
   "metadata": {},
   "outputs": [
    {
     "data": {
      "text/plain": [
       "'C:\\\\Users\\\\2918261\\\\Dropbox\\\\Corner Office Interviews\\\\ComparisonCorpusText'"
      ]
     },
     "execution_count": 8,
     "metadata": {},
     "output_type": "execute_result"
    }
   ],
   "source": [
    "import os\n",
    "from urllib.request import urlopen\n",
    "import http.cookiejar as cookielib\n",
    "import re\n",
    "import html.entities\n",
    "import codecs\n",
    "import time\n",
    "from bs4 import BeautifulSoup\n",
    "\n",
    "# C://Users//2918261//Courses//Oslo Summer School//notebooks//Interviews\n",
    "# C://Users//Toshiba//Dropbox//Corner Office Interviews//ComparisonCorpusText\n",
    "# C://Users//2918261//Courses//Oslo Summer School//notebooks//Interviews\n",
    "# os.chdir('C://Users//2918261//Dropbox//Corner Office Interviews//ComparisonCorpusText')\n",
    "# os.chdir('C://Users//Toshiba//Dropbox//Corner Office Interviews//ComparisonCorpusText')\n",
    "os.chdir('C://Users//2918261//Dropbox//Corner Office Interviews//ComparisonCorpusText')\n",
    "os.getcwd()"
   ]
  },
  {
   "cell_type": "code",
   "execution_count": 9,
   "metadata": {},
   "outputs": [
    {
     "name": "stdout",
     "output_type": "stream",
     "text": [
      "b'<!DOCTYPE html>\\n<html lang=\"en-US\" prefix=\"og: http://ogp.me/ns#\">\\n<head>\\n<meta charset=\"UTF-8\">\\n<meta name=\"viewport\" content=\"width=device-width, initial-scale=1\">\\n<link rel=\"profile\" href=\"http://gmpg.org/xfn/11\">\\n<link rel=\"pingback\" href=\"https://iwantherjob.com/xmlrpc.php\">\\n\\n\\n<meta property=\"og:site_name\" content=\"I Want Her Job\"/>\\n<meta property=\"og:type\" content=\"blog\"/>\\n<meta property=\"og:title\" content=\"Blake Irving\"/>\\n<meta property=\"og:url\" content=\"https://iwantherjob.com/leading-ladies/blake-irving/\"/>\\n<meta property=\"og:image\" content=\"https://iwantherjob.com/wp-includes/images/media/default.png\"/>\\n\\n<title>Blake Irving - I Want Her Job</title>\\n\\n<!-- This site is optimized with the Yoast SEO plugin v9.7 - https://yoast.com/wordpress/plugins/seo/ -->\\n<link rel=\"canonical\" href=\"https://iwantherjob.com/leading-ladies/blake-irving/\" />\\n<meta property=\"og:locale\" content=\"en_US\" />\\n<meta property=\"og:type\" content=\"article\" />\\n<meta property=\"og:title\" content=\"Blake Irving - I Want Her Job\" />\\n<meta property=\"og:description\" content=\"Ask people what word they often associate with &ldquo;GoDaddy&rdquo; and chances are it&rsquo;s not very female-friendly. CEO and Board Director Blake Irving is out to change that. &ldquo;I think that women will characterize GoDaddy&rsquo;s last 10 years of advertising as misogynistic and not honoring women,&rdquo; he says. &ldquo;We&rsquo;re going in a very different direction &ndash;...\" />\\n<meta property=\"og:url\" content=\"https://iwantherjob.com/leading-ladies/blake-irving/\" />\\n<meta property=\"og:site_name\" content=\"I Want Her Job\" />\\n<meta property=\"article:tag\" content=\"godaddy\" />\\n<meta property=\"article:tag\" content=\"Technology\" />\\n<meta property=\"article:section\" content=\"Leading Ladies\" />\\n<meta property=\"article:published_time\" content=\"2015-04-28T17:48:31+00:00\" />\\n<meta property=\"og:image\" content=\"http://iwantherjob426.wpengine.com/images/leading_ladies/Blake-Irving_Headshot.jpg\" />\\n<meta name=\"twitter:card\" content=\"summary_large_image\" />\\n<meta name=\"twitter:description\" content=\"Ask people what word they often associate with &ldquo;GoDaddy&rdquo; and chances are it&rsquo;s not very female-friendly. CEO and Board Director Blake Irving is out to change that. &ldquo;I think that women will characterize GoDaddy&rsquo;s last 10 years of advertising as misogynistic and not honoring women,&rdquo; he says. &ldquo;We&rsquo;re going in a very different direction &ndash;...\" />\\n<meta name=\"twitter:title\" content=\"Blake Irving - I Want Her Job\" />\\n<meta name=\"twitter:image\" content=\"http://iwantherjob426.wpengine.com/images/leading_ladies/Blake-Irving_Headshot.jpg\" />\\n<!-- / Yoast SEO plugin. -->\\n\\n<link rel=\\'dns-prefetch\\' href=\\'//assets.pinterest.com\\' />\\n<link rel=\\'dns-prefetch\\' href=\\'//fonts.googleapis.com\\' />\\n<link rel=\\'dns-prefetch\\' href=\\'//maxcdn.bootstrapcdn.com\\' />\\n<link rel=\\'dns-prefetch\\' href=\\'//s.w.org\\' />\\n<link rel=\"alternate\" type=\"application/rss+xml\" title=\"I Want Her Job &raquo; Feed\" href=\"https://iwantherjob.com/feed/\" />\\n<link rel=\"alternate\" type=\"application/rss+xml\" title=\"I Want Her Job &raquo; Comments Feed\" href=\"https://iwantherjob.com/comments/feed/\" />\\n\\t\\t<script type=\"text/javascript\">\\n\\t\\t\\twindow._wpemojiSettings = {\"baseUrl\":\"https:\\\\/\\\\/s.w.org\\\\/images\\\\/core\\\\/emoji\\\\/11.2.0\\\\/72x72\\\\/\",\"ext\":\".png\",\"svgUrl\":\"https:\\\\/\\\\/s.w.org\\\\/images\\\\/core\\\\/emoji\\\\/11.2.0\\\\/svg\\\\/\",\"svgExt\":\".svg\",\"source\":{\"concatemoji\":\"https:\\\\/\\\\/iwantherjob.com\\\\/wp-includes\\\\/js\\\\/wp-emoji-release.min.js?ver=5.1.1\"}};\\n\\t\\t\\t!function(a,b,c){function d(a,b){var c=String.fromCharCode;l.clearRect(0,0,k.width,k.height),l.fillText(c.apply(this,a),0,0);var d=k.toDataURL();l.clearRect(0,0,k.width,k.height),l.fillText(c.apply(this,b),0,0);var e=k.toDataURL();return d===e}function e(a){var b;if(!l||!l.fillText)return!1;switch(l.textBaseline=\"top\",l.font=\"600 32px Arial\",a){case\"flag\":return!(b=d([55356,56826,55356,56819],[55356,56826,8203,55356,56819]))&&(b=d([55356,57332,56128,56423,56128,56418,56128,56421,56128,56430,56128,56423,56128,56447],[55356,57332,8203,56128,56423,8203,56128,56418,8203,56128,56421,8203,56128,56430,8203,56128,56423,8203,56128,56447]),!b);case\"emoji\":return b=d([55358,56760,9792,65039],[55358,56760,8203,9792,65039]),!b}return!1}function f(a){var c=b.createElement(\"script\");c.src=a,c.defer=c.type=\"text/javascript\",b.getElementsByTagName(\"head\")[0].appendChild(c)}var g,h,i,j,k=b.createElement(\"canvas\"),l=k.getContext&&k.getContext(\"2d\");for(j=Array(\"flag\",\"emoji\"),c.supports={everything:!0,everythingExceptFlag:!0},i=0;i<j.length;i++)c.supports[j[i]]=e(j[i]),c.supports.everything=c.supports.everything&&c.supports[j[i]],\"flag\"!==j[i]&&(c.supports.everythingExceptFlag=c.supports.everythingExceptFlag&&c.supports[j[i]]);c.supports.everythingExceptFlag=c.supports.everythingExceptFlag&&!c.supports.flag,c.DOMReady=!1,c.readyCallback=function(){c.DOMReady=!0},c.supports.everything||(h=function(){c.readyCallback()},b.addEventListener?(b.addEventListener(\"DOMContentLoaded\",h,!1),a.addEventListener(\"load\",h,!1)):(a.attachEvent(\"onload\",h),b.attachEvent(\"onreadystatechange\",function(){\"complete\"===b.readyState&&c.readyCallback()})),g=c.source||{},g.concatemoji?f(g.concatemoji):g.wpemoji&&g.twemoji&&(f(g.twemoji),f(g.wpemoji)))}(window,document,window._wpemojiSettings);\\n\\t\\t</script>\\n\\t\\t<style type=\"text/css\">\\nimg.wp-smiley,\\nimg.emoji {\\n\\tdisplay: inline !important;\\n\\tborder: none !important;\\n\\tbox-shadow: none !important;\\n\\theight: 1em !important;\\n\\twidth: 1em !important;\\n\\tmargin: 0 .07em !important;\\n\\tvertical-align: -0.1em !important;\\n\\tbackground: none !important;\\n\\tpadding: 0 !important;\\n}\\n</style>\\n\\t<link rel=\\'stylesheet\\' id=\\'flick-css\\'  href=\\'https://iwantherjob.com/wp-content/plugins/mailchimp//css/flick/flick.css?ver=5.1.1\\' type=\\'text/css\\' media=\\'all\\' />\\n<link rel=\\'stylesheet\\' id=\\'mailchimpSF_main_css-css\\'  href=\\'https://iwantherjob.com/?mcsf_action=main_css&#038;ver=5.1.1\\' type=\\'text/css\\' media=\\'all\\' />\\n<!--[if IE]>\\n<link rel=\\'stylesheet\\' id=\\'mailchimpSF_ie_css-css\\'  href=\\'https://iwantherjob.com/wp-content/plugins/mailchimp/css/ie.css?ver=5.1.1\\' type=\\'text/css\\' media=\\'all\\' />\\n<![endif]-->\\n<link rel=\\'stylesheet\\' id=\\'wp-block-library-css\\'  href=\\'https://iwantherjob.com/wp-includes/css/dist/block-library/style.min.css?ver=5.1.1\\' type=\\'text/css\\' media=\\'all\\' />\\n<link rel=\\'stylesheet\\' id=\\'contact-form-7-css\\'  href=\\'https://iwantherjob.com/wp-content/plugins/contact-form-7/includes/css/styles.css?ver=5.1.1\\' type=\\'text/css\\' media=\\'all\\' />\\n<link rel=\\'stylesheet\\' id=\\'parent-style-css\\'  href=\\'https://iwantherjob.com/wp-content/themes/monstera/style.css?ver=5.1.1\\' type=\\'text/css\\' media=\\'all\\' />\\n<link rel=\\'stylesheet\\' id=\\'child-style-css\\'  href=\\'https://iwantherjob.com/wp-content/themes/monstera-child/css/iwhj_styles.css?ver=5.1.1\\' type=\\'text/css\\' media=\\'all\\' />\\n<link rel=\\'stylesheet\\' id=\\'monstera-style-css\\'  href=\\'https://iwantherjob.com/wp-content/themes/monstera-child/style.css?ver=5.1.1\\' type=\\'text/css\\' media=\\'all\\' />\\n<link rel=\\'stylesheet\\' id=\\'monstera-google-fonts-css\\'  href=\\'//fonts.googleapis.com/css?family=Playfair+Display:400,700,900|Montserrat:400,700\\' type=\\'text/css\\' media=\\'all\\' />\\n<link rel=\\'stylesheet\\' id=\\'font-awesome-css\\'  href=\\'//maxcdn.bootstrapcdn.com/font-awesome/4.5.0/css/font-awesome.min.css?ver=5.1.1\\' type=\\'text/css\\' media=\\'all\\' />\\n<script type=\\'text/javascript\\' src=\\'https://iwantherjob.com/wp-includes/js/jquery/jquery.js?ver=1.12.4\\'></script>\\n<script type=\\'text/javascript\\' src=\\'https://iwantherjob.com/wp-includes/js/jquery/jquery-migrate.min.js?ver=1.4.1\\'></script>\\n<script type=\\'text/javascript\\' src=\\'https://iwantherjob.com/wp-content/plugins/mailchimp//js/scrollTo.js?ver=1.5.7\\'></script>\\n<script type=\\'text/javascript\\' src=\\'https://iwantherjob.com/wp-includes/js/jquery/jquery.form.min.js?ver=4.2.1\\'></script>\\n<script type=\\'text/javascript\\'>\\n/* <![CDATA[ */\\nvar mailchimpSF = {\"ajax_url\":\"https:\\\\/\\\\/iwantherjob.com\\\\/\"};\\n/* ]]> */\\n</script>\\n<script type=\\'text/javascript\\' src=\\'https://iwantherjob.com/wp-content/plugins/mailchimp//js/mailchimp.js?ver=1.5.7\\'></script>\\n<script type=\\'text/javascript\\' src=\\'https://iwantherjob.com/wp-includes/js/jquery/ui/core.min.js?ver=1.11.4\\'></script>\\n<script type=\\'text/javascript\\' src=\\'https://iwantherjob.com/wp-content/plugins/mailchimp//js/datepicker.js?ver=5.1.1\\'></script>\\n<link rel=\\'https://api.w.org/\\' href=\\'https://iwantherjob.com/wp-json/\\' />\\n<link rel=\"EditURI\" type=\"application/rsd+xml\" title=\"RSD\" href=\"https://iwantherjob.com/xmlrpc.php?rsd\" />\\n<link rel=\"wlwmanifest\" type=\"application/wlwmanifest+xml\" href=\"https://iwantherjob.com/wp-includes/wlwmanifest.xml\" /> \\n<link rel=\\'shortlink\\' href=\\'https://iwantherjob.com/?p=1470\\' />\\n<link rel=\"alternate\" type=\"application/json+oembed\" href=\"https://iwantherjob.com/wp-json/oembed/1.0/embed?url=https%3A%2F%2Fiwantherjob.com%2Fleading-ladies%2Fblake-irving%2F\" />\\n<link rel=\"alternate\" type=\"text/xml+oembed\" href=\"https://iwantherjob.com/wp-json/oembed/1.0/embed?url=https%3A%2F%2Fiwantherjob.com%2Fleading-ladies%2Fblake-irving%2F&#038;format=xml\" />\\n<script type=\"text/javascript\">\\n        jQuery(function($) {\\n            $(\\'.date-pick\\').each(function() {\\n                var format = $(this).data(\\'format\\') || \\'mm/dd/yyyy\\';\\n                format = format.replace(/yyyy/i, \\'yy\\');\\n                $(this).datepicker({\\n                    autoFocusNextInput: true,\\n                    constrainInput: false,\\n                    changeMonth: true,\\n                    changeYear: true,\\n                    beforeShow: function(input, inst) { $(\\'#ui-datepicker-div\\').addClass(\\'show\\'); },\\n                    dateFormat: format.toLowerCase(),\\n                });\\n            });\\n            d = new Date();\\n            $(\\'.birthdate-pick\\').each(function() {\\n                var format = $(this).data(\\'format\\') || \\'mm/dd\\';\\n                format = format.replace(/yyyy/i, \\'yy\\');\\n                $(this).datepicker({\\n                    autoFocusNextInput: true,\\n                    constrainInput: false,\\n                    changeMonth: true,\\n                    changeYear: false,\\n                    minDate: new Date(d.getFullYear(), 1-1, 1),\\n                    maxDate: new Date(d.getFullYear(), 12-1, 31),\\n                    beforeShow: function(input, inst) { $(\\'#ui-datepicker-div\\').removeClass(\\'show\\'); },\\n                    dateFormat: format.toLowerCase(),\\n                });\\n\\n            });\\n\\n        });\\n    </script>\\n<style type=\"text/css\">            footer {\\n                background-color: #d8e5d5;\\n            }\\n                button,\\n            .button,\\n            input[type=\"button\"], \\n            input[type=\"reset\"], \\n            input[type=\"submit\"],\\n            .primary-nav-container,\\n            .site-info,\\n            .read-more a,\\n            .monstera-button a,\\n            .enews #subbutton,\\n            #infinite-handle,\\n            .share-group,\\n            .nav-previous a, \\n            .nav-next a, \\n            .woocommerce ul.products li.product .button, \\n            .woocommerce #respond input#submit.alt, \\n            .woocommerce a.button.alt, \\n            .woocommerce button.button.alt, \\n            .woocommerce input.button.alt, \\n            .woocommerce .cart .button, \\n            .woocommerce .cart input.button, \\n            .woocommerce a.button,\\n            .woocommerce #review_form #respond .form-submit input {\\n                background-color: #346d28;\\n            }\\n\\n            input[type=\"text\"],\\n            input[type=\"email\"],\\n            input[type=\"url\"],\\n            input[type=\"password\"],\\n            input[type=\"search\"],\\n            textarea,\\n            td, th,\\n            .woocommerce table.cart td.actions .input-text, .woocommerce-page #content table.cart td.actions .input-text, .woocommerce-page table.cart td.actions .input-text, .woocommerce .woocommerce-error, .woocommerce .woocommerce-info, .woocommerce .woocommerce-message, .woocommerce div.product .woocommerce-tabs ul.tabs li, .woocommerce div.product .woocommerce-tabs ul.tabs:before, .woocommerce #primary textarea, .woocommerce #primary input,\\n            .woocommerce #reviews #comments ol.commentlist li .comment-text\\n             {\\n                border-color: #346d28;\\n            }\\n\\n            .flickity-prev-next-button .arrow {\\n                fill: #346d28;\\n            }\\n                button:hover,\\n            .button:hover,\\n            input[type=\"button\"]:hover, \\n            input[type=\"reset\"]:hover, \\n            input[type=\"submit\"]:hover,\\n            .read-more a:hover,\\n            .monstera-button a:hover,\\n            .enews #subbutton:hover,\\n            .footer-widgets .enews #subbutton:hover,\\n            #infinite-handle:hover,\\n            .nav-previous a:hover, \\n            .nav-next a:hover, \\n            .woocommerce ul.products li.product .button:hover, \\n            .woocommerce #respond input#submit.alt:hover, \\n            .woocommerce a.button.alt:hover, \\n            .woocommerce button.button.alt:hover, \\n            .woocommerce input.button.alt:hover, \\n            .woocommerce .cart .button:hover, \\n            .woocommerce .cart input.button:hover, \\n            .woocommerce a.button:hover,\\n            .woocommerce #review_form #respond .form-submit input:hover,\\n            .woocommerce nav.woocommerce-pagination ul li:hover,\\n            .main-navigation li:hover, \\n            .secondary-nav li:hover,\\n            .secondary-nav .sub-menu li:hover, \\n            .main-navigation li:focus, \\n            .secondary-nav li:focus {\\n                background-color: #88b580;\\n            }\\n                    h1 {\\n                font-size: 1.3em;\\n                }\\n\\n                .site-title {\\n                font-size: 1.898em;\\n                }\\n\\n                h2 {\\n                font-size: 1.196em;\\n                }\\n \\n                h3,\\n                .woocommerce ul.products li.product h3 {\\n                font-size: 1.001em;\\n                }\\n\\n                h4, .h4, .stnsvn-rp-container #jp-relatedposts .jp-relatedposts-items p, .stnsvn-rp-container #jp-relatedposts .jp-relatedposts-items-visual h4.jp-relatedposts-post-title, .site-description, .widget-title, .woocommerce-cart .wc-proceed-to-checkout a.checkout-button {\\n                font-size: 0.702em;\\n                }\\n\\n                #secondary li.cat-item a {\\n                font-size: 0.806em;\\n                }\\n\\n                h5,\\n                .main-navigation,\\n                .site-copyright, \\n                #secondary-menu,\\n                #main #infinite-handle span button, \\n                #main #infinite-handle span button:hover, \\n                #main #infinite-handle span button:focus,\\n                button, \\n                blockquote p,\\n                input[type=\"button\"], \\n                input[type=\"reset\"], \\n                input[type=\"submit\"],\\n                input[type=\"search\"],\\n                .entry-meta,\\n                .nav-links,\\n                .woocommerce #respond input#submit, \\n                .woocommerce a.button, \\n                .woocommerce button.button, \\n                .woocommerce input.button,\\n                .comment-author,\\n                a.comment-reply-link,\\n                .entry-footer,\\n                .woocommerce div.product .woocommerce-tabs ul.tabs li a {\\n                font-size: 0.598em;\\n                }\\n                    p,\\n                button,\\n                input,\\n                select,\\n                textarea,\\n                ul,\\n                .comment-metadata,\\n                .woocommerce #reviews #comments ol.commentlist li .comment-text p.meta {\\n                font-size: 0.88em;\\n                }\\n    </style>\\t\\t\\t<span id=\"top\"></span><!-- Back to top anchor -->\\n\\t\\t<link rel=\"icon\" href=\"https://iwantherjob.com/wp-content/uploads/2018/08/cropped-2017-IWHJ-Icon-white-32x32.png\" sizes=\"32x32\" />\\n<link rel=\"icon\" href=\"https://iwantherjob.com/wp-content/uploads/2018/08/cropped-2017-IWHJ-Icon-white-192x192.png\" sizes=\"192x192\" />\\n<link rel=\"apple-touch-icon-precomposed\" href=\"https://iwantherjob.com/wp-content/uploads/2018/08/cropped-2017-IWHJ-Icon-white-180x180.png\" />\\n<meta name=\"msapplication-TileImage\" content=\"https://iwantherjob.com/wp-content/uploads/2018/08/cropped-2017-IWHJ-Icon-white-270x270.png\" />\\n\\n<!-- BEGIN ExactMetrics v5.3.7 Universal Analytics - https://exactmetrics.com/ -->\\n<script>\\n(function(i,s,o,g,r,a,m){i[\\'GoogleAnalyticsObject\\']=r;i[r]=i[r]||function(){\\n\\t(i[r].q=i[r].q||[]).push(arguments)},i[r].l=1*new Date();a=s.createElement(o),\\n\\tm=s.getElementsByTagName(o)[0];a.async=1;a.src=g;m.parentNode.insertBefore(a,m)\\n})(window,document,\\'script\\',\\'https://www.google-analytics.com/analytics.js\\',\\'ga\\');\\n  ga(\\'create\\', \\'UA-15597831-1\\', \\'auto\\');\\n  ga(\\'send\\', \\'pageview\\');\\n</script>\\n<!-- END ExactMetrics Universal Analytics -->\\n\\t\\t<style type=\"text/css\" id=\"wp-custom-css\">\\n\\t\\t\\t.full-logo {\\n\\tpadding-top: 15px;\\n}\\n.entry-content a {\\n\\tcolor: #ce0f69;\\n}\\t\\t</style>\\n\\t\\t</head>\\n\\n<body class=\"post-template-default single single-post postid-1470 single-format-standard group-blog sidebar-layout\">\\n\\n\\t\\n\\t\\t<div class=\"primary-nav-container\">\\n\\t\\t\\t<nav id=\"site-navigation\" class=\"main-navigation\" role=\"navigation\">\\n\\n\\t\\t\\t\\t\\t\\t\\t\\t\\t\\t\\t\\t<span class=\"header-icons \">\\n            \\t\\t\\t\\t\\t\\n\\n<span class=\"monstera-social-icons\">\\n\\t\\t\\t\\t<a href=\"https://www.facebook.com/iwantherjob\" \\n\\t\\t\\t\\ttarget=\"_blank\" \\n\\t\\t\\t>\\n\\t\\t\\t\\t<i class=\"fa fa-facebook fa-fw\"></i>\\n\\t\\t\\t</a>\\n\\t\\n\\t\\t\\t\\t<a href=\"https://www.pinterest.com/iwantherjob/\" \\n\\t\\t\\t\\ttarget=\"_blank\" \\n\\t\\t\\t>\\n\\t\\t\\t\\t<i class=\"fa fa-pinterest-p fa-fw\"></i>\\n\\t\\t\\t</a>\\n\\t\\n\\t\\t\\t\\t<a href=\"https://www.instagram.com/iwantherjob/\" \\n\\t\\t\\t\\ttarget=\"_blank\" \\n\\t\\t\\t>\\n\\t\\t\\t\\t<i class=\"fa fa-instagram fa-fw\"></i>\\n\\t\\t\\t</a>\\n\\t\\n\\t\\t\\t\\t<a href=\"https://twitter.com/iwantherjob\" \\n\\t\\t\\t\\ttarget=\"_blank\" \\n\\t\\t\\t>\\n\\t\\t\\t\\t<i class=\"fa fa-twitter fa-fw\"></i>\\n\\t\\t\\t</a>\\n\\t\\n\\t\\n\\t\\n\\t\\t\\t\\t<a href=\"/feed\" \\n\\t\\t\\t\\ttarget=\"_blank\" \\n\\t\\t\\t>\\n\\n\\t\\t\\t\\t\\t\\t\\t\\t<i class=\"fa fa-rss fa-fw\"></i>\\n\\t\\t\\t</a>\\n\\t\\n\\t\\n\\t\\n\\t\\n\\t\\n\\t\\n</span>\\n            \\t\\t\\t\\t</span>\\n            \\t\\t\\t\\n\\t\\t\\t\\t\\t<button class=\"menu-toggle\" aria-controls=\"primary-menu\" aria-expanded=\"false\">Primary Menu</button>\\n\\t\\t\\t\\t\\t<div class=\"menu-main-menu-container\"><ul id=\"primary-menu\" class=\"menu\"><li id=\"menu-item-2035\" class=\"menu-item menu-item-type-post_type menu-item-object-page menu-item-2035\"><a href=\"https://iwantherjob.com/about-us/\">About</a></li>\\n<li id=\"menu-item-2036\" class=\"menu-item menu-item-type-post_type menu-item-object-page menu-item-2036\"><a href=\"https://iwantherjob.com/faq/\">FAQ</a></li>\\n<li id=\"menu-item-2042\" class=\"menu-item menu-item-type-post_type menu-item-object-page menu-item-2042\"><a href=\"https://iwantherjob.com/participate/\">Participate</a></li>\\n<li id=\"menu-item-2037\" class=\"menu-item menu-item-type-post_type menu-item-object-page menu-item-2037\"><a href=\"https://iwantherjob.com/contact/\">Contact</a></li>\\n<li id=\"menu-item-2124\" class=\"menu-item menu-item-type-post_type menu-item-object-page menu-item-2124\"><a href=\"https://iwantherjob.com/contributors/\">Contributors</a></li>\\n<li id=\"menu-item-2219\" class=\"menu-item menu-item-type-custom menu-item-object-custom menu-item-2219\"><a href=\"/page-content/podcast/\">Podcast</a></li>\\n</ul></div>\\n\\t\\t\\t\\t\\t\\n\\t\\t\\t</nav>\\n\\t\\t</div><!-- #site-navigation -->\\n\\t\\t\\n\\t\\n\\t<header id=\"masthead\" class=\"site-header\" role=\"banner\"\\n\\t\\t\\t\\t>\\n\\n\\t\\t<div class=\"full-logo site-branding\">\\t\\t\\t\\n\\n\\t\\t\\t<div class=\"header-logo\" id=\"body-logo\"><a href=\"https://iwantherjob.com\"><img src=\"http://iwantherjob426.wpengine.com/wp-content/uploads/2018/08/2018-IWHJ-Logo_2x.png\" alt=\"I Want Her Job\"></a></div>\\n\\t\\t\\t<p class=\"site-description\"></p>\\n\\n\\t\\t</div><!-- .site-branding -->\\n\\t</header><!-- #masthead -->\\n\\n\\t<div id=\"page\" class=\"hfeed site\">\\n\\t<a class=\"skip-link screen-reader-text\" href=\"#content\">Skip to content</a>\\n\\n\\t\\t\\n\\t\\t\\t<div class=\"secondary-nav-container\">\\n\\t\\t\\t\\t<nav id=\"secondary-nav\" class=\"secondary-nav\" role=\"navigation\">\\n\\t\\t\\t\\t\\t<button class=\"menu-toggle\" aria-controls=\"secondary-menu\" aria-expanded=\"false\">Secondary Menu</button>\\n\\t\\t\\t\\t\\t<div class=\"menu-sub-menu-container\"><ul id=\"secondary-menu\" class=\"menu\"><li id=\"menu-item-2123\" class=\"menu-item menu-item-type-post_type menu-item-object-page menu-item-home menu-item-2123\"><a href=\"https://iwantherjob.com/\">Home</a></li>\\n<li id=\"menu-item-2120\" class=\"menu-item menu-item-type-taxonomy menu-item-object-category current-post-ancestor current-menu-parent current-post-parent menu-item-2120\"><a href=\"https://iwantherjob.com/category/leading-ladies/\">Leading Ladies</a></li>\\n<li id=\"menu-item-2121\" class=\"menu-item menu-item-type-taxonomy menu-item-object-category menu-item-2121\"><a href=\"https://iwantherjob.com/category/your-career/\">Your Career</a></li>\\n<li id=\"menu-item-2122\" class=\"menu-item menu-item-type-taxonomy menu-item-object-category menu-item-2122\"><a href=\"https://iwantherjob.com/category/iwhj-the-podcast/\">Podcast Episodes</a></li>\\n</ul></div>\\t\\t\\t\\t</nav><!-- #secondary-nav -->\\n\\t\\t\\t</div>\\n\\n\\t\\t\\n\\t\\t\\n\\t<div id=\"content\" class=\"site-content\">\\n\\n\\t\\t\\n\\t<div id=\"primary\" class=\"content-area\">\\n\\t\\t<main id=\"main\" class=\"site-main\" role=\"main\">\\n\\n\\t\\t\\n\\t\\t\\t\\n<article id=\"post-1470\" class=\"post-1470 post type-post status-publish format-standard hentry category-leading-ladies tag-godaddy tag-technology\">\\n\\t<header class=\"entry-header\">\\n\\t\\t<h4 class=\"entry-meta\"><a href=\"https://iwantherjob.com/category/leading-ladies/\">Leading Ladies</a></h4>\\n\\t\\t<h1 class=\"entry-title\">Blake Irving</h1>\\t\\t\\t\\n\\n\\n\\t\\t<div class=\"entry-meta\">\\n\\t\\t\\t\\t\\t\\t\\t\\t\\t <span class=\"byline\">by <span class=\"author vcard\"><a class=\"url fn n\" href=\"https://iwantherjob.com/author/brianne-burrowes/\">Brianne Burrowes</a></span></span><span class=\"meta-divider\"> | </span><span class=\"posted-on\"><a href=\"https://iwantherjob.com/leading-ladies/blake-irving/\" rel=\"bookmark\"><time class=\"entry-date published updated\" datetime=\"2015-04-28T10:48:31-07:00\">April 28, 2015</time></a><span>\\t\\t\\t \\t\\n\\t\\t</div><!-- .entry-meta -->\\n\\t\\t\\n\\t</header><!-- .entry-header -->\\n\\t\\n\\t\\t\\t\\t\\t\\n\\n\\t\\t\\t\\t\\t<div class=\"monstera-featured-img\">\\n\\t\\t\\t\\t\\t\\t\\t</div>\\n\\t\\t\\t\\n\\t\\t\\t\\t\\n\\t\\t\\n\\n\\t<div class=\"entry-content\">\\n\\t\\t\\t\\t\\t\\t\\t\\n\\t\\t\\t\\n\\t\\t<!-- Adding in the leading ladies metadata -->\\n\\t\\t\\t\\t<div class=\"leading-ladies-data entry-meta\">\\n\\t\\t\\t\\t\\t\\t\\t\\t\\t\\t<div class=\"intro\">\\n\\t\\t\\t\\t\\tIntroducing: GoDaddy\\'s Blake Irving\\t\\t\\t\\t</div>\\n\\t\\t\\t\\t\\n\\t\\t\\t\\t\\n\\t\\t\\t\\t<div class=\"occupation\">\\n\\t\\t\\t\\t\\tOccupation: CEO\\t\\t\\t\\t</div>\\n\\t\\t\\t\\t\\n\\t\\t</div>\\n\\t\\t<div id=\"leadingLadiesAddInfo\">\\n\\t\\t\\t\\t\\t\\t\\t  \\t\\t\\t\\t   \\n\\t\\t\\t   \\t\\t\\t\\t<h4>Connect</h4>\\n\\t\\t\\t\\t<p><a href=\"http://www.godaddy.com\">http://www.godaddy.com</a></p>\\n\\t\\t\\t\\t<p><a href=\"http://www.BlakesBlog.com\">http://www.BlakesBlog.com</a></p>\\n\\t\\t\\t\\t<p><a href=\"http://www.twitter.com/blakei\">http://www.twitter.com/blakei</a></p>\\n\\t\\t\\t\\t\\t\\n\\t\\t\\t\\t\\n\\t\\t\\t\\t\\t\\t\\t\\t\\t\\t\\t<h4>Education</h4>\\n\\t\\t\\t\\t<p>San Diego State \\xe2\\x80\\x93 B.A.</p>\\n\\t\\t\\t\\t<p>Pepperdine University \\xe2\\x80\\x93 M.B.A.</p>\\n\\t\\t\\t\\t<p></p>\\n\\t\\t\\t\\t\\t\\n\\t\\t</div>\\n\\t\\t\\t\\n\\t\\t\\n\\t\\t\\n\\t\\t<!--Start Page Content -->\\n\\t\\t<p><img src=\"http://iwantherjob426.wpengine.com/images/leading_ladies/Blake-Irving_Headshot.jpg\"> </p>\\n<p>Ask people what word they often associate with &ldquo;GoDaddy&rdquo; and chances are it&rsquo;s not very female-friendly. CEO and Board Director Blake Irving is out to change that.</p>\\n<p>&ldquo;I think that women will characterize GoDaddy&rsquo;s last 10 years of advertising as misogynistic and not honoring women,&rdquo; he says. &ldquo;We&rsquo;re going in a very different direction &ndash; not just in advertising but in what we&rsquo;re doing<em> inside</em> the company. It&rsquo;s about promoting diversity and being a great place to work for<em> everybody </em>&ndash; a place where everybody can get their best work done, not just the geek guy culture.&rdquo;</p>\\n<p>So, with his team, Blake is on a mission to radically shift the economy toward small business through empowering people to easily, confidently and successfully run their own ventures online. And with more than <a href=\"https://c401345.ssl.cf1.rackcdn.com/wp-content/uploads/2013/03/13ADV-WBI-E-StateOfWomenReport_FINAL.pdf\" target=\"_blank\">9.1 million women-owned small businesses in the United States responsible for generating more than $1.4 trillion in revenue</a>,<em> I Want Her Job</em> Founder Brianne Burrowes had to sit down with Blake to find out exactly how the company plans to act on that vision. And she held no questions back &ndash; starting with the first one you&rsquo;re about to read.</p>\\n\\t\\t\\n\\t\\t<!--Quote -->\\n\\t\\t\\n\\t\\t\\t\\t\\t\\t\\t\\t\\t\\t<div id=\"leadingLadiesQuote\">\\n\\t\\t\\t\\t<blockquote>When people are having fun they tend to create better,  and they tend to collaborate better.</blockquote>\\n\\t\\t\\t</div>\\n\\t\\t\\t\\t\\n\\t\\t\\t<div id=\"leadingLadiesInterview\">\\n\\t\\t\\t\\t<p class=\"qTitle\"><em>Brianne</em>: Why is GoDaddy just now focusing more on women as small business owners and less on the female body?</p>\\n\\n<p><em>Blake</em>: When I joined the company, I had a whole bunch of friends say, &ldquo;What?&rdquo; And I&rsquo;d say that essentially, if you look at how these guys have portrayed themselves in advertising and then you went and actually talked to the people of the company, there was this weird dichotomy between what I consider to be a pretty diverse workforce and employees very proud of their customers, and then these &lsquo;shock and awe&rsquo; advertisements that didn&rsquo;t talk about what our customers<em> do</em> or what <em>we do</em> for them.</p>\\n\\n<p>So, my clear communication with the board before I took the role was that I would align what the company does with our advertising messaging. By the way, 58 percent of people who have small businesses in the United States are women-run, so I want to make sure that when we&rsquo;re portraying our company and portraying our customers we&rsquo;re doing that in the <em>right</em> way. Our vision is shifting the global economy toward small business and empowering people regardless of gender, race, orientation &shy;&ndash; whatever to be successful. And that&rsquo;s what we are trying to do. And so we need to make sure we communicate that when we&rsquo;re in the public and when we&rsquo;re advertising our capabilities or products. So consistent with that, that&rsquo;s what we&rsquo;ve been doing.</p>\\n\\n<p>We shifted to our value proposition so that it&rsquo;s about helping small business get their jobs done &ndash; which is hard &ndash; to try and demystify a lot of what the web is all about and how it can <em>help</em> them grow their business. And these people don&rsquo;t want to be a webmaster, they just want to do what they love. They want it to be simple, and they don&rsquo;t want to have to become a guru to do it.</p>\\n\\n<p class=\"qTitle\">I can attest to that.</p>\\n\\n<p>Right. You&rsquo;re a writer and you don&rsquo;t want to have to worry about your DNS or worry about server issues or any of that other stuff. You just want it to be as <em>small</em> a part of your gig as it possibly can, and that&rsquo;s what we are trying to do. So, when you see us and you see our commercials that are running now, we want you to finish watching the commercial and&nbsp;go, &ldquo;Oh, I know what this company does. I know who their customers are. And boy they kinda seem like me, and the commercial is kinda funny.&rdquo; That&rsquo;s what we are trying to do.</p>\\n\\n<p class=\"qTitle\">When you shut down the &lsquo;old&rsquo; GoDaddy brand, so to speak, you still kept Danica Patrick as a spokeswoman. What was your thinking behind that?</p>\\n\\n<p>What we have done from an advertising perspective with Danica has changed pretty dramatically. Danica represents the best of what most of these small businesses have. She&rsquo;s not a small business herself. She&rsquo;s kind of a big business actually, but she&rsquo;s a <em>businesswoman</em>. She&rsquo;s an incredibly talented, hard-working, against-the-odds type of person, which is what every small business in this country &ndash; or any country &ndash;is. People are going to tell you that you can&rsquo;t do it, or tell you that seven out of eight businesses fail or whatever they&rsquo;re going to lay on you. Danica has a boatload of detractors and fans, but she perseveres and pushes through it. And she has the confidence to know that if she keeps doing it better and better and better, she&rsquo;s going to kill it and win. That&rsquo;s what every small business wants. Positioning Danica in a way that&rsquo;s about that is great; she&rsquo;s great for us.</p>\\n\\n<p class=\"qTitle\">Why is promoting women in tech an endeavor that is so important to you?</p>\\n\\n<p>I&rsquo;ve always been a believer that your business or your company ought to be as diverse as your customer base, and unfortunately it&rsquo;s an impossibility &ndash; just based on if you took people that matriculate from elementary to high school to college and the amount of women that fall out during that process. It&rsquo;s not possible. I think that underrepresentation isn&rsquo;t just with women, but it&rsquo;s with minorities as well.</p>\\n\\n<p>The experience that made me much more passionate about being an advocate is I had a sister who passed away in her 30s. She was a psychologist whose thesis was about women&rsquo;s body image, their self-esteem and the effect of the media on a woman&rsquo;s body image. My pledge to her was to do everything I could do in my field to forward women and to try and make that a more equal balanced proposition.</p>\\n\\n<p class=\"qTitle\">That&rsquo;s an incredible story. It sounds like your sister lived with passion, and that&rsquo;s something you carry with you today. Tell me more about your value at GoDaddy to &lsquo;live passionately&rsquo;.</p>\\n\\n<p>One of our values is &ldquo;live passionately.&rdquo; Try to figure out your Venn diagram of three circles. One of them is what makes money, another what you do well, and the third, what you love. If you can figure out how to combine those, then you&rsquo;ve found your sweet spot. This is what you&rsquo;re doing because <em>you&rsquo;ve</em> started your own thing. You don&rsquo;t love every second of it, but you did it because you <em>love</em> it. And my gosh, you can actually make money! Who would&rsquo;ve thunk? So, if we can help people do that, then that&rsquo;s an incredibly powerful thing.</p>\\n\\n<p class=\"qTitle\">What makes GoDaddy a special place to work?</p>\\n\\n<p>It&rsquo;s an incredible culture. It&rsquo;s a culture that works hard and plays hard. You live passionately. We join forces. We work with each other. It&rsquo;s a super fun place to get great things done for a customer who, frankly, has been underrepresented. It&rsquo;s for little businesses. Most of our businesses are made up of five people or less. These are tiny companies that aspire to be as big as they want to be. Some want to be big, and some don&rsquo;t. Some want Fridays off. Some want to kiteboard four days a week. Whatever their aspirations are, if we can help them do that, that&rsquo;s pretty darn cool.</p>\\n\\n<p>Our vision is to radically shift the economy toward small business by empowering people to easily, confidently and successfully run their venture. If we can do that, 10 years from now we will look back overall at the world&rsquo;s GDP growth and see this really small segment, these tiny sole proprietorships and small businesses, grow disproportionately to the rest of the GDP. If that happens, then we were successful. And that is something to be super proud of, because then you help people do what they <em>love</em> to make a living.</p>\\n\\n<p class=\"qTitle\">You&rsquo;ve brought many individuals you used to work with over to your team at GoDaddy. What are the qualities those individuals have that make you want to work with them again?</p>\\n\\n<p>First and foremost, you have to be fun to work with. Life is too short to work with people who are a pain, so hire people who are great across the aisle. These are folks who work well with others and who are experts in their field, but who <em>don&rsquo;t act </em>like experts in their field. You hire people who are magnets of talent. I have a saying, &ldquo;Be a magnet. Hire magnets.&rdquo; What attracts people to<em> you</em>? Being genuine and authentic, having a sense of humor, not taking yourself too seriously, and having a sense of empathy are all qualities I look for in people.</p>\\n\\n<p>Then, if you find some folks need help along the way, then coach them so they understand and realize, &ldquo;Wow, I kinda lost that along the way.&rdquo; Sometimes life happens, and business can be stressful. People&rsquo;s worst behavior comes out when they are stressed &ndash; always. So, coach people to recognize when this happens and tell themselves, &ldquo;I&rsquo;ve got to recognize this is why I&rsquo;m acting this way, because it&rsquo;s a stressful situation. I need to take a chill pill. Take a breath and get back to putting this in balance. The sky is not falling. I can get through this.&rdquo;</p>\\n\\n<p>As for the folks I&rsquo;ve hired in the company who I&rsquo;ve worked with in the past &ndash; or people I&rsquo;ve brought in who I didn&rsquo;t work with but who knew people that I did &ndash; I think, honestly, came to work with me because I give people direction to, &ldquo;Go create. Go build the business you&rsquo;re in charge of, or the platform you&rsquo;re in charge of, or whatever your gig is. Call me if you need me. I will facilitate getting all these people together, and now let&rsquo;s have<em> fun </em>doing this.&rdquo; And it works. GoDaddy is a fun place to work, and one of the things I wanted to make sure was embodied in the existing facilities in Sunnyvale, Cambridge and Kirkland was no high cubes. I wanted to be sure you can see across the room. Because there&rsquo;s always a little something in the room like a shuffle board or foosball table where people can go and kind of shake off.</p>\\n\\n<p class=\"qTitle\">The offices have an agency culture to them?</p>\\n\\n<p>Yeah, actually. There are a lot of agencies that do the same exact thing &ndash; like walls that you can write on when you get together. When people are having fun they tend to create better, and they tend to collaborate better. There&rsquo;s a great culture at GoDaddy for that type of thing.</p>\\n\\n<p class=\"qTitle\">How do you manage running a company as big as GoDaddy and have a personal life at the same time?</p>\\n\\n<p>I&rsquo;m pretty good at it actually. I spend a lot of time here, and I also spend a lot of time in a little town called San Luis Obispo, Calif. I let work invade my personal life a lot, and I actually let my personal life invade my work, too. The blend of having that overlap happens, and you just have to be OK with it. There are days when I have urgent, pressing home matters invade me at work, and more often than not, the opposite is true where work invades my home life.</p>\\n\\n<p class=\"qTitle\">Do you think GoDaddy&rsquo;s unlimited vacation policy helps employees achieve a better work/life balance?</p>\\n\\n<p>We&rsquo;ve got this balance we&rsquo;re representing where if you&rsquo;re hitting all of your numbers and getting stuff done that you&rsquo;ve committed to get done, then we leave it up to employees to work with their managers when they want time off.</p>\\n\\n<p>For me, I&rsquo;ve never missed a Halloween with my kids. I had extreme cases where I had to travel in my job at Microsoft a long time ago. I ended up having to go to the Bay Area two times on October 31. We were introducing Windows Live, which is what my group was in charge of. Bill [Gates, then-CEO of Microsoft] said, &ldquo;You&rsquo;ve got to be in the Bay Area on the 31st to rehearse with us.&rdquo; And I said, &ldquo;Well, I&rsquo;m not missing Halloween.&quot; They told me to figure it out, so I literally flew to the Bay Area, did a rehearsal, flew home to do Halloween with my kids, and at the end of their trick-or-treating and candy gorging, I flew back to the Bay Area to give the full presentation on November 1. It was <em>that</em> important to me.</p>\\n\\n<p>At the end of the day, your tombstone is not going to be written about what a great worker you were. Your life is about what you did to contribute to your community, your family and those things that really matter. You have to be able to create an environment for your employees where they feel like they can be safe. GoDaddy is a superhuman place. I think it understands passion, and it understands the needs of small businesses &ndash; and those people work incredibly hard. They&rsquo;re trying to figure out how to balance everything, so [at GoDaddy] we should be doing the same thing. It&rsquo;s expected of us.</p>\\n\\n<p class=\"qTitle\">What would you say to a woman considering a career in tech?</p>\\n\\n<p>A career in tech is an incredibly great place to exercise creativity. The medium that is available to use in technology for creation is pretty amazing. If you&rsquo;re in software, you don&rsquo;t have hardware to get in your way. If you have an idea, you can code it up on the Web, you can experiment, you can draw, you can do graphics and you can do imagery. I think that most people I know who have entered this field haven&rsquo;t done it for the money. They&rsquo;ve done it because it was a creative medium where they think they can have a big impact.</p>\\n\\n<p>The things that have changed most people&rsquo;s lives over the last couple decades are all about technology. Most of that technology has taken place in computer science, hardware and computing. What a cool thing to do &ndash; regardless of whether you are a woman or a man or whatever. It doesn&rsquo;t matter. It&rsquo;s just a great place to create.</p>\\n\\n<p class=\"byline\">-By Brianne Burrowes</p>\\n\\t\\t\\t</div>\\n\\t\\t\\t\\t\\t\\n\\t\\t\\t\\n\\t\\t\\n\\t\\t\\t</div><!-- .entry-content -->\\n\\n\\t<footer class=\"entry-footer\">\\n\\t\\t<span class=\"tags-links\">Tagged <a href=\"https://iwantherjob.com/tag/godaddy/\" rel=\"tag\">godaddy</a>, <a href=\"https://iwantherjob.com/tag/technology/\" rel=\"tag\">Technology</a></span>\\t</footer><!-- .entry-footer -->\\n</article><!-- #post-## -->\\n\\t\\t\\t \\n<div class=\"share-group\">\\n    <h5 class=\"fb-share-button share-button\"> \\n\\t\\t<a href=\"#\" onclick=\"\\n\\t\\t\\t\\t\\twindow.open(\\n\\t\\t\\t\\t\\t  \\'https://www.facebook.com/sharer/sharer.php?u=https://iwantherjob.com/leading-ladies/blake-irving/\\',\\n\\t\\t\\t\\t\\t  \\'facebook-share-dialog\\',\\n\\t\\t\\t\\t\\t  \\'width=625,height=430\\'\\n\\t\\t\\t\\t\\t); return false;\" href=\"#\" title=\"Facebook\">\\t\\t\\t\\n\\t    \\tShare\\t    </a>\\n    </h5>\\n\\n\\t<h5 class=\"pinterest-share share-button\">\\n    \\t<a data-pin-do=\"buttonBookmark\" data-pin-custom=\"true\" href=\"//www.pinterest.com/pin/create/button/\" data-pin-url=\"https://iwantherjob.com/leading-ladies/blake-irving/\"><img src=\"#\">Pin</a>\\n\\t</h5>\\n\\n\\t<h5 class=\"twitter-share share-button\">\\n\\t\\t<a class=\"twitter action-button\" onclick=\"\\n\\t\\t\\t\\t\\twindow.open(\\n\\t\\t\\t\\t\\t  \\'https://twitter.com/home?status=Blake Irving https://iwantherjob.com/leading-ladies/blake-irving/\\',\\n\\t\\t\\t\\t\\t  \\'twitter-share-dialog\\',\\n\\t\\t\\t\\t\\t  \\'width=625,height=430\\'\\n\\t\\t\\t\\t\\t); return false;\" href=\"#\" title=\"Twitter\">\\n\\t\\tTweet\\t</a>\\n\\t</h5>\\n\\n\\t<h5 class=\"email-share share-button\">\\n\\t\\t<a href=\"mailto:?subject=Blake Irving&amp;body=https://iwantherjob.com/leading-ladies/blake-irving/\" target=\"_blank\">\\n\\t\\t\\tEmail\\t\\t</a>\\n\\t</h5>\\n\\n\\t<h5 class=\"comment-share share-button\">\\n\\t\\t<a href=\"https://iwantherjob.com/leading-ladies/blake-irving/#respond\">Comment</a>\\n\\t</h5>\\n</div>\\n\\n\\t\\t\\t\\n\\t<nav class=\"navigation post-navigation\" role=\"navigation\">\\n\\t\\t<h2 class=\"screen-reader-text\">Posts navigation</h2>\\n\\t\\t<div class=\"nav-links\"><div class=\"nav-previous\"><a href=\"https://iwantherjob.com/leading-ladies/elissa-murphy/\" rel=\"prev\">Previous Post</a></div><div class=\"nav-next\"><a href=\"https://iwantherjob.com/leading-ladies/brittany-hodak-and-kim-kaupe/\" rel=\"next\">Next Post</a></div></div>\\n\\t</nav>\\n\\t\\t\\t\\n\\t\\t\\n\\t\\t</main><!-- #main -->\\n\\t</div><!-- #primary -->\\n\\n\\t\\n<div id=\"secondary\" class=\"widget-area\" role=\"complementary\">\\n\\t<aside id=\"search-2\" class=\"widget widget_search\">\\n<form role=\"search\" method=\"get\" class=\"search-form\" action=\"https://iwantherjob.com/\">\\n\\t<label>\\n\\t\\t<span class=\"screen-reader-text\">Search for:</span>\\n\\t\\t<input type=\"search\" class=\"search-field\" placeholder=\"Search&hellip;\" value=\"\" name=\"s\" title=\"Search for:\" />\\n\\t</label>\\n\\t<button type=\"submit\" class=\"search-submit\"><span class=\"screen-reader-text\">Search</span><i class=\"fa fa-search\"></i></button>\\n</form>\\n</aside><aside id=\"monstera_nopadding_widget-2\" class=\"widget monstera-nopadding-widget\">\\t\\t\\t<div class=\"nopadding-widget\"><A HREF=\"http://bit.ly/2xBvUMP\">\\r\\n<IMG SRC=\"https://i2.wp.com/iwantherjob.com/wp-content/uploads/2018/08/LRG_LRG_LRGExtras18_300x250-bu-1.jpg?resize=300%2C250\" BORDER=\"0\" WIDTH=\"300\" HEIGHT=\"250 ALT=\"Best Western\" data-recalc-dims=\"1\">\\r\\n</A></div>\\n\\t\\t</aside><aside id=\"mailchimpsf_widget-2\" class=\"widget widget_mailchimpsf_widget\"><h5 class=\"widget-title\">Join Our Email List!</h5>\\t<style>\\n\\t\\t.widget_mailchimpsf_widget .widget-title {\\n\\t\\tline-height: 1.4em;\\n\\t\\tmargin-bottom: 0.75em;\\n\\t}\\n\\t#mc_subheader {\\n\\t\\tline-height: 1.25em;\\n\\t\\tmargin-bottom: 18px;\\n\\t}\\n\\t.mc_merge_var {\\n\\t\\tmargin-bottom: 1.0em;\\n\\t}\\n\\t.mc_var_label,\\n\\t.mc_interest_label {\\n\\t\\tdisplay: block;\\n\\t\\tmargin-bottom: 0.5em;\\n\\t}\\n\\t.mc_input {\\n\\t\\t-moz-box-sizing: border-box;\\n\\t\\t-webkit-box-sizing: border-box;\\n\\t\\tbox-sizing: border-box;\\n\\t\\twidth: 100%;\\n\\t}\\n\\t.mc_input.mc_phone {\\n\\t\\twidth: auto;\\n\\t}\\n\\tselect.mc_select {\\n\\t\\tmargin-top: 0.5em;\\n\\t\\twidth: 100%;\\n\\t}\\n\\t.mc_address_label {\\n\\t\\tmargin-top: 1.0em;\\n\\t\\tmargin-bottom: 0.5em;\\n\\t\\tdisplay: block;\\n\\t}\\n\\t.mc_address_label ~ select {\\n\\t\\twidth: 100%;\\t\\t\\n\\t}\\n\\t.mc_list li {\\n\\t\\tlist-style: none;\\n\\t\\tbackground: none !important;\\n\\t}\\n\\t.mc_interests_header {\\n\\t\\tmargin-top: 1.0em;\\n\\t\\tmargin-bottom: 0.5em;\\n\\t}\\n\\t.mc_interest label,\\n\\t.mc_interest input {\\n\\t\\tmargin-bottom: 0.4em;\\n\\t}\\n\\t#mc_signup_submit {\\n\\t\\tmargin-top: 1.5em;\\n\\t\\twidth: 80%;\\n\\t}\\n\\t#mc_unsub_link a {\\n\\t\\tfont-size: 0.75em;\\n\\t}\\n\\t#mc_unsub_link {\\n\\t\\tmargin-top: 1.0em;\\n\\t}\\n\\t.mc_header_address,\\n\\t.mc_email_format {\\n\\t\\tdisplay: block;\\n\\t\\tfont-weight: bold;\\n\\t\\tmargin-top: 1.0em;\\n\\t\\tmargin-bottom: 0.5em;\\n\\t}\\n\\t.mc_email_options {\\n\\t\\tmargin-top: 0.5em;\\n\\t}\\n\\t.mc_email_type {\\n\\t\\tpadding-left: 4px;\\n\\t}\\n\\t</style>\\n\\t\\n<div id=\"mc_signup\">\\n\\t<form method=\"post\" action=\"#mc_signup\" id=\"mc_signup_form\">\\n\\t\\t<input type=\"hidden\" id=\"mc_submit_type\" name=\"mc_submit_type\" value=\"html\" />\\n\\t\\t<input type=\"hidden\" name=\"mcsf_action\" value=\"mc_submit_signup_form\" />\\n\\t\\t<input type=\"hidden\" id=\"_mc_submit_signup_form_nonce\" name=\"_mc_submit_signup_form_nonce\" value=\"7010ab1fa3\" />\\t\\t\\n\\t\\t\\n\\t<div class=\"mc_form_inside\">\\n\\t\\t\\n\\t\\t<div class=\"updated\" id=\"mc_message\">\\n\\t\\t\\t\\t\\t</div><!-- /mc_message -->\\n\\n\\t\\t\\n<div class=\"mc_merge_var\">\\n\\t\\t<label for=\"mc_mv_EMAIL\" class=\"mc_var_label mc_header mc_header_email\">Email Address<span class=\"mc_required\">*</span></label>\\n\\t<input type=\"text\" size=\"18\" placeholder=\"\" name=\"mc_mv_EMAIL\" id=\"mc_mv_EMAIL\" class=\"mc_input\"/>\\n</div><!-- /mc_merge_var -->\\n<div class=\"mc_merge_var\">\\n\\t\\t<label for=\"mc_mv_FNAME\" class=\"mc_var_label mc_header mc_header_text\">First Name</label>\\n\\t<input type=\"text\" size=\"18\" placeholder=\"\" name=\"mc_mv_FNAME\" id=\"mc_mv_FNAME\" class=\"mc_input\"/>\\n</div><!-- /mc_merge_var -->\\n<div class=\"mc_merge_var\">\\n\\t\\t<label for=\"mc_mv_LNAME\" class=\"mc_var_label mc_header mc_header_text\">Last Name</label>\\n\\t<input type=\"text\" size=\"18\" placeholder=\"\" name=\"mc_mv_LNAME\" id=\"mc_mv_LNAME\" class=\"mc_input\"/>\\n</div><!-- /mc_merge_var -->\\t\\t\\t<div id=\"mc-indicates-required\">\\n\\t\\t\\t\\t* = required field\\t\\t\\t</div><!-- /mc-indicates-required -->\\n\\t\\t\\t\\n\\t\\t<div class=\"mc_signup_submit\">\\n\\t\\t\\t<input type=\"submit\" name=\"mc_signup_submit\" id=\"mc_signup_submit\" value=\"Subscribe\" class=\"button\" />\\n\\t\\t</div><!-- /mc_signup_submit -->\\n\\t\\n\\t\\n\\t\\t\\t\\t\\t<br/>\\n\\t\\t\\t<div id=\"mc_display_rewards\" align=\"center\">\\n\\t\\t\\t\\tpowered by <a href=\"http://www.mailchimp.com/affiliates/?aid=1ea5854be3a2cb879d0d114c2&#038;afl=1\">MailChimp</a>!\\n\\t\\t\\t</div><!-- /mc_display_rewards -->\\n\\t\\t\\t\\t\\t\\n\\t</div><!-- /mc_form_inside -->\\n\\t</form><!-- /mc_signup_form -->\\n</div><!-- /mc_signup_container -->\\n\\t</aside>\\t\\t<aside id=\"recent-posts-2\" class=\"widget widget_recent_entries\">\\t\\t<h5 class=\"widget-title\">Recent Posts</h5>\\t\\t<ul>\\n\\t\\t\\t\\t\\t\\t\\t\\t\\t\\t\\t<li>\\n\\t\\t\\t\\t\\t<a href=\"https://iwantherjob.com/iwhj-the-podcast/julian-guthrie/\">New York Times Bestselling Author Julian Guthrie Discusses Her Latest Book, Alpha Girls</a>\\n\\t\\t\\t\\t\\t\\t\\t\\t\\t</li>\\n\\t\\t\\t\\t\\t\\t\\t\\t\\t\\t\\t<li>\\n\\t\\t\\t\\t\\t<a href=\"https://iwantherjob.com/iwhj-the-podcast/julie-kosin/\">Julie Kosin \\xe2\\x80\\x93 Director of Audience Strategy + Entertainment at HarpersBAZAAR.com</a>\\n\\t\\t\\t\\t\\t\\t\\t\\t\\t</li>\\n\\t\\t\\t\\t\\t\\t\\t\\t\\t\\t\\t<li>\\n\\t\\t\\t\\t\\t<a href=\"https://iwantherjob.com/iwhj-the-podcast/esther-wojcicki/\">Silicon Valley\\xe2\\x80\\x99s Esther Wojcicki Shares Advice For Raising And Teaching Successful People</a>\\n\\t\\t\\t\\t\\t\\t\\t\\t\\t</li>\\n\\t\\t\\t\\t\\t\\t\\t\\t\\t\\t\\t<li>\\n\\t\\t\\t\\t\\t<a href=\"https://iwantherjob.com/iwhj-the-podcast/casey-clark/\">Vital Voice Training\\xe2\\x80\\x99s Co-Founder Casey Clark On Why \\xe2\\x80\\x98Your Voice Is The Instrument You Were Born To Play\\xe2\\x80\\x99</a>\\n\\t\\t\\t\\t\\t\\t\\t\\t\\t</li>\\n\\t\\t\\t\\t\\t\\t\\t\\t\\t\\t\\t<li>\\n\\t\\t\\t\\t\\t<a href=\"https://iwantherjob.com/leading-ladies/sara-peterson/\">HGTV Magazine Editor-In-Chief Sara Peterson Gives Us A Sneak Peek Of June&#8217;s 5th Annual Paint Issue</a>\\n\\t\\t\\t\\t\\t\\t\\t\\t\\t</li>\\n\\t\\t\\t\\t\\t</ul>\\n\\t\\t</aside></div><!-- #secondary -->\\n\\n\\n\\t</div><!-- #content -->\\n</div><!-- #page -->\\n\\n<footer id=\"colophon\" class=\"site-footer\" role=\"contentinfo\">\\n\\n\\t\\n\\n\\t\\t\\n\\n\\t\\t\\t\\t\\t<div id=\"full-width-footer\" class=\"full-width-footer widget-area\" role=\"complementary\">\\n\\t\\t\\t\\t\\t<aside id=\"nav_menu-2\" class=\"widget widget_nav_menu\"><div class=\"menu-footer-menu-container\"><ul id=\"menu-footer-menu\" class=\"menu\"><li id=\"menu-item-2059\" class=\"menu-item menu-item-type-post_type menu-item-object-page menu-item-2059\"><a href=\"https://iwantherjob.com/press/\">Press</a></li>\\n<li id=\"menu-item-2060\" class=\"menu-item menu-item-type-post_type menu-item-object-page menu-item-2060\"><a href=\"https://iwantherjob.com/advertising/\">Advertising</a></li>\\n<li id=\"menu-item-2061\" class=\"menu-item menu-item-type-post_type menu-item-object-page menu-item-2061\"><a href=\"https://iwantherjob.com/terms-of-use/\">Terms of Use</a></li>\\n</ul></div></aside><aside id=\"monstera_social_icons_widget-2\" class=\"widget monstera_social_icons_widget\"><h2 class=\"widget-title\">Social</h2>\\n\\n<span class=\"monstera-social-icons\">\\n\\t\\t\\t\\t<a href=\"https://www.facebook.com/iwantherjob\" \\n\\t\\t\\t\\ttarget=\"_blank\" \\n\\t\\t\\t>\\n\\t\\t\\t\\t<i class=\"fa fa-facebook fa-fw\"></i>\\n\\t\\t\\t</a>\\n\\t\\n\\t\\t\\t\\t<a href=\"https://www.pinterest.com/iwantherjob/\" \\n\\t\\t\\t\\ttarget=\"_blank\" \\n\\t\\t\\t>\\n\\t\\t\\t\\t<i class=\"fa fa-pinterest-p fa-fw\"></i>\\n\\t\\t\\t</a>\\n\\t\\n\\t\\t\\t\\t<a href=\"https://www.instagram.com/iwantherjob/\" \\n\\t\\t\\t\\ttarget=\"_blank\" \\n\\t\\t\\t>\\n\\t\\t\\t\\t<i class=\"fa fa-instagram fa-fw\"></i>\\n\\t\\t\\t</a>\\n\\t\\n\\t\\t\\t\\t<a href=\"https://twitter.com/iwantherjob\" \\n\\t\\t\\t\\ttarget=\"_blank\" \\n\\t\\t\\t>\\n\\t\\t\\t\\t<i class=\"fa fa-twitter fa-fw\"></i>\\n\\t\\t\\t</a>\\n\\t\\n\\t\\n\\t\\n\\t\\t\\t\\t<a href=\"/feed\" \\n\\t\\t\\t\\ttarget=\"_blank\" \\n\\t\\t\\t>\\n\\n\\t\\t\\t\\t\\t\\t\\t\\t<i class=\"fa fa-rss fa-fw\"></i>\\n\\t\\t\\t</a>\\n\\t\\n\\t\\n\\t\\n\\t\\n\\t\\n\\t\\n</span>\\n</aside><aside id=\"text-2\" class=\"widget widget_text\">\\t\\t\\t<div class=\"textwidget\"><p><small>I Want Her Job \\xc2\\xae is a registered trademark of Burrowes Media, LLC.</small></p>\\n</div>\\n\\t\\t</aside>\\t\\t\\t\\t</div><!-- #full-width-footer -->\\n\\t\\t\\t\\n\\n<script type=\\'text/javascript\\'>\\n/* <![CDATA[ */\\nvar wpcf7 = {\"apiSettings\":{\"root\":\"https:\\\\/\\\\/iwantherjob.com\\\\/wp-json\\\\/contact-form-7\\\\/v1\",\"namespace\":\"contact-form-7\\\\/v1\"},\"cached\":\"1\"};\\n/* ]]> */\\n</script>\\n<script type=\\'text/javascript\\' src=\\'https://iwantherjob.com/wp-content/plugins/contact-form-7/includes/js/scripts.js?ver=5.1.1\\'></script>\\n<script type=\\'text/javascript\\' src=\\'https://iwantherjob.com/wp-content/themes/monstera/js/navigation.js?ver=20120206\\'></script>\\n<script type=\\'text/javascript\\' src=\\'https://iwantherjob.com/wp-content/themes/monstera/js/skip-link-focus-fix.js?ver=20130115\\'></script>\\n<script type=\\'text/javascript\\' src=\\'//assets.pinterest.com/js/pinit.js?ver=5.1.1\\'></script>\\n<script type=\\'text/javascript\\' src=\\'https://iwantherjob.com/wp-includes/js/imagesloaded.min.js?ver=3.2.0\\'></script>\\n<script type=\\'text/javascript\\' src=\\'https://iwantherjob.com/wp-content/themes/monstera/js/flickity.pkgd.min.js?ver=1.0.0\\'></script>\\n<script type=\\'text/javascript\\'>\\n/* <![CDATA[ */\\nvar PrimaryNavParams = {\"sticky\":\"0\"};\\nvar MonsteraSlider = {\"delay\":\"8000\",\"draggable\":\"true\",\"arrows\":\"true\"};\\n/* ]]> */\\n</script>\\n<script type=\\'text/javascript\\' src=\\'https://iwantherjob.com/wp-content/themes/monstera/js/main.js?ver=0.1.0\\'></script>\\n<script type=\\'text/javascript\\' src=\\'https://iwantherjob.com/wp-includes/js/wp-embed.min.js?ver=5.1.1\\'></script>\\n\\n\\t<div class=\"site-info\">\\n\\t    <h4 class=\"site-copyright\">\\xc2\\xa9 2018 Burrowes Media, LLC All Rights Reserved</h4>    \\t\\t\\t\\t\\t\\t<a href=\"#top\" class=\"stnsvn-btt\" style=\"float: right;\"><h5>Back to top <i class=\"fa fa-chevron-up\"></i></h5></a><!--Back to top button -->\\n\\t\\t\\t\\t    </div><!-- .site-info -->\\n\\n</footer><!-- #colophon -->\\n\\n</body>\\n</html>\\n'\n"
     ]
    }
   ],
   "source": [
    "from urllib.request import urlopen, Request\n",
    "headers = {'User-Agent': 'Windows NT 6.1'}\n",
    "reg_url = 'https://iwantherjob.com/leading-ladies/blake-irving/'\n",
    "req = Request(url=reg_url, headers=headers) \n",
    "html = urlopen(req).read() \n",
    "print(html) "
   ]
  },
  {
   "cell_type": "code",
   "execution_count": 10,
   "metadata": {},
   "outputs": [],
   "source": [
    "page_html = html.decode('utf-8')"
   ]
  },
  {
   "cell_type": "code",
   "execution_count": 5,
   "metadata": {},
   "outputs": [
    {
     "ename": "AttributeError",
     "evalue": "module 'html' has no attribute 'decode'",
     "output_type": "error",
     "traceback": [
      "\u001b[1;31m---------------------------------------------------------------------------\u001b[0m",
      "\u001b[1;31mAttributeError\u001b[0m                            Traceback (most recent call last)",
      "\u001b[1;32m<ipython-input-5-18d06000465b>\u001b[0m in \u001b[0;36m<module>\u001b[1;34m()\u001b[0m\n\u001b[1;32m----> 1\u001b[1;33m \u001b[0mpage_html\u001b[0m \u001b[1;33m=\u001b[0m \u001b[0mhtml\u001b[0m\u001b[1;33m.\u001b[0m\u001b[0mdecode\u001b[0m\u001b[1;33m(\u001b[0m\u001b[1;34m'latin'\u001b[0m\u001b[1;33m)\u001b[0m\u001b[1;33m\u001b[0m\u001b[0m\n\u001b[0m",
      "\u001b[1;31mAttributeError\u001b[0m: module 'html' has no attribute 'decode'"
     ]
    }
   ],
   "source": [
    "page_html = html.decode('latin')"
   ]
  },
  {
   "cell_type": "code",
   "execution_count": 84,
   "metadata": {},
   "outputs": [],
   "source": [
    "paragraphs = re.findall('<p .*?>(.*?)<\\/p>', page_html)"
   ]
  },
  {
   "cell_type": "code",
   "execution_count": 11,
   "metadata": {},
   "outputs": [],
   "source": [
    "paragraphs = re.findall('<p>(.*?)<\\/p>', page_html)"
   ]
  },
  {
   "cell_type": "code",
   "execution_count": 71,
   "metadata": {},
   "outputs": [],
   "source": [
    "## <p id=\"cCgfmy\"><strong>Aaron Levie:</strong> Oh boy.</p>"
   ]
  },
  {
   "cell_type": "code",
   "execution_count": 238,
   "metadata": {},
   "outputs": [],
   "source": [
    "paragraphs = re.findall('<span style=\".*?\">(.*?)<span\\/>', page_html)  "
   ]
  },
  {
   "cell_type": "code",
   "execution_count": 38,
   "metadata": {},
   "outputs": [],
   "source": [
    "paragraphs = re.findall('<span style=\".*?\" style=\".*?\">', page_html)    "
   ]
  },
  {
   "cell_type": "code",
   "execution_count": 340,
   "metadata": {},
   "outputs": [
    {
     "data": {
      "text/plain": [
       "['<h3>Podcast</h3>',\n",
       " '<h3><a href=\"/podcast\">PODCAST HOME</a></h3>',\n",
       " '<h3><a href=\"/top-christians-in-science-and-technology\">GUEST BIOGRAPHIES</a></h3>',\n",
       " '<h3><a href=\"/christian-podcast-interviews\">INTERVIEW TRANSCRIPTS</a></h3>',\n",
       " '<h3><strong>Complete Podcast Interview Transcript: &nbsp;</strong></h3>',\n",
       " '<h3><a target=\"_blank\" href=\"https://www.youtube.com/watch?v=m8mGxi0a9_Q\">victor ho, ceo of five stars - podcas<strong>t</strong></a></h3>']"
      ]
     },
     "execution_count": 340,
     "metadata": {},
     "output_type": "execute_result"
    }
   ],
   "source": [
    "#paragraphs = \n",
    "re.findall('<h3>.*?<\\/h3>', page_html)"
   ]
  },
  {
   "cell_type": "code",
   "execution_count": null,
   "metadata": {},
   "outputs": [],
   "source": [
    "paragraphs = re.findall('<div class=\"article-body-content standard-body-content\">(.*?)<\\/div>', page_html)"
   ]
  },
  {
   "cell_type": "code",
   "execution_count": 87,
   "metadata": {},
   "outputs": [],
   "source": [
    "# paragraphs = re.findall('<p id=\".*?\">(.*?)<\\/p>', page_html)\n",
    "## paragraphs = re.findall('<p>(.*?)<\\/p>', page_html)\n",
    "paragraphs = re.findall(r'<div class=.*?>.*?<\\/div>', page_html)"
   ]
  },
  {
   "cell_type": "code",
   "execution_count": 30,
   "metadata": {},
   "outputs": [],
   "source": [
    "paragraphs = re.findall('<div style=\".*?\">(.*?)<\\/div>', page_html)"
   ]
  },
  {
   "cell_type": "code",
   "execution_count": 17,
   "metadata": {},
   "outputs": [],
   "source": [
    "paragraphs = re.findall('<p data-elm-loc=.*?>.*?<\\/p>', page_html)"
   ]
  },
  {
   "cell_type": "code",
   "execution_count": 205,
   "metadata": {},
   "outputs": [],
   "source": [
    "## paragraphs = re.findall('<p>.*?<.*?>', page_html)"
   ]
  },
  {
   "cell_type": "code",
   "execution_count": 50,
   "metadata": {},
   "outputs": [],
   "source": [
    "paragraphs = re.findall('<p name=\".*?\" id=\".*?\" class=\".*?\">.*?<\\/p>', page_html)"
   ]
  },
  {
   "cell_type": "code",
   "execution_count": 748,
   "metadata": {},
   "outputs": [
    {
     "data": {
      "text/plain": [
       "[]"
      ]
     },
     "execution_count": 748,
     "metadata": {},
     "output_type": "execute_result"
    }
   ],
   "source": [
    "# paragraphs = re.findall('<p name=\".*?\" id=\".*?\" class=\".*?\">.*?', page_html)"
   ]
  },
  {
   "cell_type": "code",
   "execution_count": 42,
   "metadata": {},
   "outputs": [
    {
     "data": {
      "text/plain": [
       "[]"
      ]
     },
     "execution_count": 42,
     "metadata": {},
     "output_type": "execute_result"
    }
   ],
   "source": [
    "re.findall('<\\/strong>.*?<\\/ul>', page_html)"
   ]
  },
  {
   "cell_type": "code",
   "execution_count": 126,
   "metadata": {},
   "outputs": [],
   "source": [
    "secondpara = re.findall('<span class=\".*?\">(.*?)<', page_html)"
   ]
  },
  {
   "cell_type": "code",
   "execution_count": 52,
   "metadata": {},
   "outputs": [],
   "source": [
    "secondpara = re.findall('<p .*?>(.*?)<\\/p>', page_html)"
   ]
  },
  {
   "cell_type": "code",
   "execution_count": 186,
   "metadata": {},
   "outputs": [],
   "source": [
    "paragraphs = re.findall('<p class=\"p2\">(.*?)<\\/p>', page_html)"
   ]
  },
  {
   "cell_type": "code",
   "execution_count": 32,
   "metadata": {},
   "outputs": [],
   "source": [
    "paragraphs = re.findall('<p class=\"body-text\">(.*?)<\\/p>', page_html)"
   ]
  },
  {
   "cell_type": "code",
   "execution_count": 84,
   "metadata": {},
   "outputs": [],
   "source": [
    "## paragraphs = re.findall('<span class=\"answer\">(.*?)<\\/span>', page_html)\n",
    "## paragraphs = re.findall('<p id=\".*?\"><strong>MP:<\\/strong>(.*?)<\\/p>', page_html)"
   ]
  },
  {
   "cell_type": "code",
   "execution_count": 8,
   "metadata": {},
   "outputs": [],
   "source": [
    "paragraphs = re.findall('<p class>\".*?\"', page_html)"
   ]
  },
  {
   "cell_type": "code",
   "execution_count": 191,
   "metadata": {},
   "outputs": [],
   "source": [
    "paragraphs = re.findall('<p class=\"answer\">(.*?)<\\/p>', page_html)"
   ]
  },
  {
   "cell_type": "code",
   "execution_count": 736,
   "metadata": {},
   "outputs": [],
   "source": [
    "# paragraphs = re.findall('<p class=\"basic-style\">(.*?)<', page_html)"
   ]
  },
  {
   "cell_type": "code",
   "execution_count": 397,
   "metadata": {},
   "outputs": [],
   "source": [
    "paragraphs = re.findall('<blockquote>(.*?)<\\/blockquote>', page_html)"
   ]
  },
  {
   "cell_type": "code",
   "execution_count": 12,
   "metadata": {},
   "outputs": [],
   "source": [
    "paragraphs = re.findall('<p>.*?<\\/p>', page_html)"
   ]
  },
  {
   "cell_type": "code",
   "execution_count": 9,
   "metadata": {},
   "outputs": [],
   "source": [
    "paragraphs = re.findall('.*?</p>', page_html)"
   ]
  },
  {
   "cell_type": "code",
   "execution_count": 348,
   "metadata": {},
   "outputs": [],
   "source": [
    "paragraphs = re.findall('<div element=\"p\">(.*?)<\\/div>', page_html)"
   ]
  },
  {
   "cell_type": "code",
   "execution_count": 53,
   "metadata": {},
   "outputs": [],
   "source": [
    "secondtable = pd.DataFrame(secondpara, columns = ['C'])"
   ]
  },
  {
   "cell_type": "code",
   "execution_count": 304,
   "metadata": {},
   "outputs": [],
   "source": [
    "# paragraphs = re.findall('<p><span><strong>(.*?)<\\/span><\\/p>', page_html)"
   ]
  },
  {
   "cell_type": "code",
   "execution_count": 54,
   "metadata": {},
   "outputs": [],
   "source": [
    "table = pd.concat([table_one, secondtable])"
   ]
  },
  {
   "cell_type": "code",
   "execution_count": 559,
   "metadata": {},
   "outputs": [],
   "source": [
    "# paragraphs = re.findall('<p><.*?>.*?<\\/p>', page_html)"
   ]
  },
  {
   "cell_type": "code",
   "execution_count": 75,
   "metadata": {},
   "outputs": [],
   "source": [
    "paragraphs = re.findall('<p class=\"p1\"><span class=\"s1\">(.*?)<\\/span><\\/p>', page_html)"
   ]
  },
  {
   "cell_type": "code",
   "execution_count": 154,
   "metadata": {},
   "outputs": [],
   "source": [
    "paragraphs = re.findall('<p class=\".*?\" data-editable=\".*?\" data-uri=\".*?\" data-word-count=\".*?\">(.*?)<\\/p>', page_html)"
   ]
  },
  {
   "cell_type": "code",
   "execution_count": 61,
   "metadata": {},
   "outputs": [],
   "source": [
    "paragraphs = re.findall('<p name=\".*?\" id=\".*?\" class=\".*?\">(.*?)<\\/p>', page_html)"
   ]
  },
  {
   "cell_type": "code",
   "execution_count": 154,
   "metadata": {},
   "outputs": [],
   "source": [
    "paragraphs = re.findall(r'<p class=\"basic-style\">(.*?)<\\/p>', page_html)"
   ]
  },
  {
   "cell_type": "code",
   "execution_count": 34,
   "metadata": {},
   "outputs": [],
   "source": [
    "tabletwo = pd.DataFrame(secondpara, columns = ['C'])"
   ]
  },
  {
   "cell_type": "code",
   "execution_count": 35,
   "metadata": {},
   "outputs": [],
   "source": [
    "table = pd.concat([table, tabletwo])"
   ]
  },
  {
   "cell_type": "code",
   "execution_count": 86,
   "metadata": {},
   "outputs": [
    {
     "data": {
      "text/plain": [
       "[]"
      ]
     },
     "execution_count": 86,
     "metadata": {},
     "output_type": "execute_result"
    }
   ],
   "source": [
    "re.findall('<p class=\".*?\" style=\".*?\"><span style=\".*?\">.*?', page_html)"
   ]
  },
  {
   "cell_type": "code",
   "execution_count": 133,
   "metadata": {},
   "outputs": [],
   "source": [
    "paragraphs = re.findall('<p class=\".*?\">.*?<\\/p>', page_html)"
   ]
  },
  {
   "cell_type": "code",
   "execution_count": 12,
   "metadata": {},
   "outputs": [],
   "source": [
    "table = pd.DataFrame(paragraphs, columns = ['C'])"
   ]
  },
  {
   "cell_type": "code",
   "execution_count": 15,
   "metadata": {},
   "outputs": [
    {
     "data": {
      "text/html": [
       "<div>\n",
       "<style scoped>\n",
       "    .dataframe tbody tr th:only-of-type {\n",
       "        vertical-align: middle;\n",
       "    }\n",
       "\n",
       "    .dataframe tbody tr th {\n",
       "        vertical-align: top;\n",
       "    }\n",
       "\n",
       "    .dataframe thead th {\n",
       "        text-align: right;\n",
       "    }\n",
       "</style>\n",
       "<table border=\"1\" class=\"dataframe\">\n",
       "  <thead>\n",
       "    <tr style=\"text-align: right;\">\n",
       "      <th></th>\n",
       "      <th>C</th>\n",
       "    </tr>\n",
       "  </thead>\n",
       "  <tbody>\n",
       "    <tr>\n",
       "      <th>10</th>\n",
       "      <td>&lt;em&gt;Blake&lt;/em&gt;: When I joined the company, I had a whole bunch of friends say, &amp;ldquo;What?&amp;rdquo; And I&amp;rsquo;d say that essentially, if you look at how these guys have portrayed themselves in advertising and then you went and actually talked to the people of the company, there was this weird dichotomy between what I consider to be a pretty diverse workforce and employees very proud of their ...</td>\n",
       "    </tr>\n",
       "    <tr>\n",
       "      <th>11</th>\n",
       "      <td>So, my clear communication with the board before I took the role was that I would align what the company does with our advertising messaging. By the way, 58 percent of people who have small businesses in the United States are women-run, so I want to make sure that when we&amp;rsquo;re portraying our company and portraying our customers we&amp;rsquo;re doing that in the &lt;em&gt;right&lt;/em&gt; way. Our vision i...</td>\n",
       "    </tr>\n",
       "    <tr>\n",
       "      <th>12</th>\n",
       "      <td>We shifted to our value proposition so that it&amp;rsquo;s about helping small business get their jobs done &amp;ndash; which is hard &amp;ndash; to try and demystify a lot of what the web is all about and how it can &lt;em&gt;help&lt;/em&gt; them grow their business. And these people don&amp;rsquo;t want to be a webmaster, they just want to do what they love. They want it to be simple, and they don&amp;rsquo;t want to have ...</td>\n",
       "    </tr>\n",
       "    <tr>\n",
       "      <th>13</th>\n",
       "      <td>Right. You&amp;rsquo;re a writer and you don&amp;rsquo;t want to have to worry about your DNS or worry about server issues or any of that other stuff. You just want it to be as &lt;em&gt;small&lt;/em&gt; a part of your gig as it possibly can, and that&amp;rsquo;s what we are trying to do. So, when you see us and you see our commercials that are running now, we want you to finish watching the commercial and&amp;nbsp;go, &amp;...</td>\n",
       "    </tr>\n",
       "    <tr>\n",
       "      <th>14</th>\n",
       "      <td>What we have done from an advertising perspective with Danica has changed pretty dramatically. Danica represents the best of what most of these small businesses have. She&amp;rsquo;s not a small business herself. She&amp;rsquo;s kind of a big business actually, but she&amp;rsquo;s a &lt;em&gt;businesswoman&lt;/em&gt;. She&amp;rsquo;s an incredibly talented, hard-working, against-the-odds type of person, which is what eve...</td>\n",
       "    </tr>\n",
       "    <tr>\n",
       "      <th>15</th>\n",
       "      <td>I&amp;rsquo;ve always been a believer that your business or your company ought to be as diverse as your customer base, and unfortunately it&amp;rsquo;s an impossibility &amp;ndash; just based on if you took people that matriculate from elementary to high school to college and the amount of women that fall out during that process. It&amp;rsquo;s not possible. I think that underrepresentation isn&amp;rsquo;t just w...</td>\n",
       "    </tr>\n",
       "    <tr>\n",
       "      <th>16</th>\n",
       "      <td>The experience that made me much more passionate about being an advocate is I had a sister who passed away in her 30s. She was a psychologist whose thesis was about women&amp;rsquo;s body image, their self-esteem and the effect of the media on a woman&amp;rsquo;s body image. My pledge to her was to do everything I could do in my field to forward women and to try and make that a more equal balanced pro...</td>\n",
       "    </tr>\n",
       "    <tr>\n",
       "      <th>17</th>\n",
       "      <td>One of our values is &amp;ldquo;live passionately.&amp;rdquo; Try to figure out your Venn diagram of three circles. One of them is what makes money, another what you do well, and the third, what you love. If you can figure out how to combine those, then you&amp;rsquo;ve found your sweet spot. This is what you&amp;rsquo;re doing because &lt;em&gt;you&amp;rsquo;ve&lt;/em&gt; started your own thing. You don&amp;rsquo;t love every s...</td>\n",
       "    </tr>\n",
       "    <tr>\n",
       "      <th>18</th>\n",
       "      <td>It&amp;rsquo;s an incredible culture. It&amp;rsquo;s a culture that works hard and plays hard. You live passionately. We join forces. We work with each other. It&amp;rsquo;s a super fun place to get great things done for a customer who, frankly, has been underrepresented. It&amp;rsquo;s for little businesses. Most of our businesses are made up of five people or less. These are tiny companies that aspire to be...</td>\n",
       "    </tr>\n",
       "    <tr>\n",
       "      <th>19</th>\n",
       "      <td>Our vision is to radically shift the economy toward small business by empowering people to easily, confidently and successfully run their venture. If we can do that, 10 years from now we will look back overall at the world&amp;rsquo;s GDP growth and see this really small segment, these tiny sole proprietorships and small businesses, grow disproportionately to the rest of the GDP. If that happens, ...</td>\n",
       "    </tr>\n",
       "    <tr>\n",
       "      <th>20</th>\n",
       "      <td>First and foremost, you have to be fun to work with. Life is too short to work with people who are a pain, so hire people who are great across the aisle. These are folks who work well with others and who are experts in their field, but who &lt;em&gt;don&amp;rsquo;t act &lt;/em&gt;like experts in their field. You hire people who are magnets of talent. I have a saying, &amp;ldquo;Be a magnet. Hire magnets.&amp;rdquo; W...</td>\n",
       "    </tr>\n",
       "    <tr>\n",
       "      <th>21</th>\n",
       "      <td>Then, if you find some folks need help along the way, then coach them so they understand and realize, &amp;ldquo;Wow, I kinda lost that along the way.&amp;rdquo; Sometimes life happens, and business can be stressful. People&amp;rsquo;s worst behavior comes out when they are stressed &amp;ndash; always. So, coach people to recognize when this happens and tell themselves, &amp;ldquo;I&amp;rsquo;ve got to recognize this...</td>\n",
       "    </tr>\n",
       "    <tr>\n",
       "      <th>22</th>\n",
       "      <td>As for the folks I&amp;rsquo;ve hired in the company who I&amp;rsquo;ve worked with in the past &amp;ndash; or people I&amp;rsquo;ve brought in who I didn&amp;rsquo;t work with but who knew people that I did &amp;ndash; I think, honestly, came to work with me because I give people direction to, &amp;ldquo;Go create. Go build the business you&amp;rsquo;re in charge of, or the platform you&amp;rsquo;re in charge of, or whatever yo...</td>\n",
       "    </tr>\n",
       "    <tr>\n",
       "      <th>23</th>\n",
       "      <td>Yeah, actually. There are a lot of agencies that do the same exact thing &amp;ndash; like walls that you can write on when you get together. When people are having fun they tend to create better, and they tend to collaborate better. There&amp;rsquo;s a great culture at GoDaddy for that type of thing.</td>\n",
       "    </tr>\n",
       "    <tr>\n",
       "      <th>24</th>\n",
       "      <td>I&amp;rsquo;m pretty good at it actually. I spend a lot of time here, and I also spend a lot of time in a little town called San Luis Obispo, Calif. I let work invade my personal life a lot, and I actually let my personal life invade my work, too. The blend of having that overlap happens, and you just have to be OK with it. There are days when I have urgent, pressing home matters invade me at work...</td>\n",
       "    </tr>\n",
       "    <tr>\n",
       "      <th>25</th>\n",
       "      <td>We&amp;rsquo;ve got this balance we&amp;rsquo;re representing where if you&amp;rsquo;re hitting all of your numbers and getting stuff done that you&amp;rsquo;ve committed to get done, then we leave it up to employees to work with their managers when they want time off.</td>\n",
       "    </tr>\n",
       "    <tr>\n",
       "      <th>26</th>\n",
       "      <td>For me, I&amp;rsquo;ve never missed a Halloween with my kids. I had extreme cases where I had to travel in my job at Microsoft a long time ago. I ended up having to go to the Bay Area two times on October 31. We were introducing Windows Live, which is what my group was in charge of. Bill [Gates, then-CEO of Microsoft] said, &amp;ldquo;You&amp;rsquo;ve got to be in the Bay Area on the 31st to rehearse with...</td>\n",
       "    </tr>\n",
       "    <tr>\n",
       "      <th>27</th>\n",
       "      <td>At the end of the day, your tombstone is not going to be written about what a great worker you were. Your life is about what you did to contribute to your community, your family and those things that really matter. You have to be able to create an environment for your employees where they feel like they can be safe. GoDaddy is a superhuman place. I think it understands passion, and it understa...</td>\n",
       "    </tr>\n",
       "    <tr>\n",
       "      <th>28</th>\n",
       "      <td>A career in tech is an incredibly great place to exercise creativity. The medium that is available to use in technology for creation is pretty amazing. If you&amp;rsquo;re in software, you don&amp;rsquo;t have hardware to get in your way. If you have an idea, you can code it up on the Web, you can experiment, you can draw, you can do graphics and you can do imagery. I think that most people I know who...</td>\n",
       "    </tr>\n",
       "    <tr>\n",
       "      <th>29</th>\n",
       "      <td>The things that have changed most people&amp;rsquo;s lives over the last couple decades are all about technology. Most of that technology has taken place in computer science, hardware and computing. What a cool thing to do &amp;ndash; regardless of whether you are a woman or a man or whatever. It doesn&amp;rsquo;t matter. It&amp;rsquo;s just a great place to create.</td>\n",
       "    </tr>\n",
       "    <tr>\n",
       "      <th>30</th>\n",
       "      <td>&lt;small&gt;I Want Her Job ® is a registered trademark of Burrowes Media, LLC.&lt;/small&gt;</td>\n",
       "    </tr>\n",
       "  </tbody>\n",
       "</table>\n",
       "</div>"
      ],
      "text/plain": [
       "                                                                                                                                                                                                                                                                                                                                                                                                                  C\n",
       "10  <em>Blake</em>: When I joined the company, I had a whole bunch of friends say, &ldquo;What?&rdquo; And I&rsquo;d say that essentially, if you look at how these guys have portrayed themselves in advertising and then you went and actually talked to the people of the company, there was this weird dichotomy between what I consider to be a pretty diverse workforce and employees very proud of their ...\n",
       "11  So, my clear communication with the board before I took the role was that I would align what the company does with our advertising messaging. By the way, 58 percent of people who have small businesses in the United States are women-run, so I want to make sure that when we&rsquo;re portraying our company and portraying our customers we&rsquo;re doing that in the <em>right</em> way. Our vision i...\n",
       "12  We shifted to our value proposition so that it&rsquo;s about helping small business get their jobs done &ndash; which is hard &ndash; to try and demystify a lot of what the web is all about and how it can <em>help</em> them grow their business. And these people don&rsquo;t want to be a webmaster, they just want to do what they love. They want it to be simple, and they don&rsquo;t want to have ...\n",
       "13  Right. You&rsquo;re a writer and you don&rsquo;t want to have to worry about your DNS or worry about server issues or any of that other stuff. You just want it to be as <em>small</em> a part of your gig as it possibly can, and that&rsquo;s what we are trying to do. So, when you see us and you see our commercials that are running now, we want you to finish watching the commercial and&nbsp;go, &...\n",
       "14  What we have done from an advertising perspective with Danica has changed pretty dramatically. Danica represents the best of what most of these small businesses have. She&rsquo;s not a small business herself. She&rsquo;s kind of a big business actually, but she&rsquo;s a <em>businesswoman</em>. She&rsquo;s an incredibly talented, hard-working, against-the-odds type of person, which is what eve...\n",
       "15  I&rsquo;ve always been a believer that your business or your company ought to be as diverse as your customer base, and unfortunately it&rsquo;s an impossibility &ndash; just based on if you took people that matriculate from elementary to high school to college and the amount of women that fall out during that process. It&rsquo;s not possible. I think that underrepresentation isn&rsquo;t just w...\n",
       "16  The experience that made me much more passionate about being an advocate is I had a sister who passed away in her 30s. She was a psychologist whose thesis was about women&rsquo;s body image, their self-esteem and the effect of the media on a woman&rsquo;s body image. My pledge to her was to do everything I could do in my field to forward women and to try and make that a more equal balanced pro...\n",
       "17  One of our values is &ldquo;live passionately.&rdquo; Try to figure out your Venn diagram of three circles. One of them is what makes money, another what you do well, and the third, what you love. If you can figure out how to combine those, then you&rsquo;ve found your sweet spot. This is what you&rsquo;re doing because <em>you&rsquo;ve</em> started your own thing. You don&rsquo;t love every s...\n",
       "18  It&rsquo;s an incredible culture. It&rsquo;s a culture that works hard and plays hard. You live passionately. We join forces. We work with each other. It&rsquo;s a super fun place to get great things done for a customer who, frankly, has been underrepresented. It&rsquo;s for little businesses. Most of our businesses are made up of five people or less. These are tiny companies that aspire to be...\n",
       "19  Our vision is to radically shift the economy toward small business by empowering people to easily, confidently and successfully run their venture. If we can do that, 10 years from now we will look back overall at the world&rsquo;s GDP growth and see this really small segment, these tiny sole proprietorships and small businesses, grow disproportionately to the rest of the GDP. If that happens, ...\n",
       "20  First and foremost, you have to be fun to work with. Life is too short to work with people who are a pain, so hire people who are great across the aisle. These are folks who work well with others and who are experts in their field, but who <em>don&rsquo;t act </em>like experts in their field. You hire people who are magnets of talent. I have a saying, &ldquo;Be a magnet. Hire magnets.&rdquo; W...\n",
       "21  Then, if you find some folks need help along the way, then coach them so they understand and realize, &ldquo;Wow, I kinda lost that along the way.&rdquo; Sometimes life happens, and business can be stressful. People&rsquo;s worst behavior comes out when they are stressed &ndash; always. So, coach people to recognize when this happens and tell themselves, &ldquo;I&rsquo;ve got to recognize this...\n",
       "22  As for the folks I&rsquo;ve hired in the company who I&rsquo;ve worked with in the past &ndash; or people I&rsquo;ve brought in who I didn&rsquo;t work with but who knew people that I did &ndash; I think, honestly, came to work with me because I give people direction to, &ldquo;Go create. Go build the business you&rsquo;re in charge of, or the platform you&rsquo;re in charge of, or whatever yo...\n",
       "23                                                                                                            Yeah, actually. There are a lot of agencies that do the same exact thing &ndash; like walls that you can write on when you get together. When people are having fun they tend to create better, and they tend to collaborate better. There&rsquo;s a great culture at GoDaddy for that type of thing.\n",
       "24  I&rsquo;m pretty good at it actually. I spend a lot of time here, and I also spend a lot of time in a little town called San Luis Obispo, Calif. I let work invade my personal life a lot, and I actually let my personal life invade my work, too. The blend of having that overlap happens, and you just have to be OK with it. There are days when I have urgent, pressing home matters invade me at work...\n",
       "25                                                                                                                                                    We&rsquo;ve got this balance we&rsquo;re representing where if you&rsquo;re hitting all of your numbers and getting stuff done that you&rsquo;ve committed to get done, then we leave it up to employees to work with their managers when they want time off.\n",
       "26  For me, I&rsquo;ve never missed a Halloween with my kids. I had extreme cases where I had to travel in my job at Microsoft a long time ago. I ended up having to go to the Bay Area two times on October 31. We were introducing Windows Live, which is what my group was in charge of. Bill [Gates, then-CEO of Microsoft] said, &ldquo;You&rsquo;ve got to be in the Bay Area on the 31st to rehearse with...\n",
       "27  At the end of the day, your tombstone is not going to be written about what a great worker you were. Your life is about what you did to contribute to your community, your family and those things that really matter. You have to be able to create an environment for your employees where they feel like they can be safe. GoDaddy is a superhuman place. I think it understands passion, and it understa...\n",
       "28  A career in tech is an incredibly great place to exercise creativity. The medium that is available to use in technology for creation is pretty amazing. If you&rsquo;re in software, you don&rsquo;t have hardware to get in your way. If you have an idea, you can code it up on the Web, you can experiment, you can draw, you can do graphics and you can do imagery. I think that most people I know who...\n",
       "29                                                 The things that have changed most people&rsquo;s lives over the last couple decades are all about technology. Most of that technology has taken place in computer science, hardware and computing. What a cool thing to do &ndash; regardless of whether you are a woman or a man or whatever. It doesn&rsquo;t matter. It&rsquo;s just a great place to create.\n",
       "30                                                                                                                                                                                                                                                                                                                                <small>I Want Her Job ® is a registered trademark of Burrowes Media, LLC.</small>"
      ]
     },
     "execution_count": 15,
     "metadata": {},
     "output_type": "execute_result"
    }
   ],
   "source": [
    "table"
   ]
  },
  {
   "cell_type": "code",
   "execution_count": null,
   "metadata": {},
   "outputs": [],
   "source": []
  },
  {
   "cell_type": "code",
   "execution_count": 65,
   "metadata": {},
   "outputs": [],
   "source": [
    "table = table.drop([11,13,15,17,19,21,23,28,30,32,34,44,46,48,52,54,60,62]).copy()"
   ]
  },
  {
   "cell_type": "code",
   "execution_count": 14,
   "metadata": {},
   "outputs": [],
   "source": [
    "table = table[10:].copy()"
   ]
  },
  {
   "cell_type": "code",
   "execution_count": 16,
   "metadata": {},
   "outputs": [],
   "source": [
    "table = table[:-1].copy()"
   ]
  },
  {
   "cell_type": "code",
   "execution_count": 108,
   "metadata": {},
   "outputs": [],
   "source": [
    "table['C'] = table['C'].str.replace(r'<strong>.*?</strong>', '')"
   ]
  },
  {
   "cell_type": "code",
   "execution_count": 27,
   "metadata": {},
   "outputs": [],
   "source": [
    "table['C'] = table['C'].str.replace(r'<p> <strong>.*?</strong><br>', '')"
   ]
  },
  {
   "cell_type": "code",
   "execution_count": 122,
   "metadata": {},
   "outputs": [
    {
     "data": {
      "text/plain": [
       "[]"
      ]
     },
     "execution_count": 122,
     "metadata": {},
     "output_type": "execute_result"
    }
   ],
   "source": [
    "re.findall('<.*?><br>', page_html)"
   ]
  },
  {
   "cell_type": "code",
   "execution_count": 8,
   "metadata": {},
   "outputs": [],
   "source": [
    "## paragraphs = re.findall('<p style = \".*?\">(.*?)<\\/p>', page_html)"
   ]
  },
  {
   "cell_type": "code",
   "execution_count": 87,
   "metadata": {},
   "outputs": [],
   "source": [
    "paragraphs = re.findall('<p class=\"body-text\">(.*?)<\\/p>', page_html)"
   ]
  },
  {
   "cell_type": "code",
   "execution_count": 171,
   "metadata": {},
   "outputs": [
    {
     "data": {
      "text/plain": [
       "[]"
      ]
     },
     "execution_count": 171,
     "metadata": {},
     "output_type": "execute_result"
    }
   ],
   "source": [
    "# paragraphs = \n",
    "re.findall('<p class=\".*?\" data-pnum=\"^[0-9]*$\" is>(.*?)<\\/p>', page_html)"
   ]
  },
  {
   "cell_type": "code",
   "execution_count": null,
   "metadata": {},
   "outputs": [],
   "source": [
    "# <p class=\".*?\" data-pnum=\".*?\" is=\"\">(.*?)<\\/p>"
   ]
  },
  {
   "cell_type": "code",
   "execution_count": 190,
   "metadata": {},
   "outputs": [],
   "source": [
    "## paragraphs = re.findall('<p class=\"body-text\"><b>DVF:</b>(.*?)<\\/p>', page_html)"
   ]
  },
  {
   "cell_type": "code",
   "execution_count": 194,
   "metadata": {},
   "outputs": [],
   "source": [
    "## firstpara = re.findall('<p class=\"body-text\"><b>Diane von Furstenberg:</b>(.*?)<\\/p>', page_html)"
   ]
  },
  {
   "cell_type": "code",
   "execution_count": 68,
   "metadata": {},
   "outputs": [],
   "source": [
    "paragraphs = re.findall('<p style=\".*?\">.*?<\\/p>', page_html)"
   ]
  },
  {
   "cell_type": "code",
   "execution_count": 106,
   "metadata": {},
   "outputs": [],
   "source": [
    "table = table[table.C.str.contains(r'<strong>Hotel News Now') == False].copy()\n",
    "# <strong></strong>\n",
    "# <strong>MR: \n",
    "# <em><strong>.*?</strong></em>\n",
    "# <strong>Claire</strong>: "
   ]
  },
  {
   "cell_type": "code",
   "execution_count": 26,
   "metadata": {},
   "outputs": [],
   "source": [
    "table = table[table.C.str.contains(r'<p><strong>Olivier') == False].copy()\n",
    "# <b><i>(.*?)<\\/i><\\/b>\n",
    "# <b>On a day in the life of a well-known designer:<br></b>\n",
    "# <strong>ET:    \n",
    "# <b></b>\n",
    "# <span class=\"answer\"> </span>\n",
    "# <strong>.*?</strong> <em>"
   ]
  },
  {
   "cell_type": "code",
   "execution_count": null,
   "metadata": {},
   "outputs": [],
   "source": []
  },
  {
   "cell_type": "code",
   "execution_count": 8,
   "metadata": {},
   "outputs": [],
   "source": [
    "table = table[table.C.str.contains(r'<strong>Olivier') == False].copy()"
   ]
  },
  {
   "cell_type": "code",
   "execution_count": 59,
   "metadata": {},
   "outputs": [],
   "source": [
    "table = table[table.C.str.contains(r'<b>.*?<\\/b>') == False].copy()"
   ]
  },
  {
   "cell_type": "code",
   "execution_count": 52,
   "metadata": {},
   "outputs": [],
   "source": [
    "table = table[table.C.str.contains(r'<strong>.*?<\\/strong>') == False].copy()"
   ]
  },
  {
   "cell_type": "code",
   "execution_count": 11,
   "metadata": {},
   "outputs": [],
   "source": [
    "table = table[table.C.str.contains(r'<strong>.*?<\\/strong>') == False].copy()"
   ]
  },
  {
   "cell_type": "code",
   "execution_count": 236,
   "metadata": {},
   "outputs": [],
   "source": [
    "firstpara = pd.DataFrame(firstpara, columns = ['C'])"
   ]
  },
  {
   "cell_type": "code",
   "execution_count": 199,
   "metadata": {},
   "outputs": [],
   "source": [
    "secondpara = re.findall('<p class=\"body-text\">(.*?)<', page_html)"
   ]
  },
  {
   "cell_type": "code",
   "execution_count": 200,
   "metadata": {},
   "outputs": [],
   "source": [
    "secondtable = pd.DataFrame(secondpara, columns = ['C'])"
   ]
  },
  {
   "cell_type": "code",
   "execution_count": 61,
   "metadata": {},
   "outputs": [],
   "source": [
    "table = table.drop([6,8,10,12,14,16,18]).copy()"
   ]
  },
  {
   "cell_type": "code",
   "execution_count": 174,
   "metadata": {},
   "outputs": [],
   "source": [
    "table = table[4:].copy()"
   ]
  },
  {
   "cell_type": "code",
   "execution_count": 220,
   "metadata": {},
   "outputs": [],
   "source": [
    "secondtable = secondtable.drop(secondtable.index[4:63]).copy()"
   ]
  },
  {
   "cell_type": "code",
   "execution_count": 76,
   "metadata": {},
   "outputs": [],
   "source": [
    "table = table[:-6].copy()"
   ]
  },
  {
   "cell_type": "code",
   "execution_count": 232,
   "metadata": {},
   "outputs": [],
   "source": [
    "secondtable = secondtable.drop(secondtable.index[5:16]).copy()"
   ]
  },
  {
   "cell_type": "code",
   "execution_count": 112,
   "metadata": {},
   "outputs": [],
   "source": [
    "table = table[table.C.str.contains(r'RS:') == False].copy()\n",
    "## <strong>.*?<\\/strong><br>"
   ]
  },
  {
   "cell_type": "code",
   "execution_count": 407,
   "metadata": {},
   "outputs": [],
   "source": [
    "table = table[table.C.str.contains(r'Tzuo') == False].copy()"
   ]
  },
  {
   "cell_type": "code",
   "execution_count": 120,
   "metadata": {},
   "outputs": [],
   "source": [
    "table = table.drop(table.index[4]).copy()"
   ]
  },
  {
   "cell_type": "code",
   "execution_count": 58,
   "metadata": {},
   "outputs": [],
   "source": [
    "table = table.drop([9]).copy()"
   ]
  },
  {
   "cell_type": "code",
   "execution_count": 193,
   "metadata": {},
   "outputs": [],
   "source": [
    "table = table[9:].copy()"
   ]
  },
  {
   "cell_type": "code",
   "execution_count": 110,
   "metadata": {},
   "outputs": [],
   "source": [
    "table['C'] = table['C'].str.replace(r'<div class=\"content-list-component yr-content-list-text text\"><p>', '')\n",
    "# <strong></strong><br>\n",
    "# r'<b>(.*?)<br><\\/b>'\n",
    "# <strong>Judith Jamison:</strong>\n",
    "# <p name=\".*?\" id=\".*?\" class=\".*?\">"
   ]
  },
  {
   "cell_type": "code",
   "execution_count": 238,
   "metadata": {},
   "outputs": [],
   "source": [
    "sectable = pd.concat([firstpara, secondtable])"
   ]
  },
  {
   "cell_type": "code",
   "execution_count": 240,
   "metadata": {},
   "outputs": [],
   "source": [
    "table = pd.concat([sectable, table]).copy()"
   ]
  },
  {
   "cell_type": "code",
   "execution_count": null,
   "metadata": {},
   "outputs": [],
   "source": []
  },
  {
   "cell_type": "code",
   "execution_count": 8,
   "metadata": {},
   "outputs": [],
   "source": [
    "paragraphs = re.findall('<p><strong>John Riccitiello:</strong>(.*?)<\\/p>', page_html)"
   ]
  },
  {
   "cell_type": "code",
   "execution_count": 19,
   "metadata": {},
   "outputs": [],
   "source": [
    "table = pd.DataFrame(paragraphs, columns = ['C'])"
   ]
  },
  {
   "cell_type": "code",
   "execution_count": null,
   "metadata": {},
   "outputs": [],
   "source": []
  },
  {
   "cell_type": "code",
   "execution_count": null,
   "metadata": {},
   "outputs": [],
   "source": []
  },
  {
   "cell_type": "code",
   "execution_count": 11,
   "metadata": {},
   "outputs": [],
   "source": [
    "table = table[9:].copy()"
   ]
  },
  {
   "cell_type": "code",
   "execution_count": 12,
   "metadata": {},
   "outputs": [],
   "source": [
    "table = table[:-1].copy()"
   ]
  },
  {
   "cell_type": "code",
   "execution_count": 224,
   "metadata": {},
   "outputs": [],
   "source": [
    "table = table[7:].copy()"
   ]
  },
  {
   "cell_type": "code",
   "execution_count": 359,
   "metadata": {},
   "outputs": [],
   "source": [
    "# frame = pd.DataFrame(para, columns = ['C'])"
   ]
  },
  {
   "cell_type": "code",
   "execution_count": 77,
   "metadata": {},
   "outputs": [],
   "source": [
    "table = table[3:].copy()"
   ]
  },
  {
   "cell_type": "code",
   "execution_count": 106,
   "metadata": {},
   "outputs": [],
   "source": [
    "table = table[:-5].copy()"
   ]
  },
  {
   "cell_type": "code",
   "execution_count": 45,
   "metadata": {},
   "outputs": [],
   "source": [
    "table = table.dropna(how='all')"
   ]
  },
  {
   "cell_type": "code",
   "execution_count": 30,
   "metadata": {},
   "outputs": [],
   "source": [
    "table = table.drop([16]).copy()"
   ]
  },
  {
   "cell_type": "code",
   "execution_count": null,
   "metadata": {},
   "outputs": [],
   "source": []
  },
  {
   "cell_type": "code",
   "execution_count": 38,
   "metadata": {},
   "outputs": [],
   "source": [
    "table['C'] = table['C'].str.replace(r'<b>Freeman Hrabowski:</b><span style=\"font-weight: 400;\"> ', '')"
   ]
  },
  {
   "cell_type": "code",
   "execution_count": 174,
   "metadata": {},
   "outputs": [],
   "source": [
    "table = table[table.C.str.contains(r'<strong>') == False].copy()"
   ]
  },
  {
   "cell_type": "code",
   "execution_count": 40,
   "metadata": {},
   "outputs": [],
   "source": [
    "table['C'] = table['C'].str.replace(r'<strong>Barrett:</strong>', '')"
   ]
  },
  {
   "cell_type": "code",
   "execution_count": 19,
   "metadata": {},
   "outputs": [],
   "source": [
    "table['C'] = table['C'].str.replace(r'<strong>Riccitiello:</strong>', '')"
   ]
  },
  {
   "cell_type": "code",
   "execution_count": 22,
   "metadata": {},
   "outputs": [],
   "source": [
    "table['C'] = table[table.C.str.contains(\"<strong>Reid Hoffman\") == False].copy()"
   ]
  },
  {
   "cell_type": "code",
   "execution_count": 121,
   "metadata": {},
   "outputs": [],
   "source": [
    "table = table[8:].copy()"
   ]
  },
  {
   "cell_type": "code",
   "execution_count": 179,
   "metadata": {},
   "outputs": [],
   "source": [
    "table = table[:-1].copy()"
   ]
  },
  {
   "cell_type": "code",
   "execution_count": null,
   "metadata": {},
   "outputs": [],
   "source": []
  },
  {
   "cell_type": "code",
   "execution_count": 75,
   "metadata": {},
   "outputs": [],
   "source": [
    "table = table[table.C.str.contains(\"Q:\") == False].copy()"
   ]
  },
  {
   "cell_type": "code",
   "execution_count": 26,
   "metadata": {},
   "outputs": [],
   "source": [
    "table = table[:-30].copy()"
   ]
  },
  {
   "cell_type": "code",
   "execution_count": 64,
   "metadata": {},
   "outputs": [],
   "source": [
    "table['C'] = table['C'].str.replace(r'<p>CLG : <em>', '')\n",
    "# <strong>(.*?)<br><\\/strong>"
   ]
  },
  {
   "cell_type": "code",
   "execution_count": null,
   "metadata": {},
   "outputs": [],
   "source": []
  },
  {
   "cell_type": "code",
   "execution_count": 19,
   "metadata": {},
   "outputs": [],
   "source": [
    "# table = table.drop(table.index[3]).copy()"
   ]
  },
  {
   "cell_type": "code",
   "execution_count": 42,
   "metadata": {},
   "outputs": [],
   "source": [
    "# table = table.drop(table.index[[4, 8, 10, 12, 14, 16]]).copy()"
   ]
  },
  {
   "cell_type": "code",
   "execution_count": 57,
   "metadata": {},
   "outputs": [],
   "source": [
    "# table = table.drop(table.index[[11, 14, 16, 18, 20, 22, 24, 26, 29, 31, 33, 35]]).copy()"
   ]
  },
  {
   "cell_type": "code",
   "execution_count": 11,
   "metadata": {},
   "outputs": [],
   "source": [
    "table = table[3:].copy()"
   ]
  },
  {
   "cell_type": "code",
   "execution_count": 140,
   "metadata": {},
   "outputs": [],
   "source": [
    "table = table[:-1].copy()"
   ]
  },
  {
   "cell_type": "code",
   "execution_count": 36,
   "metadata": {},
   "outputs": [],
   "source": [
    "table['C'] = table['C'].str.replace(r'<strong>Helene Gayle:</strong> ', '')"
   ]
  },
  {
   "cell_type": "code",
   "execution_count": 102,
   "metadata": {},
   "outputs": [],
   "source": [
    "table = table[table.C.str.contains(\"<strong>Tim\") == False].copy()"
   ]
  },
  {
   "cell_type": "code",
   "execution_count": null,
   "metadata": {},
   "outputs": [],
   "source": []
  },
  {
   "cell_type": "code",
   "execution_count": 196,
   "metadata": {},
   "outputs": [],
   "source": [
    "table = table[9:].copy()"
   ]
  },
  {
   "cell_type": "code",
   "execution_count": 198,
   "metadata": {},
   "outputs": [],
   "source": [
    "table = table[:-9].copy()"
   ]
  },
  {
   "cell_type": "code",
   "execution_count": 199,
   "metadata": {},
   "outputs": [],
   "source": [
    "table = table[table.C.str.contains(\"<strong>Gene\") == False].copy()"
   ]
  },
  {
   "cell_type": "code",
   "execution_count": 220,
   "metadata": {},
   "outputs": [
    {
     "data": {
      "text/plain": [
       "28"
      ]
     },
     "execution_count": 220,
     "metadata": {},
     "output_type": "execute_result"
    }
   ],
   "source": [
    "table.index[11]"
   ]
  },
  {
   "cell_type": "code",
   "execution_count": 221,
   "metadata": {},
   "outputs": [],
   "source": [
    "table = table.drop(table.index[11]).copy()"
   ]
  },
  {
   "cell_type": "code",
   "execution_count": 171,
   "metadata": {},
   "outputs": [],
   "source": [
    "\n",
    "table['C'] = table['C'].str.replace(r'&nbsp;', '')"
   ]
  },
  {
   "cell_type": "code",
   "execution_count": 178,
   "metadata": {},
   "outputs": [],
   "source": [
    "# table.loc[52:59]\n",
    "table = table.drop(table.index[-8:])"
   ]
  },
  {
   "cell_type": "code",
   "execution_count": 88,
   "metadata": {},
   "outputs": [],
   "source": [
    "table = table.drop(table.index[0])"
   ]
  },
  {
   "cell_type": "code",
   "execution_count": 100,
   "metadata": {},
   "outputs": [],
   "source": [
    "table = table[:-18]"
   ]
  },
  {
   "cell_type": "code",
   "execution_count": 103,
   "metadata": {},
   "outputs": [],
   "source": [
    "table = table.drop(table.index[6:36])"
   ]
  },
  {
   "cell_type": "code",
   "execution_count": 128,
   "metadata": {},
   "outputs": [],
   "source": [
    "AshtonBCarter = table[1:5].copy()"
   ]
  },
  {
   "cell_type": "code",
   "execution_count": 137,
   "metadata": {},
   "outputs": [],
   "source": [
    "JohnDonovan = table.loc[58:62].copy()"
   ]
  },
  {
   "cell_type": "code",
   "execution_count": 115,
   "metadata": {},
   "outputs": [],
   "source": [
    "AdenaFriedman = table.loc[38:42].copy()"
   ]
  },
  {
   "cell_type": "code",
   "execution_count": 28,
   "metadata": {},
   "outputs": [],
   "source": [
    "table['C'] = table['C'].str.replace(r'â', '')"
   ]
  },
  {
   "cell_type": "code",
   "execution_count": 17,
   "metadata": {},
   "outputs": [],
   "source": [
    "def remove_html_tags(data):\n",
    "    p = re.compile(r'<.*?>')\n",
    "    return p.sub('', data)"
   ]
  },
  {
   "cell_type": "code",
   "execution_count": 18,
   "metadata": {},
   "outputs": [],
   "source": [
    "table['C'] =  table['C'].apply(remove_html_tags).copy()\n",
    "# full = clean.to_frame()"
   ]
  },
  {
   "cell_type": "code",
   "execution_count": 15,
   "metadata": {},
   "outputs": [],
   "source": [
    " \"\".join(table['C'])"
   ]
  },
  {
   "cell_type": "code",
   "execution_count": 19,
   "metadata": {},
   "outputs": [],
   "source": [
    "def unescape(text):\n",
    "    \"\"\"\n",
    "    Converts HTML character codes to Unicode code points.\n",
    "\n",
    "    @param text the HTML (or XML) source text in any encoding.\n",
    "    @return The plain text, as a Unicode string, if necessary.\n",
    "    \"\"\"\n",
    "    def fixup(m):\n",
    "        text = m.group(0)\n",
    "        if text[:2] == \"&#\":\n",
    "            try:\n",
    "                if text[:3] == \"&#x\":\n",
    "                    return chr(int(text[3:-1], 16))\n",
    "                else:\n",
    "                    return chr(int(text[2:-1]))\n",
    "            except ValueError:\n",
    "                pass\n",
    "        else:\n",
    "            try:\n",
    "                text = chr(html.entities.name2codepoint[text[1:-1]])\n",
    "            except KeyError:\n",
    "                pass\n",
    "        return text\n",
    "    return re.sub(\"&#?\\w+;\", fixup, text)\n",
    "\n",
    "    return re.sub(\"&#?\\w+;\", fixup, text)"
   ]
  },
  {
   "cell_type": "code",
   "execution_count": 20,
   "metadata": {},
   "outputs": [
    {
     "ename": "AttributeError",
     "evalue": "'bytes' object has no attribute 'entities'",
     "output_type": "error",
     "traceback": [
      "\u001b[1;31m---------------------------------------------------------------------------\u001b[0m",
      "\u001b[1;31mAttributeError\u001b[0m                            Traceback (most recent call last)",
      "\u001b[1;32m<ipython-input-20-e97e5a9a33ee>\u001b[0m in \u001b[0;36m<module>\u001b[1;34m()\u001b[0m\n\u001b[1;32m----> 1\u001b[1;33m \u001b[0mclean\u001b[0m \u001b[1;33m=\u001b[0m \u001b[0mtable\u001b[0m\u001b[1;33m[\u001b[0m\u001b[1;34m'C'\u001b[0m\u001b[1;33m]\u001b[0m\u001b[1;33m.\u001b[0m\u001b[0mapply\u001b[0m\u001b[1;33m(\u001b[0m\u001b[0munescape\u001b[0m\u001b[1;33m)\u001b[0m\u001b[1;33m.\u001b[0m\u001b[0mcopy\u001b[0m\u001b[1;33m(\u001b[0m\u001b[1;33m)\u001b[0m\u001b[1;33m\u001b[0m\u001b[0m\n\u001b[0m",
      "\u001b[1;32m~\\AppData\\Local\\Continuum\\anaconda3\\lib\\site-packages\\pandas\\core\\series.py\u001b[0m in \u001b[0;36mapply\u001b[1;34m(self, func, convert_dtype, args, **kwds)\u001b[0m\n\u001b[0;32m   3190\u001b[0m             \u001b[1;32melse\u001b[0m\u001b[1;33m:\u001b[0m\u001b[1;33m\u001b[0m\u001b[0m\n\u001b[0;32m   3191\u001b[0m                 \u001b[0mvalues\u001b[0m \u001b[1;33m=\u001b[0m \u001b[0mself\u001b[0m\u001b[1;33m.\u001b[0m\u001b[0mastype\u001b[0m\u001b[1;33m(\u001b[0m\u001b[0mobject\u001b[0m\u001b[1;33m)\u001b[0m\u001b[1;33m.\u001b[0m\u001b[0mvalues\u001b[0m\u001b[1;33m\u001b[0m\u001b[0m\n\u001b[1;32m-> 3192\u001b[1;33m                 \u001b[0mmapped\u001b[0m \u001b[1;33m=\u001b[0m \u001b[0mlib\u001b[0m\u001b[1;33m.\u001b[0m\u001b[0mmap_infer\u001b[0m\u001b[1;33m(\u001b[0m\u001b[0mvalues\u001b[0m\u001b[1;33m,\u001b[0m \u001b[0mf\u001b[0m\u001b[1;33m,\u001b[0m \u001b[0mconvert\u001b[0m\u001b[1;33m=\u001b[0m\u001b[0mconvert_dtype\u001b[0m\u001b[1;33m)\u001b[0m\u001b[1;33m\u001b[0m\u001b[0m\n\u001b[0m\u001b[0;32m   3193\u001b[0m \u001b[1;33m\u001b[0m\u001b[0m\n\u001b[0;32m   3194\u001b[0m         \u001b[1;32mif\u001b[0m \u001b[0mlen\u001b[0m\u001b[1;33m(\u001b[0m\u001b[0mmapped\u001b[0m\u001b[1;33m)\u001b[0m \u001b[1;32mand\u001b[0m \u001b[0misinstance\u001b[0m\u001b[1;33m(\u001b[0m\u001b[0mmapped\u001b[0m\u001b[1;33m[\u001b[0m\u001b[1;36m0\u001b[0m\u001b[1;33m]\u001b[0m\u001b[1;33m,\u001b[0m \u001b[0mSeries\u001b[0m\u001b[1;33m)\u001b[0m\u001b[1;33m:\u001b[0m\u001b[1;33m\u001b[0m\u001b[0m\n",
      "\u001b[1;32mpandas/_libs/src\\inference.pyx\u001b[0m in \u001b[0;36mpandas._libs.lib.map_infer\u001b[1;34m()\u001b[0m\n",
      "\u001b[1;32m<ipython-input-19-0c2fe169e29c>\u001b[0m in \u001b[0;36munescape\u001b[1;34m(text)\u001b[0m\n\u001b[0;32m     22\u001b[0m                 \u001b[1;32mpass\u001b[0m\u001b[1;33m\u001b[0m\u001b[0m\n\u001b[0;32m     23\u001b[0m         \u001b[1;32mreturn\u001b[0m \u001b[0mtext\u001b[0m\u001b[1;33m\u001b[0m\u001b[0m\n\u001b[1;32m---> 24\u001b[1;33m     \u001b[1;32mreturn\u001b[0m \u001b[0mre\u001b[0m\u001b[1;33m.\u001b[0m\u001b[0msub\u001b[0m\u001b[1;33m(\u001b[0m\u001b[1;34m\"&#?\\w+;\"\u001b[0m\u001b[1;33m,\u001b[0m \u001b[0mfixup\u001b[0m\u001b[1;33m,\u001b[0m \u001b[0mtext\u001b[0m\u001b[1;33m)\u001b[0m\u001b[1;33m\u001b[0m\u001b[0m\n\u001b[0m\u001b[0;32m     25\u001b[0m \u001b[1;33m\u001b[0m\u001b[0m\n\u001b[0;32m     26\u001b[0m     \u001b[1;32mreturn\u001b[0m \u001b[0mre\u001b[0m\u001b[1;33m.\u001b[0m\u001b[0msub\u001b[0m\u001b[1;33m(\u001b[0m\u001b[1;34m\"&#?\\w+;\"\u001b[0m\u001b[1;33m,\u001b[0m \u001b[0mfixup\u001b[0m\u001b[1;33m,\u001b[0m \u001b[0mtext\u001b[0m\u001b[1;33m)\u001b[0m\u001b[1;33m\u001b[0m\u001b[0m\n",
      "\u001b[1;32m~\\AppData\\Local\\Continuum\\anaconda3\\lib\\re.py\u001b[0m in \u001b[0;36msub\u001b[1;34m(pattern, repl, string, count, flags)\u001b[0m\n\u001b[0;32m    189\u001b[0m     \u001b[0ma\u001b[0m \u001b[0mcallable\u001b[0m\u001b[1;33m,\u001b[0m \u001b[0mit\u001b[0m\u001b[0;31m'\u001b[0m\u001b[0ms\u001b[0m \u001b[0mpassed\u001b[0m \u001b[0mthe\u001b[0m \u001b[0mmatch\u001b[0m \u001b[0mobject\u001b[0m \u001b[1;32mand\u001b[0m \u001b[0mmust\u001b[0m \u001b[1;32mreturn\u001b[0m\u001b[1;33m\u001b[0m\u001b[0m\n\u001b[0;32m    190\u001b[0m     a replacement string to be used.\"\"\"\n\u001b[1;32m--> 191\u001b[1;33m     \u001b[1;32mreturn\u001b[0m \u001b[0m_compile\u001b[0m\u001b[1;33m(\u001b[0m\u001b[0mpattern\u001b[0m\u001b[1;33m,\u001b[0m \u001b[0mflags\u001b[0m\u001b[1;33m)\u001b[0m\u001b[1;33m.\u001b[0m\u001b[0msub\u001b[0m\u001b[1;33m(\u001b[0m\u001b[0mrepl\u001b[0m\u001b[1;33m,\u001b[0m \u001b[0mstring\u001b[0m\u001b[1;33m,\u001b[0m \u001b[0mcount\u001b[0m\u001b[1;33m)\u001b[0m\u001b[1;33m\u001b[0m\u001b[0m\n\u001b[0m\u001b[0;32m    192\u001b[0m \u001b[1;33m\u001b[0m\u001b[0m\n\u001b[0;32m    193\u001b[0m \u001b[1;32mdef\u001b[0m \u001b[0msubn\u001b[0m\u001b[1;33m(\u001b[0m\u001b[0mpattern\u001b[0m\u001b[1;33m,\u001b[0m \u001b[0mrepl\u001b[0m\u001b[1;33m,\u001b[0m \u001b[0mstring\u001b[0m\u001b[1;33m,\u001b[0m \u001b[0mcount\u001b[0m\u001b[1;33m=\u001b[0m\u001b[1;36m0\u001b[0m\u001b[1;33m,\u001b[0m \u001b[0mflags\u001b[0m\u001b[1;33m=\u001b[0m\u001b[1;36m0\u001b[0m\u001b[1;33m)\u001b[0m\u001b[1;33m:\u001b[0m\u001b[1;33m\u001b[0m\u001b[0m\n",
      "\u001b[1;32m<ipython-input-19-0c2fe169e29c>\u001b[0m in \u001b[0;36mfixup\u001b[1;34m(m)\u001b[0m\n\u001b[0;32m     18\u001b[0m         \u001b[1;32melse\u001b[0m\u001b[1;33m:\u001b[0m\u001b[1;33m\u001b[0m\u001b[0m\n\u001b[0;32m     19\u001b[0m             \u001b[1;32mtry\u001b[0m\u001b[1;33m:\u001b[0m\u001b[1;33m\u001b[0m\u001b[0m\n\u001b[1;32m---> 20\u001b[1;33m                 \u001b[0mtext\u001b[0m \u001b[1;33m=\u001b[0m \u001b[0mchr\u001b[0m\u001b[1;33m(\u001b[0m\u001b[0mhtml\u001b[0m\u001b[1;33m.\u001b[0m\u001b[0mentities\u001b[0m\u001b[1;33m.\u001b[0m\u001b[0mname2codepoint\u001b[0m\u001b[1;33m[\u001b[0m\u001b[0mtext\u001b[0m\u001b[1;33m[\u001b[0m\u001b[1;36m1\u001b[0m\u001b[1;33m:\u001b[0m\u001b[1;33m-\u001b[0m\u001b[1;36m1\u001b[0m\u001b[1;33m]\u001b[0m\u001b[1;33m]\u001b[0m\u001b[1;33m)\u001b[0m\u001b[1;33m\u001b[0m\u001b[0m\n\u001b[0m\u001b[0;32m     21\u001b[0m             \u001b[1;32mexcept\u001b[0m \u001b[0mKeyError\u001b[0m\u001b[1;33m:\u001b[0m\u001b[1;33m\u001b[0m\u001b[0m\n\u001b[0;32m     22\u001b[0m                 \u001b[1;32mpass\u001b[0m\u001b[1;33m\u001b[0m\u001b[0m\n",
      "\u001b[1;31mAttributeError\u001b[0m: 'bytes' object has no attribute 'entities'"
     ]
    }
   ],
   "source": [
    "clean = table['C'].apply(unescape).copy() "
   ]
  },
  {
   "cell_type": "code",
   "execution_count": 21,
   "metadata": {},
   "outputs": [],
   "source": [
    "def remove_html_tags_six(data):\n",
    "    p = re.compile(r'&quot;')\n",
    "    return p.sub(' ', data)"
   ]
  },
  {
   "cell_type": "code",
   "execution_count": 22,
   "metadata": {},
   "outputs": [],
   "source": [
    "table['C'] = table['C'].apply(remove_html_tags).copy()"
   ]
  },
  {
   "cell_type": "code",
   "execution_count": 23,
   "metadata": {},
   "outputs": [],
   "source": [
    "def remove_html_tags_seven(data):\n",
    "    p = re.compile(r'&amp;')\n",
    "    return p.sub(' ', data)"
   ]
  },
  {
   "cell_type": "code",
   "execution_count": 24,
   "metadata": {},
   "outputs": [],
   "source": [
    "table['C'] = table['C'].apply(remove_html_tags_seven).copy()"
   ]
  },
  {
   "cell_type": "code",
   "execution_count": 25,
   "metadata": {},
   "outputs": [],
   "source": [
    "\n",
    "\n",
    "def remove_html_tags_two(data):\n",
    "    p = re.compile(r'& ?(ld|rd)quo ?[;\\]]')\n",
    "    return p.sub('\\\"', data)"
   ]
  },
  {
   "cell_type": "code",
   "execution_count": 26,
   "metadata": {},
   "outputs": [],
   "source": [
    "table['C'] = table['C'].apply(remove_html_tags_two).copy()"
   ]
  },
  {
   "cell_type": "code",
   "execution_count": 27,
   "metadata": {},
   "outputs": [],
   "source": [
    "def remove_html_tags_three(data):\n",
    "    p = re.compile(r'& ?(ls|rs)quo ?;')\n",
    "    return p.sub(' ', data)"
   ]
  },
  {
   "cell_type": "code",
   "execution_count": 28,
   "metadata": {},
   "outputs": [],
   "source": [
    "table['C'] = table['C'].apply(remove_html_tags_three).copy()"
   ]
  },
  {
   "cell_type": "code",
   "execution_count": 29,
   "metadata": {},
   "outputs": [],
   "source": [
    "def remove_html_tags_four(data):\n",
    "    p = re.compile(r'&mdash;')\n",
    "    return p.sub('-', data)"
   ]
  },
  {
   "cell_type": "code",
   "execution_count": 30,
   "metadata": {},
   "outputs": [],
   "source": [
    "# table['C'] = \n",
    "clean = table['C'].apply(remove_html_tags_four).copy()"
   ]
  },
  {
   "cell_type": "code",
   "execution_count": 31,
   "metadata": {},
   "outputs": [],
   "source": [
    "def remove_html_tags_five(data):\n",
    "    p = re.compile(r'&eacute;')\n",
    "    return p.sub('é', data)"
   ]
  },
  {
   "cell_type": "code",
   "execution_count": 32,
   "metadata": {},
   "outputs": [],
   "source": [
    "clean = table['C'].apply(remove_html_tags_five).copy()"
   ]
  },
  {
   "cell_type": "code",
   "execution_count": 61,
   "metadata": {},
   "outputs": [],
   "source": [
    "# cleanframe = frame['C'].apply(remove_html_tags).copy()"
   ]
  },
  {
   "cell_type": "code",
   "execution_count": 140,
   "metadata": {},
   "outputs": [],
   "source": [
    "# full.to_csv('JohnDonovan.txt', sep = ' ', index = False)"
   ]
  },
  {
   "cell_type": "code",
   "execution_count": null,
   "metadata": {},
   "outputs": [],
   "source": []
  },
  {
   "cell_type": "code",
   "execution_count": null,
   "metadata": {},
   "outputs": [],
   "source": []
  },
  {
   "cell_type": "code",
   "execution_count": null,
   "metadata": {},
   "outputs": [],
   "source": []
  },
  {
   "cell_type": "code",
   "execution_count": 379,
   "metadata": {},
   "outputs": [],
   "source": [
    "# KatherinePower = pd.concat([KatherinePower, KatherinePowertwo])"
   ]
  },
  {
   "cell_type": "code",
   "execution_count": 33,
   "metadata": {},
   "outputs": [],
   "source": [
    "clean.to_csv('BlakeIrving.txt', sep = ' ', index = False)"
   ]
  },
  {
   "cell_type": "code",
   "execution_count": null,
   "metadata": {},
   "outputs": [],
   "source": []
  }
 ],
 "metadata": {
  "kernelspec": {
   "display_name": "Python 3",
   "language": "python",
   "name": "python3"
  },
  "language_info": {
   "codemirror_mode": {
    "name": "ipython",
    "version": 3
   },
   "file_extension": ".py",
   "mimetype": "text/x-python",
   "name": "python",
   "nbconvert_exporter": "python",
   "pygments_lexer": "ipython3",
   "version": "3.6.5"
  }
 },
 "nbformat": 4,
 "nbformat_minor": 2
}
