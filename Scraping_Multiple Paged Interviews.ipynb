{
 "cells": [
  {
   "cell_type": "code",
   "execution_count": 1,
   "metadata": {},
   "outputs": [],
   "source": [
    "import pandas as pd\n",
    "import re\n",
    "import requests\n",
    "pd.set_option('display.max_colwidth', 120)"
   ]
  },
  {
   "cell_type": "code",
   "execution_count": 2,
   "metadata": {},
   "outputs": [
    {
     "data": {
      "text/plain": [
       "'C:\\\\Users\\\\2918261\\\\Dropbox\\\\Corner Office Interviews\\\\ComparisonCorpusText'"
      ]
     },
     "execution_count": 2,
     "metadata": {},
     "output_type": "execute_result"
    }
   ],
   "source": [
    "import os\n",
    "from urllib.request import urlopen\n",
    "import http.cookiejar as cookielib\n",
    "import re\n",
    "import html.entities\n",
    "import codecs\n",
    "import time\n",
    "from bs4 import BeautifulSoup\n",
    "from time import sleep\n",
    "\n",
    "# C://Users//2918261//Courses//Oslo Summer School//notebooks//Interviews\n",
    "# C://Users//Toshiba//Dropbox//Corner Office Interviews//ComparisonCorpusText\n",
    "# C://Users//2918261//Courses//Oslo Summer School//notebooks//Interviews\n",
    "# os.chdir('C://Users//2918261//Dropbox//Corner Office Interviews//ComparisonCorpusText')\n",
    "# 'C://Users//Toshiba//Dropbox//Corner Office Interviews//ComparisonCorpusText'\n",
    "os.chdir('C://Users//2918261//Dropbox//Corner Office Interviews//ComparisonCorpusText')\n",
    "os.getcwd()"
   ]
  },
  {
   "cell_type": "code",
   "execution_count": 3,
   "metadata": {},
   "outputs": [],
   "source": [
    "url = 'https://www.cio.com.au/article/212876/interview_douglas_merrill_former_google_cio/?' "
   ]
  },
  {
   "cell_type": "code",
   "execution_count": 4,
   "metadata": {},
   "outputs": [],
   "source": [
    "page = 2\n",
    "\n",
    "url = 'https://www.cio.com.au/article/212876/interview_douglas_merrill_former_google_cio/?' + 'pp' + '=' + str(page) \n"
   ]
  },
  {
   "cell_type": "code",
   "execution_count": 5,
   "metadata": {},
   "outputs": [
    {
     "name": "stdout",
     "output_type": "stream",
     "text": [
      "https://www.cio.com.au/article/212876/interview_douglas_merrill_former_google_cio/?pp=2\n"
     ]
    }
   ],
   "source": [
    "print(url)"
   ]
  },
  {
   "cell_type": "markdown",
   "metadata": {},
   "source": [
    "## Defining Multiple urls"
   ]
  },
  {
   "cell_type": "code",
   "execution_count": 55,
   "metadata": {
    "scrolled": true
   },
   "outputs": [],
   "source": [
    "for page in range (1,4):\n",
    "    url = 'https://www.cio.com.au/article/212876/interview_douglas_merrill_former_google_cio/?' + 'pp' + '=' + str(page) \n",
    "    page = requests.get(url)\n",
    "    page_html = page.text"
   ]
  },
  {
   "cell_type": "code",
   "execution_count": 56,
   "metadata": {},
   "outputs": [
    {
     "data": {
      "text/plain": [
       "200"
      ]
     },
     "execution_count": 56,
     "metadata": {},
     "output_type": "execute_result"
    }
   ],
   "source": [
    "page.status_code"
   ]
  },
  {
   "cell_type": "code",
   "execution_count": null,
   "metadata": {},
   "outputs": [],
   "source": [
    "## para = soup.findAll('div', attrs={'itemprop':'articleBody'})"
   ]
  },
  {
   "cell_type": "markdown",
   "metadata": {},
   "source": [
    "## Function to extract paragraphs "
   ]
  },
  {
   "cell_type": "raw",
   "metadata": {},
   "source": [
    "def get_para(page_html):\n",
    "    soup = BeautifulSoup(page_html, \"lxml\")\n",
    "    para = [x.text.strip() for x in soup.findAll('div', attrs={'itemprop':'articleBody'})]\n",
    "    return para"
   ]
  },
  {
   "cell_type": "code",
   "execution_count": 140,
   "metadata": {},
   "outputs": [],
   "source": [
    "def get_para(page_html):\n",
    "    soup = BeautifulSoup(page_html, \"lxml\")\n",
    "    para = soup.findAll('div', attrs={'itemprop':'articleBody'})\n",
    "    for x in para: \n",
    "        return(x.findAll('p'))"
   ]
  },
  {
   "cell_type": "code",
   "execution_count": 141,
   "metadata": {},
   "outputs": [
    {
     "data": {
      "text/plain": [
       "[<p>Merrill spoke to us before he announcing his move from the search giant.</p>,\n",
       " <p><b>You joined Google as senior director of information systems in late 2003. How did you land the job?</b></p>,\n",
       " <p>I spent four years or so at <a href=\"http://www.schwab.com/\" target=\"_blank\">Charles Schwab &amp; Co</a> doing a bunch of different things, including head of infrastructure, head of security for a while, and then I left technology for a year or two as head of HR strategy.</p>,\n",
       " <p>My background is a mixture of process, people and technology. [Merrill holds a BA from the <a href=\"http://www.utulsa.edu/\" target=\"_blank\">University of Tulsa</a> in social and political organisation and an MA and a PhD in psychology from <a href=\"http://www.princeton.edu/\" target=\"_blank\">Princeton University</a>.]</p>,\n",
       " <p>At Google, they were just getting ready to think about going public and [Google co-founder and President] Larry [Page] had some interesting ideas. I had this background, and I was a licensed broker, so I understood how the public-offering process worked. The rest is history, as it were.</p>,\n",
       " <p><b>I've read that Google doesn't have an IT organisation that's structured like that at most companies. How is it configured?</b></p>,\n",
       " <p>We have a pretty heavy reliance on decentralisation, so people have a lot of control to do what they want. Our motto is \"Choice, not control\". I try to make it possible for all Googlers to have all the hardware and control that they want.</p>,\n",
       " <p>Mostly, what I try to do is make it possible for our engineers and product managers to use the tools that they want, whether it's PC and [Microsoft] Exchange or whatever they choose. What matters is productivity and creativity.</p>,\n",
       " <p><b>How do you manage this as a CIO?</b></p>,\n",
       " <p>Most software downloads are done by the [end users]. There's lots of self-service. If they need help, we have drop in centres called 'Tech Stops' where we have broadly skilled people - more skilled than you might find at most help desk centres.</p>,\n",
       " <p>We expect our people to be pretty deep experts on infrastructure. And we have application developers and other programmers who can help with Google Apps and other application support.</p>,\n",
       " <p><b>How many people support the Google IT operations?</b></p>,\n",
       " <p>We don't really think about things that way. In some respects, everybody here supports IT operations in some way. We have numbers like support people per office, but the numbers are kind of hard to compare to other businesses because we have lots more offices than most organisations.</p>,\n",
       " <p>I have like 100 offices worldwide. Our ratios [of employees per IT support person] are strange because most of the support is done by people themselves.</p>,\n",
       " <p></p>,\n",
       " <p>Join the <a href=\"http://www.linkedin.com/groups?mostPopular=&amp;gid=3096778\">CIO Australia group on LinkedIn</a>. The group is open to CIOs, IT Directors, COOs, CTOs and senior IT managers.</p>,\n",
       " <p>Sign up to gain exclusive access to email subscriptions, event invitations, competitions, giveaways, and much more.</p>,\n",
       " <p>Membership is free, and your security and privacy remain protected. View our <a href=\"/privacy/\">privacy policy</a> before signing up.</p>,\n",
       " <p class=\"tags companies\">\n",
       "       More about <a href=\"/company/charles_schwab/\">Charles Schwab</a><a href=\"/company/google/\">Google</a><a href=\"/company/microsoft/\">Microsoft</a><a href=\"/company/schwab/\">Schwab</a>\n",
       " </p>]"
      ]
     },
     "execution_count": 141,
     "metadata": {},
     "output_type": "execute_result"
    }
   ],
   "source": [
    "get_para(page_html)"
   ]
  },
  {
   "cell_type": "markdown",
   "metadata": {},
   "source": [
    "## Function to have whole set of paragraphs "
   ]
  },
  {
   "cell_type": "code",
   "execution_count": 149,
   "metadata": {},
   "outputs": [],
   "source": [
    "para = []\n",
    "\n",
    "for page in range (1,4):\n",
    "    url = 'https://www.cio.com.au/article/212876/interview_douglas_merrill_former_google_cio/?' + 'pp' + '=' + str(page)\n",
    "    \n",
    "    #Open the page and grab the HTML\n",
    "    page = requests.get(url)\n",
    "    page_html = page.text\n",
    "    \n",
    "    #Extract the headlines\n",
    "    new_para = get_para(page_html) \n",
    "\n",
    "    #Add them to our headline list\n",
    "    para.append(new_para)\n",
    "    \n",
    "    #Rest\n",
    "    sleep(1)\n",
    "   "
   ]
  },
  {
   "cell_type": "markdown",
   "metadata": {},
   "source": [
    "## Transfer paragraphs to pandas dataframe "
   ]
  },
  {
   "cell_type": "code",
   "execution_count": 155,
   "metadata": {},
   "outputs": [
    {
     "data": {
      "text/plain": [
       "[[<p>Merrill spoke to us before he announcing his move from the search giant.</p>,\n",
       "  <p><b>You joined Google as senior director of information systems in late 2003. How did you land the job?</b></p>,\n",
       "  <p>I spent four years or so at <a href=\"http://www.schwab.com/\" target=\"_blank\">Charles Schwab &amp; Co</a> doing a bunch of different things, including head of infrastructure, head of security for a while, and then I left technology for a year or two as head of HR strategy.</p>,\n",
       "  <p>My background is a mixture of process, people and technology. [Merrill holds a BA from the <a href=\"http://www.utulsa.edu/\" target=\"_blank\">University of Tulsa</a> in social and political organisation and an MA and a PhD in psychology from <a href=\"http://www.princeton.edu/\" target=\"_blank\">Princeton University</a>.]</p>,\n",
       "  <p>At Google, they were just getting ready to think about going public and [Google co-founder and President] Larry [Page] had some interesting ideas. I had this background, and I was a licensed broker, so I understood how the public-offering process worked. The rest is history, as it were.</p>,\n",
       "  <p><b>I've read that Google doesn't have an IT organisation that's structured like that at most companies. How is it configured?</b></p>,\n",
       "  <p>We have a pretty heavy reliance on decentralisation, so people have a lot of control to do what they want. Our motto is \"Choice, not control\". I try to make it possible for all Googlers to have all the hardware and control that they want.</p>,\n",
       "  <p>Mostly, what I try to do is make it possible for our engineers and product managers to use the tools that they want, whether it's PC and [Microsoft] Exchange or whatever they choose. What matters is productivity and creativity.</p>,\n",
       "  <p><b>How do you manage this as a CIO?</b></p>,\n",
       "  <p>Most software downloads are done by the [end users]. There's lots of self-service. If they need help, we have drop in centres called 'Tech Stops' where we have broadly skilled people - more skilled than you might find at most help desk centres.</p>,\n",
       "  <p>We expect our people to be pretty deep experts on infrastructure. And we have application developers and other programmers who can help with Google Apps and other application support.</p>,\n",
       "  <p><b>How many people support the Google IT operations?</b></p>,\n",
       "  <p>We don't really think about things that way. In some respects, everybody here supports IT operations in some way. We have numbers like support people per office, but the numbers are kind of hard to compare to other businesses because we have lots more offices than most organisations.</p>,\n",
       "  <p>I have like 100 offices worldwide. Our ratios [of employees per IT support person] are strange because most of the support is done by people themselves.</p>,\n",
       "  <p></p>,\n",
       "  <p>Join the <a href=\"http://www.linkedin.com/groups?mostPopular=&amp;gid=3096778\">CIO Australia group on LinkedIn</a>. The group is open to CIOs, IT Directors, COOs, CTOs and senior IT managers.</p>,\n",
       "  <p>Sign up to gain exclusive access to email subscriptions, event invitations, competitions, giveaways, and much more.</p>,\n",
       "  <p>Membership is free, and your security and privacy remain protected. View our <a href=\"/privacy/\">privacy policy</a> before signing up.</p>,\n",
       "  <p class=\"tags companies\">\n",
       "        More about <a href=\"/company/charles_schwab/\">Charles Schwab</a><a href=\"/company/google/\">Google</a><a href=\"/company/microsoft/\">Microsoft</a><a href=\"/company/schwab/\">Schwab</a>\n",
       "  </p>],\n",
       " [<p><b>Google is building multiple data centres in seemingly out-of-the-way places in the US and elsewhere. What's the strategy behind this?</b></p>,\n",
       "  <p>Google tries to focus very heavily on responding to user queries. We can produce about 10 results in 250 milliseconds. We try very, very hard to provide lightning-fast response, and we have thousands of machines worldwide to support those response rates.</p>,\n",
       "  <p>As we increase our clouds worldwide, there are incredible benefits to users.</p>,\n",
       "  <p><b>Can you explain what some experts call the Google unique server design?</b></p>,\n",
       "  <p>We build our own hardware. We do that because we're very, very cheap and we have unusual demands. We use consumer-grade hard drives where most businesses use more expensive, higher-availability hardware. We expect it to break, and when it does, we have file systems and backups, which make it less [likely] to be noticed by users.</p>,\n",
       "  <p>We also have switchable power supplies. We know what voltage goes into our machines. We do lots of other designs like that to make our hardware more economical and more environmentally friendly.</p>,\n",
       "  <p><b>Google now spends more money on power than it does on the capital costs over the lives of these machines. What steps have been take to make the server farms more energy efficient?</b></p>,\n",
       "  <p>One is using [switchable] power supplies. We also do circuit designs to make the machines more efficient. We're trying to make our server farms as efficient as possible, in terms of heat dissipation and with as little cooling required as needed.</p>,\n",
       "  <p><b>What are some sources of green power that Google is utilising?</b></p>,\n",
       "  <p>Look at our public announcements. We don't directly say which of those sources are currently used in our data centre. We've markedly reduced our carbon footprint. [Note: Last spring, Google announced its intention to become carbon-neutral, and the company claims that it's on track toward meeting those goals.]</p>,\n",
       "  <p><b>What are the biggest misconceptions that people outside of the company have about your role at Google?</b></p>,\n",
       "  <p>Usually when I'm at a cocktail party, it's not so much about what I do for a living as it is about people who talk about their love of Google. They mostly express how excited they are about using our products and how they use them.</p>,\n",
       "  <p></p>,\n",
       "  <p>Join the <a href=\"http://www.linkedin.com/groups?mostPopular=&amp;gid=3096778\">CIO Australia group on LinkedIn</a>. The group is open to CIOs, IT Directors, COOs, CTOs and senior IT managers.</p>,\n",
       "  <p>Sign up to gain exclusive access to email subscriptions, event invitations, competitions, giveaways, and much more.</p>,\n",
       "  <p>Membership is free, and your security and privacy remain protected. View our <a href=\"/privacy/\">privacy policy</a> before signing up.</p>,\n",
       "  <p class=\"tags companies\">\n",
       "        More about <a href=\"/company/charles_schwab/\">Charles Schwab</a><a href=\"/company/google/\">Google</a><a href=\"/company/microsoft/\">Microsoft</a><a href=\"/company/schwab/\">Schwab</a>\n",
       "  </p>],\n",
       " [<p><b>What is the most exasperating question that people outside of Google ask you?</b></p>,\n",
       "  <p>\"When are you going to release Product X?\" Because people are so excited about the products we have, and there's so much creativity coming out of Google engineering, they want to know when we're going to release this function or that.</p>,\n",
       "  <p>And I can't answer. We just have so much work being done in our engineering labs.</p>,\n",
       "  <p>And even if I knew, I still couldn't answer. There's so much innovation happening all the time, you don't know the next big thing that's going to happen. It's a really cool problem to have.</p>,\n",
       "  <p><b>How do CIOs need to change their approach?</b></p>,\n",
       "  <p>The language we're using in the job must change. Increasingly, I don't think there's a meaningful distinction between technology and the business. It hasn't always been true. If you look at a company like Google, there's no distinction, but we're a technology company, so that kind of makes sense.</p>,\n",
       "  <p>I think CIOs [need to] think about aligning with the business and really think about ourselves as being CIOs in the business. [CIOs should be] less budget-focused.</p>,\n",
       "  <p><b>So how do CIOs make that transition?</b></p>,\n",
       "  <p>We have to admit that there's a problem. We have to reward talent in the organisation for taking risks and applying all of the innovation that's available to us and being truly a business function.</p>,\n",
       "  <p><b>How do you see your own role evolving?</b></p>,\n",
       "  <p>I feel like every three to six months I'm in a different job. Change is fast here. I can't predict what will happen down the road, but what I spend my time doing today won't be what I'm doing this summer or in the fall.</p>,\n",
       "  <p><b>What are some of the things that concern you lately?</b></p>,\n",
       "  <p>At the highest level, it's not that much different from anyone else, to make my employees as productive as possible; for anyone who needs help, get it to them quickly; to make it possible for our users at Google Checkout to feel secure to buy from different merchants; and to support the growth of Google Apps.</p>,\n",
       "  <p>When I go to speak with CEOs of Fortune 1,000 companies, I say \"Here's how we run our company using Google Apps. Why don't you try it, too?\"</p>,\n",
       "  <p>Join the <a href=\"http://www.linkedin.com/groups?mostPopular=&amp;gid=3096778\">CIO Australia group on LinkedIn</a>. The group is open to CIOs, IT Directors, COOs, CTOs and senior IT managers.</p>,\n",
       "  <p>Sign up to gain exclusive access to email subscriptions, event invitations, competitions, giveaways, and much more.</p>,\n",
       "  <p>Membership is free, and your security and privacy remain protected. View our <a href=\"/privacy/\">privacy policy</a> before signing up.</p>,\n",
       "  <p class=\"tags companies\">\n",
       "        More about <a href=\"/company/charles_schwab/\">Charles Schwab</a><a href=\"/company/google/\">Google</a><a href=\"/company/microsoft/\">Microsoft</a><a href=\"/company/schwab/\">Schwab</a>\n",
       "  </p>]]"
      ]
     },
     "execution_count": 155,
     "metadata": {},
     "output_type": "execute_result"
    }
   ],
   "source": [
    "para"
   ]
  },
  {
   "cell_type": "code",
   "execution_count": 160,
   "metadata": {},
   "outputs": [],
   "source": [
    "para = ' '.join(str(para) for para in para)"
   ]
  },
  {
   "cell_type": "code",
   "execution_count": 162,
   "metadata": {},
   "outputs": [],
   "source": [
    "table = re.findall('<p>(.*?)<\\/p>', para)"
   ]
  },
  {
   "cell_type": "code",
   "execution_count": 93,
   "metadata": {},
   "outputs": [],
   "source": [
    "## paragraphs = re.findall('\\s+[^.!?]*[.!?]', para)"
   ]
  },
  {
   "cell_type": "code",
   "execution_count": 163,
   "metadata": {},
   "outputs": [],
   "source": [
    "table = pd.DataFrame(table, columns = ['C'])"
   ]
  },
  {
   "cell_type": "code",
   "execution_count": 168,
   "metadata": {},
   "outputs": [
    {
     "data": {
      "text/html": [
       "<div>\n",
       "<style scoped>\n",
       "    .dataframe tbody tr th:only-of-type {\n",
       "        vertical-align: middle;\n",
       "    }\n",
       "\n",
       "    .dataframe tbody tr th {\n",
       "        vertical-align: top;\n",
       "    }\n",
       "\n",
       "    .dataframe thead th {\n",
       "        text-align: right;\n",
       "    }\n",
       "</style>\n",
       "<table border=\"1\" class=\"dataframe\">\n",
       "  <thead>\n",
       "    <tr style=\"text-align: right;\">\n",
       "      <th></th>\n",
       "      <th>C</th>\n",
       "    </tr>\n",
       "  </thead>\n",
       "  <tbody>\n",
       "    <tr>\n",
       "      <th>1</th>\n",
       "      <td>&lt;b&gt;You joined Google as senior director of information systems in late 2003. How did you land the job?&lt;/b&gt;</td>\n",
       "    </tr>\n",
       "    <tr>\n",
       "      <th>2</th>\n",
       "      <td>I spent four years or so at &lt;a href=\"http://www.schwab.com/\" target=\"_blank\"&gt;Charles Schwab &amp;amp; Co&lt;/a&gt; doing a bun...</td>\n",
       "    </tr>\n",
       "    <tr>\n",
       "      <th>3</th>\n",
       "      <td>My background is a mixture of process, people and technology. [Merrill holds a BA from the &lt;a href=\"http://www.utuls...</td>\n",
       "    </tr>\n",
       "    <tr>\n",
       "      <th>4</th>\n",
       "      <td>At Google, they were just getting ready to think about going public and [Google co-founder and President] Larry [Pag...</td>\n",
       "    </tr>\n",
       "    <tr>\n",
       "      <th>5</th>\n",
       "      <td>&lt;b&gt;I've read that Google doesn't have an IT organisation that's structured like that at most companies. How is it co...</td>\n",
       "    </tr>\n",
       "    <tr>\n",
       "      <th>6</th>\n",
       "      <td>We have a pretty heavy reliance on decentralisation, so people have a lot of control to do what they want. Our motto...</td>\n",
       "    </tr>\n",
       "    <tr>\n",
       "      <th>7</th>\n",
       "      <td>Mostly, what I try to do is make it possible for our engineers and product managers to use the tools that they want,...</td>\n",
       "    </tr>\n",
       "    <tr>\n",
       "      <th>8</th>\n",
       "      <td>&lt;b&gt;How do you manage this as a CIO?&lt;/b&gt;</td>\n",
       "    </tr>\n",
       "    <tr>\n",
       "      <th>9</th>\n",
       "      <td>Most software downloads are done by the [end users]. There's lots of self-service. If they need help, we have drop i...</td>\n",
       "    </tr>\n",
       "    <tr>\n",
       "      <th>10</th>\n",
       "      <td>We expect our people to be pretty deep experts on infrastructure. And we have application developers and other progr...</td>\n",
       "    </tr>\n",
       "    <tr>\n",
       "      <th>11</th>\n",
       "      <td>&lt;b&gt;How many people support the Google IT operations?&lt;/b&gt;</td>\n",
       "    </tr>\n",
       "    <tr>\n",
       "      <th>12</th>\n",
       "      <td>We don't really think about things that way. In some respects, everybody here supports IT operations in some way. We...</td>\n",
       "    </tr>\n",
       "    <tr>\n",
       "      <th>13</th>\n",
       "      <td>I have like 100 offices worldwide. Our ratios [of employees per IT support person] are strange because most of the s...</td>\n",
       "    </tr>\n",
       "    <tr>\n",
       "      <th>14</th>\n",
       "      <td></td>\n",
       "    </tr>\n",
       "    <tr>\n",
       "      <th>15</th>\n",
       "      <td>Join the &lt;a href=\"http://www.linkedin.com/groups?mostPopular=&amp;amp;gid=3096778\"&gt;CIO Australia group on LinkedIn&lt;/a&gt;. ...</td>\n",
       "    </tr>\n",
       "    <tr>\n",
       "      <th>16</th>\n",
       "      <td>Sign up to gain exclusive access to email subscriptions, event invitations, competitions, giveaways, and much more.</td>\n",
       "    </tr>\n",
       "    <tr>\n",
       "      <th>17</th>\n",
       "      <td>Membership is free, and your security and privacy remain protected. View our &lt;a href=\"/privacy/\"&gt;privacy policy&lt;/a&gt; ...</td>\n",
       "    </tr>\n",
       "    <tr>\n",
       "      <th>18</th>\n",
       "      <td>&lt;b&gt;Google is building multiple data centres in seemingly out-of-the-way places in the US and elsewhere. What's the s...</td>\n",
       "    </tr>\n",
       "    <tr>\n",
       "      <th>19</th>\n",
       "      <td>Google tries to focus very heavily on responding to user queries. We can produce about 10 results in 250 millisecond...</td>\n",
       "    </tr>\n",
       "    <tr>\n",
       "      <th>20</th>\n",
       "      <td>As we increase our clouds worldwide, there are incredible benefits to users.</td>\n",
       "    </tr>\n",
       "    <tr>\n",
       "      <th>21</th>\n",
       "      <td>&lt;b&gt;Can you explain what some experts call the Google unique server design?&lt;/b&gt;</td>\n",
       "    </tr>\n",
       "    <tr>\n",
       "      <th>22</th>\n",
       "      <td>We build our own hardware. We do that because we're very, very cheap and we have unusual demands. We use consumer-gr...</td>\n",
       "    </tr>\n",
       "    <tr>\n",
       "      <th>23</th>\n",
       "      <td>We also have switchable power supplies. We know what voltage goes into our machines. We do lots of other designs lik...</td>\n",
       "    </tr>\n",
       "    <tr>\n",
       "      <th>24</th>\n",
       "      <td>&lt;b&gt;Google now spends more money on power than it does on the capital costs over the lives of these machines. What st...</td>\n",
       "    </tr>\n",
       "    <tr>\n",
       "      <th>25</th>\n",
       "      <td>One is using [switchable] power supplies. We also do circuit designs to make the machines more efficient. We're tryi...</td>\n",
       "    </tr>\n",
       "    <tr>\n",
       "      <th>26</th>\n",
       "      <td>&lt;b&gt;What are some sources of green power that Google is utilising?&lt;/b&gt;</td>\n",
       "    </tr>\n",
       "    <tr>\n",
       "      <th>27</th>\n",
       "      <td>Look at our public announcements. We don't directly say which of those sources are currently used in our data centre...</td>\n",
       "    </tr>\n",
       "    <tr>\n",
       "      <th>28</th>\n",
       "      <td>&lt;b&gt;What are the biggest misconceptions that people outside of the company have about your role at Google?&lt;/b&gt;</td>\n",
       "    </tr>\n",
       "    <tr>\n",
       "      <th>29</th>\n",
       "      <td>Usually when I'm at a cocktail party, it's not so much about what I do for a living as it is about people who talk a...</td>\n",
       "    </tr>\n",
       "    <tr>\n",
       "      <th>30</th>\n",
       "      <td></td>\n",
       "    </tr>\n",
       "    <tr>\n",
       "      <th>31</th>\n",
       "      <td>Join the &lt;a href=\"http://www.linkedin.com/groups?mostPopular=&amp;amp;gid=3096778\"&gt;CIO Australia group on LinkedIn&lt;/a&gt;. ...</td>\n",
       "    </tr>\n",
       "    <tr>\n",
       "      <th>32</th>\n",
       "      <td>Sign up to gain exclusive access to email subscriptions, event invitations, competitions, giveaways, and much more.</td>\n",
       "    </tr>\n",
       "    <tr>\n",
       "      <th>33</th>\n",
       "      <td>Membership is free, and your security and privacy remain protected. View our &lt;a href=\"/privacy/\"&gt;privacy policy&lt;/a&gt; ...</td>\n",
       "    </tr>\n",
       "    <tr>\n",
       "      <th>34</th>\n",
       "      <td>&lt;b&gt;What is the most exasperating question that people outside of Google ask you?&lt;/b&gt;</td>\n",
       "    </tr>\n",
       "    <tr>\n",
       "      <th>35</th>\n",
       "      <td>\"When are you going to release Product X?\" Because people are so excited about the products we have, and there's so ...</td>\n",
       "    </tr>\n",
       "    <tr>\n",
       "      <th>36</th>\n",
       "      <td>And I can't answer. We just have so much work being done in our engineering labs.</td>\n",
       "    </tr>\n",
       "    <tr>\n",
       "      <th>37</th>\n",
       "      <td>And even if I knew, I still couldn't answer. There's so much innovation happening all the time, you don't know the n...</td>\n",
       "    </tr>\n",
       "    <tr>\n",
       "      <th>38</th>\n",
       "      <td>&lt;b&gt;How do CIOs need to change their approach?&lt;/b&gt;</td>\n",
       "    </tr>\n",
       "    <tr>\n",
       "      <th>39</th>\n",
       "      <td>The language we're using in the job must change. Increasingly, I don't think there's a meaningful distinction betwee...</td>\n",
       "    </tr>\n",
       "    <tr>\n",
       "      <th>40</th>\n",
       "      <td>I think CIOs [need to] think about aligning with the business and really think about ourselves as being CIOs in the ...</td>\n",
       "    </tr>\n",
       "    <tr>\n",
       "      <th>41</th>\n",
       "      <td>&lt;b&gt;So how do CIOs make that transition?&lt;/b&gt;</td>\n",
       "    </tr>\n",
       "    <tr>\n",
       "      <th>42</th>\n",
       "      <td>We have to admit that there's a problem. We have to reward talent in the organisation for taking risks and applying ...</td>\n",
       "    </tr>\n",
       "    <tr>\n",
       "      <th>43</th>\n",
       "      <td>&lt;b&gt;How do you see your own role evolving?&lt;/b&gt;</td>\n",
       "    </tr>\n",
       "    <tr>\n",
       "      <th>44</th>\n",
       "      <td>I feel like every three to six months I'm in a different job. Change is fast here. I can't predict what will happen ...</td>\n",
       "    </tr>\n",
       "    <tr>\n",
       "      <th>45</th>\n",
       "      <td>&lt;b&gt;What are some of the things that concern you lately?&lt;/b&gt;</td>\n",
       "    </tr>\n",
       "    <tr>\n",
       "      <th>46</th>\n",
       "      <td>At the highest level, it's not that much different from anyone else, to make my employees as productive as possible;...</td>\n",
       "    </tr>\n",
       "    <tr>\n",
       "      <th>47</th>\n",
       "      <td>When I go to speak with CEOs of Fortune 1,000 companies, I say \"Here's how we run our company using Google Apps. Why...</td>\n",
       "    </tr>\n",
       "  </tbody>\n",
       "</table>\n",
       "</div>"
      ],
      "text/plain": [
       "                                                                                                                          C\n",
       "1                <b>You joined Google as senior director of information systems in late 2003. How did you land the job?</b>\n",
       "2   I spent four years or so at <a href=\"http://www.schwab.com/\" target=\"_blank\">Charles Schwab &amp; Co</a> doing a bun...\n",
       "3   My background is a mixture of process, people and technology. [Merrill holds a BA from the <a href=\"http://www.utuls...\n",
       "4   At Google, they were just getting ready to think about going public and [Google co-founder and President] Larry [Pag...\n",
       "5   <b>I've read that Google doesn't have an IT organisation that's structured like that at most companies. How is it co...\n",
       "6   We have a pretty heavy reliance on decentralisation, so people have a lot of control to do what they want. Our motto...\n",
       "7   Mostly, what I try to do is make it possible for our engineers and product managers to use the tools that they want,...\n",
       "8                                                                                   <b>How do you manage this as a CIO?</b>\n",
       "9   Most software downloads are done by the [end users]. There's lots of self-service. If they need help, we have drop i...\n",
       "10  We expect our people to be pretty deep experts on infrastructure. And we have application developers and other progr...\n",
       "11                                                                 <b>How many people support the Google IT operations?</b>\n",
       "12  We don't really think about things that way. In some respects, everybody here supports IT operations in some way. We...\n",
       "13  I have like 100 offices worldwide. Our ratios [of employees per IT support person] are strange because most of the s...\n",
       "14                                                                                                                         \n",
       "15  Join the <a href=\"http://www.linkedin.com/groups?mostPopular=&amp;gid=3096778\">CIO Australia group on LinkedIn</a>. ...\n",
       "16      Sign up to gain exclusive access to email subscriptions, event invitations, competitions, giveaways, and much more.\n",
       "17  Membership is free, and your security and privacy remain protected. View our <a href=\"/privacy/\">privacy policy</a> ...\n",
       "18  <b>Google is building multiple data centres in seemingly out-of-the-way places in the US and elsewhere. What's the s...\n",
       "19  Google tries to focus very heavily on responding to user queries. We can produce about 10 results in 250 millisecond...\n",
       "20                                             As we increase our clouds worldwide, there are incredible benefits to users.\n",
       "21                                           <b>Can you explain what some experts call the Google unique server design?</b>\n",
       "22  We build our own hardware. We do that because we're very, very cheap and we have unusual demands. We use consumer-gr...\n",
       "23  We also have switchable power supplies. We know what voltage goes into our machines. We do lots of other designs lik...\n",
       "24  <b>Google now spends more money on power than it does on the capital costs over the lives of these machines. What st...\n",
       "25  One is using [switchable] power supplies. We also do circuit designs to make the machines more efficient. We're tryi...\n",
       "26                                                    <b>What are some sources of green power that Google is utilising?</b>\n",
       "27  Look at our public announcements. We don't directly say which of those sources are currently used in our data centre...\n",
       "28            <b>What are the biggest misconceptions that people outside of the company have about your role at Google?</b>\n",
       "29  Usually when I'm at a cocktail party, it's not so much about what I do for a living as it is about people who talk a...\n",
       "30                                                                                                                         \n",
       "31  Join the <a href=\"http://www.linkedin.com/groups?mostPopular=&amp;gid=3096778\">CIO Australia group on LinkedIn</a>. ...\n",
       "32      Sign up to gain exclusive access to email subscriptions, event invitations, competitions, giveaways, and much more.\n",
       "33  Membership is free, and your security and privacy remain protected. View our <a href=\"/privacy/\">privacy policy</a> ...\n",
       "34                                     <b>What is the most exasperating question that people outside of Google ask you?</b>\n",
       "35  \"When are you going to release Product X?\" Because people are so excited about the products we have, and there's so ...\n",
       "36                                        And I can't answer. We just have so much work being done in our engineering labs.\n",
       "37  And even if I knew, I still couldn't answer. There's so much innovation happening all the time, you don't know the n...\n",
       "38                                                                        <b>How do CIOs need to change their approach?</b>\n",
       "39  The language we're using in the job must change. Increasingly, I don't think there's a meaningful distinction betwee...\n",
       "40  I think CIOs [need to] think about aligning with the business and really think about ourselves as being CIOs in the ...\n",
       "41                                                                              <b>So how do CIOs make that transition?</b>\n",
       "42  We have to admit that there's a problem. We have to reward talent in the organisation for taking risks and applying ...\n",
       "43                                                                            <b>How do you see your own role evolving?</b>\n",
       "44  I feel like every three to six months I'm in a different job. Change is fast here. I can't predict what will happen ...\n",
       "45                                                              <b>What are some of the things that concern you lately?</b>\n",
       "46  At the highest level, it's not that much different from anyone else, to make my employees as productive as possible;...\n",
       "47  When I go to speak with CEOs of Fortune 1,000 companies, I say \"Here's how we run our company using Google Apps. Why..."
      ]
     },
     "execution_count": 168,
     "metadata": {},
     "output_type": "execute_result"
    }
   ],
   "source": [
    "table"
   ]
  },
  {
   "cell_type": "code",
   "execution_count": 165,
   "metadata": {},
   "outputs": [],
   "source": [
    "table = table[:-3].copy()"
   ]
  },
  {
   "cell_type": "code",
   "execution_count": 167,
   "metadata": {},
   "outputs": [],
   "source": [
    "table = table[1:].copy()"
   ]
  },
  {
   "cell_type": "code",
   "execution_count": 170,
   "metadata": {},
   "outputs": [],
   "source": [
    "table = table[table.C.str.contains(r'<b>.*?<\\/b>') == False].copy()\n",
    "# <b><i>(.*?)<\\/i><\\/b>\n",
    "# <b>On a day in the life of a well-known designer:<br></b>\n",
    "# <strong>ET:    \n",
    "# <b></b>\n",
    "# <span class=\"answer\"> </span>\n",
    "# <strong>.*?</strong> <em>"
   ]
  },
  {
   "cell_type": "code",
   "execution_count": 171,
   "metadata": {},
   "outputs": [
    {
     "data": {
      "text/html": [
       "<div>\n",
       "<style scoped>\n",
       "    .dataframe tbody tr th:only-of-type {\n",
       "        vertical-align: middle;\n",
       "    }\n",
       "\n",
       "    .dataframe tbody tr th {\n",
       "        vertical-align: top;\n",
       "    }\n",
       "\n",
       "    .dataframe thead th {\n",
       "        text-align: right;\n",
       "    }\n",
       "</style>\n",
       "<table border=\"1\" class=\"dataframe\">\n",
       "  <thead>\n",
       "    <tr style=\"text-align: right;\">\n",
       "      <th></th>\n",
       "      <th>C</th>\n",
       "    </tr>\n",
       "  </thead>\n",
       "  <tbody>\n",
       "    <tr>\n",
       "      <th>2</th>\n",
       "      <td>I spent four years or so at &lt;a href=\"http://www.schwab.com/\" target=\"_blank\"&gt;Charles Schwab &amp;amp; Co&lt;/a&gt; doing a bun...</td>\n",
       "    </tr>\n",
       "    <tr>\n",
       "      <th>3</th>\n",
       "      <td>My background is a mixture of process, people and technology. [Merrill holds a BA from the &lt;a href=\"http://www.utuls...</td>\n",
       "    </tr>\n",
       "    <tr>\n",
       "      <th>4</th>\n",
       "      <td>At Google, they were just getting ready to think about going public and [Google co-founder and President] Larry [Pag...</td>\n",
       "    </tr>\n",
       "    <tr>\n",
       "      <th>6</th>\n",
       "      <td>We have a pretty heavy reliance on decentralisation, so people have a lot of control to do what they want. Our motto...</td>\n",
       "    </tr>\n",
       "    <tr>\n",
       "      <th>7</th>\n",
       "      <td>Mostly, what I try to do is make it possible for our engineers and product managers to use the tools that they want,...</td>\n",
       "    </tr>\n",
       "    <tr>\n",
       "      <th>9</th>\n",
       "      <td>Most software downloads are done by the [end users]. There's lots of self-service. If they need help, we have drop i...</td>\n",
       "    </tr>\n",
       "    <tr>\n",
       "      <th>10</th>\n",
       "      <td>We expect our people to be pretty deep experts on infrastructure. And we have application developers and other progr...</td>\n",
       "    </tr>\n",
       "    <tr>\n",
       "      <th>12</th>\n",
       "      <td>We don't really think about things that way. In some respects, everybody here supports IT operations in some way. We...</td>\n",
       "    </tr>\n",
       "    <tr>\n",
       "      <th>13</th>\n",
       "      <td>I have like 100 offices worldwide. Our ratios [of employees per IT support person] are strange because most of the s...</td>\n",
       "    </tr>\n",
       "    <tr>\n",
       "      <th>14</th>\n",
       "      <td></td>\n",
       "    </tr>\n",
       "    <tr>\n",
       "      <th>15</th>\n",
       "      <td>Join the &lt;a href=\"http://www.linkedin.com/groups?mostPopular=&amp;amp;gid=3096778\"&gt;CIO Australia group on LinkedIn&lt;/a&gt;. ...</td>\n",
       "    </tr>\n",
       "    <tr>\n",
       "      <th>16</th>\n",
       "      <td>Sign up to gain exclusive access to email subscriptions, event invitations, competitions, giveaways, and much more.</td>\n",
       "    </tr>\n",
       "    <tr>\n",
       "      <th>17</th>\n",
       "      <td>Membership is free, and your security and privacy remain protected. View our &lt;a href=\"/privacy/\"&gt;privacy policy&lt;/a&gt; ...</td>\n",
       "    </tr>\n",
       "    <tr>\n",
       "      <th>19</th>\n",
       "      <td>Google tries to focus very heavily on responding to user queries. We can produce about 10 results in 250 millisecond...</td>\n",
       "    </tr>\n",
       "    <tr>\n",
       "      <th>20</th>\n",
       "      <td>As we increase our clouds worldwide, there are incredible benefits to users.</td>\n",
       "    </tr>\n",
       "    <tr>\n",
       "      <th>22</th>\n",
       "      <td>We build our own hardware. We do that because we're very, very cheap and we have unusual demands. We use consumer-gr...</td>\n",
       "    </tr>\n",
       "    <tr>\n",
       "      <th>23</th>\n",
       "      <td>We also have switchable power supplies. We know what voltage goes into our machines. We do lots of other designs lik...</td>\n",
       "    </tr>\n",
       "    <tr>\n",
       "      <th>25</th>\n",
       "      <td>One is using [switchable] power supplies. We also do circuit designs to make the machines more efficient. We're tryi...</td>\n",
       "    </tr>\n",
       "    <tr>\n",
       "      <th>27</th>\n",
       "      <td>Look at our public announcements. We don't directly say which of those sources are currently used in our data centre...</td>\n",
       "    </tr>\n",
       "    <tr>\n",
       "      <th>29</th>\n",
       "      <td>Usually when I'm at a cocktail party, it's not so much about what I do for a living as it is about people who talk a...</td>\n",
       "    </tr>\n",
       "    <tr>\n",
       "      <th>30</th>\n",
       "      <td></td>\n",
       "    </tr>\n",
       "    <tr>\n",
       "      <th>31</th>\n",
       "      <td>Join the &lt;a href=\"http://www.linkedin.com/groups?mostPopular=&amp;amp;gid=3096778\"&gt;CIO Australia group on LinkedIn&lt;/a&gt;. ...</td>\n",
       "    </tr>\n",
       "    <tr>\n",
       "      <th>32</th>\n",
       "      <td>Sign up to gain exclusive access to email subscriptions, event invitations, competitions, giveaways, and much more.</td>\n",
       "    </tr>\n",
       "    <tr>\n",
       "      <th>33</th>\n",
       "      <td>Membership is free, and your security and privacy remain protected. View our &lt;a href=\"/privacy/\"&gt;privacy policy&lt;/a&gt; ...</td>\n",
       "    </tr>\n",
       "    <tr>\n",
       "      <th>35</th>\n",
       "      <td>\"When are you going to release Product X?\" Because people are so excited about the products we have, and there's so ...</td>\n",
       "    </tr>\n",
       "    <tr>\n",
       "      <th>36</th>\n",
       "      <td>And I can't answer. We just have so much work being done in our engineering labs.</td>\n",
       "    </tr>\n",
       "    <tr>\n",
       "      <th>37</th>\n",
       "      <td>And even if I knew, I still couldn't answer. There's so much innovation happening all the time, you don't know the n...</td>\n",
       "    </tr>\n",
       "    <tr>\n",
       "      <th>39</th>\n",
       "      <td>The language we're using in the job must change. Increasingly, I don't think there's a meaningful distinction betwee...</td>\n",
       "    </tr>\n",
       "    <tr>\n",
       "      <th>40</th>\n",
       "      <td>I think CIOs [need to] think about aligning with the business and really think about ourselves as being CIOs in the ...</td>\n",
       "    </tr>\n",
       "    <tr>\n",
       "      <th>42</th>\n",
       "      <td>We have to admit that there's a problem. We have to reward talent in the organisation for taking risks and applying ...</td>\n",
       "    </tr>\n",
       "    <tr>\n",
       "      <th>44</th>\n",
       "      <td>I feel like every three to six months I'm in a different job. Change is fast here. I can't predict what will happen ...</td>\n",
       "    </tr>\n",
       "    <tr>\n",
       "      <th>46</th>\n",
       "      <td>At the highest level, it's not that much different from anyone else, to make my employees as productive as possible;...</td>\n",
       "    </tr>\n",
       "    <tr>\n",
       "      <th>47</th>\n",
       "      <td>When I go to speak with CEOs of Fortune 1,000 companies, I say \"Here's how we run our company using Google Apps. Why...</td>\n",
       "    </tr>\n",
       "  </tbody>\n",
       "</table>\n",
       "</div>"
      ],
      "text/plain": [
       "                                                                                                                          C\n",
       "2   I spent four years or so at <a href=\"http://www.schwab.com/\" target=\"_blank\">Charles Schwab &amp; Co</a> doing a bun...\n",
       "3   My background is a mixture of process, people and technology. [Merrill holds a BA from the <a href=\"http://www.utuls...\n",
       "4   At Google, they were just getting ready to think about going public and [Google co-founder and President] Larry [Pag...\n",
       "6   We have a pretty heavy reliance on decentralisation, so people have a lot of control to do what they want. Our motto...\n",
       "7   Mostly, what I try to do is make it possible for our engineers and product managers to use the tools that they want,...\n",
       "9   Most software downloads are done by the [end users]. There's lots of self-service. If they need help, we have drop i...\n",
       "10  We expect our people to be pretty deep experts on infrastructure. And we have application developers and other progr...\n",
       "12  We don't really think about things that way. In some respects, everybody here supports IT operations in some way. We...\n",
       "13  I have like 100 offices worldwide. Our ratios [of employees per IT support person] are strange because most of the s...\n",
       "14                                                                                                                         \n",
       "15  Join the <a href=\"http://www.linkedin.com/groups?mostPopular=&amp;gid=3096778\">CIO Australia group on LinkedIn</a>. ...\n",
       "16      Sign up to gain exclusive access to email subscriptions, event invitations, competitions, giveaways, and much more.\n",
       "17  Membership is free, and your security and privacy remain protected. View our <a href=\"/privacy/\">privacy policy</a> ...\n",
       "19  Google tries to focus very heavily on responding to user queries. We can produce about 10 results in 250 millisecond...\n",
       "20                                             As we increase our clouds worldwide, there are incredible benefits to users.\n",
       "22  We build our own hardware. We do that because we're very, very cheap and we have unusual demands. We use consumer-gr...\n",
       "23  We also have switchable power supplies. We know what voltage goes into our machines. We do lots of other designs lik...\n",
       "25  One is using [switchable] power supplies. We also do circuit designs to make the machines more efficient. We're tryi...\n",
       "27  Look at our public announcements. We don't directly say which of those sources are currently used in our data centre...\n",
       "29  Usually when I'm at a cocktail party, it's not so much about what I do for a living as it is about people who talk a...\n",
       "30                                                                                                                         \n",
       "31  Join the <a href=\"http://www.linkedin.com/groups?mostPopular=&amp;gid=3096778\">CIO Australia group on LinkedIn</a>. ...\n",
       "32      Sign up to gain exclusive access to email subscriptions, event invitations, competitions, giveaways, and much more.\n",
       "33  Membership is free, and your security and privacy remain protected. View our <a href=\"/privacy/\">privacy policy</a> ...\n",
       "35  \"When are you going to release Product X?\" Because people are so excited about the products we have, and there's so ...\n",
       "36                                        And I can't answer. We just have so much work being done in our engineering labs.\n",
       "37  And even if I knew, I still couldn't answer. There's so much innovation happening all the time, you don't know the n...\n",
       "39  The language we're using in the job must change. Increasingly, I don't think there's a meaningful distinction betwee...\n",
       "40  I think CIOs [need to] think about aligning with the business and really think about ourselves as being CIOs in the ...\n",
       "42  We have to admit that there's a problem. We have to reward talent in the organisation for taking risks and applying ...\n",
       "44  I feel like every three to six months I'm in a different job. Change is fast here. I can't predict what will happen ...\n",
       "46  At the highest level, it's not that much different from anyone else, to make my employees as productive as possible;...\n",
       "47  When I go to speak with CEOs of Fortune 1,000 companies, I say \"Here's how we run our company using Google Apps. Why..."
      ]
     },
     "execution_count": 171,
     "metadata": {},
     "output_type": "execute_result"
    }
   ],
   "source": [
    "table"
   ]
  },
  {
   "cell_type": "code",
   "execution_count": 174,
   "metadata": {},
   "outputs": [],
   "source": [
    "table = table.drop([14,15,30,31]).copy()"
   ]
  },
  {
   "cell_type": "code",
   "execution_count": 175,
   "metadata": {},
   "outputs": [],
   "source": [
    "## table = table.dropna(how='all')"
   ]
  },
  {
   "cell_type": "code",
   "execution_count": 176,
   "metadata": {},
   "outputs": [
    {
     "data": {
      "text/html": [
       "<div>\n",
       "<style scoped>\n",
       "    .dataframe tbody tr th:only-of-type {\n",
       "        vertical-align: middle;\n",
       "    }\n",
       "\n",
       "    .dataframe tbody tr th {\n",
       "        vertical-align: top;\n",
       "    }\n",
       "\n",
       "    .dataframe thead th {\n",
       "        text-align: right;\n",
       "    }\n",
       "</style>\n",
       "<table border=\"1\" class=\"dataframe\">\n",
       "  <thead>\n",
       "    <tr style=\"text-align: right;\">\n",
       "      <th></th>\n",
       "      <th>C</th>\n",
       "    </tr>\n",
       "  </thead>\n",
       "  <tbody>\n",
       "    <tr>\n",
       "      <th>2</th>\n",
       "      <td>I spent four years or so at &lt;a href=\"http://www.schwab.com/\" target=\"_blank\"&gt;Charles Schwab &amp;amp; Co&lt;/a&gt; doing a bun...</td>\n",
       "    </tr>\n",
       "    <tr>\n",
       "      <th>3</th>\n",
       "      <td>My background is a mixture of process, people and technology. [Merrill holds a BA from the &lt;a href=\"http://www.utuls...</td>\n",
       "    </tr>\n",
       "    <tr>\n",
       "      <th>4</th>\n",
       "      <td>At Google, they were just getting ready to think about going public and [Google co-founder and President] Larry [Pag...</td>\n",
       "    </tr>\n",
       "    <tr>\n",
       "      <th>6</th>\n",
       "      <td>We have a pretty heavy reliance on decentralisation, so people have a lot of control to do what they want. Our motto...</td>\n",
       "    </tr>\n",
       "    <tr>\n",
       "      <th>7</th>\n",
       "      <td>Mostly, what I try to do is make it possible for our engineers and product managers to use the tools that they want,...</td>\n",
       "    </tr>\n",
       "    <tr>\n",
       "      <th>9</th>\n",
       "      <td>Most software downloads are done by the [end users]. There's lots of self-service. If they need help, we have drop i...</td>\n",
       "    </tr>\n",
       "    <tr>\n",
       "      <th>10</th>\n",
       "      <td>We expect our people to be pretty deep experts on infrastructure. And we have application developers and other progr...</td>\n",
       "    </tr>\n",
       "    <tr>\n",
       "      <th>12</th>\n",
       "      <td>We don't really think about things that way. In some respects, everybody here supports IT operations in some way. We...</td>\n",
       "    </tr>\n",
       "    <tr>\n",
       "      <th>13</th>\n",
       "      <td>I have like 100 offices worldwide. Our ratios [of employees per IT support person] are strange because most of the s...</td>\n",
       "    </tr>\n",
       "    <tr>\n",
       "      <th>16</th>\n",
       "      <td>Sign up to gain exclusive access to email subscriptions, event invitations, competitions, giveaways, and much more.</td>\n",
       "    </tr>\n",
       "    <tr>\n",
       "      <th>17</th>\n",
       "      <td>Membership is free, and your security and privacy remain protected. View our &lt;a href=\"/privacy/\"&gt;privacy policy&lt;/a&gt; ...</td>\n",
       "    </tr>\n",
       "    <tr>\n",
       "      <th>19</th>\n",
       "      <td>Google tries to focus very heavily on responding to user queries. We can produce about 10 results in 250 millisecond...</td>\n",
       "    </tr>\n",
       "    <tr>\n",
       "      <th>20</th>\n",
       "      <td>As we increase our clouds worldwide, there are incredible benefits to users.</td>\n",
       "    </tr>\n",
       "    <tr>\n",
       "      <th>22</th>\n",
       "      <td>We build our own hardware. We do that because we're very, very cheap and we have unusual demands. We use consumer-gr...</td>\n",
       "    </tr>\n",
       "    <tr>\n",
       "      <th>23</th>\n",
       "      <td>We also have switchable power supplies. We know what voltage goes into our machines. We do lots of other designs lik...</td>\n",
       "    </tr>\n",
       "    <tr>\n",
       "      <th>25</th>\n",
       "      <td>One is using [switchable] power supplies. We also do circuit designs to make the machines more efficient. We're tryi...</td>\n",
       "    </tr>\n",
       "    <tr>\n",
       "      <th>27</th>\n",
       "      <td>Look at our public announcements. We don't directly say which of those sources are currently used in our data centre...</td>\n",
       "    </tr>\n",
       "    <tr>\n",
       "      <th>29</th>\n",
       "      <td>Usually when I'm at a cocktail party, it's not so much about what I do for a living as it is about people who talk a...</td>\n",
       "    </tr>\n",
       "    <tr>\n",
       "      <th>32</th>\n",
       "      <td>Sign up to gain exclusive access to email subscriptions, event invitations, competitions, giveaways, and much more.</td>\n",
       "    </tr>\n",
       "    <tr>\n",
       "      <th>33</th>\n",
       "      <td>Membership is free, and your security and privacy remain protected. View our &lt;a href=\"/privacy/\"&gt;privacy policy&lt;/a&gt; ...</td>\n",
       "    </tr>\n",
       "    <tr>\n",
       "      <th>35</th>\n",
       "      <td>\"When are you going to release Product X?\" Because people are so excited about the products we have, and there's so ...</td>\n",
       "    </tr>\n",
       "    <tr>\n",
       "      <th>36</th>\n",
       "      <td>And I can't answer. We just have so much work being done in our engineering labs.</td>\n",
       "    </tr>\n",
       "    <tr>\n",
       "      <th>37</th>\n",
       "      <td>And even if I knew, I still couldn't answer. There's so much innovation happening all the time, you don't know the n...</td>\n",
       "    </tr>\n",
       "    <tr>\n",
       "      <th>39</th>\n",
       "      <td>The language we're using in the job must change. Increasingly, I don't think there's a meaningful distinction betwee...</td>\n",
       "    </tr>\n",
       "    <tr>\n",
       "      <th>40</th>\n",
       "      <td>I think CIOs [need to] think about aligning with the business and really think about ourselves as being CIOs in the ...</td>\n",
       "    </tr>\n",
       "    <tr>\n",
       "      <th>42</th>\n",
       "      <td>We have to admit that there's a problem. We have to reward talent in the organisation for taking risks and applying ...</td>\n",
       "    </tr>\n",
       "    <tr>\n",
       "      <th>44</th>\n",
       "      <td>I feel like every three to six months I'm in a different job. Change is fast here. I can't predict what will happen ...</td>\n",
       "    </tr>\n",
       "    <tr>\n",
       "      <th>46</th>\n",
       "      <td>At the highest level, it's not that much different from anyone else, to make my employees as productive as possible;...</td>\n",
       "    </tr>\n",
       "    <tr>\n",
       "      <th>47</th>\n",
       "      <td>When I go to speak with CEOs of Fortune 1,000 companies, I say \"Here's how we run our company using Google Apps. Why...</td>\n",
       "    </tr>\n",
       "  </tbody>\n",
       "</table>\n",
       "</div>"
      ],
      "text/plain": [
       "                                                                                                                          C\n",
       "2   I spent four years or so at <a href=\"http://www.schwab.com/\" target=\"_blank\">Charles Schwab &amp; Co</a> doing a bun...\n",
       "3   My background is a mixture of process, people and technology. [Merrill holds a BA from the <a href=\"http://www.utuls...\n",
       "4   At Google, they were just getting ready to think about going public and [Google co-founder and President] Larry [Pag...\n",
       "6   We have a pretty heavy reliance on decentralisation, so people have a lot of control to do what they want. Our motto...\n",
       "7   Mostly, what I try to do is make it possible for our engineers and product managers to use the tools that they want,...\n",
       "9   Most software downloads are done by the [end users]. There's lots of self-service. If they need help, we have drop i...\n",
       "10  We expect our people to be pretty deep experts on infrastructure. And we have application developers and other progr...\n",
       "12  We don't really think about things that way. In some respects, everybody here supports IT operations in some way. We...\n",
       "13  I have like 100 offices worldwide. Our ratios [of employees per IT support person] are strange because most of the s...\n",
       "16      Sign up to gain exclusive access to email subscriptions, event invitations, competitions, giveaways, and much more.\n",
       "17  Membership is free, and your security and privacy remain protected. View our <a href=\"/privacy/\">privacy policy</a> ...\n",
       "19  Google tries to focus very heavily on responding to user queries. We can produce about 10 results in 250 millisecond...\n",
       "20                                             As we increase our clouds worldwide, there are incredible benefits to users.\n",
       "22  We build our own hardware. We do that because we're very, very cheap and we have unusual demands. We use consumer-gr...\n",
       "23  We also have switchable power supplies. We know what voltage goes into our machines. We do lots of other designs lik...\n",
       "25  One is using [switchable] power supplies. We also do circuit designs to make the machines more efficient. We're tryi...\n",
       "27  Look at our public announcements. We don't directly say which of those sources are currently used in our data centre...\n",
       "29  Usually when I'm at a cocktail party, it's not so much about what I do for a living as it is about people who talk a...\n",
       "32      Sign up to gain exclusive access to email subscriptions, event invitations, competitions, giveaways, and much more.\n",
       "33  Membership is free, and your security and privacy remain protected. View our <a href=\"/privacy/\">privacy policy</a> ...\n",
       "35  \"When are you going to release Product X?\" Because people are so excited about the products we have, and there's so ...\n",
       "36                                        And I can't answer. We just have so much work being done in our engineering labs.\n",
       "37  And even if I knew, I still couldn't answer. There's so much innovation happening all the time, you don't know the n...\n",
       "39  The language we're using in the job must change. Increasingly, I don't think there's a meaningful distinction betwee...\n",
       "40  I think CIOs [need to] think about aligning with the business and really think about ourselves as being CIOs in the ...\n",
       "42  We have to admit that there's a problem. We have to reward talent in the organisation for taking risks and applying ...\n",
       "44  I feel like every three to six months I'm in a different job. Change is fast here. I can't predict what will happen ...\n",
       "46  At the highest level, it's not that much different from anyone else, to make my employees as productive as possible;...\n",
       "47  When I go to speak with CEOs of Fortune 1,000 companies, I say \"Here's how we run our company using Google Apps. Why..."
      ]
     },
     "execution_count": 176,
     "metadata": {},
     "output_type": "execute_result"
    }
   ],
   "source": [
    "table"
   ]
  },
  {
   "cell_type": "code",
   "execution_count": 168,
   "metadata": {},
   "outputs": [],
   "source": [
    "# table['C'] = table['C'].str.replace(r'â', ' ')"
   ]
  },
  {
   "cell_type": "code",
   "execution_count": 178,
   "metadata": {},
   "outputs": [],
   "source": [
    "# table.loc[52:59]\n",
    "# table = table.drop(table.index[-8:])"
   ]
  },
  {
   "cell_type": "code",
   "execution_count": 88,
   "metadata": {},
   "outputs": [],
   "source": [
    "# table = table.drop(table.index[0])"
   ]
  },
  {
   "cell_type": "code",
   "execution_count": 137,
   "metadata": {},
   "outputs": [],
   "source": [
    "# JohnDonovan = table.loc[58:62].copy()"
   ]
  },
  {
   "cell_type": "code",
   "execution_count": 177,
   "metadata": {},
   "outputs": [],
   "source": [
    "def remove_html_tags(data):\n",
    "    p = re.compile(r'<.*?>')\n",
    "    return p.sub('', data)"
   ]
  },
  {
   "cell_type": "code",
   "execution_count": 178,
   "metadata": {},
   "outputs": [],
   "source": [
    "clean = table['C'].apply(remove_html_tags).copy()\n",
    "# full = clean.to_frame()"
   ]
  },
  {
   "cell_type": "code",
   "execution_count": 67,
   "metadata": {},
   "outputs": [],
   "source": [
    "# body = main.drop([8, 22], axis = 0).copy()"
   ]
  },
  {
   "cell_type": "code",
   "execution_count": 61,
   "metadata": {},
   "outputs": [],
   "source": [
    "# cleanframe = frame['C'].apply(remove_html_tags).copy()"
   ]
  },
  {
   "cell_type": "code",
   "execution_count": 140,
   "metadata": {},
   "outputs": [],
   "source": [
    "# full.to_csv('JohnDonovan.txt', sep = ' ', index = False)"
   ]
  },
  {
   "cell_type": "code",
   "execution_count": 179,
   "metadata": {},
   "outputs": [],
   "source": [
    "def unescape(text):\n",
    "    \"\"\"\n",
    "    Converts HTML character codes to Unicode code points.\n",
    "\n",
    "    @param text the HTML (or XML) source text in any encoding.\n",
    "    @return The plain text, as a Unicode string, if necessary.\n",
    "    \"\"\"\n",
    "    def fixup(m):\n",
    "        text = m.group(0)\n",
    "        if text[:2] == \"&#\":\n",
    "            try:\n",
    "                if text[:3] == \"&#x\":\n",
    "                    return chr(int(text[3:-1], 16))\n",
    "                else:\n",
    "                    return chr(int(text[2:-1]))\n",
    "            except ValueError:\n",
    "                pass\n",
    "        else:\n",
    "            try:\n",
    "                text = chr(html.entities.name2codepoint[text[1:-1]])\n",
    "            except KeyError:\n",
    "                pass\n",
    "        return text\n",
    "    return re.sub(\"&#?\\w+;\", fixup, text)\n",
    "\n",
    "    return re.sub(\"&#?\\w+;\", fixup, text)"
   ]
  },
  {
   "cell_type": "code",
   "execution_count": 180,
   "metadata": {},
   "outputs": [],
   "source": [
    "final = clean.apply(unescape).copy() "
   ]
  },
  {
   "cell_type": "code",
   "execution_count": 182,
   "metadata": {},
   "outputs": [
    {
     "data": {
      "text/plain": [
       "2     I spent four years or so at Charles Schwab & Co doing a bunch of different things, including head of infrastructure,...\n",
       "3     My background is a mixture of process, people and technology. [Merrill holds a BA from the University of Tulsa in so...\n",
       "4     At Google, they were just getting ready to think about going public and [Google co-founder and President] Larry [Pag...\n",
       "6     We have a pretty heavy reliance on decentralisation, so people have a lot of control to do what they want. Our motto...\n",
       "7     Mostly, what I try to do is make it possible for our engineers and product managers to use the tools that they want,...\n",
       "9     Most software downloads are done by the [end users]. There's lots of self-service. If they need help, we have drop i...\n",
       "10    We expect our people to be pretty deep experts on infrastructure. And we have application developers and other progr...\n",
       "12    We don't really think about things that way. In some respects, everybody here supports IT operations in some way. We...\n",
       "13    I have like 100 offices worldwide. Our ratios [of employees per IT support person] are strange because most of the s...\n",
       "16        Sign up to gain exclusive access to email subscriptions, event invitations, competitions, giveaways, and much more.\n",
       "17             Membership is free, and your security and privacy remain protected. View our privacy policy before signing up.\n",
       "19    Google tries to focus very heavily on responding to user queries. We can produce about 10 results in 250 millisecond...\n",
       "20                                               As we increase our clouds worldwide, there are incredible benefits to users.\n",
       "22    We build our own hardware. We do that because we're very, very cheap and we have unusual demands. We use consumer-gr...\n",
       "23    We also have switchable power supplies. We know what voltage goes into our machines. We do lots of other designs lik...\n",
       "25    One is using [switchable] power supplies. We also do circuit designs to make the machines more efficient. We're tryi...\n",
       "27    Look at our public announcements. We don't directly say which of those sources are currently used in our data centre...\n",
       "29    Usually when I'm at a cocktail party, it's not so much about what I do for a living as it is about people who talk a...\n",
       "32        Sign up to gain exclusive access to email subscriptions, event invitations, competitions, giveaways, and much more.\n",
       "33             Membership is free, and your security and privacy remain protected. View our privacy policy before signing up.\n",
       "35    \"When are you going to release Product X?\" Because people are so excited about the products we have, and there's so ...\n",
       "36                                          And I can't answer. We just have so much work being done in our engineering labs.\n",
       "37    And even if I knew, I still couldn't answer. There's so much innovation happening all the time, you don't know the n...\n",
       "39    The language we're using in the job must change. Increasingly, I don't think there's a meaningful distinction betwee...\n",
       "40    I think CIOs [need to] think about aligning with the business and really think about ourselves as being CIOs in the ...\n",
       "42    We have to admit that there's a problem. We have to reward talent in the organisation for taking risks and applying ...\n",
       "44    I feel like every three to six months I'm in a different job. Change is fast here. I can't predict what will happen ...\n",
       "46    At the highest level, it's not that much different from anyone else, to make my employees as productive as possible;...\n",
       "47    When I go to speak with CEOs of Fortune 1,000 companies, I say \"Here's how we run our company using Google Apps. Why...\n",
       "Name: C, dtype: object"
      ]
     },
     "execution_count": 182,
     "metadata": {},
     "output_type": "execute_result"
    }
   ],
   "source": [
    "final"
   ]
  },
  {
   "cell_type": "code",
   "execution_count": 40,
   "metadata": {},
   "outputs": [],
   "source": [
    "# final.to_csv('PaulEnglish.txt', sep = ' ', index = False)"
   ]
  },
  {
   "cell_type": "code",
   "execution_count": 379,
   "metadata": {},
   "outputs": [],
   "source": [
    "# KatherinePower = pd.concat([KatherinePower, KatherinePowertwo])"
   ]
  },
  {
   "cell_type": "code",
   "execution_count": null,
   "metadata": {},
   "outputs": [],
   "source": []
  }
 ],
 "metadata": {
  "kernelspec": {
   "display_name": "Python 3",
   "language": "python",
   "name": "python3"
  },
  "language_info": {
   "codemirror_mode": {
    "name": "ipython",
    "version": 3
   },
   "file_extension": ".py",
   "mimetype": "text/x-python",
   "name": "python",
   "nbconvert_exporter": "python",
   "pygments_lexer": "ipython3",
   "version": "3.6.5"
  }
 },
 "nbformat": 4,
 "nbformat_minor": 2
}
